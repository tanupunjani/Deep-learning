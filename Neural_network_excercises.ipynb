{
  "nbformat": 4,
  "nbformat_minor": 0,
  "metadata": {
    "colab": {
      "name": "Neural-network-excercises.ipynb",
      "provenance": [],
      "authorship_tag": "ABX9TyP2mf7rpELuLoGDEObj9UpV",
      "include_colab_link": true
    },
    "kernelspec": {
      "name": "python3",
      "display_name": "Python 3"
    },
    "language_info": {
      "name": "python"
    }
  },
  "cells": [
    {
      "cell_type": "markdown",
      "metadata": {
        "id": "view-in-github",
        "colab_type": "text"
      },
      "source": [
        "<a href=\"https://colab.research.google.com/github/tanupunjani/Mastering-tensorflow/blob/main/Neural_network_excercises.ipynb\" target=\"_parent\"><img src=\"https://colab.research.google.com/assets/colab-badge.svg\" alt=\"Open In Colab\"/></a>"
      ]
    },
    {
      "cell_type": "code",
      "metadata": {
        "id": "jaL69_p8AZDk"
      },
      "source": [
        "import tensorflow as tf\n",
        "import numpy as np\n",
        "import pandas as pd\n",
        "import matplotlib.pyplot as plt\n"
      ],
      "execution_count": null,
      "outputs": []
    },
    {
      "cell_type": "code",
      "metadata": {
        "colab": {
          "base_uri": "https://localhost:8080/",
          "height": 265
        },
        "id": "PPw2wcI_A8i4",
        "outputId": "55d3076b-1147-4471-a005-94811feccad4"
      },
      "source": [
        "# Creating the dataset\n",
        "X = np.array([ -8, -3, 2, 7, 12])\n",
        "\n",
        "y = np.array([0, 5, 10, 15, 20])\n",
        "\n",
        "#visualize it\n",
        "plt.scatter(X,y);"
      ],
      "execution_count": null,
      "outputs": [
        {
          "output_type": "display_data",
          "data": {
            "image/png": "[encoded data removed]",
            "text/plain": [
              "<Figure size 432x288 with 1 Axes>"
            ]
          },
          "metadata": {
            "tags": [],
            "needs_background": "light"
          }
        }
      ]
    },
    {
      "cell_type": "code",
      "metadata": {
        "colab": {
          "base_uri": "https://localhost:8080/"
        },
        "id": "KnjlTnwsJgaU",
        "outputId": "328cd6fe-8994-406e-e1ff-70da8de0640c"
      },
      "source": [
        "y == X + 8"
      ],
      "execution_count": null,
      "outputs": [
        {
          "output_type": "execute_result",
          "data": {
            "text/plain": [
              "array([ True,  True,  True,  True,  True])"
            ]
          },
          "metadata": {
            "tags": []
          },
          "execution_count": 15
        }
      ]
    },
    {
      "cell_type": "markdown",
      "metadata": {
        "id": "8fMo8pHEEXVa"
      },
      "source": [
        "#build a model to fit it"
      ]
    },
    {
      "cell_type": "code",
      "metadata": {
        "colab": {
          "base_uri": "https://localhost:8080/"
        },
        "id": "W_HDhSAnEr0V",
        "outputId": "356f844a-622a-4dba-b7dc-ede49f26ef94"
      },
      "source": [
        "#Set the seed\n",
        "tf.random.set_seed(42)\n",
        "\n",
        "#Create the model \n",
        "model = tf.keras.Sequential([\n",
        "    tf.keras.layers.Dense(1)\n",
        "])\n",
        "#Compile the model \n",
        "model.compile(loss=\"mae\",\n",
        "              optimizer=tf.keras.optimizers.SGD(),\n",
        "              metrics=[\"mae\"])\n",
        "\n",
        "#Fit the model\n",
        "model.fit(X, y, epochs=100)"
      ],
      "execution_count": null,
      "outputs": [
        {
          "output_type": "stream",
          "text": [
            "Epoch 1/100\n",
            "1/1 [==============================] - 0s 264ms/step - loss: 8.8599 - mae: 8.8599\n",
            "Epoch 2/100\n",
            "1/1 [==============================] - 0s 5ms/step - loss: 8.8099 - mae: 8.8099\n",
            "Epoch 3/100\n",
            "1/1 [==============================] - 0s 8ms/step - loss: 8.7599 - mae: 8.7599\n",
            "Epoch 4/100\n",
            "1/1 [==============================] - 0s 4ms/step - loss: 8.7099 - mae: 8.7099\n",
            "Epoch 5/100\n",
            "1/1 [==============================] - 0s 7ms/step - loss: 8.6599 - mae: 8.6599\n",
            "Epoch 6/100\n",
            "1/1 [==============================] - 0s 5ms/step - loss: 8.6099 - mae: 8.6099\n",
            "Epoch 7/100\n",
            "1/1 [==============================] - 0s 4ms/step - loss: 8.5599 - mae: 8.5599\n",
            "Epoch 8/100\n",
            "1/1 [==============================] - 0s 3ms/step - loss: 8.5099 - mae: 8.5099\n",
            "Epoch 9/100\n",
            "1/1 [==============================] - 0s 6ms/step - loss: 8.4599 - mae: 8.4599\n",
            "Epoch 10/100\n",
            "1/1 [==============================] - 0s 6ms/step - loss: 8.4099 - mae: 8.4099\n",
            "Epoch 11/100\n",
            "1/1 [==============================] - 0s 12ms/step - loss: 8.3599 - mae: 8.3599\n",
            "Epoch 12/100\n",
            "1/1 [==============================] - 0s 7ms/step - loss: 8.3099 - mae: 8.3099\n",
            "Epoch 13/100\n",
            "1/1 [==============================] - 0s 4ms/step - loss: 8.2599 - mae: 8.2599\n",
            "Epoch 14/100\n",
            "1/1 [==============================] - 0s 4ms/step - loss: 8.2099 - mae: 8.2099\n",
            "Epoch 15/100\n",
            "1/1 [==============================] - 0s 5ms/step - loss: 8.1599 - mae: 8.1599\n",
            "Epoch 16/100\n",
            "1/1 [==============================] - 0s 4ms/step - loss: 8.1099 - mae: 8.1099\n",
            "Epoch 17/100\n",
            "1/1 [==============================] - 0s 14ms/step - loss: 8.0599 - mae: 8.0599\n",
            "Epoch 18/100\n",
            "1/1 [==============================] - 0s 4ms/step - loss: 8.0099 - mae: 8.0099\n",
            "Epoch 19/100\n",
            "1/1 [==============================] - 0s 5ms/step - loss: 7.9599 - mae: 7.9599\n",
            "Epoch 20/100\n",
            "1/1 [==============================] - 0s 6ms/step - loss: 7.9099 - mae: 7.9099\n",
            "Epoch 21/100\n",
            "1/1 [==============================] - 0s 10ms/step - loss: 7.8599 - mae: 7.8599\n",
            "Epoch 22/100\n",
            "1/1 [==============================] - 0s 4ms/step - loss: 7.8099 - mae: 7.8099\n",
            "Epoch 23/100\n",
            "1/1 [==============================] - 0s 5ms/step - loss: 7.7599 - mae: 7.7599\n",
            "Epoch 24/100\n",
            "1/1 [==============================] - 0s 6ms/step - loss: 7.7099 - mae: 7.7099\n",
            "Epoch 25/100\n",
            "1/1 [==============================] - 0s 7ms/step - loss: 7.6599 - mae: 7.6599\n",
            "Epoch 26/100\n",
            "1/1 [==============================] - 0s 6ms/step - loss: 7.6099 - mae: 7.6099\n",
            "Epoch 27/100\n",
            "1/1 [==============================] - 0s 4ms/step - loss: 7.5599 - mae: 7.5599\n",
            "Epoch 28/100\n",
            "1/1 [==============================] - 0s 9ms/step - loss: 7.5099 - mae: 7.5099\n",
            "Epoch 29/100\n",
            "1/1 [==============================] - 0s 4ms/step - loss: 7.4599 - mae: 7.4599\n",
            "Epoch 30/100\n",
            "1/1 [==============================] - 0s 3ms/step - loss: 7.4099 - mae: 7.4099\n",
            "Epoch 31/100\n",
            "1/1 [==============================] - 0s 3ms/step - loss: 7.3599 - mae: 7.3599\n",
            "Epoch 32/100\n",
            "1/1 [==============================] - 0s 4ms/step - loss: 7.3099 - mae: 7.3099\n",
            "Epoch 33/100\n",
            "1/1 [==============================] - 0s 4ms/step - loss: 7.2599 - mae: 7.2599\n",
            "Epoch 34/100\n",
            "1/1 [==============================] - 0s 4ms/step - loss: 7.2099 - mae: 7.2099\n",
            "Epoch 35/100\n",
            "1/1 [==============================] - 0s 4ms/step - loss: 7.1599 - mae: 7.1599\n",
            "Epoch 36/100\n",
            "1/1 [==============================] - 0s 4ms/step - loss: 7.1099 - mae: 7.1099\n",
            "Epoch 37/100\n",
            "1/1 [==============================] - 0s 4ms/step - loss: 7.0599 - mae: 7.0599\n",
            "Epoch 38/100\n",
            "1/1 [==============================] - 0s 8ms/step - loss: 7.0099 - mae: 7.0099\n",
            "Epoch 39/100\n",
            "1/1 [==============================] - 0s 6ms/step - loss: 6.9599 - mae: 6.9599\n",
            "Epoch 40/100\n",
            "1/1 [==============================] - 0s 4ms/step - loss: 6.9099 - mae: 6.9099\n",
            "Epoch 41/100\n",
            "1/1 [==============================] - 0s 4ms/step - loss: 6.8599 - mae: 6.8599\n",
            "Epoch 42/100\n",
            "1/1 [==============================] - 0s 4ms/step - loss: 6.8099 - mae: 6.8099\n",
            "Epoch 43/100\n",
            "1/1 [==============================] - 0s 7ms/step - loss: 6.7599 - mae: 6.7599\n",
            "Epoch 44/100\n",
            "1/1 [==============================] - 0s 4ms/step - loss: 6.7099 - mae: 6.7099\n",
            "Epoch 45/100\n",
            "1/1 [==============================] - 0s 5ms/step - loss: 6.6599 - mae: 6.6599\n",
            "Epoch 46/100\n",
            "1/1 [==============================] - 0s 5ms/step - loss: 6.6099 - mae: 6.6099\n",
            "Epoch 47/100\n",
            "1/1 [==============================] - 0s 4ms/step - loss: 6.5599 - mae: 6.5599\n",
            "Epoch 48/100\n",
            "1/1 [==============================] - 0s 4ms/step - loss: 6.5099 - mae: 6.5099\n",
            "Epoch 49/100\n",
            "1/1 [==============================] - 0s 8ms/step - loss: 6.4599 - mae: 6.4599\n",
            "Epoch 50/100\n",
            "1/1 [==============================] - 0s 4ms/step - loss: 6.4099 - mae: 6.4099\n",
            "Epoch 51/100\n",
            "1/1 [==============================] - 0s 7ms/step - loss: 6.3599 - mae: 6.3599\n",
            "Epoch 52/100\n",
            "1/1 [==============================] - 0s 8ms/step - loss: 6.3099 - mae: 6.3099\n",
            "Epoch 53/100\n",
            "1/1 [==============================] - 0s 4ms/step - loss: 6.2599 - mae: 6.2599\n",
            "Epoch 54/100\n",
            "1/1 [==============================] - 0s 3ms/step - loss: 6.2462 - mae: 6.2462\n",
            "Epoch 55/100\n",
            "1/1 [==============================] - 0s 4ms/step - loss: 6.2599 - mae: 6.2599\n",
            "Epoch 56/100\n",
            "1/1 [==============================] - 0s 4ms/step - loss: 6.2142 - mae: 6.2142\n",
            "Epoch 57/100\n",
            "1/1 [==============================] - 0s 6ms/step - loss: 6.2599 - mae: 6.2599\n",
            "Epoch 58/100\n",
            "1/1 [==============================] - 0s 4ms/step - loss: 6.2099 - mae: 6.2099\n",
            "Epoch 59/100\n",
            "1/1 [==============================] - 0s 4ms/step - loss: 6.2322 - mae: 6.2322\n",
            "Epoch 60/100\n",
            "1/1 [==============================] - 0s 4ms/step - loss: 6.2099 - mae: 6.2099\n",
            "Epoch 61/100\n",
            "1/1 [==============================] - 0s 3ms/step - loss: 6.2002 - mae: 6.2002\n",
            "Epoch 62/100\n",
            "1/1 [==============================] - 0s 5ms/step - loss: 6.2099 - mae: 6.2099\n",
            "Epoch 63/100\n",
            "1/1 [==============================] - 0s 3ms/step - loss: 6.1682 - mae: 6.1682\n",
            "Epoch 64/100\n",
            "1/1 [==============================] - 0s 4ms/step - loss: 6.2099 - mae: 6.2099\n",
            "Epoch 65/100\n",
            "1/1 [==============================] - 0s 4ms/step - loss: 6.1599 - mae: 6.1599\n",
            "Epoch 66/100\n",
            "1/1 [==============================] - 0s 3ms/step - loss: 6.1862 - mae: 6.1862\n",
            "Epoch 67/100\n",
            "1/1 [==============================] - 0s 4ms/step - loss: 6.1599 - mae: 6.1599\n",
            "Epoch 68/100\n",
            "1/1 [==============================] - 0s 4ms/step - loss: 6.1542 - mae: 6.1542\n",
            "Epoch 69/100\n",
            "1/1 [==============================] - 0s 4ms/step - loss: 6.1599 - mae: 6.1599\n",
            "Epoch 70/100\n",
            "1/1 [==============================] - 0s 4ms/step - loss: 6.1222 - mae: 6.1222\n",
            "Epoch 71/100\n",
            "1/1 [==============================] - 0s 5ms/step - loss: 6.1599 - mae: 6.1599\n",
            "Epoch 72/100\n",
            "1/1 [==============================] - 0s 5ms/step - loss: 6.1099 - mae: 6.1099\n",
            "Epoch 73/100\n",
            "1/1 [==============================] - 0s 6ms/step - loss: 6.1402 - mae: 6.1402\n",
            "Epoch 74/100\n",
            "1/1 [==============================] - 0s 6ms/step - loss: 6.1099 - mae: 6.1099\n",
            "Epoch 75/100\n",
            "1/1 [==============================] - 0s 3ms/step - loss: 6.1082 - mae: 6.1082\n",
            "Epoch 76/100\n",
            "1/1 [==============================] - 0s 3ms/step - loss: 6.1099 - mae: 6.1099\n",
            "Epoch 77/100\n",
            "1/1 [==============================] - 0s 4ms/step - loss: 6.0762 - mae: 6.0762\n",
            "Epoch 78/100\n",
            "1/1 [==============================] - 0s 5ms/step - loss: 6.1099 - mae: 6.1099\n",
            "Epoch 79/100\n",
            "1/1 [==============================] - 0s 3ms/step - loss: 6.0599 - mae: 6.0599\n",
            "Epoch 80/100\n",
            "1/1 [==============================] - 0s 5ms/step - loss: 6.0942 - mae: 6.0942\n",
            "Epoch 81/100\n",
            "1/1 [==============================] - 0s 3ms/step - loss: 6.0599 - mae: 6.0599\n",
            "Epoch 82/100\n",
            "1/1 [==============================] - 0s 3ms/step - loss: 6.0622 - mae: 6.0622\n",
            "Epoch 83/100\n",
            "1/1 [==============================] - 0s 6ms/step - loss: 6.0599 - mae: 6.0599\n",
            "Epoch 84/100\n",
            "1/1 [==============================] - 0s 5ms/step - loss: 6.0302 - mae: 6.0302\n",
            "Epoch 85/100\n",
            "1/1 [==============================] - 0s 4ms/step - loss: 6.0599 - mae: 6.0599\n",
            "Epoch 86/100\n",
            "1/1 [==============================] - 0s 8ms/step - loss: 6.0099 - mae: 6.0099\n",
            "Epoch 87/100\n",
            "1/1 [==============================] - 0s 4ms/step - loss: 6.0482 - mae: 6.0482\n",
            "Epoch 88/100\n",
            "1/1 [==============================] - 0s 7ms/step - loss: 6.0099 - mae: 6.0099\n",
            "Epoch 89/100\n",
            "1/1 [==============================] - 0s 6ms/step - loss: 6.0162 - mae: 6.0162\n",
            "Epoch 90/100\n",
            "1/1 [==============================] - 0s 4ms/step - loss: 6.0099 - mae: 6.0099\n",
            "Epoch 91/100\n",
            "1/1 [==============================] - 0s 16ms/step - loss: 5.9842 - mae: 5.9842\n",
            "Epoch 92/100\n",
            "1/1 [==============================] - 0s 9ms/step - loss: 6.0099 - mae: 6.0099\n",
            "Epoch 93/100\n",
            "1/1 [==============================] - 0s 6ms/step - loss: 5.9599 - mae: 5.9599\n",
            "Epoch 94/100\n",
            "1/1 [==============================] - 0s 7ms/step - loss: 6.0022 - mae: 6.0022\n",
            "Epoch 95/100\n",
            "1/1 [==============================] - 0s 5ms/step - loss: 5.9599 - mae: 5.9599\n",
            "Epoch 96/100\n",
            "1/1 [==============================] - 0s 9ms/step - loss: 5.9702 - mae: 5.9702\n",
            "Epoch 97/100\n",
            "1/1 [==============================] - 0s 10ms/step - loss: 5.9599 - mae: 5.9599\n",
            "Epoch 98/100\n",
            "1/1 [==============================] - 0s 3ms/step - loss: 5.9382 - mae: 5.9382\n",
            "Epoch 99/100\n",
            "1/1 [==============================] - 0s 6ms/step - loss: 5.9599 - mae: 5.9599\n",
            "Epoch 100/100\n",
            "1/1 [==============================] - 0s 14ms/step - loss: 5.9099 - mae: 5.9099\n"
          ],
          "name": "stdout"
        },
        {
          "output_type": "execute_result",
          "data": {
            "text/plain": [
              "<tensorflow.python.keras.callbacks.History at 0x7fed68ea3f90>"
            ]
          },
          "metadata": {
            "tags": []
          },
          "execution_count": 16
        }
      ]
    },
    {
      "cell_type": "code",
      "metadata": {
        "colab": {
          "base_uri": "https://localhost:8080/"
        },
        "id": "D-drwRqcI9zS",
        "outputId": "6e5ce369-efac-4c1f-fd4d-523d4100b28a"
      },
      "source": [
        "X, y"
      ],
      "execution_count": null,
      "outputs": [
        {
          "output_type": "execute_result",
          "data": {
            "text/plain": [
              "(array([-8, -3,  2,  7, 12]), array([ 0,  5, 10, 15, 20]))"
            ]
          },
          "metadata": {
            "tags": []
          },
          "execution_count": 17
        }
      ]
    },
    {
      "cell_type": "code",
      "metadata": {
        "colab": {
          "base_uri": "https://localhost:8080/"
        },
        "id": "jmNdK73RJOYn",
        "outputId": "d75cc3d9-a94b-449a-cccc-63311a60bfa1"
      },
      "source": [
        "model.predict([17])"
      ],
      "execution_count": null,
      "outputs": [
        {
          "output_type": "execute_result",
          "data": {
            "text/plain": [
              "array([[28.290993]], dtype=float32)"
            ]
          },
          "metadata": {
            "tags": []
          },
          "execution_count": 19
        }
      ]
    },
    {
      "cell_type": "markdown",
      "metadata": {
        "id": "WCM7x7K6JTeK"
      },
      "source": [
        "#Improve the model"
      ]
    },
    {
      "cell_type": "code",
      "metadata": {
        "colab": {
          "base_uri": "https://localhost:8080/"
        },
        "id": "u-7CsiHqKz01",
        "outputId": "5960f574-eaa6-453b-d3d2-409ca6862ccf"
      },
      "source": [
        "#Set the seed\n",
        "tf.random.set_seed(42)\n",
        "\n",
        "#Create the model \n",
        "model = tf.keras.Sequential([\n",
        "    tf.keras.layers.Dense(10),\n",
        "     tf.keras.layers.Dense(10),\n",
        "     tf.keras.layers.Dense(10),\n",
        "     tf.keras.layers.Dense(1)\n",
        "])\n",
        "#Compile the model \n",
        "model.compile(loss=\"mae\",\n",
        "              optimizer=tf.keras.optimizers.SGD(),\n",
        "              metrics=[\"mae\"])\n",
        "\n",
        "#Fit the model\n",
        "model.fit(X, y, epochs=200, verbose=1)"
      ],
      "execution_count": null,
      "outputs": [
        {
          "output_type": "stream",
          "text": [
            "Epoch 1/200\n",
            "1/1 [==============================] - 0s 329ms/step - loss: 13.3333 - mae: 13.3333\n",
            "Epoch 2/200\n",
            "1/1 [==============================] - 0s 6ms/step - loss: 12.1996 - mae: 12.1996\n",
            "Epoch 3/200\n",
            "1/1 [==============================] - 0s 6ms/step - loss: 11.2993 - mae: 11.2993\n",
            "Epoch 4/200\n",
            "1/1 [==============================] - 0s 4ms/step - loss: 10.5238 - mae: 10.5238\n",
            "Epoch 5/200\n",
            "1/1 [==============================] - 0s 3ms/step - loss: 9.8661 - mae: 9.8661\n",
            "Epoch 6/200\n",
            "1/1 [==============================] - 0s 3ms/step - loss: 9.7292 - mae: 9.7292\n",
            "Epoch 7/200\n",
            "1/1 [==============================] - 0s 8ms/step - loss: 9.5878 - mae: 9.5878\n",
            "Epoch 8/200\n",
            "1/1 [==============================] - 0s 3ms/step - loss: 9.4397 - mae: 9.4397\n",
            "Epoch 9/200\n",
            "1/1 [==============================] - 0s 3ms/step - loss: 9.2828 - mae: 9.2828\n",
            "Epoch 10/200\n",
            "1/1 [==============================] - 0s 6ms/step - loss: 9.1146 - mae: 9.1146\n",
            "Epoch 11/200\n",
            "1/1 [==============================] - 0s 3ms/step - loss: 8.9322 - mae: 8.9322\n",
            "Epoch 12/200\n",
            "1/1 [==============================] - 0s 3ms/step - loss: 8.7321 - mae: 8.7321\n",
            "Epoch 13/200\n",
            "1/1 [==============================] - 0s 3ms/step - loss: 8.5105 - mae: 8.5105\n",
            "Epoch 14/200\n",
            "1/1 [==============================] - 0s 5ms/step - loss: 8.2623 - mae: 8.2623\n",
            "Epoch 15/200\n",
            "1/1 [==============================] - 0s 3ms/step - loss: 7.9817 - mae: 7.9817\n",
            "Epoch 16/200\n",
            "1/1 [==============================] - 0s 3ms/step - loss: 7.6613 - mae: 7.6613\n",
            "Epoch 17/200\n",
            "1/1 [==============================] - 0s 8ms/step - loss: 7.2917 - mae: 7.2917\n",
            "Epoch 18/200\n",
            "1/1 [==============================] - 0s 3ms/step - loss: 6.8609 - mae: 6.8609\n",
            "Epoch 19/200\n",
            "1/1 [==============================] - 0s 3ms/step - loss: 6.3536 - mae: 6.3536\n",
            "Epoch 20/200\n",
            "1/1 [==============================] - 0s 3ms/step - loss: 6.2077 - mae: 6.2077\n",
            "Epoch 21/200\n",
            "1/1 [==============================] - 0s 3ms/step - loss: 6.4307 - mae: 6.4307\n",
            "Epoch 22/200\n",
            "1/1 [==============================] - 0s 5ms/step - loss: 5.8615 - mae: 5.8615\n",
            "Epoch 23/200\n",
            "1/1 [==============================] - 0s 6ms/step - loss: 6.4884 - mae: 6.4884\n",
            "Epoch 24/200\n",
            "1/1 [==============================] - 0s 4ms/step - loss: 5.9229 - mae: 5.9229\n",
            "Epoch 25/200\n",
            "1/1 [==============================] - 0s 3ms/step - loss: 6.2225 - mae: 6.2225\n",
            "Epoch 26/200\n",
            "1/1 [==============================] - 0s 3ms/step - loss: 5.9793 - mae: 5.9793\n",
            "Epoch 27/200\n",
            "1/1 [==============================] - 0s 7ms/step - loss: 5.8894 - mae: 5.8894\n",
            "Epoch 28/200\n",
            "1/1 [==============================] - 0s 3ms/step - loss: 6.0152 - mae: 6.0152\n",
            "Epoch 29/200\n",
            "1/1 [==============================] - 0s 3ms/step - loss: 5.5892 - mae: 5.5892\n",
            "Epoch 30/200\n",
            "1/1 [==============================] - 0s 3ms/step - loss: 6.0322 - mae: 6.0322\n",
            "Epoch 31/200\n",
            "1/1 [==============================] - 0s 3ms/step - loss: 5.3924 - mae: 5.3924\n",
            "Epoch 32/200\n",
            "1/1 [==============================] - 0s 3ms/step - loss: 6.0231 - mae: 6.0231\n",
            "Epoch 33/200\n",
            "1/1 [==============================] - 0s 3ms/step - loss: 5.4033 - mae: 5.4033\n",
            "Epoch 34/200\n",
            "1/1 [==============================] - 0s 3ms/step - loss: 5.7174 - mae: 5.7174\n",
            "Epoch 35/200\n",
            "1/1 [==============================] - 0s 8ms/step - loss: 5.3923 - mae: 5.3923\n",
            "Epoch 36/200\n",
            "1/1 [==============================] - 0s 3ms/step - loss: 5.4352 - mae: 5.4352\n",
            "Epoch 37/200\n",
            "1/1 [==============================] - 0s 3ms/step - loss: 5.3603 - mae: 5.3603\n",
            "Epoch 38/200\n",
            "1/1 [==============================] - 0s 3ms/step - loss: 5.1709 - mae: 5.1709\n",
            "Epoch 39/200\n",
            "1/1 [==============================] - 0s 3ms/step - loss: 5.3075 - mae: 5.3075\n",
            "Epoch 40/200\n",
            "1/1 [==============================] - 0s 6ms/step - loss: 4.9193 - mae: 4.9193\n",
            "Epoch 41/200\n",
            "1/1 [==============================] - 0s 8ms/step - loss: 5.2341 - mae: 5.2341\n",
            "Epoch 42/200\n",
            "1/1 [==============================] - 0s 5ms/step - loss: 4.6757 - mae: 4.6757\n",
            "Epoch 43/200\n",
            "1/1 [==============================] - 0s 4ms/step - loss: 5.1396 - mae: 5.1396\n",
            "Epoch 44/200\n",
            "1/1 [==============================] - 0s 3ms/step - loss: 4.4352 - mae: 4.4352\n",
            "Epoch 45/200\n",
            "1/1 [==============================] - 0s 5ms/step - loss: 5.0233 - mae: 5.0233\n",
            "Epoch 46/200\n",
            "1/1 [==============================] - 0s 4ms/step - loss: 4.1929 - mae: 4.1929\n",
            "Epoch 47/200\n",
            "1/1 [==============================] - 0s 6ms/step - loss: 4.8839 - mae: 4.8839\n",
            "Epoch 48/200\n",
            "1/1 [==============================] - 0s 4ms/step - loss: 4.0130 - mae: 4.0130\n",
            "Epoch 49/200\n",
            "1/1 [==============================] - 0s 8ms/step - loss: 5.0243 - mae: 5.0243\n",
            "Epoch 50/200\n",
            "1/1 [==============================] - 0s 5ms/step - loss: 4.9885 - mae: 4.9885\n",
            "Epoch 51/200\n",
            "1/1 [==============================] - 0s 3ms/step - loss: 4.1363 - mae: 4.1363\n",
            "Epoch 52/200\n",
            "1/1 [==============================] - 0s 4ms/step - loss: 3.9262 - mae: 3.9262\n",
            "Epoch 53/200\n",
            "1/1 [==============================] - 0s 3ms/step - loss: 3.9144 - mae: 3.9144\n",
            "Epoch 54/200\n",
            "1/1 [==============================] - 0s 6ms/step - loss: 3.6152 - mae: 3.6152\n",
            "Epoch 55/200\n",
            "1/1 [==============================] - 0s 4ms/step - loss: 3.6567 - mae: 3.6567\n",
            "Epoch 56/200\n",
            "1/1 [==============================] - 0s 5ms/step - loss: 3.2718 - mae: 3.2718\n",
            "Epoch 57/200\n",
            "1/1 [==============================] - 0s 4ms/step - loss: 3.3586 - mae: 3.3586\n",
            "Epoch 58/200\n",
            "1/1 [==============================] - 0s 4ms/step - loss: 2.8840 - mae: 2.8840\n",
            "Epoch 59/200\n",
            "1/1 [==============================] - 0s 6ms/step - loss: 3.0141 - mae: 3.0141\n",
            "Epoch 60/200\n",
            "1/1 [==============================] - 0s 4ms/step - loss: 2.5154 - mae: 2.5154\n",
            "Epoch 61/200\n",
            "1/1 [==============================] - 0s 5ms/step - loss: 5.1254 - mae: 5.1254\n",
            "Epoch 62/200\n",
            "1/1 [==============================] - 0s 4ms/step - loss: 1.9740 - mae: 1.9740\n",
            "Epoch 63/200\n",
            "1/1 [==============================] - 0s 6ms/step - loss: 4.0886 - mae: 4.0886\n",
            "Epoch 64/200\n",
            "1/1 [==============================] - 0s 4ms/step - loss: 3.9184 - mae: 3.9184\n",
            "Epoch 65/200\n",
            "1/1 [==============================] - 0s 5ms/step - loss: 2.8191 - mae: 2.8191\n",
            "Epoch 66/200\n",
            "1/1 [==============================] - 0s 4ms/step - loss: 4.5339 - mae: 4.5339\n",
            "Epoch 67/200\n",
            "1/1 [==============================] - 0s 5ms/step - loss: 1.7707 - mae: 1.7707\n",
            "Epoch 68/200\n",
            "1/1 [==============================] - 0s 4ms/step - loss: 5.1139 - mae: 5.1139\n",
            "Epoch 69/200\n",
            "1/1 [==============================] - 0s 5ms/step - loss: 1.8029 - mae: 1.8029\n",
            "Epoch 70/200\n",
            "1/1 [==============================] - 0s 14ms/step - loss: 4.7115 - mae: 4.7115\n",
            "Epoch 71/200\n",
            "1/1 [==============================] - 0s 5ms/step - loss: 1.5009 - mae: 1.5009\n",
            "Epoch 72/200\n",
            "1/1 [==============================] - 0s 6ms/step - loss: 3.4253 - mae: 3.4253\n",
            "Epoch 73/200\n",
            "1/1 [==============================] - 0s 4ms/step - loss: 4.5687 - mae: 4.5687\n",
            "Epoch 74/200\n",
            "1/1 [==============================] - 0s 5ms/step - loss: 1.8384 - mae: 1.8384\n",
            "Epoch 75/200\n",
            "1/1 [==============================] - 0s 4ms/step - loss: 4.2442 - mae: 4.2442\n",
            "Epoch 76/200\n",
            "1/1 [==============================] - 0s 13ms/step - loss: 1.2702 - mae: 1.2702\n",
            "Epoch 77/200\n",
            "1/1 [==============================] - 0s 4ms/step - loss: 2.1624 - mae: 2.1624\n",
            "Epoch 78/200\n",
            "1/1 [==============================] - 0s 6ms/step - loss: 3.9199 - mae: 3.9199\n",
            "Epoch 79/200\n",
            "1/1 [==============================] - 0s 4ms/step - loss: 3.7829 - mae: 3.7829\n",
            "Epoch 80/200\n",
            "1/1 [==============================] - 0s 6ms/step - loss: 2.1349 - mae: 2.1349\n",
            "Epoch 81/200\n",
            "1/1 [==============================] - 0s 4ms/step - loss: 3.5772 - mae: 3.5772\n",
            "Epoch 82/200\n",
            "1/1 [==============================] - 0s 5ms/step - loss: 1.4007 - mae: 1.4007\n",
            "Epoch 83/200\n",
            "1/1 [==============================] - 0s 4ms/step - loss: 4.0674 - mae: 4.0674\n",
            "Epoch 84/200\n",
            "1/1 [==============================] - 0s 5ms/step - loss: 1.4566 - mae: 1.4566\n",
            "Epoch 85/200\n",
            "1/1 [==============================] - 0s 3ms/step - loss: 3.7733 - mae: 3.7733\n",
            "Epoch 86/200\n",
            "1/1 [==============================] - 0s 5ms/step - loss: 0.9591 - mae: 0.9591\n",
            "Epoch 87/200\n",
            "1/1 [==============================] - 0s 4ms/step - loss: 1.8205 - mae: 1.8205\n",
            "Epoch 88/200\n",
            "1/1 [==============================] - 0s 7ms/step - loss: 3.6311 - mae: 3.6311\n",
            "Epoch 89/200\n",
            "1/1 [==============================] - 0s 3ms/step - loss: 3.4360 - mae: 3.4360\n",
            "Epoch 90/200\n",
            "1/1 [==============================] - 0s 3ms/step - loss: 1.8511 - mae: 1.8511\n",
            "Epoch 91/200\n",
            "1/1 [==============================] - 0s 5ms/step - loss: 3.1942 - mae: 3.1942\n",
            "Epoch 92/200\n",
            "1/1 [==============================] - 0s 17ms/step - loss: 1.8682 - mae: 1.8682\n",
            "Epoch 93/200\n",
            "1/1 [==============================] - 0s 5ms/step - loss: 2.9992 - mae: 2.9992\n",
            "Epoch 94/200\n",
            "1/1 [==============================] - 0s 5ms/step - loss: 1.2677 - mae: 1.2677\n",
            "Epoch 95/200\n",
            "1/1 [==============================] - 0s 12ms/step - loss: 3.5022 - mae: 3.5022\n",
            "Epoch 96/200\n",
            "1/1 [==============================] - 0s 9ms/step - loss: 1.3320 - mae: 1.3320\n",
            "Epoch 97/200\n",
            "1/1 [==============================] - 0s 4ms/step - loss: 3.2767 - mae: 3.2767\n",
            "Epoch 98/200\n",
            "1/1 [==============================] - 0s 4ms/step - loss: 1.3869 - mae: 1.3869\n",
            "Epoch 99/200\n",
            "1/1 [==============================] - 0s 7ms/step - loss: 3.0819 - mae: 3.0819\n",
            "Epoch 100/200\n",
            "1/1 [==============================] - 0s 3ms/step - loss: 1.4345 - mae: 1.4345\n",
            "Epoch 101/200\n",
            "1/1 [==============================] - 0s 3ms/step - loss: 2.9115 - mae: 2.9115\n",
            "Epoch 102/200\n",
            "1/1 [==============================] - 0s 5ms/step - loss: 1.4766 - mae: 1.4766\n",
            "Epoch 103/200\n",
            "1/1 [==============================] - 0s 3ms/step - loss: 2.7757 - mae: 2.7757\n",
            "Epoch 104/200\n",
            "1/1 [==============================] - 0s 38ms/step - loss: 1.0031 - mae: 1.0031\n",
            "Epoch 105/200\n",
            "1/1 [==============================] - 0s 3ms/step - loss: 3.1868 - mae: 3.1868\n",
            "Epoch 106/200\n",
            "1/1 [==============================] - 0s 3ms/step - loss: 1.0773 - mae: 1.0773\n",
            "Epoch 107/200\n",
            "1/1 [==============================] - 0s 3ms/step - loss: 3.0113 - mae: 3.0113\n",
            "Epoch 108/200\n",
            "1/1 [==============================] - 0s 3ms/step - loss: 1.1442 - mae: 1.1442\n",
            "Epoch 109/200\n",
            "1/1 [==============================] - 0s 3ms/step - loss: 2.8542 - mae: 2.8542\n",
            "Epoch 110/200\n",
            "1/1 [==============================] - 0s 3ms/step - loss: 1.2051 - mae: 1.2051\n",
            "Epoch 111/200\n",
            "1/1 [==============================] - 0s 3ms/step - loss: 2.7122 - mae: 2.7122\n",
            "Epoch 112/200\n",
            "1/1 [==============================] - 0s 3ms/step - loss: 1.2610 - mae: 1.2610\n",
            "Epoch 113/200\n",
            "1/1 [==============================] - 0s 5ms/step - loss: 2.5830 - mae: 2.5830\n",
            "Epoch 114/200\n",
            "1/1 [==============================] - 0s 5ms/step - loss: 1.3127 - mae: 1.3127\n",
            "Epoch 115/200\n",
            "1/1 [==============================] - 0s 4ms/step - loss: 2.4644 - mae: 2.4644\n",
            "Epoch 116/200\n",
            "1/1 [==============================] - 0s 5ms/step - loss: 1.3651 - mae: 1.3651\n",
            "Epoch 117/200\n",
            "1/1 [==============================] - 0s 5ms/step - loss: 3.0437 - mae: 3.0437\n",
            "Epoch 118/200\n",
            "1/1 [==============================] - 0s 6ms/step - loss: 0.6990 - mae: 0.6990\n",
            "Epoch 119/200\n",
            "1/1 [==============================] - 0s 5ms/step - loss: 2.4738 - mae: 2.4738\n",
            "Epoch 120/200\n",
            "1/1 [==============================] - 0s 6ms/step - loss: 2.5127 - mae: 2.5127\n",
            "Epoch 121/200\n",
            "1/1 [==============================] - 0s 4ms/step - loss: 1.1456 - mae: 1.1456\n",
            "Epoch 122/200\n",
            "1/1 [==============================] - 0s 9ms/step - loss: 2.4006 - mae: 2.4006\n",
            "Epoch 123/200\n",
            "1/1 [==============================] - 0s 14ms/step - loss: 1.2328 - mae: 1.2328\n",
            "Epoch 124/200\n",
            "1/1 [==============================] - 0s 12ms/step - loss: 2.9654 - mae: 2.9654\n",
            "Epoch 125/200\n",
            "1/1 [==============================] - 0s 7ms/step - loss: 0.6126 - mae: 0.6126\n",
            "Epoch 126/200\n",
            "1/1 [==============================] - 0s 6ms/step - loss: 2.3376 - mae: 2.3376\n",
            "Epoch 127/200\n",
            "1/1 [==============================] - 0s 7ms/step - loss: 2.4496 - mae: 2.4496\n",
            "Epoch 128/200\n",
            "1/1 [==============================] - 0s 5ms/step - loss: 1.0623 - mae: 1.0623\n",
            "Epoch 129/200\n",
            "1/1 [==============================] - 0s 9ms/step - loss: 2.9943 - mae: 2.9943\n",
            "Epoch 130/200\n",
            "1/1 [==============================] - 0s 12ms/step - loss: 0.5588 - mae: 0.5588\n",
            "Epoch 131/200\n",
            "1/1 [==============================] - 0s 10ms/step - loss: 2.1641 - mae: 2.1641\n",
            "Epoch 132/200\n",
            "1/1 [==============================] - 0s 4ms/step - loss: 2.4852 - mae: 2.4852\n",
            "Epoch 133/200\n",
            "1/1 [==============================] - 0s 4ms/step - loss: 0.9352 - mae: 0.9352\n",
            "Epoch 134/200\n",
            "1/1 [==============================] - 0s 5ms/step - loss: 3.0146 - mae: 3.0146\n",
            "Epoch 135/200\n",
            "1/1 [==============================] - 0s 3ms/step - loss: 0.4773 - mae: 0.4773\n",
            "Epoch 136/200\n",
            "1/1 [==============================] - 0s 6ms/step - loss: 2.0369 - mae: 2.0369\n",
            "Epoch 137/200\n",
            "1/1 [==============================] - 0s 3ms/step - loss: 2.5107 - mae: 2.5107\n",
            "Epoch 138/200\n",
            "1/1 [==============================] - 0s 3ms/step - loss: 0.8418 - mae: 0.8418\n",
            "Epoch 139/200\n",
            "1/1 [==============================] - 0s 4ms/step - loss: 3.0284 - mae: 3.0284\n",
            "Epoch 140/200\n",
            "1/1 [==============================] - 0s 5ms/step - loss: 0.3719 - mae: 0.3719\n",
            "Epoch 141/200\n",
            "1/1 [==============================] - 0s 12ms/step - loss: 1.9461 - mae: 1.9461\n",
            "Epoch 142/200\n",
            "1/1 [==============================] - 0s 3ms/step - loss: 2.5286 - mae: 2.5286\n",
            "Epoch 143/200\n",
            "1/1 [==============================] - 0s 7ms/step - loss: 0.7750 - mae: 0.7750\n",
            "Epoch 144/200\n",
            "1/1 [==============================] - 0s 3ms/step - loss: 3.0375 - mae: 3.0375\n",
            "Epoch 145/200\n",
            "1/1 [==============================] - 0s 5ms/step - loss: 0.2459 - mae: 0.2459\n",
            "Epoch 146/200\n",
            "1/1 [==============================] - 0s 3ms/step - loss: 1.8843 - mae: 1.8843\n",
            "Epoch 147/200\n",
            "1/1 [==============================] - 0s 5ms/step - loss: 2.5409 - mae: 2.5409\n",
            "Epoch 148/200\n",
            "1/1 [==============================] - 0s 3ms/step - loss: 0.7379 - mae: 0.7379\n",
            "Epoch 149/200\n",
            "1/1 [==============================] - 0s 4ms/step - loss: 2.6534 - mae: 2.6534\n",
            "Epoch 150/200\n",
            "1/1 [==============================] - 0s 6ms/step - loss: 0.2432 - mae: 0.2432\n",
            "Epoch 151/200\n",
            "1/1 [==============================] - 0s 3ms/step - loss: 2.5413 - mae: 2.5413\n",
            "Epoch 152/200\n",
            "1/1 [==============================] - 0s 5ms/step - loss: 0.3568 - mae: 0.3568\n",
            "Epoch 153/200\n",
            "1/1 [==============================] - 0s 4ms/step - loss: 3.0131 - mae: 3.0131\n",
            "Epoch 154/200\n",
            "1/1 [==============================] - 0s 4ms/step - loss: 0.5566 - mae: 0.5566\n",
            "Epoch 155/200\n",
            "1/1 [==============================] - 0s 4ms/step - loss: 2.9166 - mae: 2.9166\n",
            "Epoch 156/200\n",
            "1/1 [==============================] - 0s 4ms/step - loss: 1.5184 - mae: 1.5184\n",
            "Epoch 157/200\n",
            "1/1 [==============================] - 0s 4ms/step - loss: 1.6587 - mae: 1.6587\n",
            "Epoch 158/200\n",
            "1/1 [==============================] - 0s 4ms/step - loss: 2.1158 - mae: 2.1158\n",
            "Epoch 159/200\n",
            "1/1 [==============================] - 0s 5ms/step - loss: 0.6496 - mae: 0.6496\n",
            "Epoch 160/200\n",
            "1/1 [==============================] - 0s 4ms/step - loss: 2.0272 - mae: 2.0272\n",
            "Epoch 161/200\n",
            "1/1 [==============================] - 0s 4ms/step - loss: 0.7897 - mae: 0.7897\n",
            "Epoch 162/200\n",
            "1/1 [==============================] - 0s 4ms/step - loss: 2.5382 - mae: 2.5382\n",
            "Epoch 163/200\n",
            "1/1 [==============================] - 0s 5ms/step - loss: 0.4153 - mae: 0.4153\n",
            "Epoch 164/200\n",
            "1/1 [==============================] - 0s 5ms/step - loss: 1.8608 - mae: 1.8608\n",
            "Epoch 165/200\n",
            "1/1 [==============================] - 0s 5ms/step - loss: 2.0616 - mae: 2.0616\n",
            "Epoch 166/200\n",
            "1/1 [==============================] - 0s 101ms/step - loss: 0.8027 - mae: 0.8027\n",
            "Epoch 167/200\n",
            "1/1 [==============================] - 0s 3ms/step - loss: 2.5719 - mae: 2.5719\n",
            "Epoch 168/200\n",
            "1/1 [==============================] - 0s 3ms/step - loss: 0.1860 - mae: 0.1860\n",
            "Epoch 169/200\n",
            "1/1 [==============================] - 0s 9ms/step - loss: 1.8949 - mae: 1.8949\n",
            "Epoch 170/200\n",
            "1/1 [==============================] - 0s 7ms/step - loss: 1.7350 - mae: 1.7350\n",
            "Epoch 171/200\n",
            "1/1 [==============================] - 0s 3ms/step - loss: 1.2170 - mae: 1.2170\n",
            "Epoch 172/200\n",
            "1/1 [==============================] - 0s 3ms/step - loss: 2.2829 - mae: 2.2829\n",
            "Epoch 173/200\n",
            "1/1 [==============================] - 0s 3ms/step - loss: 0.2975 - mae: 0.2975\n",
            "Epoch 174/200\n",
            "1/1 [==============================] - 0s 5ms/step - loss: 2.7427 - mae: 2.7427\n",
            "Epoch 175/200\n",
            "1/1 [==============================] - 0s 3ms/step - loss: 0.5363 - mae: 0.5363\n",
            "Epoch 176/200\n",
            "1/1 [==============================] - 0s 4ms/step - loss: 2.6653 - mae: 2.6653\n",
            "Epoch 177/200\n",
            "1/1 [==============================] - 0s 4ms/step - loss: 1.4007 - mae: 1.4007\n",
            "Epoch 178/200\n",
            "1/1 [==============================] - 0s 4ms/step - loss: 1.5143 - mae: 1.5143\n",
            "Epoch 179/200\n",
            "1/1 [==============================] - 0s 4ms/step - loss: 1.9724 - mae: 1.9724\n",
            "Epoch 180/200\n",
            "1/1 [==============================] - 0s 3ms/step - loss: 0.5767 - mae: 0.5767\n",
            "Epoch 181/200\n",
            "1/1 [==============================] - 0s 4ms/step - loss: 2.4531 - mae: 2.4531\n",
            "Epoch 182/200\n",
            "1/1 [==============================] - 0s 6ms/step - loss: 0.4508 - mae: 0.4508\n",
            "Epoch 183/200\n",
            "1/1 [==============================] - 0s 3ms/step - loss: 1.6281 - mae: 1.6281\n",
            "Epoch 184/200\n",
            "1/1 [==============================] - 0s 3ms/step - loss: 1.9759 - mae: 1.9759\n",
            "Epoch 185/200\n",
            "1/1 [==============================] - 0s 3ms/step - loss: 0.6585 - mae: 0.6585\n",
            "Epoch 186/200\n",
            "1/1 [==============================] - 0s 5ms/step - loss: 2.4640 - mae: 2.4640\n",
            "Epoch 187/200\n",
            "1/1 [==============================] - 0s 4ms/step - loss: 0.1682 - mae: 0.1682\n",
            "Epoch 188/200\n",
            "1/1 [==============================] - 0s 13ms/step - loss: 3.0920 - mae: 3.0920\n",
            "Epoch 189/200\n",
            "1/1 [==============================] - 0s 5ms/step - loss: 1.1115 - mae: 1.1115\n",
            "Epoch 190/200\n",
            "1/1 [==============================] - 0s 4ms/step - loss: 1.8798 - mae: 1.8798\n",
            "Epoch 191/200\n",
            "1/1 [==============================] - 0s 4ms/step - loss: 1.7139 - mae: 1.7139\n",
            "Epoch 192/200\n",
            "1/1 [==============================] - 0s 4ms/step - loss: 0.8956 - mae: 0.8956\n",
            "Epoch 193/200\n",
            "1/1 [==============================] - 0s 4ms/step - loss: 2.2194 - mae: 2.2194\n",
            "Epoch 194/200\n",
            "1/1 [==============================] - 0s 6ms/step - loss: 0.1463 - mae: 0.1463\n",
            "Epoch 195/200\n",
            "1/1 [==============================] - 0s 3ms/step - loss: 0.6986 - mae: 0.6986\n",
            "Epoch 196/200\n",
            "1/1 [==============================] - 0s 5ms/step - loss: 2.4931 - mae: 2.4931\n",
            "Epoch 197/200\n",
            "1/1 [==============================] - 0s 3ms/step - loss: 1.3621 - mae: 1.3621\n",
            "Epoch 198/200\n",
            "1/1 [==============================] - 0s 5ms/step - loss: 1.4060 - mae: 1.4060\n",
            "Epoch 199/200\n",
            "1/1 [==============================] - 0s 3ms/step - loss: 1.9152 - mae: 1.9152\n",
            "Epoch 200/200\n",
            "1/1 [==============================] - 0s 5ms/step - loss: 0.5138 - mae: 0.5138\n"
          ],
          "name": "stdout"
        },
        {
          "output_type": "execute_result",
          "data": {
            "text/plain": [
              "<tensorflow.python.keras.callbacks.History at 0x7fed68c40d90>"
            ]
          },
          "metadata": {
            "tags": []
          },
          "execution_count": 32
        }
      ]
    },
    {
      "cell_type": "code",
      "metadata": {
        "colab": {
          "base_uri": "https://localhost:8080/"
        },
        "id": "gdW2q4JhLOjg",
        "outputId": "61cf3d31-3778-4824-d002-ca2252d63040"
      },
      "source": [
        "model.predict([17])"
      ],
      "execution_count": null,
      "outputs": [
        {
          "output_type": "execute_result",
          "data": {
            "text/plain": [
              "array([[18.294107]], dtype=float32)"
            ]
          },
          "metadata": {
            "tags": []
          },
          "execution_count": 33
        }
      ]
    },
    {
      "cell_type": "markdown",
      "metadata": {
        "id": "np6kvp1hLTFi"
      },
      "source": [
        "#Boston housing Data"
      ]
    },
    {
      "cell_type": "code",
      "metadata": {
        "id": "FHCy4OVPZOCB"
      },
      "source": [
        "import pandas as pd\n",
        "import matplotlib.pyplot as plt\n",
        "import numpy as np\n"
      ],
      "execution_count": null,
      "outputs": []
    },
    {
      "cell_type": "code",
      "metadata": {
        "id": "ZaJKVjWraVMf"
      },
      "source": [
        "#Getting the boston datasets from the tensorflow datasets \n",
        "\n",
        "(X_train, y_train), (X_test, y_train) = tf.keras.datasets.boston_housing.load_data(path='boston_housing_npz' , \n",
        "                                                                           test_split = 0.2 , seed = 42)"
      ],
      "execution_count": null,
      "outputs": []
    },
    {
      "cell_type": "code",
      "metadata": {
        "colab": {
          "base_uri": "https://localhost:8080/"
        },
        "id": "28AfKg_Db6TA",
        "outputId": "2f9feef5-109e-4e98-dc38-32db0fa41c22"
      },
      "source": [
        "X_train.shape, y_train.shape, X_test.shape, y_test.shape"
      ],
      "execution_count": null,
      "outputs": [
        {
          "output_type": "execute_result",
          "data": {
            "text/plain": [
              "((404, 13), (102,), (102, 13), (102, 13))"
            ]
          },
          "metadata": {
            "tags": []
          },
          "execution_count": 48
        }
      ]
    },
    {
      "cell_type": "markdown",
      "metadata": {
        "id": "uPo7M1dVaejN"
      },
      "source": [
        "# Build the model"
      ]
    },
    {
      "cell_type": "code",
      "metadata": {
        "colab": {
          "base_uri": "https://localhost:8080/"
        },
        "id": "07svep4fhrTn",
        "outputId": "47924b1f-8228-4b49-97d4-34ca48d27c00"
      },
      "source": [
        "from sklearn.model_selection import train_test_split\n",
        "X_train, X_test, y_train, y_test = train_test_split(X, y, test_size=0.2, random_state=42)\n",
        "len(X), len(X_train), len(X_test)"
      ],
      "execution_count": null,
      "outputs": [
        {
          "output_type": "execute_result",
          "data": {
            "text/plain": [
              "(5, 4, 1)"
            ]
          },
          "metadata": {
            "tags": []
          },
          "execution_count": 52
        }
      ]
    },
    {
      "cell_type": "code",
      "metadata": {
        "colab": {
          "base_uri": "https://localhost:8080/"
        },
        "id": "wdIpKOFRajib",
        "outputId": "58219c63-ba9f-4a38-965e-d977f60ba002"
      },
      "source": [
        "#Set the random seed\n",
        "tf.random.set_seed(42)\n",
        "\n",
        "#Create the model \n",
        "housing_model = tf.keras.Sequential([\n",
        "    tf.keras.layers.Dense(1),\n",
        "    tf.keras.layers.Dense(1)\n",
        "])\n",
        "\n",
        "#compile the model\n",
        "housing_model.compile(loss=\"mae\",\n",
        "               optimizer=tf.keras.optimizers.SGD(),\n",
        "               metrics=[\"mae\"])\n",
        "\n",
        "#fit the model\n",
        "housing_model.fit(X_train,y_train, epochs=100)"
      ],
      "execution_count": null,
      "outputs": [
        {
          "output_type": "stream",
          "text": [
            "Epoch 1/100\n",
            "1/1 [==============================] - 0s 264ms/step - loss: 10.0441 - mae: 10.0441\n",
            "Epoch 2/100\n",
            "1/1 [==============================] - 0s 6ms/step - loss: 9.9494 - mae: 9.9494\n",
            "Epoch 3/100\n",
            "1/1 [==============================] - 0s 5ms/step - loss: 9.8490 - mae: 9.8490\n",
            "Epoch 4/100\n",
            "1/1 [==============================] - 0s 5ms/step - loss: 9.7423 - mae: 9.7423\n",
            "Epoch 5/100\n",
            "1/1 [==============================] - 0s 11ms/step - loss: 9.6290 - mae: 9.6290\n",
            "Epoch 6/100\n",
            "1/1 [==============================] - 0s 17ms/step - loss: 9.5087 - mae: 9.5087\n",
            "Epoch 7/100\n",
            "1/1 [==============================] - 0s 5ms/step - loss: 9.3808 - mae: 9.3808\n",
            "Epoch 8/100\n",
            "1/1 [==============================] - 0s 7ms/step - loss: 9.2448 - mae: 9.2448\n",
            "Epoch 9/100\n",
            "1/1 [==============================] - 0s 5ms/step - loss: 9.1002 - mae: 9.1002\n",
            "Epoch 10/100\n",
            "1/1 [==============================] - 0s 5ms/step - loss: 8.9463 - mae: 8.9463\n",
            "Epoch 11/100\n",
            "1/1 [==============================] - 0s 3ms/step - loss: 8.7825 - mae: 8.7825\n",
            "Epoch 12/100\n",
            "1/1 [==============================] - 0s 3ms/step - loss: 8.6081 - mae: 8.6081\n",
            "Epoch 13/100\n",
            "1/1 [==============================] - 0s 3ms/step - loss: 8.4224 - mae: 8.4224\n",
            "Epoch 14/100\n",
            "1/1 [==============================] - 0s 6ms/step - loss: 8.2245 - mae: 8.2245\n",
            "Epoch 15/100\n",
            "1/1 [==============================] - 0s 4ms/step - loss: 8.0137 - mae: 8.0137\n",
            "Epoch 16/100\n",
            "1/1 [==============================] - 0s 4ms/step - loss: 7.7891 - mae: 7.7891\n",
            "Epoch 17/100\n",
            "1/1 [==============================] - 0s 3ms/step - loss: 7.5496 - mae: 7.5496\n",
            "Epoch 18/100\n",
            "1/1 [==============================] - 0s 3ms/step - loss: 7.2943 - mae: 7.2943\n",
            "Epoch 19/100\n",
            "1/1 [==============================] - 0s 4ms/step - loss: 7.0221 - mae: 7.0221\n",
            "Epoch 20/100\n",
            "1/1 [==============================] - 0s 3ms/step - loss: 6.7318 - mae: 6.7318\n",
            "Epoch 21/100\n",
            "1/1 [==============================] - 0s 5ms/step - loss: 6.4221 - mae: 6.4221\n",
            "Epoch 22/100\n",
            "1/1 [==============================] - 0s 4ms/step - loss: 6.0917 - mae: 6.0917\n",
            "Epoch 23/100\n",
            "1/1 [==============================] - 0s 4ms/step - loss: 5.7391 - mae: 5.7391\n",
            "Epoch 24/100\n",
            "1/1 [==============================] - 0s 4ms/step - loss: 5.5466 - mae: 5.5466\n",
            "Epoch 25/100\n",
            "1/1 [==============================] - 0s 4ms/step - loss: 5.6444 - mae: 5.6444\n",
            "Epoch 26/100\n",
            "1/1 [==============================] - 0s 6ms/step - loss: 5.5743 - mae: 5.5743\n",
            "Epoch 27/100\n",
            "1/1 [==============================] - 0s 3ms/step - loss: 5.5475 - mae: 5.5475\n",
            "Epoch 28/100\n",
            "1/1 [==============================] - 0s 3ms/step - loss: 5.6032 - mae: 5.6032\n",
            "Epoch 29/100\n",
            "1/1 [==============================] - 0s 4ms/step - loss: 5.4484 - mae: 5.4484\n",
            "Epoch 30/100\n",
            "1/1 [==============================] - 0s 4ms/step - loss: 5.6334 - mae: 5.6334\n",
            "Epoch 31/100\n",
            "1/1 [==============================] - 0s 6ms/step - loss: 5.3803 - mae: 5.3803\n",
            "Epoch 32/100\n",
            "1/1 [==============================] - 0s 4ms/step - loss: 5.6231 - mae: 5.6231\n",
            "Epoch 33/100\n",
            "1/1 [==============================] - 0s 4ms/step - loss: 5.4101 - mae: 5.4101\n",
            "Epoch 34/100\n",
            "1/1 [==============================] - 0s 6ms/step - loss: 5.5230 - mae: 5.5230\n",
            "Epoch 35/100\n",
            "1/1 [==============================] - 0s 4ms/step - loss: 5.4412 - mae: 5.4412\n",
            "Epoch 36/100\n",
            "1/1 [==============================] - 0s 4ms/step - loss: 5.4205 - mae: 5.4205\n",
            "Epoch 37/100\n",
            "1/1 [==============================] - 0s 4ms/step - loss: 5.4734 - mae: 5.4734\n",
            "Epoch 38/100\n",
            "1/1 [==============================] - 0s 5ms/step - loss: 5.3158 - mae: 5.3158\n",
            "Epoch 39/100\n",
            "1/1 [==============================] - 0s 4ms/step - loss: 5.5069 - mae: 5.5069\n",
            "Epoch 40/100\n",
            "1/1 [==============================] - 0s 3ms/step - loss: 5.2582 - mae: 5.2582\n",
            "Epoch 41/100\n",
            "1/1 [==============================] - 0s 5ms/step - loss: 5.4836 - mae: 5.4836\n",
            "Epoch 42/100\n",
            "1/1 [==============================] - 0s 3ms/step - loss: 5.2912 - mae: 5.2912\n",
            "Epoch 43/100\n",
            "1/1 [==============================] - 0s 4ms/step - loss: 5.3776 - mae: 5.3776\n",
            "Epoch 44/100\n",
            "1/1 [==============================] - 0s 7ms/step - loss: 5.3255 - mae: 5.3255\n",
            "Epoch 45/100\n",
            "1/1 [==============================] - 0s 4ms/step - loss: 5.2692 - mae: 5.2692\n",
            "Epoch 46/100\n",
            "1/1 [==============================] - 0s 4ms/step - loss: 5.3609 - mae: 5.3609\n",
            "Epoch 47/100\n",
            "1/1 [==============================] - 0s 6ms/step - loss: 5.1582 - mae: 5.1582\n",
            "Epoch 48/100\n",
            "1/1 [==============================] - 0s 4ms/step - loss: 5.3976 - mae: 5.3976\n",
            "Epoch 49/100\n",
            "1/1 [==============================] - 0s 3ms/step - loss: 5.1520 - mae: 5.1520\n",
            "Epoch 50/100\n",
            "1/1 [==============================] - 0s 7ms/step - loss: 5.3198 - mae: 5.3198\n",
            "Epoch 51/100\n",
            "1/1 [==============================] - 0s 4ms/step - loss: 5.1881 - mae: 5.1881\n",
            "Epoch 52/100\n",
            "1/1 [==============================] - 0s 4ms/step - loss: 5.2074 - mae: 5.2074\n",
            "Epoch 53/100\n",
            "1/1 [==============================] - 0s 5ms/step - loss: 5.2255 - mae: 5.2255\n",
            "Epoch 54/100\n",
            "1/1 [==============================] - 0s 3ms/step - loss: 5.0923 - mae: 5.0923\n",
            "Epoch 55/100\n",
            "1/1 [==============================] - 0s 3ms/step - loss: 5.2640 - mae: 5.2640\n",
            "Epoch 56/100\n",
            "1/1 [==============================] - 0s 5ms/step - loss: 5.0231 - mae: 5.0231\n",
            "Epoch 57/100\n",
            "1/1 [==============================] - 0s 4ms/step - loss: 5.2470 - mae: 5.2470\n",
            "Epoch 58/100\n",
            "1/1 [==============================] - 0s 3ms/step - loss: 5.0611 - mae: 5.0611\n",
            "Epoch 59/100\n",
            "1/1 [==============================] - 0s 3ms/step - loss: 5.1304 - mae: 5.1304\n",
            "Epoch 60/100\n",
            "1/1 [==============================] - 0s 5ms/step - loss: 5.1002 - mae: 5.1002\n",
            "Epoch 61/100\n",
            "1/1 [==============================] - 0s 3ms/step - loss: 5.0110 - mae: 5.0110\n",
            "Epoch 62/100\n",
            "1/1 [==============================] - 0s 8ms/step - loss: 5.1405 - mae: 5.1405\n",
            "Epoch 63/100\n",
            "1/1 [==============================] - 0s 11ms/step - loss: 4.9034 - mae: 4.9034\n",
            "Epoch 64/100\n",
            "1/1 [==============================] - 0s 3ms/step - loss: 5.1593 - mae: 5.1593\n",
            "Epoch 65/100\n",
            "1/1 [==============================] - 0s 4ms/step - loss: 4.9431 - mae: 4.9431\n",
            "Epoch 66/100\n",
            "1/1 [==============================] - 0s 4ms/step - loss: 5.0381 - mae: 5.0381\n",
            "Epoch 67/100\n",
            "1/1 [==============================] - 0s 5ms/step - loss: 4.9839 - mae: 4.9839\n",
            "Epoch 68/100\n",
            "1/1 [==============================] - 0s 3ms/step - loss: 4.9141 - mae: 4.9141\n",
            "Epoch 69/100\n",
            "1/1 [==============================] - 0s 3ms/step - loss: 5.0260 - mae: 5.0260\n",
            "Epoch 70/100\n",
            "1/1 [==============================] - 0s 5ms/step - loss: 4.7918 - mae: 4.7918\n",
            "Epoch 71/100\n",
            "1/1 [==============================] - 0s 4ms/step - loss: 5.0565 - mae: 5.0565\n",
            "Epoch 72/100\n",
            "1/1 [==============================] - 0s 4ms/step - loss: 4.8330 - mae: 4.8330\n",
            "Epoch 73/100\n",
            "1/1 [==============================] - 0s 6ms/step - loss: 4.9305 - mae: 4.9305\n",
            "Epoch 74/100\n",
            "1/1 [==============================] - 0s 6ms/step - loss: 4.8754 - mae: 4.8754\n",
            "Epoch 75/100\n",
            "1/1 [==============================] - 0s 8ms/step - loss: 4.8016 - mae: 4.8016\n",
            "Epoch 76/100\n",
            "1/1 [==============================] - 0s 6ms/step - loss: 4.9191 - mae: 4.9191\n",
            "Epoch 77/100\n",
            "1/1 [==============================] - 0s 7ms/step - loss: 4.6869 - mae: 4.6869\n",
            "Epoch 78/100\n",
            "1/1 [==============================] - 0s 5ms/step - loss: 4.9385 - mae: 4.9385\n",
            "Epoch 79/100\n",
            "1/1 [==============================] - 0s 13ms/step - loss: 4.7296 - mae: 4.7296\n",
            "Epoch 80/100\n",
            "1/1 [==============================] - 0s 6ms/step - loss: 4.8074 - mae: 4.8074\n",
            "Epoch 81/100\n",
            "1/1 [==============================] - 0s 4ms/step - loss: 4.7736 - mae: 4.7736\n",
            "Epoch 82/100\n",
            "1/1 [==============================] - 0s 5ms/step - loss: 4.6732 - mae: 4.6732\n",
            "Epoch 83/100\n",
            "1/1 [==============================] - 0s 4ms/step - loss: 4.8187 - mae: 4.8187\n",
            "Epoch 84/100\n",
            "1/1 [==============================] - 0s 4ms/step - loss: 4.5876 - mae: 4.5876\n",
            "Epoch 85/100\n",
            "1/1 [==============================] - 0s 3ms/step - loss: 4.8051 - mae: 4.8051\n",
            "Epoch 86/100\n",
            "1/1 [==============================] - 0s 4ms/step - loss: 4.6317 - mae: 4.6317\n",
            "Epoch 87/100\n",
            "1/1 [==============================] - 0s 8ms/step - loss: 4.6686 - mae: 4.6686\n",
            "Epoch 88/100\n",
            "1/1 [==============================] - 0s 5ms/step - loss: 4.6771 - mae: 4.6771\n",
            "Epoch 89/100\n",
            "1/1 [==============================] - 0s 11ms/step - loss: 4.5287 - mae: 4.5287\n",
            "Epoch 90/100\n",
            "1/1 [==============================] - 0s 5ms/step - loss: 4.7236 - mae: 4.7236\n",
            "Epoch 91/100\n",
            "1/1 [==============================] - 0s 7ms/step - loss: 4.4926 - mae: 4.4926\n",
            "Epoch 92/100\n",
            "1/1 [==============================] - 0s 4ms/step - loss: 4.6562 - mae: 4.6562\n",
            "Epoch 93/100\n",
            "1/1 [==============================] - 0s 3ms/step - loss: 4.5380 - mae: 4.5380\n",
            "Epoch 94/100\n",
            "1/1 [==============================] - 0s 5ms/step - loss: 4.5138 - mae: 4.5138\n",
            "Epoch 95/100\n",
            "1/1 [==============================] - 0s 4ms/step - loss: 4.5847 - mae: 4.5847\n",
            "Epoch 96/100\n",
            "1/1 [==============================] - 0s 5ms/step - loss: 4.3680 - mae: 4.3680\n",
            "Epoch 97/100\n",
            "1/1 [==============================] - 0s 6ms/step - loss: 4.6326 - mae: 4.6326\n",
            "Epoch 98/100\n",
            "1/1 [==============================] - 0s 3ms/step - loss: 4.4006 - mae: 4.4006\n",
            "Epoch 99/100\n",
            "1/1 [==============================] - 0s 3ms/step - loss: 4.4915 - mae: 4.4915\n",
            "Epoch 100/100\n",
            "1/1 [==============================] - 0s 5ms/step - loss: 4.4473 - mae: 4.4473\n"
          ],
          "name": "stdout"
        },
        {
          "output_type": "execute_result",
          "data": {
            "text/plain": [
              "<tensorflow.python.keras.callbacks.History at 0x7fed67ca47d0>"
            ]
          },
          "metadata": {
            "tags": []
          },
          "execution_count": 56
        }
      ]
    },
    {
      "cell_type": "code",
      "metadata": {
        "colab": {
          "base_uri": "https://localhost:8080/"
        },
        "id": "5X8XG4J3hbzd",
        "outputId": "0e3147a4-6619-48fb-9f15-6bbd37a16a33"
      },
      "source": [
        "housing_model.predict(X_test)"
      ],
      "execution_count": null,
      "outputs": [
        {
          "output_type": "execute_result",
          "data": {
            "text/plain": [
              "array([[-2.2726977]], dtype=float32)"
            ]
          },
          "metadata": {
            "tags": []
          },
          "execution_count": 57
        }
      ]
    },
    {
      "cell_type": "code",
      "metadata": {
        "colab": {
          "base_uri": "https://localhost:8080/"
        },
        "id": "0r_C6cUxhzTn",
        "outputId": "819c0562-d87a-45d2-dafc-a206c914df48"
      },
      "source": [
        "housing_model.evaluate(X_test, y_test)"
      ],
      "execution_count": null,
      "outputs": [
        {
          "output_type": "stream",
          "text": [
            "1/1 [==============================] - 0s 96ms/step - loss: 7.2727 - mae: 7.2727\n"
          ],
          "name": "stdout"
        },
        {
          "output_type": "execute_result",
          "data": {
            "text/plain": [
              "[7.272697448730469, 7.272697448730469]"
            ]
          },
          "metadata": {
            "tags": []
          },
          "execution_count": 58
        }
      ]
    },
    {
      "cell_type": "markdown",
      "metadata": {
        "id": "bu8-R6DZh9mG"
      },
      "source": [
        "#Add an extra layer - we are trying to decrease the loss"
      ]
    },
    {
      "cell_type": "code",
      "metadata": {
        "colab": {
          "base_uri": "https://localhost:8080/"
        },
        "id": "J6OFRoz1iXKO",
        "outputId": "ccce556d-a56b-410a-d755-cdcec265bcd4"
      },
      "source": [
        "#Set the random seed\n",
        "tf.random.set_seed(42)\n",
        "\n",
        "#Create the model \n",
        "housing_model = tf.keras.Sequential([\n",
        "    tf.keras.layers.Dense(100),\n",
        "    tf.keras.layers.Dense(10),\n",
        "    tf.keras.layers.Dense(1),\n",
        "])\n",
        "\n",
        "#compile the model\n",
        "housing_model.compile(loss=\"mae\",\n",
        "               optimizer=tf.keras.optimizers.SGD(),\n",
        "               metrics=[\"mae\"])\n",
        "\n",
        "#fit the model\n",
        "history = housing_model.fit(X_train,y_train, epochs=200)"
      ],
      "execution_count": null,
      "outputs": [
        {
          "output_type": "stream",
          "text": [
            "Epoch 1/200\n",
            "1/1 [==============================] - 0s 306ms/step - loss: 9.6270 - mae: 9.6270\n",
            "Epoch 2/200\n",
            "1/1 [==============================] - 0s 10ms/step - loss: 8.8188 - mae: 8.8188\n",
            "Epoch 3/200\n",
            "1/1 [==============================] - 0s 3ms/step - loss: 7.9573 - mae: 7.9573\n",
            "Epoch 4/200\n",
            "1/1 [==============================] - 0s 4ms/step - loss: 7.0191 - mae: 7.0191\n",
            "Epoch 5/200\n",
            "1/1 [==============================] - 0s 4ms/step - loss: 5.9775 - mae: 5.9775\n",
            "Epoch 6/200\n",
            "1/1 [==============================] - 0s 5ms/step - loss: 6.2176 - mae: 6.2176\n",
            "Epoch 7/200\n",
            "1/1 [==============================] - 0s 6ms/step - loss: 5.7466 - mae: 5.7466\n",
            "Epoch 8/200\n",
            "1/1 [==============================] - 0s 4ms/step - loss: 6.2725 - mae: 6.2725\n",
            "Epoch 9/200\n",
            "1/1 [==============================] - 0s 5ms/step - loss: 5.5075 - mae: 5.5075\n",
            "Epoch 10/200\n",
            "1/1 [==============================] - 0s 8ms/step - loss: 6.3339 - mae: 6.3339\n",
            "Epoch 11/200\n",
            "1/1 [==============================] - 0s 4ms/step - loss: 5.4789 - mae: 5.4789\n",
            "Epoch 12/200\n",
            "1/1 [==============================] - 0s 5ms/step - loss: 6.1262 - mae: 6.1262\n",
            "Epoch 13/200\n",
            "1/1 [==============================] - 0s 3ms/step - loss: 5.5424 - mae: 5.5424\n",
            "Epoch 14/200\n",
            "1/1 [==============================] - 0s 3ms/step - loss: 5.8831 - mae: 5.8831\n",
            "Epoch 15/200\n",
            "1/1 [==============================] - 0s 3ms/step - loss: 5.6118 - mae: 5.6118\n",
            "Epoch 16/200\n",
            "1/1 [==============================] - 0s 3ms/step - loss: 5.6304 - mae: 5.6304\n",
            "Epoch 17/200\n",
            "1/1 [==============================] - 0s 6ms/step - loss: 5.6873 - mae: 5.6873\n",
            "Epoch 18/200\n",
            "1/1 [==============================] - 0s 5ms/step - loss: 5.3670 - mae: 5.3670\n",
            "Epoch 19/200\n",
            "1/1 [==============================] - 0s 3ms/step - loss: 5.7694 - mae: 5.7694\n",
            "Epoch 20/200\n",
            "1/1 [==============================] - 0s 7ms/step - loss: 5.0918 - mae: 5.0918\n",
            "Epoch 21/200\n",
            "1/1 [==============================] - 0s 8ms/step - loss: 5.8583 - mae: 5.8583\n",
            "Epoch 22/200\n",
            "1/1 [==============================] - 0s 3ms/step - loss: 5.0320 - mae: 5.0320\n",
            "Epoch 23/200\n",
            "1/1 [==============================] - 0s 6ms/step - loss: 5.6701 - mae: 5.6701\n",
            "Epoch 24/200\n",
            "1/1 [==============================] - 0s 5ms/step - loss: 5.1193 - mae: 5.1193\n",
            "Epoch 25/200\n",
            "1/1 [==============================] - 0s 4ms/step - loss: 5.3866 - mae: 5.3866\n",
            "Epoch 26/200\n",
            "1/1 [==============================] - 0s 8ms/step - loss: 5.2131 - mae: 5.2131\n",
            "Epoch 27/200\n",
            "1/1 [==============================] - 0s 4ms/step - loss: 5.0892 - mae: 5.0892\n",
            "Epoch 28/200\n",
            "1/1 [==============================] - 0s 4ms/step - loss: 5.3137 - mae: 5.3137\n",
            "Epoch 29/200\n",
            "1/1 [==============================] - 0s 4ms/step - loss: 4.7768 - mae: 4.7768\n",
            "Epoch 30/200\n",
            "1/1 [==============================] - 0s 4ms/step - loss: 5.4216 - mae: 5.4216\n",
            "Epoch 31/200\n",
            "1/1 [==============================] - 0s 4ms/step - loss: 4.6027 - mae: 4.6027\n",
            "Epoch 32/200\n",
            "1/1 [==============================] - 0s 6ms/step - loss: 5.3268 - mae: 5.3268\n",
            "Epoch 33/200\n",
            "1/1 [==============================] - 0s 3ms/step - loss: 4.7064 - mae: 4.7064\n",
            "Epoch 34/200\n",
            "1/1 [==============================] - 0s 5ms/step - loss: 5.0013 - mae: 5.0013\n",
            "Epoch 35/200\n",
            "1/1 [==============================] - 0s 4ms/step - loss: 4.8173 - mae: 4.8173\n",
            "Epoch 36/200\n",
            "1/1 [==============================] - 0s 4ms/step - loss: 4.6579 - mae: 4.6579\n",
            "Epoch 37/200\n",
            "1/1 [==============================] - 0s 6ms/step - loss: 4.9357 - mae: 4.9357\n",
            "Epoch 38/200\n",
            "1/1 [==============================] - 0s 6ms/step - loss: 4.2951 - mae: 4.2951\n",
            "Epoch 39/200\n",
            "1/1 [==============================] - 0s 4ms/step - loss: 5.1703 - mae: 5.1703\n",
            "Epoch 40/200\n",
            "1/1 [==============================] - 0s 4ms/step - loss: 5.3478 - mae: 5.3478\n",
            "Epoch 41/200\n",
            "1/1 [==============================] - 0s 5ms/step - loss: 4.0968 - mae: 4.0968\n",
            "Epoch 42/200\n",
            "1/1 [==============================] - 0s 5ms/step - loss: 5.2238 - mae: 5.2238\n",
            "Epoch 43/200\n",
            "1/1 [==============================] - 0s 4ms/step - loss: 5.1583 - mae: 5.1583\n",
            "Epoch 44/200\n",
            "1/1 [==============================] - 0s 4ms/step - loss: 3.9561 - mae: 3.9561\n",
            "Epoch 45/200\n",
            "1/1 [==============================] - 0s 5ms/step - loss: 4.7865 - mae: 4.7865\n",
            "Epoch 46/200\n",
            "1/1 [==============================] - 0s 7ms/step - loss: 4.0766 - mae: 4.0766\n",
            "Epoch 47/200\n",
            "1/1 [==============================] - 0s 12ms/step - loss: 4.3919 - mae: 4.3919\n",
            "Epoch 48/200\n",
            "1/1 [==============================] - 0s 5ms/step - loss: 4.2053 - mae: 4.2053\n",
            "Epoch 49/200\n",
            "1/1 [==============================] - 0s 6ms/step - loss: 3.9722 - mae: 3.9722\n",
            "Epoch 50/200\n",
            "1/1 [==============================] - 0s 6ms/step - loss: 4.4332 - mae: 4.4332\n",
            "Epoch 51/200\n",
            "1/1 [==============================] - 0s 9ms/step - loss: 5.0398 - mae: 5.0398\n",
            "Epoch 52/200\n",
            "1/1 [==============================] - 0s 4ms/step - loss: 3.6963 - mae: 3.6963\n",
            "Epoch 53/200\n",
            "1/1 [==============================] - 0s 4ms/step - loss: 4.5907 - mae: 4.5907\n",
            "Epoch 54/200\n",
            "1/1 [==============================] - 0s 5ms/step - loss: 4.7870 - mae: 4.7870\n",
            "Epoch 55/200\n",
            "1/1 [==============================] - 0s 5ms/step - loss: 3.3984 - mae: 3.3984\n",
            "Epoch 56/200\n",
            "1/1 [==============================] - 0s 3ms/step - loss: 4.7725 - mae: 4.7725\n",
            "Epoch 57/200\n",
            "1/1 [==============================] - 0s 4ms/step - loss: 4.5161 - mae: 4.5161\n",
            "Epoch 58/200\n",
            "1/1 [==============================] - 0s 4ms/step - loss: 3.1611 - mae: 3.1611\n",
            "Epoch 59/200\n",
            "1/1 [==============================] - 0s 5ms/step - loss: 4.0529 - mae: 4.0529\n",
            "Epoch 60/200\n",
            "1/1 [==============================] - 0s 7ms/step - loss: 3.2926 - mae: 3.2926\n",
            "Epoch 61/200\n",
            "1/1 [==============================] - 0s 3ms/step - loss: 3.5566 - mae: 3.5566\n",
            "Epoch 62/200\n",
            "1/1 [==============================] - 0s 4ms/step - loss: 3.5299 - mae: 3.5299\n",
            "Epoch 63/200\n",
            "1/1 [==============================] - 0s 3ms/step - loss: 4.6719 - mae: 4.6719\n",
            "Epoch 64/200\n",
            "1/1 [==============================] - 0s 4ms/step - loss: 3.1802 - mae: 3.1802\n",
            "Epoch 65/200\n",
            "1/1 [==============================] - 0s 4ms/step - loss: 3.7942 - mae: 3.7942\n",
            "Epoch 66/200\n",
            "1/1 [==============================] - 0s 5ms/step - loss: 4.3366 - mae: 4.3366\n",
            "Epoch 67/200\n",
            "1/1 [==============================] - 0s 5ms/step - loss: 2.7742 - mae: 2.7742\n",
            "Epoch 68/200\n",
            "1/1 [==============================] - 0s 4ms/step - loss: 4.0848 - mae: 4.0848\n",
            "Epoch 69/200\n",
            "1/1 [==============================] - 0s 5ms/step - loss: 3.9771 - mae: 3.9771\n",
            "Epoch 70/200\n",
            "1/1 [==============================] - 0s 4ms/step - loss: 2.3353 - mae: 2.3353\n",
            "Epoch 71/200\n",
            "1/1 [==============================] - 0s 5ms/step - loss: 4.4036 - mae: 4.4036\n",
            "Epoch 72/200\n",
            "1/1 [==============================] - 0s 5ms/step - loss: 3.5909 - mae: 3.5909\n",
            "Epoch 73/200\n",
            "1/1 [==============================] - 0s 4ms/step - loss: 2.0721 - mae: 2.0721\n",
            "Epoch 74/200\n",
            "1/1 [==============================] - 0s 5ms/step - loss: 2.9850 - mae: 2.9850\n",
            "Epoch 75/200\n",
            "1/1 [==============================] - 0s 8ms/step - loss: 2.3485 - mae: 2.3485\n",
            "Epoch 76/200\n",
            "1/1 [==============================] - 0s 3ms/step - loss: 4.8938 - mae: 4.8938\n",
            "Epoch 77/200\n",
            "1/1 [==============================] - 0s 3ms/step - loss: 2.7904 - mae: 2.7904\n",
            "Epoch 78/200\n",
            "1/1 [==============================] - 0s 3ms/step - loss: 4.2504 - mae: 4.2504\n",
            "Epoch 79/200\n",
            "1/1 [==============================] - 0s 3ms/step - loss: 3.2006 - mae: 3.2006\n",
            "Epoch 80/200\n",
            "1/1 [==============================] - 0s 5ms/step - loss: 3.6600 - mae: 3.6600\n",
            "Epoch 81/200\n",
            "1/1 [==============================] - 0s 3ms/step - loss: 3.5833 - mae: 3.5833\n",
            "Epoch 82/200\n",
            "1/1 [==============================] - 0s 6ms/step - loss: 3.4093 - mae: 3.4093\n",
            "Epoch 83/200\n",
            "1/1 [==============================] - 0s 7ms/step - loss: 1.7315 - mae: 1.7315\n",
            "Epoch 84/200\n",
            "1/1 [==============================] - 0s 4ms/step - loss: 3.9852 - mae: 3.9852\n",
            "Epoch 85/200\n",
            "1/1 [==============================] - 0s 5ms/step - loss: 2.9544 - mae: 2.9544\n",
            "Epoch 86/200\n",
            "1/1 [==============================] - 0s 5ms/step - loss: 1.4586 - mae: 1.4586\n",
            "Epoch 87/200\n",
            "1/1 [==============================] - 0s 8ms/step - loss: 2.2787 - mae: 2.2787\n",
            "Epoch 88/200\n",
            "1/1 [==============================] - 0s 4ms/step - loss: 2.0141 - mae: 2.0141\n",
            "Epoch 89/200\n",
            "1/1 [==============================] - 0s 4ms/step - loss: 4.9404 - mae: 4.9404\n",
            "Epoch 90/200\n",
            "1/1 [==============================] - 0s 4ms/step - loss: 2.5025 - mae: 2.5025\n",
            "Epoch 91/200\n",
            "1/1 [==============================] - 0s 4ms/step - loss: 4.2541 - mae: 4.2541\n",
            "Epoch 92/200\n",
            "1/1 [==============================] - 0s 6ms/step - loss: 2.9581 - mae: 2.9581\n",
            "Epoch 93/200\n",
            "1/1 [==============================] - 0s 7ms/step - loss: 3.6217 - mae: 3.6217\n",
            "Epoch 94/200\n",
            "1/1 [==============================] - 0s 5ms/step - loss: 3.3853 - mae: 3.3853\n",
            "Epoch 95/200\n",
            "1/1 [==============================] - 0s 5ms/step - loss: 3.0364 - mae: 3.0364\n",
            "Epoch 96/200\n",
            "1/1 [==============================] - 0s 5ms/step - loss: 3.7874 - mae: 3.7874\n",
            "Epoch 97/200\n",
            "1/1 [==============================] - 0s 3ms/step - loss: 2.4921 - mae: 2.4921\n",
            "Epoch 98/200\n",
            "1/1 [==============================] - 0s 5ms/step - loss: 4.1938 - mae: 4.1938\n",
            "Epoch 99/200\n",
            "1/1 [==============================] - 0s 4ms/step - loss: 3.0865 - mae: 3.0865\n",
            "Epoch 100/200\n",
            "1/1 [==============================] - 0s 5ms/step - loss: 3.3023 - mae: 3.3023\n",
            "Epoch 101/200\n",
            "1/1 [==============================] - 0s 3ms/step - loss: 2.5990 - mae: 2.5990\n",
            "Epoch 102/200\n",
            "1/1 [==============================] - 0s 3ms/step - loss: 3.6589 - mae: 3.6589\n",
            "Epoch 103/200\n",
            "1/1 [==============================] - 0s 4ms/step - loss: 2.3628 - mae: 2.3628\n",
            "Epoch 104/200\n",
            "1/1 [==============================] - 0s 4ms/step - loss: 1.3450 - mae: 1.3450\n",
            "Epoch 105/200\n",
            "1/1 [==============================] - 0s 5ms/step - loss: 4.4324 - mae: 4.4324\n",
            "Epoch 106/200\n",
            "1/1 [==============================] - 0s 3ms/step - loss: 1.7514 - mae: 1.7514\n",
            "Epoch 107/200\n",
            "1/1 [==============================] - 0s 4ms/step - loss: 3.9125 - mae: 3.9125\n",
            "Epoch 108/200\n",
            "1/1 [==============================] - 0s 5ms/step - loss: 2.1397 - mae: 2.1397\n",
            "Epoch 109/200\n",
            "1/1 [==============================] - 0s 4ms/step - loss: 3.4216 - mae: 3.4216\n",
            "Epoch 110/200\n",
            "1/1 [==============================] - 0s 4ms/step - loss: 2.5119 - mae: 2.5119\n",
            "Epoch 111/200\n",
            "1/1 [==============================] - 0s 5ms/step - loss: 2.9563 - mae: 2.9563\n",
            "Epoch 112/200\n",
            "1/1 [==============================] - 0s 5ms/step - loss: 2.8696 - mae: 2.8696\n",
            "Epoch 113/200\n",
            "1/1 [==============================] - 0s 5ms/step - loss: 2.5140 - mae: 2.5140\n",
            "Epoch 114/200\n",
            "1/1 [==============================] - 0s 3ms/step - loss: 3.2145 - mae: 3.2145\n",
            "Epoch 115/200\n",
            "1/1 [==============================] - 0s 5ms/step - loss: 2.1614 - mae: 2.1614\n",
            "Epoch 116/200\n",
            "1/1 [==============================] - 0s 5ms/step - loss: 1.1170 - mae: 1.1170\n",
            "Epoch 117/200\n",
            "1/1 [==============================] - 0s 5ms/step - loss: 4.1815 - mae: 4.1815\n",
            "Epoch 118/200\n",
            "1/1 [==============================] - 0s 3ms/step - loss: 1.5042 - mae: 1.5042\n",
            "Epoch 119/200\n",
            "1/1 [==============================] - 0s 5ms/step - loss: 3.7060 - mae: 3.7060\n",
            "Epoch 120/200\n",
            "1/1 [==============================] - 0s 6ms/step - loss: 1.8777 - mae: 1.8777\n",
            "Epoch 121/200\n",
            "1/1 [==============================] - 0s 3ms/step - loss: 3.2522 - mae: 3.2522\n",
            "Epoch 122/200\n",
            "1/1 [==============================] - 0s 3ms/step - loss: 2.2389 - mae: 2.2389\n",
            "Epoch 123/200\n",
            "1/1 [==============================] - 0s 4ms/step - loss: 2.8178 - mae: 2.8178\n",
            "Epoch 124/200\n",
            "1/1 [==============================] - 0s 7ms/step - loss: 2.5892 - mae: 2.5892\n",
            "Epoch 125/200\n",
            "1/1 [==============================] - 0s 3ms/step - loss: 2.4008 - mae: 2.4008\n",
            "Epoch 126/200\n",
            "1/1 [==============================] - 0s 4ms/step - loss: 2.9298 - mae: 2.9298\n",
            "Epoch 127/200\n",
            "1/1 [==============================] - 0s 4ms/step - loss: 2.9290 - mae: 2.9290\n",
            "Epoch 128/200\n",
            "1/1 [==============================] - 0s 4ms/step - loss: 2.2394 - mae: 2.2394\n",
            "Epoch 129/200\n",
            "1/1 [==============================] - 0s 5ms/step - loss: 2.5408 - mae: 2.5408\n",
            "Epoch 130/200\n",
            "1/1 [==============================] - 0s 5ms/step - loss: 2.5645 - mae: 2.5645\n",
            "Epoch 131/200\n",
            "1/1 [==============================] - 0s 6ms/step - loss: 2.1650 - mae: 2.1650\n",
            "Epoch 132/200\n",
            "1/1 [==============================] - 0s 5ms/step - loss: 2.8827 - mae: 2.8827\n",
            "Epoch 133/200\n",
            "1/1 [==============================] - 0s 5ms/step - loss: 1.8815 - mae: 1.8815\n",
            "Epoch 134/200\n",
            "1/1 [==============================] - 0s 11ms/step - loss: 1.0655 - mae: 1.0655\n",
            "Epoch 135/200\n",
            "1/1 [==============================] - 0s 8ms/step - loss: 3.6073 - mae: 3.6073\n",
            "Epoch 136/200\n",
            "1/1 [==============================] - 0s 8ms/step - loss: 1.4161 - mae: 1.4161\n",
            "Epoch 137/200\n",
            "1/1 [==============================] - 0s 5ms/step - loss: 3.1998 - mae: 3.1998\n",
            "Epoch 138/200\n",
            "1/1 [==============================] - 0s 7ms/step - loss: 1.7590 - mae: 1.7590\n",
            "Epoch 139/200\n",
            "1/1 [==============================] - 0s 16ms/step - loss: 2.8047 - mae: 2.8047\n",
            "Epoch 140/200\n",
            "1/1 [==============================] - 0s 14ms/step - loss: 2.0950 - mae: 2.0950\n",
            "Epoch 141/200\n",
            "1/1 [==============================] - 0s 14ms/step - loss: 2.4208 - mae: 2.4208\n",
            "Epoch 142/200\n",
            "1/1 [==============================] - 0s 4ms/step - loss: 2.4559 - mae: 2.4559\n",
            "Epoch 143/200\n",
            "1/1 [==============================] - 0s 18ms/step - loss: 2.9198 - mae: 2.9198\n",
            "Epoch 144/200\n",
            "1/1 [==============================] - 0s 9ms/step - loss: 1.7970 - mae: 1.7970\n",
            "Epoch 145/200\n",
            "1/1 [==============================] - 0s 4ms/step - loss: 2.5578 - mae: 2.5578\n",
            "Epoch 146/200\n",
            "1/1 [==============================] - 0s 20ms/step - loss: 2.1138 - mae: 2.1138\n",
            "Epoch 147/200\n",
            "1/1 [==============================] - 0s 4ms/step - loss: 2.2037 - mae: 2.2037\n",
            "Epoch 148/200\n",
            "1/1 [==============================] - 0s 5ms/step - loss: 2.4263 - mae: 2.4263\n",
            "Epoch 149/200\n",
            "1/1 [==============================] - 0s 6ms/step - loss: 1.8568 - mae: 1.8568\n",
            "Epoch 150/200\n",
            "1/1 [==============================] - 0s 4ms/step - loss: 2.8185 - mae: 2.8185\n",
            "Epoch 151/200\n",
            "1/1 [==============================] - 0s 4ms/step - loss: 2.3754 - mae: 2.3754\n",
            "Epoch 152/200\n",
            "1/1 [==============================] - 0s 5ms/step - loss: 2.1036 - mae: 2.1036\n",
            "Epoch 153/200\n",
            "1/1 [==============================] - 0s 4ms/step - loss: 2.0440 - mae: 2.0440\n",
            "Epoch 154/200\n",
            "1/1 [==============================] - 0s 5ms/step - loss: 2.4028 - mae: 2.4028\n",
            "Epoch 155/200\n",
            "1/1 [==============================] - 0s 5ms/step - loss: 1.7176 - mae: 1.7176\n",
            "Epoch 156/200\n",
            "1/1 [==============================] - 0s 6ms/step - loss: 2.7536 - mae: 2.7536\n",
            "Epoch 157/200\n",
            "1/1 [==============================] - 0s 3ms/step - loss: 2.2307 - mae: 2.2307\n",
            "Epoch 158/200\n",
            "1/1 [==============================] - 0s 7ms/step - loss: 2.0863 - mae: 2.0863\n",
            "Epoch 159/200\n",
            "1/1 [==============================] - 0s 3ms/step - loss: 1.9167 - mae: 1.9167\n",
            "Epoch 160/200\n",
            "1/1 [==============================] - 0s 5ms/step - loss: 2.3751 - mae: 2.3751\n",
            "Epoch 161/200\n",
            "1/1 [==============================] - 0s 3ms/step - loss: 1.6763 - mae: 1.6763\n",
            "Epoch 162/200\n",
            "1/1 [==============================] - 0s 6ms/step - loss: 0.8993 - mae: 0.8993\n",
            "Epoch 163/200\n",
            "1/1 [==============================] - 0s 10ms/step - loss: 3.0659 - mae: 3.0659\n",
            "Epoch 164/200\n",
            "1/1 [==============================] - 0s 10ms/step - loss: 1.2097 - mae: 1.2097\n",
            "Epoch 165/200\n",
            "1/1 [==============================] - 0s 7ms/step - loss: 2.7254 - mae: 2.7254\n",
            "Epoch 166/200\n",
            "1/1 [==============================] - 0s 11ms/step - loss: 1.5181 - mae: 1.5181\n",
            "Epoch 167/200\n",
            "1/1 [==============================] - 0s 14ms/step - loss: 2.3892 - mae: 2.3892\n",
            "Epoch 168/200\n",
            "1/1 [==============================] - 0s 6ms/step - loss: 1.8468 - mae: 1.8468\n",
            "Epoch 169/200\n",
            "1/1 [==============================] - 0s 10ms/step - loss: 2.8491 - mae: 2.8491\n",
            "Epoch 170/200\n",
            "1/1 [==============================] - 0s 10ms/step - loss: 1.2776 - mae: 1.2776\n",
            "Epoch 171/200\n",
            "1/1 [==============================] - 0s 6ms/step - loss: 2.5260 - mae: 2.5260\n",
            "Epoch 172/200\n",
            "1/1 [==============================] - 0s 10ms/step - loss: 1.5751 - mae: 1.5751\n",
            "Epoch 173/200\n",
            "1/1 [==============================] - 0s 21ms/step - loss: 2.2057 - mae: 2.2057\n",
            "Epoch 174/200\n",
            "1/1 [==============================] - 0s 9ms/step - loss: 1.8913 - mae: 1.8913\n",
            "Epoch 175/200\n",
            "1/1 [==============================] - 0s 5ms/step - loss: 2.6662 - mae: 2.6662\n",
            "Epoch 176/200\n",
            "1/1 [==============================] - 0s 5ms/step - loss: 1.3327 - mae: 1.3327\n",
            "Epoch 177/200\n",
            "1/1 [==============================] - 0s 7ms/step - loss: 2.3566 - mae: 2.3566\n",
            "Epoch 178/200\n",
            "1/1 [==============================] - 0s 4ms/step - loss: 1.6215 - mae: 1.6215\n",
            "Epoch 179/200\n",
            "1/1 [==============================] - 0s 4ms/step - loss: 2.0485 - mae: 2.0485\n",
            "Epoch 180/200\n",
            "1/1 [==============================] - 0s 13ms/step - loss: 1.9322 - mae: 1.9322\n",
            "Epoch 181/200\n",
            "1/1 [==============================] - 0s 7ms/step - loss: 2.5091 - mae: 2.5091\n",
            "Epoch 182/200\n",
            "1/1 [==============================] - 0s 10ms/step - loss: 1.3784 - mae: 1.3784\n",
            "Epoch 183/200\n",
            "1/1 [==============================] - 0s 4ms/step - loss: 2.2100 - mae: 2.2100\n",
            "Epoch 184/200\n",
            "1/1 [==============================] - 0s 4ms/step - loss: 1.6605 - mae: 1.6605\n",
            "Epoch 185/200\n",
            "1/1 [==============================] - 0s 9ms/step - loss: 1.9114 - mae: 1.9114\n",
            "Epoch 186/200\n",
            "1/1 [==============================] - 0s 4ms/step - loss: 1.9718 - mae: 1.9718\n",
            "Epoch 187/200\n",
            "1/1 [==============================] - 0s 4ms/step - loss: 2.3717 - mae: 2.3717\n",
            "Epoch 188/200\n",
            "1/1 [==============================] - 0s 6ms/step - loss: 1.4174 - mae: 1.4174\n",
            "Epoch 189/200\n",
            "1/1 [==============================] - 0s 6ms/step - loss: 2.0807 - mae: 2.0807\n",
            "Epoch 190/200\n",
            "1/1 [==============================] - 0s 3ms/step - loss: 1.6943 - mae: 1.6943\n",
            "Epoch 191/200\n",
            "1/1 [==============================] - 0s 3ms/step - loss: 1.7896 - mae: 1.7896\n",
            "Epoch 192/200\n",
            "1/1 [==============================] - 0s 5ms/step - loss: 2.0117 - mae: 2.0117\n",
            "Epoch 193/200\n",
            "1/1 [==============================] - 0s 3ms/step - loss: 2.2495 - mae: 2.2495\n",
            "Epoch 194/200\n",
            "1/1 [==============================] - 0s 3ms/step - loss: 1.4517 - mae: 1.4517\n",
            "Epoch 195/200\n",
            "1/1 [==============================] - 0s 5ms/step - loss: 1.9648 - mae: 1.9648\n",
            "Epoch 196/200\n",
            "1/1 [==============================] - 0s 11ms/step - loss: 1.7245 - mae: 1.7245\n",
            "Epoch 197/200\n",
            "1/1 [==============================] - 0s 6ms/step - loss: 1.6794 - mae: 1.6794\n",
            "Epoch 198/200\n",
            "1/1 [==============================] - 0s 4ms/step - loss: 2.0530 - mae: 2.0530\n",
            "Epoch 199/200\n",
            "1/1 [==============================] - 0s 3ms/step - loss: 2.1391 - mae: 2.1391\n",
            "Epoch 200/200\n",
            "1/1 [==============================] - 0s 3ms/step - loss: 1.4826 - mae: 1.4826\n"
          ],
          "name": "stdout"
        }
      ]
    },
    {
      "cell_type": "code",
      "metadata": {
        "colab": {
          "base_uri": "https://localhost:8080/"
        },
        "id": "1w7DYGVwii3D",
        "outputId": "93be8583-cc40-4830-e67d-e80773114a58"
      },
      "source": [
        "housing_model.evaluate(X_test,y_test)"
      ],
      "execution_count": null,
      "outputs": [
        {
          "output_type": "stream",
          "text": [
            "1/1 [==============================] - 0s 86ms/step - loss: 0.5159 - mae: 0.5159\n"
          ],
          "name": "stdout"
        },
        {
          "output_type": "execute_result",
          "data": {
            "text/plain": [
              "[0.5159206390380859, 0.5159206390380859]"
            ]
          },
          "metadata": {
            "tags": []
          },
          "execution_count": 63
        }
      ]
    },
    {
      "cell_type": "markdown",
      "metadata": {
        "id": "FJFTwnvXinMq"
      },
      "source": [
        "#Yay my model has very low loss"
      ]
    },
    {
      "cell_type": "code",
      "metadata": {
        "colab": {
          "base_uri": "https://localhost:8080/",
          "height": 299
        },
        "id": "EbRvFOFbiuOX",
        "outputId": "406787d0-53de-41fc-f7b7-b80bbac1392a"
      },
      "source": [
        "# Plot the loss curve\n",
        "pd.DataFrame(history.history).plot()\n",
        "plt.ylabel('Loss')\n",
        "plt.xlabel('Epochs')"
      ],
      "execution_count": null,
      "outputs": [
        {
          "output_type": "execute_result",
          "data": {
            "text/plain": [
              "Text(0.5, 0, 'Epochs')"
            ]
          },
          "metadata": {
            "tags": []
          },
          "execution_count": 64
        },
        {
          "output_type": "display_data",
          "data": {
            "image/png": "[encoded data removed]",
            "text/plain": [
              "<Figure size 432x288 with 1 Axes>"
            ]
          },
          "metadata": {
            "tags": [],
            "needs_background": "light"
          }
        }
      ]
    },
    {
      "cell_type": "markdown",
      "metadata": {
        "id": "4ASwQMk5kSui"
      },
      "source": [
        "#Its done"
      ]
    },
    {
      "cell_type": "code",
      "metadata": {
        "id": "Zr0pTWtykkom"
      },
      "source": [
        ""
      ],
      "execution_count": null,
      "outputs": []
    }
  ]
}