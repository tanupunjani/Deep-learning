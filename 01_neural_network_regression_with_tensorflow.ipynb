{
  "nbformat": 4,
  "nbformat_minor": 0,
  "metadata": {
    "colab": {
      "name": "01_neural_network_regression_with_tensorflow.ipynb",
      "provenance": [],
      "collapsed_sections": [
        "R7USwDrt8wsR",
        "dUAFg7Nsh6Fs",
        "_dUGUcpwjwt6",
        "T-cQ8URcj454",
        "t256mvhMcjmq",
        "S_sytl25vD9b",
        "CVEnd-TD5WXm",
        "uD3QtvS_NHJs",
        "7XwJbbWnOrUK",
        "5PDWBf5efOy_",
        "AYoSulaffiHp",
        "y-Pv7T8vfz0Z",
        "uC6S0gzPgjLk",
        "o9e0DvP6nPr7",
        "9-zzbTpmnbdW",
        "5SWhJJpRn3H0",
        "KRKrQ5YQn_7S",
        "wvs8bBUk3WzI"
      ],
      "authorship_tag": "ABX9TyN+FuJvLcrP0jRhSADIbjFI",
      "include_colab_link": true
    },
    "kernelspec": {
      "name": "python3",
      "display_name": "Python 3"
    },
    "language_info": {
      "name": "python"
    }
  },
  "cells": [
    {
      "cell_type": "markdown",
      "metadata": {
        "id": "view-in-github",
        "colab_type": "text"
      },
      "source": [
        "<a href=\"https://colab.research.google.com/github/tanupunjani/Mastering-tensorflow/blob/main/01_neural_network_regression_with_tensorflow.ipynb\" target=\"_parent\"><img src=\"https://colab.research.google.com/assets/colab-badge.svg\" alt=\"Open In Colab\"/></a>"
      ]
    },
    {
      "cell_type": "markdown",
      "metadata": {
        "id": "1MaXgDwMfQZS"
      },
      "source": [
        "# Intro to NN with tensorflow"
      ]
    },
    {
      "cell_type": "markdown",
      "metadata": {
        "id": "4YbWdsoJhKln"
      },
      "source": [
        "There are many defitions for a regression problem but in our case we are predicting a numerical variable based on some other combination of variables."
      ]
    },
    {
      "cell_type": "code",
      "metadata": {
        "id": "VJGJkXRQij1-"
      },
      "source": [
        "#Import tensorflow\n",
        "import tensorflow as tf\n"
      ],
      "execution_count": null,
      "outputs": []
    },
    {
      "cell_type": "markdown",
      "metadata": {
        "id": "xVjZb9JGjRSm"
      },
      "source": [
        "# Create data and use it "
      ]
    },
    {
      "cell_type": "code",
      "metadata": {
        "colab": {
          "base_uri": "https://localhost:8080/",
          "height": 269
        },
        "id": "CYBaEJ6ijWPj",
        "outputId": "fc1df6e4-46d3-4b3d-f975-a203786c37f3"
      },
      "source": [
        "#Create features \n",
        "import numpy as np\n",
        "import matplotlib.pyplot as plt\n",
        "\n",
        "X = np.array([-7.0, -4.0 ,-1.0 ,2.0 ,5.0 ,8.0 ,11.0, 14.0])\n",
        "\n",
        "#Create labels\n",
        "y = np.array([3.0 ,6.0 ,9.0 ,12.0, 15.0, 18.0, 21.0, 24.0])\n",
        "\n",
        "#Visualize it \n",
        "plt.scatter(X, y);"
      ],
      "execution_count": null,
      "outputs": [
        {
          "output_type": "display_data",
          "data": {
            "image/png": "[encoded data removed]",
            "text/plain": [
              "<Figure size 432x288 with 1 Axes>"
            ]
          },
          "metadata": {
            "tags": [],
            "needs_background": "light"
          }
        }
      ]
    },
    {
      "cell_type": "code",
      "metadata": {
        "colab": {
          "base_uri": "https://localhost:8080/"
        },
        "id": "uCAzcDXaj7-x",
        "outputId": "140e0b75-3e08-4937-ad5b-cefee63fc569"
      },
      "source": [
        "y == X +10 "
      ],
      "execution_count": null,
      "outputs": [
        {
          "output_type": "execute_result",
          "data": {
            "text/plain": [
              "array([ True,  True,  True,  True,  True,  True,  True,  True])"
            ]
          },
          "metadata": {
            "tags": []
          },
          "execution_count": 3
        }
      ]
    },
    {
      "cell_type": "markdown",
      "metadata": {
        "id": "hIUyyJTqlOJD"
      },
      "source": [
        "# Input and output shapes"
      ]
    },
    {
      "cell_type": "code",
      "metadata": {
        "colab": {
          "base_uri": "https://localhost:8080/"
        },
        "id": "l1YIxN9DlSFe",
        "outputId": "dc46b62d-548a-4354-c9d3-c2d8e88d6e9c"
      },
      "source": [
        "# Create a demo tensor for our house prediction problem \n",
        "house_info = tf.constant([\"bedroom\",\"garage\", \"kitchen\"])\n",
        "house_price = tf.constant([939000])\n",
        "house_info, house_price"
      ],
      "execution_count": null,
      "outputs": [
        {
          "output_type": "execute_result",
          "data": {
            "text/plain": [
              "(<tf.Tensor: shape=(3,), dtype=string, numpy=array([b'bedroom', b'garage', b'kitchen'], dtype=object)>,\n",
              " <tf.Tensor: shape=(1,), dtype=int32, numpy=array([939000], dtype=int32)>)"
            ]
          },
          "metadata": {
            "tags": []
          },
          "execution_count": 4
        }
      ]
    },
    {
      "cell_type": "code",
      "metadata": {
        "id": "-utIkoJoloxw"
      },
      "source": [
        "# we want to use X to predict y"
      ],
      "execution_count": null,
      "outputs": []
    },
    {
      "cell_type": "code",
      "metadata": {
        "id": "btJ0fYAClv2h"
      },
      "source": [
        "input_shape = X[0].shape\n",
        "output_shape = y[0].shape"
      ],
      "execution_count": null,
      "outputs": []
    },
    {
      "cell_type": "code",
      "metadata": {
        "colab": {
          "base_uri": "https://localhost:8080/"
        },
        "id": "XAYbBFqVl045",
        "outputId": "b0c9be69-aa44-4d4a-d1dc-8c0d4bdd626f"
      },
      "source": [
        "input_shape, output_shape"
      ],
      "execution_count": null,
      "outputs": [
        {
          "output_type": "execute_result",
          "data": {
            "text/plain": [
              "((), ())"
            ]
          },
          "metadata": {
            "tags": []
          },
          "execution_count": 7
        }
      ]
    },
    {
      "cell_type": "markdown",
      "metadata": {
        "id": "uGsocYaHl28v"
      },
      "source": [
        "## They are scalars and have no dimensions :)"
      ]
    },
    {
      "cell_type": "code",
      "metadata": {
        "colab": {
          "base_uri": "https://localhost:8080/"
        },
        "id": "wJCeyrQKnozl",
        "outputId": "d4b2197a-09f5-407c-fe4a-e4550260dc50"
      },
      "source": [
        "# Turn numpy arrays into tensors\n",
        "X = tf.constant(X)\n",
        "y = tf.constant(y)\n",
        "X, y"
      ],
      "execution_count": null,
      "outputs": [
        {
          "output_type": "execute_result",
          "data": {
            "text/plain": [
              "(<tf.Tensor: shape=(8,), dtype=float64, numpy=array([-7., -4., -1.,  2.,  5.,  8., 11., 14.])>,\n",
              " <tf.Tensor: shape=(8,), dtype=float64, numpy=array([ 3.,  6.,  9., 12., 15., 18., 21., 24.])>)"
            ]
          },
          "metadata": {
            "tags": []
          },
          "execution_count": 8
        }
      ]
    },
    {
      "cell_type": "markdown",
      "metadata": {
        "id": "CYpJFhf6onwq"
      },
      "source": [
        "## Steps in modelling with tensorfow\n",
        "1. **Create a model** - define the input and output layers as well as the hidden layers of the deep learning model.\n",
        "3. **Compiling the model** - defining the loss function(basically telling how wrong our model is) and using optimizer which tells us how o improve the patterns, and use evaluation metrics (what can we use to interpret our model)\n",
        "4. Fitting the model - letting the model try to find the patterns between X and y\n"
      ]
    },
    {
      "cell_type": "code",
      "metadata": {
        "colab": {
          "base_uri": "https://localhost:8080/"
        },
        "id": "C1SniuLIrUhk",
        "outputId": "436c9e08-36bd-41c0-f0d6-0463a5db6bd1"
      },
      "source": [
        "# set random seed\n",
        "tf.random.set_seed(42)\n",
        "\n",
        "#1. Create the model using sequential API\n",
        "model = tf.keras.Sequential([\n",
        "  tf.keras.layers.Dense(1)\n",
        "])\n",
        "\n",
        "\n",
        "#2.Compile the model\n",
        "model.compile(loss=tf.keras.losses.mae, #mean absolute error)\n",
        "              optimizer=tf.keras.optimizers.SGD(), # sgd stands for stochastic gradient descent\n",
        "              metrics=[\"mae\"])\n",
        "\n",
        "\n",
        "#3.Fit the model\n",
        "model.fit(X, y, epochs=5) "
      ],
      "execution_count": null,
      "outputs": [
        {
          "output_type": "stream",
          "text": [
            "Epoch 1/5\n",
            "1/1 [==============================] - 1s 637ms/step - loss: 11.5048 - mae: 11.5048\n",
            "Epoch 2/5\n",
            "1/1 [==============================] - 0s 4ms/step - loss: 11.3723 - mae: 11.3723\n",
            "Epoch 3/5\n",
            "1/1 [==============================] - 0s 9ms/step - loss: 11.2398 - mae: 11.2398\n",
            "Epoch 4/5\n",
            "1/1 [==============================] - 0s 7ms/step - loss: 11.1073 - mae: 11.1073\n",
            "Epoch 5/5\n",
            "1/1 [==============================] - 0s 9ms/step - loss: 10.9748 - mae: 10.9748\n"
          ],
          "name": "stdout"
        },
        {
          "output_type": "execute_result",
          "data": {
            "text/plain": [
              "<tensorflow.python.keras.callbacks.History at 0x7fc5ee3a29d0>"
            ]
          },
          "metadata": {
            "tags": []
          },
          "execution_count": 9
        }
      ]
    },
    {
      "cell_type": "code",
      "metadata": {
        "colab": {
          "base_uri": "https://localhost:8080/"
        },
        "id": "VsJStRmW5SL6",
        "outputId": "62dc5206-8a66-4406-e863-75d7e4bad13d"
      },
      "source": [
        "#check x and y \n",
        "X, y"
      ],
      "execution_count": null,
      "outputs": [
        {
          "output_type": "execute_result",
          "data": {
            "text/plain": [
              "(<tf.Tensor: shape=(8,), dtype=float64, numpy=array([-7., -4., -1.,  2.,  5.,  8., 11., 14.])>,\n",
              " <tf.Tensor: shape=(8,), dtype=float64, numpy=array([ 3.,  6.,  9., 12., 15., 18., 21., 24.])>)"
            ]
          },
          "metadata": {
            "tags": []
          },
          "execution_count": 10
        }
      ]
    },
    {
      "cell_type": "code",
      "metadata": {
        "colab": {
          "base_uri": "https://localhost:8080/"
        },
        "id": "o6igcfdh8myb",
        "outputId": "0f6d8e24-7181-4947-b0f8-e1dd9223a950"
      },
      "source": [
        "# Try and make predict using our model \n",
        "model.predict([17.0])"
      ],
      "execution_count": null,
      "outputs": [
        {
          "output_type": "execute_result",
          "data": {
            "text/plain": [
              "array([[12.716021]], dtype=float32)"
            ]
          },
          "metadata": {
            "tags": []
          },
          "execution_count": 11
        }
      ]
    },
    {
      "cell_type": "markdown",
      "metadata": {
        "id": "R7USwDrt8wsR"
      },
      "source": [
        "##improving our model\n",
        "\n",
        "We can improve the model by altering the steps we used to create the model\n",
        "\n",
        "1. **Creating the model** - here we might add more layers, increase the number of hidden units (called neurons) within each of the layers, change the activation function of each layer.\n",
        "2. **Compiling the model** - here we might change the optimzation function or perhaps the **learning rate** of the optimization function. \n",
        "3. **Fitting the model** - here we might fit the model for more epochs(perhaps leave it training for longer) or more data(give the model more examples to learn from )"
      ]
    },
    {
      "cell_type": "code",
      "metadata": {
        "id": "rJeujUpOCB9o",
        "colab": {
          "base_uri": "https://localhost:8080/"
        },
        "outputId": "d9220a79-312a-451a-a833-842673cff70f"
      },
      "source": [
        "# Lets rebuild our model\n",
        "\n",
        "#Create the model\n",
        "model = tf.keras.Sequential([\n",
        "    tf.keras.layers.Dense(1)\n",
        "])\n",
        "\n",
        "#Compile the model\n",
        "model.compile(loss=tf.keras.losses.mae,\n",
        "              optimizer=tf.keras.optimizers.SGD(),\n",
        "              metrics=[\"mae\"])\n",
        "\n",
        "#Fit the model\n",
        "model.fit(X, y, epochs=100)"
      ],
      "execution_count": null,
      "outputs": [
        {
          "output_type": "stream",
          "text": [
            "Epoch 1/100\n",
            "1/1 [==============================] - 0s 331ms/step - loss: 11.2219 - mae: 11.2219\n",
            "Epoch 2/100\n",
            "1/1 [==============================] - 0s 5ms/step - loss: 11.0894 - mae: 11.0894\n",
            "Epoch 3/100\n",
            "1/1 [==============================] - 0s 5ms/step - loss: 10.9569 - mae: 10.9569\n",
            "Epoch 4/100\n",
            "1/1 [==============================] - 0s 5ms/step - loss: 10.8244 - mae: 10.8244\n",
            "Epoch 5/100\n",
            "1/1 [==============================] - 0s 3ms/step - loss: 10.6919 - mae: 10.6919\n",
            "Epoch 6/100\n",
            "1/1 [==============================] - 0s 9ms/step - loss: 10.5594 - mae: 10.5594\n",
            "Epoch 7/100\n",
            "1/1 [==============================] - 0s 3ms/step - loss: 10.4269 - mae: 10.4269\n",
            "Epoch 8/100\n",
            "1/1 [==============================] - 0s 4ms/step - loss: 10.2944 - mae: 10.2944\n",
            "Epoch 9/100\n",
            "1/1 [==============================] - 0s 3ms/step - loss: 10.1619 - mae: 10.1619\n",
            "Epoch 10/100\n",
            "1/1 [==============================] - 0s 4ms/step - loss: 10.0294 - mae: 10.0294\n",
            "Epoch 11/100\n",
            "1/1 [==============================] - 0s 3ms/step - loss: 9.8969 - mae: 9.8969\n",
            "Epoch 12/100\n",
            "1/1 [==============================] - 0s 3ms/step - loss: 9.7644 - mae: 9.7644\n",
            "Epoch 13/100\n",
            "1/1 [==============================] - 0s 6ms/step - loss: 9.6319 - mae: 9.6319\n",
            "Epoch 14/100\n",
            "1/1 [==============================] - 0s 3ms/step - loss: 9.4994 - mae: 9.4994\n",
            "Epoch 15/100\n",
            "1/1 [==============================] - 0s 5ms/step - loss: 9.3669 - mae: 9.3669\n",
            "Epoch 16/100\n",
            "1/1 [==============================] - 0s 4ms/step - loss: 9.2344 - mae: 9.2344\n",
            "Epoch 17/100\n",
            "1/1 [==============================] - 0s 9ms/step - loss: 9.1019 - mae: 9.1019\n",
            "Epoch 18/100\n",
            "1/1 [==============================] - 0s 3ms/step - loss: 8.9694 - mae: 8.9694\n",
            "Epoch 19/100\n",
            "1/1 [==============================] - 0s 3ms/step - loss: 8.8369 - mae: 8.8369\n",
            "Epoch 20/100\n",
            "1/1 [==============================] - 0s 5ms/step - loss: 8.7044 - mae: 8.7044\n",
            "Epoch 21/100\n",
            "1/1 [==============================] - 0s 3ms/step - loss: 8.5719 - mae: 8.5719\n",
            "Epoch 22/100\n",
            "1/1 [==============================] - 0s 3ms/step - loss: 8.4394 - mae: 8.4394\n",
            "Epoch 23/100\n",
            "1/1 [==============================] - 0s 3ms/step - loss: 8.3069 - mae: 8.3069\n",
            "Epoch 24/100\n",
            "1/1 [==============================] - 0s 7ms/step - loss: 8.1744 - mae: 8.1744\n",
            "Epoch 25/100\n",
            "1/1 [==============================] - 0s 3ms/step - loss: 8.0419 - mae: 8.0419\n",
            "Epoch 26/100\n",
            "1/1 [==============================] - 0s 7ms/step - loss: 7.9094 - mae: 7.9094\n",
            "Epoch 27/100\n",
            "1/1 [==============================] - 0s 11ms/step - loss: 7.7769 - mae: 7.7769\n",
            "Epoch 28/100\n",
            "1/1 [==============================] - 0s 7ms/step - loss: 7.6444 - mae: 7.6444\n",
            "Epoch 29/100\n",
            "1/1 [==============================] - 0s 6ms/step - loss: 7.5119 - mae: 7.5119\n",
            "Epoch 30/100\n",
            "1/1 [==============================] - 0s 4ms/step - loss: 7.3794 - mae: 7.3794\n",
            "Epoch 31/100\n",
            "1/1 [==============================] - 0s 5ms/step - loss: 7.2750 - mae: 7.2750\n",
            "Epoch 32/100\n",
            "1/1 [==============================] - 0s 4ms/step - loss: 7.2694 - mae: 7.2694\n",
            "Epoch 33/100\n",
            "1/1 [==============================] - 0s 3ms/step - loss: 7.2638 - mae: 7.2638\n",
            "Epoch 34/100\n",
            "1/1 [==============================] - 0s 4ms/step - loss: 7.2581 - mae: 7.2581\n",
            "Epoch 35/100\n",
            "1/1 [==============================] - 0s 4ms/step - loss: 7.2525 - mae: 7.2525\n",
            "Epoch 36/100\n",
            "1/1 [==============================] - 0s 4ms/step - loss: 7.2469 - mae: 7.2469\n",
            "Epoch 37/100\n",
            "1/1 [==============================] - 0s 5ms/step - loss: 7.2412 - mae: 7.2412\n",
            "Epoch 38/100\n",
            "1/1 [==============================] - 0s 5ms/step - loss: 7.2356 - mae: 7.2356\n",
            "Epoch 39/100\n",
            "1/1 [==============================] - 0s 5ms/step - loss: 7.2300 - mae: 7.2300\n",
            "Epoch 40/100\n",
            "1/1 [==============================] - 0s 6ms/step - loss: 7.2244 - mae: 7.2244\n",
            "Epoch 41/100\n",
            "1/1 [==============================] - 0s 6ms/step - loss: 7.2188 - mae: 7.2188\n",
            "Epoch 42/100\n",
            "1/1 [==============================] - 0s 4ms/step - loss: 7.2131 - mae: 7.2131\n",
            "Epoch 43/100\n",
            "1/1 [==============================] - 0s 4ms/step - loss: 7.2075 - mae: 7.2075\n",
            "Epoch 44/100\n",
            "1/1 [==============================] - 0s 4ms/step - loss: 7.2019 - mae: 7.2019\n",
            "Epoch 45/100\n",
            "1/1 [==============================] - 0s 4ms/step - loss: 7.1962 - mae: 7.1962\n",
            "Epoch 46/100\n",
            "1/1 [==============================] - 0s 4ms/step - loss: 7.1906 - mae: 7.1906\n",
            "Epoch 47/100\n",
            "1/1 [==============================] - 0s 4ms/step - loss: 7.1850 - mae: 7.1850\n",
            "Epoch 48/100\n",
            "1/1 [==============================] - 0s 6ms/step - loss: 7.1794 - mae: 7.1794\n",
            "Epoch 49/100\n",
            "1/1 [==============================] - 0s 4ms/step - loss: 7.1737 - mae: 7.1737\n",
            "Epoch 50/100\n",
            "1/1 [==============================] - 0s 4ms/step - loss: 7.1681 - mae: 7.1681\n",
            "Epoch 51/100\n",
            "1/1 [==============================] - 0s 6ms/step - loss: 7.1625 - mae: 7.1625\n",
            "Epoch 52/100\n",
            "1/1 [==============================] - 0s 8ms/step - loss: 7.1569 - mae: 7.1569\n",
            "Epoch 53/100\n",
            "1/1 [==============================] - 0s 9ms/step - loss: 7.1512 - mae: 7.1512\n",
            "Epoch 54/100\n",
            "1/1 [==============================] - 0s 32ms/step - loss: 7.1456 - mae: 7.1456\n",
            "Epoch 55/100\n",
            "1/1 [==============================] - 0s 6ms/step - loss: 7.1400 - mae: 7.1400\n",
            "Epoch 56/100\n",
            "1/1 [==============================] - 0s 6ms/step - loss: 7.1344 - mae: 7.1344\n",
            "Epoch 57/100\n",
            "1/1 [==============================] - 0s 8ms/step - loss: 7.1287 - mae: 7.1287\n",
            "Epoch 58/100\n",
            "1/1 [==============================] - 0s 5ms/step - loss: 7.1231 - mae: 7.1231\n",
            "Epoch 59/100\n",
            "1/1 [==============================] - 0s 6ms/step - loss: 7.1175 - mae: 7.1175\n",
            "Epoch 60/100\n",
            "1/1 [==============================] - 0s 6ms/step - loss: 7.1119 - mae: 7.1119\n",
            "Epoch 61/100\n",
            "1/1 [==============================] - 0s 5ms/step - loss: 7.1062 - mae: 7.1062\n",
            "Epoch 62/100\n",
            "1/1 [==============================] - 0s 7ms/step - loss: 7.1006 - mae: 7.1006\n",
            "Epoch 63/100\n",
            "1/1 [==============================] - 0s 5ms/step - loss: 7.0950 - mae: 7.0950\n",
            "Epoch 64/100\n",
            "1/1 [==============================] - 0s 5ms/step - loss: 7.0894 - mae: 7.0894\n",
            "Epoch 65/100\n",
            "1/1 [==============================] - 0s 7ms/step - loss: 7.0838 - mae: 7.0838\n",
            "Epoch 66/100\n",
            "1/1 [==============================] - 0s 6ms/step - loss: 7.0781 - mae: 7.0781\n",
            "Epoch 67/100\n",
            "1/1 [==============================] - 0s 7ms/step - loss: 7.0725 - mae: 7.0725\n",
            "Epoch 68/100\n",
            "1/1 [==============================] - 0s 5ms/step - loss: 7.0669 - mae: 7.0669\n",
            "Epoch 69/100\n",
            "1/1 [==============================] - 0s 7ms/step - loss: 7.0613 - mae: 7.0613\n",
            "Epoch 70/100\n",
            "1/1 [==============================] - 0s 9ms/step - loss: 7.0556 - mae: 7.0556\n",
            "Epoch 71/100\n",
            "1/1 [==============================] - 0s 5ms/step - loss: 7.0500 - mae: 7.0500\n",
            "Epoch 72/100\n",
            "1/1 [==============================] - 0s 5ms/step - loss: 7.0444 - mae: 7.0444\n",
            "Epoch 73/100\n",
            "1/1 [==============================] - 0s 6ms/step - loss: 7.0388 - mae: 7.0388\n",
            "Epoch 74/100\n",
            "1/1 [==============================] - 0s 6ms/step - loss: 7.0331 - mae: 7.0331\n",
            "Epoch 75/100\n",
            "1/1 [==============================] - 0s 6ms/step - loss: 7.0275 - mae: 7.0275\n",
            "Epoch 76/100\n",
            "1/1 [==============================] - 0s 17ms/step - loss: 7.0219 - mae: 7.0219\n",
            "Epoch 77/100\n",
            "1/1 [==============================] - 0s 13ms/step - loss: 7.0163 - mae: 7.0163\n",
            "Epoch 78/100\n",
            "1/1 [==============================] - 0s 8ms/step - loss: 7.0106 - mae: 7.0106\n",
            "Epoch 79/100\n",
            "1/1 [==============================] - 0s 5ms/step - loss: 7.0050 - mae: 7.0050\n",
            "Epoch 80/100\n",
            "1/1 [==============================] - 0s 6ms/step - loss: 6.9994 - mae: 6.9994\n",
            "Epoch 81/100\n",
            "1/1 [==============================] - 0s 4ms/step - loss: 6.9938 - mae: 6.9938\n",
            "Epoch 82/100\n",
            "1/1 [==============================] - 0s 7ms/step - loss: 6.9881 - mae: 6.9881\n",
            "Epoch 83/100\n",
            "1/1 [==============================] - 0s 4ms/step - loss: 6.9825 - mae: 6.9825\n",
            "Epoch 84/100\n",
            "1/1 [==============================] - 0s 4ms/step - loss: 6.9769 - mae: 6.9769\n",
            "Epoch 85/100\n",
            "1/1 [==============================] - 0s 5ms/step - loss: 6.9713 - mae: 6.9713\n",
            "Epoch 86/100\n",
            "1/1 [==============================] - 0s 4ms/step - loss: 6.9656 - mae: 6.9656\n",
            "Epoch 87/100\n",
            "1/1 [==============================] - 0s 6ms/step - loss: 6.9600 - mae: 6.9600\n",
            "Epoch 88/100\n",
            "1/1 [==============================] - 0s 7ms/step - loss: 6.9544 - mae: 6.9544\n",
            "Epoch 89/100\n",
            "1/1 [==============================] - 0s 4ms/step - loss: 6.9488 - mae: 6.9488\n",
            "Epoch 90/100\n",
            "1/1 [==============================] - 0s 6ms/step - loss: 6.9431 - mae: 6.9431\n",
            "Epoch 91/100\n",
            "1/1 [==============================] - 0s 4ms/step - loss: 6.9375 - mae: 6.9375\n",
            "Epoch 92/100\n",
            "1/1 [==============================] - 0s 7ms/step - loss: 6.9319 - mae: 6.9319\n",
            "Epoch 93/100\n",
            "1/1 [==============================] - 0s 8ms/step - loss: 6.9263 - mae: 6.9263\n",
            "Epoch 94/100\n",
            "1/1 [==============================] - 0s 6ms/step - loss: 6.9206 - mae: 6.9206\n",
            "Epoch 95/100\n",
            "1/1 [==============================] - 0s 6ms/step - loss: 6.9150 - mae: 6.9150\n",
            "Epoch 96/100\n",
            "1/1 [==============================] - 0s 4ms/step - loss: 6.9094 - mae: 6.9094\n",
            "Epoch 97/100\n",
            "1/1 [==============================] - 0s 4ms/step - loss: 6.9038 - mae: 6.9038\n",
            "Epoch 98/100\n",
            "1/1 [==============================] - 0s 6ms/step - loss: 6.8981 - mae: 6.8981\n",
            "Epoch 99/100\n",
            "1/1 [==============================] - 0s 10ms/step - loss: 6.8925 - mae: 6.8925\n",
            "Epoch 100/100\n",
            "1/1 [==============================] - 0s 4ms/step - loss: 6.8869 - mae: 6.8869\n"
          ],
          "name": "stdout"
        },
        {
          "output_type": "execute_result",
          "data": {
            "text/plain": [
              "<tensorflow.python.keras.callbacks.History at 0x7fc5ea6519d0>"
            ]
          },
          "metadata": {
            "tags": []
          },
          "execution_count": 12
        }
      ]
    },
    {
      "cell_type": "code",
      "metadata": {
        "colab": {
          "base_uri": "https://localhost:8080/"
        },
        "id": "Zh_n1YkdOJxm",
        "outputId": "83d4cdcf-9603-495e-ab5e-bfc169425644"
      },
      "source": [
        "#Lets see if the prediction is improved\n",
        "model.predict([17.0]) # it should  be in the same format of our data"
      ],
      "execution_count": null,
      "outputs": [
        {
          "output_type": "execute_result",
          "data": {
            "text/plain": [
              "array([[29.739855]], dtype=float32)"
            ]
          },
          "metadata": {
            "tags": []
          },
          "execution_count": 13
        }
      ]
    },
    {
      "cell_type": "code",
      "metadata": {
        "colab": {
          "base_uri": "https://localhost:8080/"
        },
        "id": "7VBr6E4KOg8o",
        "outputId": "4bc747a7-5fd3-40fc-845d-4950fa026d75"
      },
      "source": [
        "# Lets improve the model by adding extra hidden units\n",
        "\n",
        "#Create the model\n",
        "\n",
        "model = tf.keras.Sequential([\n",
        "         tf.keras.layers.Dense(100, activation=\"relu\"),\n",
        "         tf.keras.layers.Dense(1)                    \n",
        "])\n",
        "\n",
        "#Compile the model\n",
        "\n",
        "model.compile(loss=\"mae\",\n",
        "              optimizer=tf.keras.optimizers.SGD(),\n",
        "              metrics=[\"mae\"])\n",
        "\n",
        "#Fit the model\n",
        "\n",
        "model.fit(X, y, epochs=100)\n",
        "\n"
      ],
      "execution_count": null,
      "outputs": [
        {
          "output_type": "stream",
          "text": [
            "Epoch 1/100\n",
            "1/1 [==============================] - 0s 372ms/step - loss: 12.3193 - mae: 12.3193\n",
            "Epoch 2/100\n",
            "1/1 [==============================] - 0s 7ms/step - loss: 11.7804 - mae: 11.7804\n",
            "Epoch 3/100\n",
            "1/1 [==============================] - 0s 4ms/step - loss: 11.2324 - mae: 11.2324\n",
            "Epoch 4/100\n",
            "1/1 [==============================] - 0s 7ms/step - loss: 10.6601 - mae: 10.6601\n",
            "Epoch 5/100\n",
            "1/1 [==============================] - 0s 4ms/step - loss: 10.0632 - mae: 10.0632\n",
            "Epoch 6/100\n",
            "1/1 [==============================] - 0s 6ms/step - loss: 9.4503 - mae: 9.4503\n",
            "Epoch 7/100\n",
            "1/1 [==============================] - 0s 6ms/step - loss: 8.7991 - mae: 8.7991\n",
            "Epoch 8/100\n",
            "1/1 [==============================] - 0s 4ms/step - loss: 8.1072 - mae: 8.1072\n",
            "Epoch 9/100\n",
            "1/1 [==============================] - 0s 6ms/step - loss: 7.3691 - mae: 7.3691\n",
            "Epoch 10/100\n",
            "1/1 [==============================] - 0s 4ms/step - loss: 6.5758 - mae: 6.5758\n",
            "Epoch 11/100\n",
            "1/1 [==============================] - 0s 6ms/step - loss: 5.7205 - mae: 5.7205\n",
            "Epoch 12/100\n",
            "1/1 [==============================] - 0s 4ms/step - loss: 4.7947 - mae: 4.7947\n",
            "Epoch 13/100\n",
            "1/1 [==============================] - 0s 5ms/step - loss: 4.3581 - mae: 4.3581\n",
            "Epoch 14/100\n",
            "1/1 [==============================] - 0s 4ms/step - loss: 4.3134 - mae: 4.3134\n",
            "Epoch 15/100\n",
            "1/1 [==============================] - 0s 5ms/step - loss: 4.2550 - mae: 4.2550\n",
            "Epoch 16/100\n",
            "1/1 [==============================] - 0s 6ms/step - loss: 4.2442 - mae: 4.2442\n",
            "Epoch 17/100\n",
            "1/1 [==============================] - 0s 3ms/step - loss: 4.1520 - mae: 4.1520\n",
            "Epoch 18/100\n",
            "1/1 [==============================] - 0s 3ms/step - loss: 4.1739 - mae: 4.1739\n",
            "Epoch 19/100\n",
            "1/1 [==============================] - 0s 4ms/step - loss: 4.0681 - mae: 4.0681\n",
            "Epoch 20/100\n",
            "1/1 [==============================] - 0s 6ms/step - loss: 4.0807 - mae: 4.0807\n",
            "Epoch 21/100\n",
            "1/1 [==============================] - 0s 3ms/step - loss: 3.9954 - mae: 3.9954\n",
            "Epoch 22/100\n",
            "1/1 [==============================] - 0s 3ms/step - loss: 3.9739 - mae: 3.9739\n",
            "Epoch 23/100\n",
            "1/1 [==============================] - 0s 3ms/step - loss: 3.9208 - mae: 3.9208\n",
            "Epoch 24/100\n",
            "1/1 [==============================] - 0s 5ms/step - loss: 3.9047 - mae: 3.9047\n",
            "Epoch 25/100\n",
            "1/1 [==============================] - 0s 5ms/step - loss: 3.9267 - mae: 3.9267\n",
            "Epoch 26/100\n",
            "1/1 [==============================] - 0s 4ms/step - loss: 3.8797 - mae: 3.8797\n",
            "Epoch 27/100\n",
            "1/1 [==============================] - 0s 5ms/step - loss: 3.9341 - mae: 3.9341\n",
            "Epoch 28/100\n",
            "1/1 [==============================] - 0s 14ms/step - loss: 3.8678 - mae: 3.8678\n",
            "Epoch 29/100\n",
            "1/1 [==============================] - 0s 10ms/step - loss: 3.9274 - mae: 3.9274\n",
            "Epoch 30/100\n",
            "1/1 [==============================] - 0s 8ms/step - loss: 3.8751 - mae: 3.8751\n",
            "Epoch 31/100\n",
            "1/1 [==============================] - 0s 7ms/step - loss: 3.9080 - mae: 3.9080\n",
            "Epoch 32/100\n",
            "1/1 [==============================] - 0s 5ms/step - loss: 3.8893 - mae: 3.8893\n",
            "Epoch 33/100\n",
            "1/1 [==============================] - 0s 5ms/step - loss: 3.8834 - mae: 3.8834\n",
            "Epoch 34/100\n",
            "1/1 [==============================] - 0s 5ms/step - loss: 3.8969 - mae: 3.8969\n",
            "Epoch 35/100\n",
            "1/1 [==============================] - 0s 6ms/step - loss: 3.8581 - mae: 3.8581\n",
            "Epoch 36/100\n",
            "1/1 [==============================] - 0s 4ms/step - loss: 3.9046 - mae: 3.9046\n",
            "Epoch 37/100\n",
            "1/1 [==============================] - 0s 5ms/step - loss: 3.8386 - mae: 3.8386\n",
            "Epoch 38/100\n",
            "1/1 [==============================] - 0s 5ms/step - loss: 3.9054 - mae: 3.9054\n",
            "Epoch 39/100\n",
            "1/1 [==============================] - 0s 6ms/step - loss: 3.8482 - mae: 3.8482\n",
            "Epoch 40/100\n",
            "1/1 [==============================] - 0s 4ms/step - loss: 3.8862 - mae: 3.8862\n",
            "Epoch 41/100\n",
            "1/1 [==============================] - 0s 6ms/step - loss: 3.8605 - mae: 3.8605\n",
            "Epoch 42/100\n",
            "1/1 [==============================] - 0s 6ms/step - loss: 3.8608 - mae: 3.8608\n",
            "Epoch 43/100\n",
            "1/1 [==============================] - 0s 4ms/step - loss: 3.8683 - mae: 3.8683\n",
            "Epoch 44/100\n",
            "1/1 [==============================] - 0s 6ms/step - loss: 3.8352 - mae: 3.8352\n",
            "Epoch 45/100\n",
            "1/1 [==============================] - 0s 6ms/step - loss: 3.8762 - mae: 3.8762\n",
            "Epoch 46/100\n",
            "1/1 [==============================] - 0s 5ms/step - loss: 3.8106 - mae: 3.8106\n",
            "Epoch 47/100\n",
            "1/1 [==============================] - 0s 6ms/step - loss: 3.8821 - mae: 3.8821\n",
            "Epoch 48/100\n",
            "1/1 [==============================] - 0s 7ms/step - loss: 3.8234 - mae: 3.8234\n",
            "Epoch 49/100\n",
            "1/1 [==============================] - 0s 5ms/step - loss: 3.8626 - mae: 3.8626\n",
            "Epoch 50/100\n",
            "1/1 [==============================] - 0s 7ms/step - loss: 3.8328 - mae: 3.8328\n",
            "Epoch 51/100\n",
            "1/1 [==============================] - 0s 7ms/step - loss: 3.8369 - mae: 3.8369\n",
            "Epoch 52/100\n",
            "1/1 [==============================] - 0s 7ms/step - loss: 3.8408 - mae: 3.8408\n",
            "Epoch 53/100\n",
            "1/1 [==============================] - 0s 7ms/step - loss: 3.8111 - mae: 3.8111\n",
            "Epoch 54/100\n",
            "1/1 [==============================] - 0s 6ms/step - loss: 3.8489 - mae: 3.8489\n",
            "Epoch 55/100\n",
            "1/1 [==============================] - 0s 7ms/step - loss: 3.7850 - mae: 3.7850\n",
            "Epoch 56/100\n",
            "1/1 [==============================] - 0s 7ms/step - loss: 3.8585 - mae: 3.8585\n",
            "Epoch 57/100\n",
            "1/1 [==============================] - 0s 8ms/step - loss: 3.7982 - mae: 3.7982\n",
            "Epoch 58/100\n",
            "1/1 [==============================] - 0s 7ms/step - loss: 3.8377 - mae: 3.8377\n",
            "Epoch 59/100\n",
            "1/1 [==============================] - 0s 8ms/step - loss: 3.8062 - mae: 3.8062\n",
            "Epoch 60/100\n",
            "1/1 [==============================] - 0s 8ms/step - loss: 3.8117 - mae: 3.8117\n",
            "Epoch 61/100\n",
            "1/1 [==============================] - 0s 6ms/step - loss: 3.8144 - mae: 3.8144\n",
            "Epoch 62/100\n",
            "1/1 [==============================] - 0s 8ms/step - loss: 3.7856 - mae: 3.7856\n",
            "Epoch 63/100\n",
            "1/1 [==============================] - 0s 6ms/step - loss: 3.8227 - mae: 3.8227\n",
            "Epoch 64/100\n",
            "1/1 [==============================] - 0s 6ms/step - loss: 3.7593 - mae: 3.7593\n",
            "Epoch 65/100\n",
            "1/1 [==============================] - 0s 7ms/step - loss: 3.8352 - mae: 3.8352\n",
            "Epoch 66/100\n",
            "1/1 [==============================] - 0s 7ms/step - loss: 3.7725 - mae: 3.7725\n",
            "Epoch 67/100\n",
            "1/1 [==============================] - 0s 8ms/step - loss: 3.8115 - mae: 3.8115\n",
            "Epoch 68/100\n",
            "1/1 [==============================] - 0s 7ms/step - loss: 3.7807 - mae: 3.7807\n",
            "Epoch 69/100\n",
            "1/1 [==============================] - 0s 5ms/step - loss: 3.7853 - mae: 3.7853\n",
            "Epoch 70/100\n",
            "1/1 [==============================] - 0s 6ms/step - loss: 3.7891 - mae: 3.7891\n",
            "Epoch 71/100\n",
            "1/1 [==============================] - 0s 7ms/step - loss: 3.7588 - mae: 3.7588\n",
            "Epoch 72/100\n",
            "1/1 [==============================] - 0s 5ms/step - loss: 3.7975 - mae: 3.7975\n",
            "Epoch 73/100\n",
            "1/1 [==============================] - 0s 6ms/step - loss: 3.7337 - mae: 3.7337\n",
            "Epoch 74/100\n",
            "1/1 [==============================] - 0s 4ms/step - loss: 3.8105 - mae: 3.8105\n",
            "Epoch 75/100\n",
            "1/1 [==============================] - 0s 7ms/step - loss: 3.7478 - mae: 3.7478\n",
            "Epoch 76/100\n",
            "1/1 [==============================] - 0s 5ms/step - loss: 3.7840 - mae: 3.7840\n",
            "Epoch 77/100\n",
            "1/1 [==============================] - 0s 7ms/step - loss: 3.7563 - mae: 3.7563\n",
            "Epoch 78/100\n",
            "1/1 [==============================] - 0s 5ms/step - loss: 3.7575 - mae: 3.7575\n",
            "Epoch 79/100\n",
            "1/1 [==============================] - 0s 6ms/step - loss: 3.7648 - mae: 3.7648\n",
            "Epoch 80/100\n",
            "1/1 [==============================] - 0s 8ms/step - loss: 3.7307 - mae: 3.7307\n",
            "Epoch 81/100\n",
            "1/1 [==============================] - 0s 5ms/step - loss: 3.7735 - mae: 3.7735\n",
            "Epoch 82/100\n",
            "1/1 [==============================] - 0s 7ms/step - loss: 3.7125 - mae: 3.7125\n",
            "Epoch 83/100\n",
            "1/1 [==============================] - 0s 9ms/step - loss: 3.7820 - mae: 3.7820\n",
            "Epoch 84/100\n",
            "1/1 [==============================] - 0s 7ms/step - loss: 3.7242 - mae: 3.7242\n",
            "Epoch 85/100\n",
            "1/1 [==============================] - 0s 13ms/step - loss: 3.7552 - mae: 3.7552\n",
            "Epoch 86/100\n",
            "1/1 [==============================] - 0s 10ms/step - loss: 3.7329 - mae: 3.7329\n",
            "Epoch 87/100\n",
            "1/1 [==============================] - 0s 6ms/step - loss: 3.7284 - mae: 3.7284\n",
            "Epoch 88/100\n",
            "1/1 [==============================] - 0s 5ms/step - loss: 3.7416 - mae: 3.7416\n",
            "Epoch 89/100\n",
            "1/1 [==============================] - 0s 11ms/step - loss: 3.7013 - mae: 3.7013\n",
            "Epoch 90/100\n",
            "1/1 [==============================] - 0s 11ms/step - loss: 3.7505 - mae: 3.7505\n",
            "Epoch 91/100\n",
            "1/1 [==============================] - 0s 19ms/step - loss: 3.6921 - mae: 3.6921\n",
            "Epoch 92/100\n",
            "1/1 [==============================] - 0s 5ms/step - loss: 3.7522 - mae: 3.7522\n",
            "Epoch 93/100\n",
            "1/1 [==============================] - 0s 13ms/step - loss: 3.7016 - mae: 3.7016\n",
            "Epoch 94/100\n",
            "1/1 [==============================] - 0s 6ms/step - loss: 3.7251 - mae: 3.7251\n",
            "Epoch 95/100\n",
            "1/1 [==============================] - 0s 9ms/step - loss: 3.7105 - mae: 3.7105\n",
            "Epoch 96/100\n",
            "1/1 [==============================] - 0s 5ms/step - loss: 3.6979 - mae: 3.6979\n",
            "Epoch 97/100\n",
            "1/1 [==============================] - 0s 7ms/step - loss: 3.7194 - mae: 3.7194\n",
            "Epoch 98/100\n",
            "1/1 [==============================] - 0s 7ms/step - loss: 3.6705 - mae: 3.6705\n",
            "Epoch 99/100\n",
            "1/1 [==============================] - 0s 5ms/step - loss: 3.7299 - mae: 3.7299\n",
            "Epoch 100/100\n",
            "1/1 [==============================] - 0s 16ms/step - loss: 3.6711 - mae: 3.6711\n"
          ],
          "name": "stdout"
        },
        {
          "output_type": "execute_result",
          "data": {
            "text/plain": [
              "<tensorflow.python.keras.callbacks.History at 0x7fc5e7becb10>"
            ]
          },
          "metadata": {
            "tags": []
          },
          "execution_count": 14
        }
      ]
    },
    {
      "cell_type": "code",
      "metadata": {
        "colab": {
          "base_uri": "https://localhost:8080/"
        },
        "id": "MTlpYft8bV8V",
        "outputId": "309ee48c-6024-4191-b012-5a01db5db6b2"
      },
      "source": [
        "# Remind yourself of the data\n",
        "X, y"
      ],
      "execution_count": null,
      "outputs": [
        {
          "output_type": "execute_result",
          "data": {
            "text/plain": [
              "(<tf.Tensor: shape=(8,), dtype=float64, numpy=array([-7., -4., -1.,  2.,  5.,  8., 11., 14.])>,\n",
              " <tf.Tensor: shape=(8,), dtype=float64, numpy=array([ 3.,  6.,  9., 12., 15., 18., 21., 24.])>)"
            ]
          },
          "metadata": {
            "tags": []
          },
          "execution_count": 15
        }
      ]
    },
    {
      "cell_type": "code",
      "metadata": {
        "colab": {
          "base_uri": "https://localhost:8080/"
        },
        "id": "SIOjYgxybqVd",
        "outputId": "a559825b-5b3d-4a52-808d-43f8b9247bc7"
      },
      "source": [
        "model.predict([17.0])"
      ],
      "execution_count": null,
      "outputs": [
        {
          "output_type": "execute_result",
          "data": {
            "text/plain": [
              "array([[31.223137]], dtype=float32)"
            ]
          },
          "metadata": {
            "tags": []
          },
          "execution_count": 16
        }
      ]
    },
    {
      "cell_type": "markdown",
      "metadata": {
        "id": "dUAFg7Nsh6Fs"
      },
      "source": [
        "#Common ways to improve a deep model :\n",
        "1. Adding layers\n",
        "2. Increase the number of hidden units\n",
        "3. Change the activation functions\n",
        "4. Change the optimization functions\n",
        "5. Change the learning rate --> Very important\n",
        "6. Fitting on more data\n"
      ]
    },
    {
      "cell_type": "markdown",
      "metadata": {
        "id": "_dUGUcpwjwt6"
      },
      "source": [
        "#Evaluating a model's performance"
      ]
    },
    {
      "cell_type": "markdown",
      "metadata": {
        "id": "T-cQ8URcj454"
      },
      "source": [
        "## The typical workflow you will go through while evaluating a model is :\n",
        "````Build a model --> fit the model -->evaluate the model --> tweak the model --> fit the model --> evalaute the model -->tweak the model -->fit the model.... ````"
      ]
    },
    {
      "cell_type": "markdown",
      "metadata": {
        "id": "6wxnpjiroyOQ"
      },
      "source": [
        "#When it comes to evaluation there 3 things that you should keep in mind \n",
        "\n",
        "> Visualize, visualize, visualize\n",
        "\n",
        "*What data are working with ? What does it look likee ?\n",
        "* What does our model look like ?\n",
        "* How does our model perform while training it\n",
        "* The predictions of the model - how do the predictions of the model line up against the ground truth (the original table)"
      ]
    },
    {
      "cell_type": "code",
      "metadata": {
        "colab": {
          "base_uri": "https://localhost:8080/"
        },
        "id": "TkazTCj3soRl",
        "outputId": "51cd1c2e-9347-4c66-bcaa-e179b6a4bb99"
      },
      "source": [
        "#Make a larger dataset\n",
        "X = tf.range(-100, 100, 4)\n",
        "X\n"
      ],
      "execution_count": null,
      "outputs": [
        {
          "output_type": "execute_result",
          "data": {
            "text/plain": [
              "<tf.Tensor: shape=(50,), dtype=int32, numpy=\n",
              "array([-100,  -96,  -92,  -88,  -84,  -80,  -76,  -72,  -68,  -64,  -60,\n",
              "        -56,  -52,  -48,  -44,  -40,  -36,  -32,  -28,  -24,  -20,  -16,\n",
              "        -12,   -8,   -4,    0,    4,    8,   12,   16,   20,   24,   28,\n",
              "         32,   36,   40,   44,   48,   52,   56,   60,   64,   68,   72,\n",
              "         76,   80,   84,   88,   92,   96], dtype=int32)>"
            ]
          },
          "metadata": {
            "tags": []
          },
          "execution_count": 17
        }
      ]
    },
    {
      "cell_type": "code",
      "metadata": {
        "colab": {
          "base_uri": "https://localhost:8080/"
        },
        "id": "1FeMonO-teUF",
        "outputId": "96f8c8b9-6f28-4415-db2f-51e5f69c6135"
      },
      "source": [
        "# Make lables for the dataset \n",
        "y = X + 10\n",
        "y"
      ],
      "execution_count": null,
      "outputs": [
        {
          "output_type": "execute_result",
          "data": {
            "text/plain": [
              "<tf.Tensor: shape=(50,), dtype=int32, numpy=\n",
              "array([-90, -86, -82, -78, -74, -70, -66, -62, -58, -54, -50, -46, -42,\n",
              "       -38, -34, -30, -26, -22, -18, -14, -10,  -6,  -2,   2,   6,  10,\n",
              "        14,  18,  22,  26,  30,  34,  38,  42,  46,  50,  54,  58,  62,\n",
              "        66,  70,  74,  78,  82,  86,  90,  94,  98, 102, 106], dtype=int32)>"
            ]
          },
          "metadata": {
            "tags": []
          },
          "execution_count": 18
        }
      ]
    },
    {
      "cell_type": "code",
      "metadata": {
        "colab": {
          "base_uri": "https://localhost:8080/",
          "height": 282
        },
        "id": "A1rbr9VNtnCg",
        "outputId": "361fedae-bbdb-45c7-c9ea-a8ae83772b39"
      },
      "source": [
        "#Visualize the data\n",
        "import matplotlib.pyplot as plt\n",
        "\n",
        "plt.scatter(X,y)"
      ],
      "execution_count": null,
      "outputs": [
        {
          "output_type": "execute_result",
          "data": {
            "text/plain": [
              "<matplotlib.collections.PathCollection at 0x7fc5e5d76b90>"
            ]
          },
          "metadata": {
            "tags": []
          },
          "execution_count": 19
        },
        {
          "output_type": "display_data",
          "data": {
            "image/png": "[encoded data removed]",
            "text/plain": [
              "<Figure size 432x288 with 1 Axes>"
            ]
          },
          "metadata": {
            "tags": [],
            "needs_background": "light"
          }
        }
      ]
    },
    {
      "cell_type": "markdown",
      "metadata": {
        "id": "I9CdntdGt1qp"
      },
      "source": [
        "### The 3 sets\n",
        "1. training set - the model learns from it and its typically 70-80% of the data you have\n",
        "2. Validation set - The model gets tuned on this data which is typically 10-15% of the data available\n",
        "3. Test set - Model gets evaluated on this one to test what it has learned. This is 10-15% of the total data available."
      ]
    },
    {
      "cell_type": "code",
      "metadata": {
        "colab": {
          "base_uri": "https://localhost:8080/"
        },
        "id": "HOa1tPfxH2_F",
        "outputId": "e41e9175-18ee-448d-9590-f5af227012fb"
      },
      "source": [
        "len(X)"
      ],
      "execution_count": null,
      "outputs": [
        {
          "output_type": "execute_result",
          "data": {
            "text/plain": [
              "50"
            ]
          },
          "metadata": {
            "tags": []
          },
          "execution_count": 20
        }
      ]
    },
    {
      "cell_type": "code",
      "metadata": {
        "colab": {
          "base_uri": "https://localhost:8080/"
        },
        "id": "oy8WzqnJCBHQ",
        "outputId": "675ccb3a-0313-4977-e0f7-3bdeaa09a373"
      },
      "source": [
        "# Split the data into test and train sets\n",
        "X_train = X[:40] # first 40 are training samples which is 80% of the data\n",
        "y_train = y[:40]\n",
        "\n",
        "X_test= X[40:] # last 10 testing samples (20% of the data)\n",
        "y_test = y[40:]\n",
        "\n",
        "len(X_train), len(X_test), len(y_train), len(y_test)"
      ],
      "execution_count": null,
      "outputs": [
        {
          "output_type": "execute_result",
          "data": {
            "text/plain": [
              "(40, 10, 40, 10)"
            ]
          },
          "metadata": {
            "tags": []
          },
          "execution_count": 21
        }
      ]
    },
    {
      "cell_type": "code",
      "metadata": {
        "colab": {
          "base_uri": "https://localhost:8080/",
          "height": 428
        },
        "id": "p5T3480VC7_A",
        "outputId": "15f23200-59c9-4ab4-a4e9-f79128e82b0c"
      },
      "source": [
        "plt.figure(figsize = (10,7))\n",
        "#Plot training data in blue\n",
        "plt.scatter(X_train,y_train, c=\"b\", label=\"Training data\")\n",
        "#Plot testing data in green\n",
        "plt.scatter(X_test,y_test, c=\"g\", label=\"Test data\")\n",
        "#show a legend\n",
        "plt.legend();"
      ],
      "execution_count": null,
      "outputs": [
        {
          "output_type": "display_data",
          "data": {
            "image/png": "[encoded data removed]",
            "text/plain": [
              "<Figure size 720x504 with 1 Axes>"
            ]
          },
          "metadata": {
            "tags": [],
            "needs_background": "light"
          }
        }
      ]
    },
    {
      "cell_type": "code",
      "metadata": {
        "id": "Ds5rIHu9HMPe"
      },
      "source": [
        "# Lets create the neural network for this model \n",
        "\n",
        "#Create the model \n",
        "model= tf.keras.Sequential([\n",
        "        tf.keras.layers.Dense(1)\n",
        "])\n",
        "#compile the model\n",
        "model.compile(loss=\"mae\",\n",
        "              optimizer=tf.keras.optimizers.SGD(),\n",
        "              metrics=[\"mae\"])\n",
        "\n",
        "#fit the model \n",
        "#model.fit(X_train,y_train, epochs=100)"
      ],
      "execution_count": null,
      "outputs": []
    },
    {
      "cell_type": "code",
      "metadata": {
        "colab": {
          "base_uri": "https://localhost:8080/",
          "height": 283
        },
        "id": "xzLwl8_CKCsj",
        "outputId": "e6b4b53a-177f-43d4-9cb4-ffa7148dc560"
      },
      "source": [
        "model.summary()"
      ],
      "execution_count": null,
      "outputs": [
        {
          "output_type": "error",
          "ename": "ValueError",
          "evalue": "ignored",
          "traceback": [
            "\u001b[0;31m---------------------------------------------------------------------------\u001b[0m",
            "\u001b[0;31mValueError\u001b[0m                                Traceback (most recent call last)",
            "\u001b[0;32m<ipython-input-25-5f15418b3570>\u001b[0m in \u001b[0;36m<module>\u001b[0;34m()\u001b[0m\n\u001b[0;32m----> 1\u001b[0;31m \u001b[0mmodel\u001b[0m\u001b[0;34m.\u001b[0m\u001b[0msummary\u001b[0m\u001b[0;34m(\u001b[0m\u001b[0;34m)\u001b[0m\u001b[0;34m\u001b[0m\u001b[0;34m\u001b[0m\u001b[0m\n\u001b[0m",
            "\u001b[0;32m/usr/local/lib/python3.7/dist-packages/tensorflow/python/keras/engine/training.py\u001b[0m in \u001b[0;36msummary\u001b[0;34m(self, line_length, positions, print_fn)\u001b[0m\n\u001b[1;32m   2475\u001b[0m     \"\"\"\n\u001b[1;32m   2476\u001b[0m     \u001b[0;32mif\u001b[0m \u001b[0;32mnot\u001b[0m \u001b[0mself\u001b[0m\u001b[0;34m.\u001b[0m\u001b[0mbuilt\u001b[0m\u001b[0;34m:\u001b[0m\u001b[0;34m\u001b[0m\u001b[0;34m\u001b[0m\u001b[0m\n\u001b[0;32m-> 2477\u001b[0;31m       raise ValueError('This model has not yet been built. '\n\u001b[0m\u001b[1;32m   2478\u001b[0m                        \u001b[0;34m'Build the model first by calling `build()` or calling '\u001b[0m\u001b[0;34m\u001b[0m\u001b[0;34m\u001b[0m\u001b[0m\n\u001b[1;32m   2479\u001b[0m                        \u001b[0;34m'`fit()` with some data, or specify '\u001b[0m\u001b[0;34m\u001b[0m\u001b[0;34m\u001b[0m\u001b[0m\n",
            "\u001b[0;31mValueError\u001b[0m: This model has not yet been built. Build the model first by calling `build()` or calling `fit()` with some data, or specify an `input_shape` argument in the first layer(s) for automatic build."
          ]
        }
      ]
    },
    {
      "cell_type": "code",
      "metadata": {
        "id": "Ba-w_sPqKJH0",
        "colab": {
          "base_uri": "https://localhost:8080/",
          "height": 283
        },
        "outputId": "fa0f58bb-ba39-443f-fa6d-75830c6ea148"
      },
      "source": [
        "model.build()"
      ],
      "execution_count": null,
      "outputs": [
        {
          "output_type": "error",
          "ename": "ValueError",
          "evalue": "ignored",
          "traceback": [
            "\u001b[0;31m---------------------------------------------------------------------------\u001b[0m",
            "\u001b[0;31mValueError\u001b[0m                                Traceback (most recent call last)",
            "\u001b[0;32m<ipython-input-26-2f52417d930d>\u001b[0m in \u001b[0;36m<module>\u001b[0;34m()\u001b[0m\n\u001b[0;32m----> 1\u001b[0;31m \u001b[0mmodel\u001b[0m\u001b[0;34m.\u001b[0m\u001b[0mbuild\u001b[0m\u001b[0;34m(\u001b[0m\u001b[0;34m)\u001b[0m\u001b[0;34m\u001b[0m\u001b[0;34m\u001b[0m\u001b[0m\n\u001b[0m",
            "\u001b[0;32m/usr/local/lib/python3.7/dist-packages/tensorflow/python/keras/engine/sequential.py\u001b[0m in \u001b[0;36mbuild\u001b[0;34m(self, input_shape)\u001b[0m\n\u001b[1;32m    349\u001b[0m     \u001b[0;32melse\u001b[0m\u001b[0;34m:\u001b[0m\u001b[0;34m\u001b[0m\u001b[0;34m\u001b[0m\u001b[0m\n\u001b[1;32m    350\u001b[0m       \u001b[0;32mif\u001b[0m \u001b[0minput_shape\u001b[0m \u001b[0;32mis\u001b[0m \u001b[0;32mNone\u001b[0m\u001b[0;34m:\u001b[0m\u001b[0;34m\u001b[0m\u001b[0;34m\u001b[0m\u001b[0m\n\u001b[0;32m--> 351\u001b[0;31m         \u001b[0;32mraise\u001b[0m \u001b[0mValueError\u001b[0m\u001b[0;34m(\u001b[0m\u001b[0;34m'You must provide an `input_shape` argument.'\u001b[0m\u001b[0;34m)\u001b[0m\u001b[0;34m\u001b[0m\u001b[0;34m\u001b[0m\u001b[0m\n\u001b[0m\u001b[1;32m    352\u001b[0m       \u001b[0mself\u001b[0m\u001b[0;34m.\u001b[0m\u001b[0m_build_graph_network_for_inferred_shape\u001b[0m\u001b[0;34m(\u001b[0m\u001b[0minput_shape\u001b[0m\u001b[0;34m)\u001b[0m\u001b[0;34m\u001b[0m\u001b[0;34m\u001b[0m\u001b[0m\n\u001b[1;32m    353\u001b[0m       \u001b[0;32mif\u001b[0m \u001b[0;32mnot\u001b[0m \u001b[0mself\u001b[0m\u001b[0;34m.\u001b[0m\u001b[0mbuilt\u001b[0m\u001b[0;34m:\u001b[0m\u001b[0;34m\u001b[0m\u001b[0;34m\u001b[0m\u001b[0m\n",
            "\u001b[0;31mValueError\u001b[0m: You must provide an `input_shape` argument."
          ]
        }
      ]
    },
    {
      "cell_type": "code",
      "metadata": {
        "id": "5nDlsiCRKMq4"
      },
      "source": [
        "#lets create the model which builds automatically by defining the input_shape argument \n",
        "tf.random.set_seed(42)\n",
        "\n",
        "#Create the model\n",
        "model= tf.keras.Sequential([\n",
        "  tf.keras.layers.Dense(10,input_shape=[1],name=\"input_layer\"),\n",
        "  tf.keras.layers.Dense(1,name=\"output_layer\")      \n",
        "], name=\"model_1\")\n",
        "\n",
        "#Compile the model\n",
        "model.compile(loss=\"mae\",\n",
        "              optimizer=tf.keras.optimizers.SGD(),\n",
        "              metrics=[\"mae\"])\n"
      ],
      "execution_count": null,
      "outputs": []
    },
    {
      "cell_type": "code",
      "metadata": {
        "id": "ckysJ4dlciQ-",
        "colab": {
          "base_uri": "https://localhost:8080/",
          "height": 164
        },
        "outputId": "18440f7f-3c5c-493b-88c6-64a29de80643"
      },
      "source": [
        "Demodel.summary()"
      ],
      "execution_count": null,
      "outputs": [
        {
          "output_type": "error",
          "ename": "NameError",
          "evalue": "ignored",
          "traceback": [
            "\u001b[0;31m---------------------------------------------------------------------------\u001b[0m",
            "\u001b[0;31mNameError\u001b[0m                                 Traceback (most recent call last)",
            "\u001b[0;32m<ipython-input-28-0350b6cbb87d>\u001b[0m in \u001b[0;36m<module>\u001b[0;34m()\u001b[0m\n\u001b[0;32m----> 1\u001b[0;31m \u001b[0mDemodel\u001b[0m\u001b[0;34m.\u001b[0m\u001b[0msummary\u001b[0m\u001b[0;34m(\u001b[0m\u001b[0;34m)\u001b[0m\u001b[0;34m\u001b[0m\u001b[0;34m\u001b[0m\u001b[0m\n\u001b[0m",
            "\u001b[0;31mNameError\u001b[0m: name 'Demodel' is not defined"
          ]
        }
      ]
    },
    {
      "cell_type": "markdown",
      "metadata": {
        "id": "t256mvhMcjmq"
      },
      "source": [
        "##Total params - total number of parameters in the model\n",
        "##Trainable parameters - these are the parameters that the model can update as it trains (patterns)\n",
        "##Non-trainable paramters - They are not updated during trainig. This is typical when you have parameters from other models during transfer learning) "
      ]
    },
    {
      "cell_type": "code",
      "metadata": {
        "id": "5anvDGDoeKel",
        "colab": {
          "base_uri": "https://localhost:8080/"
        },
        "outputId": "828c51cf-a578-4ea1-9298-a39e53b008ad"
      },
      "source": [
        "#Lets fit our model with training data\n",
        "\n",
        "model.fit(X_train, y_train,epochs=100, verbose=1)"
      ],
      "execution_count": null,
      "outputs": [
        {
          "output_type": "stream",
          "text": [
            "Epoch 1/100\n",
            "2/2 [==============================] - 0s 6ms/step - loss: 27.4058 - mae: 27.4058\n",
            "Epoch 2/100\n",
            "2/2 [==============================] - 0s 4ms/step - loss: 24.6339 - mae: 24.6339\n",
            "Epoch 3/100\n",
            "2/2 [==============================] - 0s 7ms/step - loss: 29.8935 - mae: 29.8935\n",
            "Epoch 4/100\n",
            "2/2 [==============================] - 0s 5ms/step - loss: 27.4055 - mae: 27.4055\n",
            "Epoch 5/100\n",
            "2/2 [==============================] - 0s 7ms/step - loss: 14.9463 - mae: 14.9463\n",
            "Epoch 6/100\n",
            "2/2 [==============================] - 0s 4ms/step - loss: 11.8819 - mae: 11.8819\n",
            "Epoch 7/100\n",
            "2/2 [==============================] - 0s 5ms/step - loss: 11.1988 - mae: 11.1988\n",
            "Epoch 8/100\n",
            "2/2 [==============================] - 0s 4ms/step - loss: 11.0910 - mae: 11.0910\n",
            "Epoch 9/100\n",
            "2/2 [==============================] - 0s 5ms/step - loss: 40.4763 - mae: 40.4763\n",
            "Epoch 10/100\n",
            "2/2 [==============================] - 0s 7ms/step - loss: 27.8688 - mae: 27.8688\n",
            "Epoch 11/100\n",
            "2/2 [==============================] - 0s 7ms/step - loss: 10.2473 - mae: 10.2473\n",
            "Epoch 12/100\n",
            "2/2 [==============================] - 0s 6ms/step - loss: 25.2803 - mae: 25.2803\n",
            "Epoch 13/100\n",
            "2/2 [==============================] - 0s 7ms/step - loss: 16.9897 - mae: 16.9897\n",
            "Epoch 14/100\n",
            "2/2 [==============================] - 0s 3ms/step - loss: 25.9217 - mae: 25.9217\n",
            "Epoch 15/100\n",
            "2/2 [==============================] - 0s 7ms/step - loss: 17.9948 - mae: 17.9948\n",
            "Epoch 16/100\n",
            "2/2 [==============================] - 0s 4ms/step - loss: 7.3510 - mae: 7.3510\n",
            "Epoch 17/100\n",
            "2/2 [==============================] - 0s 5ms/step - loss: 10.8636 - mae: 10.8636\n",
            "Epoch 18/100\n",
            "2/2 [==============================] - 0s 4ms/step - loss: 19.5304 - mae: 19.5304\n",
            "Epoch 19/100\n",
            "2/2 [==============================] - 0s 4ms/step - loss: 10.3469 - mae: 10.3469\n",
            "Epoch 20/100\n",
            "2/2 [==============================] - 0s 3ms/step - loss: 17.6985 - mae: 17.6985\n",
            "Epoch 21/100\n",
            "2/2 [==============================] - 0s 3ms/step - loss: 15.8984 - mae: 15.8984\n",
            "Epoch 22/100\n",
            "2/2 [==============================] - 0s 3ms/step - loss: 14.1991 - mae: 14.1991\n",
            "Epoch 23/100\n",
            "2/2 [==============================] - 0s 9ms/step - loss: 8.7720 - mae: 8.7720\n",
            "Epoch 24/100\n",
            "2/2 [==============================] - 0s 3ms/step - loss: 11.0570 - mae: 11.0570\n",
            "Epoch 25/100\n",
            "2/2 [==============================] - 0s 4ms/step - loss: 12.6838 - mae: 12.6838\n",
            "Epoch 26/100\n",
            "2/2 [==============================] - 0s 3ms/step - loss: 26.1877 - mae: 26.1877\n",
            "Epoch 27/100\n",
            "2/2 [==============================] - 0s 4ms/step - loss: 11.7432 - mae: 11.7432\n",
            "Epoch 28/100\n",
            "2/2 [==============================] - 0s 8ms/step - loss: 22.8730 - mae: 22.8730\n",
            "Epoch 29/100\n",
            "2/2 [==============================] - 0s 6ms/step - loss: 9.2459 - mae: 9.2459\n",
            "Epoch 30/100\n",
            "2/2 [==============================] - 0s 7ms/step - loss: 29.2641 - mae: 29.2641\n",
            "Epoch 31/100\n",
            "2/2 [==============================] - 0s 5ms/step - loss: 53.0225 - mae: 53.0225\n",
            "Epoch 32/100\n",
            "2/2 [==============================] - 0s 6ms/step - loss: 11.9951 - mae: 11.9951\n",
            "Epoch 33/100\n",
            "2/2 [==============================] - 0s 6ms/step - loss: 15.6357 - mae: 15.6357\n",
            "Epoch 34/100\n",
            "2/2 [==============================] - 0s 3ms/step - loss: 12.6925 - mae: 12.6925\n",
            "Epoch 35/100\n",
            "2/2 [==============================] - 0s 3ms/step - loss: 9.2398 - mae: 9.2398\n",
            "Epoch 36/100\n",
            "2/2 [==============================] - 0s 4ms/step - loss: 16.6497 - mae: 16.6497\n",
            "Epoch 37/100\n",
            "2/2 [==============================] - 0s 3ms/step - loss: 11.0382 - mae: 11.0382\n",
            "Epoch 38/100\n",
            "2/2 [==============================] - 0s 4ms/step - loss: 18.1634 - mae: 18.1634\n",
            "Epoch 39/100\n",
            "2/2 [==============================] - 0s 5ms/step - loss: 19.1013 - mae: 19.1013\n",
            "Epoch 40/100\n",
            "2/2 [==============================] - 0s 4ms/step - loss: 20.4324 - mae: 20.4324\n",
            "Epoch 41/100\n",
            "2/2 [==============================] - 0s 4ms/step - loss: 14.9102 - mae: 14.9102\n",
            "Epoch 42/100\n",
            "2/2 [==============================] - 0s 4ms/step - loss: 12.2809 - mae: 12.2809\n",
            "Epoch 43/100\n",
            "2/2 [==============================] - 0s 5ms/step - loss: 10.7333 - mae: 10.7333\n",
            "Epoch 44/100\n",
            "2/2 [==============================] - 0s 11ms/step - loss: 23.0260 - mae: 23.0260\n",
            "Epoch 45/100\n",
            "2/2 [==============================] - 0s 5ms/step - loss: 10.3897 - mae: 10.3897\n",
            "Epoch 46/100\n",
            "2/2 [==============================] - 0s 6ms/step - loss: 11.7904 - mae: 11.7904\n",
            "Epoch 47/100\n",
            "2/2 [==============================] - 0s 8ms/step - loss: 9.6438 - mae: 9.6438\n",
            "Epoch 48/100\n",
            "2/2 [==============================] - 0s 4ms/step - loss: 17.2335 - mae: 17.2335\n",
            "Epoch 49/100\n",
            "2/2 [==============================] - 0s 6ms/step - loss: 9.5729 - mae: 9.5729\n",
            "Epoch 50/100\n",
            "2/2 [==============================] - 0s 6ms/step - loss: 13.8185 - mae: 13.8185\n",
            "Epoch 51/100\n",
            "2/2 [==============================] - 0s 6ms/step - loss: 11.5958 - mae: 11.5958\n",
            "Epoch 52/100\n",
            "2/2 [==============================] - 0s 8ms/step - loss: 30.5538 - mae: 30.5538\n",
            "Epoch 53/100\n",
            "2/2 [==============================] - 0s 4ms/step - loss: 14.3541 - mae: 14.3541\n",
            "Epoch 54/100\n",
            "2/2 [==============================] - 0s 5ms/step - loss: 23.9713 - mae: 23.9713\n",
            "Epoch 55/100\n",
            "2/2 [==============================] - 0s 5ms/step - loss: 23.1938 - mae: 23.1938\n",
            "Epoch 56/100\n",
            "2/2 [==============================] - 0s 4ms/step - loss: 10.8837 - mae: 10.8837\n",
            "Epoch 57/100\n",
            "2/2 [==============================] - 0s 6ms/step - loss: 12.7445 - mae: 12.7445\n",
            "Epoch 58/100\n",
            "2/2 [==============================] - 0s 4ms/step - loss: 9.5995 - mae: 9.5995\n",
            "Epoch 59/100\n",
            "2/2 [==============================] - 0s 3ms/step - loss: 12.5172 - mae: 12.5172\n",
            "Epoch 60/100\n",
            "2/2 [==============================] - 0s 6ms/step - loss: 12.3200 - mae: 12.3200\n",
            "Epoch 61/100\n",
            "2/2 [==============================] - 0s 4ms/step - loss: 17.4604 - mae: 17.4604\n",
            "Epoch 62/100\n",
            "2/2 [==============================] - 0s 4ms/step - loss: 10.6052 - mae: 10.6052\n",
            "Epoch 63/100\n",
            "2/2 [==============================] - 0s 5ms/step - loss: 10.4893 - mae: 10.4893\n",
            "Epoch 64/100\n",
            "2/2 [==============================] - 0s 3ms/step - loss: 24.8450 - mae: 24.8450\n",
            "Epoch 65/100\n",
            "2/2 [==============================] - 0s 4ms/step - loss: 10.6761 - mae: 10.6761\n",
            "Epoch 66/100\n",
            "2/2 [==============================] - 0s 7ms/step - loss: 21.7809 - mae: 21.7809\n",
            "Epoch 67/100\n",
            "2/2 [==============================] - 0s 7ms/step - loss: 10.7136 - mae: 10.7136\n",
            "Epoch 68/100\n",
            "2/2 [==============================] - 0s 5ms/step - loss: 10.6397 - mae: 10.6397\n",
            "Epoch 69/100\n",
            "2/2 [==============================] - 0s 8ms/step - loss: 22.6914 - mae: 22.6914\n",
            "Epoch 70/100\n",
            "2/2 [==============================] - 0s 3ms/step - loss: 9.3316 - mae: 9.3316\n",
            "Epoch 71/100\n",
            "2/2 [==============================] - 0s 5ms/step - loss: 15.4355 - mae: 15.4355\n",
            "Epoch 72/100\n",
            "2/2 [==============================] - 0s 6ms/step - loss: 6.7437 - mae: 6.7437\n",
            "Epoch 73/100\n",
            "2/2 [==============================] - 0s 5ms/step - loss: 11.6891 - mae: 11.6891\n",
            "Epoch 74/100\n",
            "2/2 [==============================] - 0s 3ms/step - loss: 24.0400 - mae: 24.0400\n",
            "Epoch 75/100\n",
            "2/2 [==============================] - 0s 5ms/step - loss: 9.5896 - mae: 9.5896\n",
            "Epoch 76/100\n",
            "2/2 [==============================] - 0s 6ms/step - loss: 12.4371 - mae: 12.4371\n",
            "Epoch 77/100\n",
            "2/2 [==============================] - 0s 8ms/step - loss: 16.6489 - mae: 16.6489\n",
            "Epoch 78/100\n",
            "2/2 [==============================] - 0s 5ms/step - loss: 9.0614 - mae: 9.0614\n",
            "Epoch 79/100\n",
            "2/2 [==============================] - 0s 10ms/step - loss: 23.9675 - mae: 23.9675\n",
            "Epoch 80/100\n",
            "2/2 [==============================] - 0s 6ms/step - loss: 26.7463 - mae: 26.7463\n",
            "Epoch 81/100\n",
            "2/2 [==============================] - 0s 5ms/step - loss: 11.6714 - mae: 11.6714\n",
            "Epoch 82/100\n",
            "2/2 [==============================] - 0s 8ms/step - loss: 12.0228 - mae: 12.0228\n",
            "Epoch 83/100\n",
            "2/2 [==============================] - 0s 14ms/step - loss: 17.4218 - mae: 17.4218\n",
            "Epoch 84/100\n",
            "2/2 [==============================] - 0s 4ms/step - loss: 7.2629 - mae: 7.2629\n",
            "Epoch 85/100\n",
            "2/2 [==============================] - 0s 4ms/step - loss: 14.9650 - mae: 14.9650\n",
            "Epoch 86/100\n",
            "2/2 [==============================] - 0s 4ms/step - loss: 15.2862 - mae: 15.2862\n",
            "Epoch 87/100\n",
            "2/2 [==============================] - 0s 5ms/step - loss: 19.1086 - mae: 19.1086\n",
            "Epoch 88/100\n",
            "2/2 [==============================] - 0s 9ms/step - loss: 29.8229 - mae: 29.8229\n",
            "Epoch 89/100\n",
            "2/2 [==============================] - 0s 4ms/step - loss: 10.1742 - mae: 10.1742\n",
            "Epoch 90/100\n",
            "2/2 [==============================] - 0s 4ms/step - loss: 21.5240 - mae: 21.5240\n",
            "Epoch 91/100\n",
            "2/2 [==============================] - 0s 4ms/step - loss: 10.5716 - mae: 10.5716\n",
            "Epoch 92/100\n",
            "2/2 [==============================] - 0s 9ms/step - loss: 18.3977 - mae: 18.3977\n",
            "Epoch 93/100\n",
            "2/2 [==============================] - 0s 6ms/step - loss: 7.4138 - mae: 7.4138\n",
            "Epoch 94/100\n",
            "2/2 [==============================] - 0s 5ms/step - loss: 17.7380 - mae: 17.7380\n",
            "Epoch 95/100\n",
            "2/2 [==============================] - 0s 8ms/step - loss: 11.1144 - mae: 11.1144\n",
            "Epoch 96/100\n",
            "2/2 [==============================] - 0s 5ms/step - loss: 19.4346 - mae: 19.4346\n",
            "Epoch 97/100\n",
            "2/2 [==============================] - 0s 5ms/step - loss: 12.1593 - mae: 12.1593\n",
            "Epoch 98/100\n",
            "2/2 [==============================] - 0s 7ms/step - loss: 11.5653 - mae: 11.5653\n",
            "Epoch 99/100\n",
            "2/2 [==============================] - 0s 4ms/step - loss: 13.8827 - mae: 13.8827\n",
            "Epoch 100/100\n",
            "2/2 [==============================] - 0s 7ms/step - loss: 20.2277 - mae: 20.2277\n"
          ],
          "name": "stdout"
        },
        {
          "output_type": "execute_result",
          "data": {
            "text/plain": [
              "<tensorflow.python.keras.callbacks.History at 0x7fc5e5bcd050>"
            ]
          },
          "metadata": {
            "tags": []
          },
          "execution_count": 29
        }
      ]
    },
    {
      "cell_type": "code",
      "metadata": {
        "id": "bqZb8QXQtKPS",
        "colab": {
          "base_uri": "https://localhost:8080/",
          "height": 312
        },
        "outputId": "876003ea-efae-4f59-8287-e71d8475393b"
      },
      "source": [
        "from tensorflow.keras.utils import plot_model\n",
        "\n",
        "plot_model(model=model, show_shapes=True)"
      ],
      "execution_count": null,
      "outputs": [
        {
          "output_type": "execute_result",
          "data": {
            "image/png": "[encoded data removed]",
            "text/plain": [
              "<IPython.core.display.Image object>"
            ]
          },
          "metadata": {
            "tags": []
          },
          "execution_count": 30
        }
      ]
    },
    {
      "cell_type": "markdown",
      "metadata": {
        "id": "S_sytl25vD9b"
      },
      "source": [
        "#Visualizing our model's predictions\n",
        "To visualize model, its a good idea to plot them against the ground truth \n",
        "\n",
        "Often the y_test or y_true are plotted against y_preds (grouth truth vs model's prediction)"
      ]
    },
    {
      "cell_type": "code",
      "metadata": {
        "id": "yVWSzuYs1aOu",
        "colab": {
          "base_uri": "https://localhost:8080/"
        },
        "outputId": "2c654db9-ccf6-4c3d-d3e7-e476800ec5b9"
      },
      "source": [
        "#making predictions\n",
        "y_preds = model.predict(X_test)\n",
        "y_preds"
      ],
      "execution_count": null,
      "outputs": [
        {
          "output_type": "execute_result",
          "data": {
            "text/plain": [
              "array([[ 70.55218 ],\n",
              "       [ 75.13991 ],\n",
              "       [ 79.72763 ],\n",
              "       [ 84.31535 ],\n",
              "       [ 88.903076],\n",
              "       [ 93.49081 ],\n",
              "       [ 98.07853 ],\n",
              "       [102.66625 ],\n",
              "       [107.253975],\n",
              "       [111.8417  ]], dtype=float32)"
            ]
          },
          "metadata": {
            "tags": []
          },
          "execution_count": 31
        }
      ]
    },
    {
      "cell_type": "code",
      "metadata": {
        "id": "fNCH04AB1ko6",
        "colab": {
          "base_uri": "https://localhost:8080/"
        },
        "outputId": "b18ce88f-7797-45b7-c298-563dd2eeb716"
      },
      "source": [
        "y_test"
      ],
      "execution_count": null,
      "outputs": [
        {
          "output_type": "execute_result",
          "data": {
            "text/plain": [
              "<tf.Tensor: shape=(10,), dtype=int32, numpy=array([ 70,  74,  78,  82,  86,  90,  94,  98, 102, 106], dtype=int32)>"
            ]
          },
          "metadata": {
            "tags": []
          },
          "execution_count": 32
        }
      ]
    },
    {
      "cell_type": "code",
      "metadata": {
        "id": "wee3xcZ_1nKR"
      },
      "source": [
        "# Creating a plotting function\n",
        "def plot_predictions(train_data = X_train,\n",
        "                     train_labels = y_train,\n",
        "                     test_data= X_test,\n",
        "                     test_labels= y_test,\n",
        "                     predictions= y_preds):\n",
        "\n",
        "#Plots training and test data and compares ground truth to predictions\n",
        "  plt.figure(figsize= (10, 7))\n",
        "  plt.scatter(train_data, train_labels, c=\"b\", label=\"Training data\")\n",
        "  plt.scatter(test_data, test_labels ,c=\"g\", label=\"Test data\")\n",
        "  plt.scatter(test_data,predictions, c=\"r\", label=\"Predictions\")\n",
        "\n",
        "  plt.legend();"
      ],
      "execution_count": null,
      "outputs": []
    },
    {
      "cell_type": "code",
      "metadata": {
        "id": "p2nR9IiQ4SfW",
        "colab": {
          "base_uri": "https://localhost:8080/",
          "height": 428
        },
        "outputId": "44a3a5c6-291a-4e73-bb7d-0e8196348636"
      },
      "source": [
        "plot_predictions(train_data = X_train,\n",
        "                     train_labels = y_train,\n",
        "                     test_data= X_test,\n",
        "                     test_labels= y_test,\n",
        "                     predictions= y_preds)"
      ],
      "execution_count": null,
      "outputs": [
        {
          "output_type": "display_data",
          "data": {
            "image/png": "[encoded data removed]",
            "text/plain": [
              "<Figure size 720x504 with 1 Axes>"
            ]
          },
          "metadata": {
            "tags": [],
            "needs_background": "light"
          }
        }
      ]
    },
    {
      "cell_type": "markdown",
      "metadata": {
        "id": "CVEnd-TD5WXm"
      },
      "source": [
        "#Evaluating our model's predictiion with regression evalaution metrics\n",
        "\n",
        "* MAE - mean absolute error, on average how wrong is each of the model's predictions\n",
        "* MSE - mean square error, sqaure the average errors"
      ]
    },
    {
      "cell_type": "code",
      "metadata": {
        "id": "bPZRfTA3GJg-",
        "colab": {
          "base_uri": "https://localhost:8080/"
        },
        "outputId": "d2fb3f98-2849-4cbd-9f3c-020fbd4c27bd"
      },
      "source": [
        "#Evalaute the model \n",
        "model.evaluate(X_test,y_test)"
      ],
      "execution_count": null,
      "outputs": [
        {
          "output_type": "stream",
          "text": [
            "1/1 [==============================] - 0s 130ms/step - loss: 3.1969 - mae: 3.1969\n"
          ],
          "name": "stdout"
        },
        {
          "output_type": "execute_result",
          "data": {
            "text/plain": [
              "[3.196942090988159, 3.196942090988159]"
            ]
          },
          "metadata": {
            "tags": []
          },
          "execution_count": 35
        }
      ]
    },
    {
      "cell_type": "code",
      "metadata": {
        "id": "6hTXEP2HGOVK",
        "colab": {
          "base_uri": "https://localhost:8080/"
        },
        "outputId": "9e6965fc-aee2-433f-ede9-142c4dc17b49"
      },
      "source": [
        "#Calculate mean absolute error\n",
        "mae = tf.metrics.mean_absolute_error(y_true=y_test,\n",
        "                                      y_pred=tf.constant(y_preds))\n",
        "mae"
      ],
      "execution_count": null,
      "outputs": [
        {
          "output_type": "execute_result",
          "data": {
            "text/plain": [
              "<tf.Tensor: shape=(10,), dtype=float32, numpy=\n",
              "array([17.558258 , 14.1160555, 11.708948 , 10.336929 , 10.       ,\n",
              "       10.698161 , 12.447118 , 15.333002 , 19.253975 , 23.841698 ],\n",
              "      dtype=float32)>"
            ]
          },
          "metadata": {
            "tags": []
          },
          "execution_count": 36
        }
      ]
    },
    {
      "cell_type": "markdown",
      "metadata": {
        "id": "uD3QtvS_NHJs"
      },
      "source": [
        "#MSE should be single output but here we see many outputs. This is because y_preds and y_test are of different shape"
      ]
    },
    {
      "cell_type": "code",
      "metadata": {
        "id": "NxdsBKOlI27P",
        "colab": {
          "base_uri": "https://localhost:8080/"
        },
        "outputId": "7e14eb5b-4b89-44a2-bd88-7e065c4fde9a"
      },
      "source": [
        "\n",
        "tf.constant(y_preds)"
      ],
      "execution_count": null,
      "outputs": [
        {
          "output_type": "execute_result",
          "data": {
            "text/plain": [
              "<tf.Tensor: shape=(10, 1), dtype=float32, numpy=\n",
              "array([[ 70.55218 ],\n",
              "       [ 75.13991 ],\n",
              "       [ 79.72763 ],\n",
              "       [ 84.31535 ],\n",
              "       [ 88.903076],\n",
              "       [ 93.49081 ],\n",
              "       [ 98.07853 ],\n",
              "       [102.66625 ],\n",
              "       [107.253975],\n",
              "       [111.8417  ]], dtype=float32)>"
            ]
          },
          "metadata": {
            "tags": []
          },
          "execution_count": 37
        }
      ]
    },
    {
      "cell_type": "code",
      "metadata": {
        "id": "Vtepoht6JN8e",
        "colab": {
          "base_uri": "https://localhost:8080/"
        },
        "outputId": "25780ec5-444f-4eb7-c684-084d61a486d7"
      },
      "source": [
        "y_test.shape, y_preds.shape"
      ],
      "execution_count": null,
      "outputs": [
        {
          "output_type": "execute_result",
          "data": {
            "text/plain": [
              "(TensorShape([10]), (10, 1))"
            ]
          },
          "metadata": {
            "tags": []
          },
          "execution_count": 38
        }
      ]
    },
    {
      "cell_type": "code",
      "metadata": {
        "id": "TWzR2jBCNV6d",
        "colab": {
          "base_uri": "https://localhost:8080/"
        },
        "outputId": "dc8e91cd-9439-46c7-a88c-42fdd3cafd07"
      },
      "source": [
        "y_preds.squeeze()"
      ],
      "execution_count": null,
      "outputs": [
        {
          "output_type": "execute_result",
          "data": {
            "text/plain": [
              "array([ 70.55218 ,  75.13991 ,  79.72763 ,  84.31535 ,  88.903076,\n",
              "        93.49081 ,  98.07853 , 102.66625 , 107.253975, 111.8417  ],\n",
              "      dtype=float32)"
            ]
          },
          "metadata": {
            "tags": []
          },
          "execution_count": 39
        }
      ]
    },
    {
      "cell_type": "code",
      "metadata": {
        "id": "Gu8-fuZkNZlS",
        "colab": {
          "base_uri": "https://localhost:8080/"
        },
        "outputId": "f34bb2d3-dc7d-4b78-b2da-345b43656ad0"
      },
      "source": [
        "y_test.shape, y_preds.shape"
      ],
      "execution_count": null,
      "outputs": [
        {
          "output_type": "execute_result",
          "data": {
            "text/plain": [
              "(TensorShape([10]), (10, 1))"
            ]
          },
          "metadata": {
            "tags": []
          },
          "execution_count": 40
        }
      ]
    },
    {
      "cell_type": "code",
      "metadata": {
        "id": "cechyTf5Nbau",
        "colab": {
          "base_uri": "https://localhost:8080/"
        },
        "outputId": "ddd5537a-ef00-4c2f-f08e-5ea19f861edc"
      },
      "source": [
        "\n",
        "y_preds.squeeze().shape"
      ],
      "execution_count": null,
      "outputs": [
        {
          "output_type": "execute_result",
          "data": {
            "text/plain": [
              "(10,)"
            ]
          },
          "metadata": {
            "tags": []
          },
          "execution_count": 41
        }
      ]
    },
    {
      "cell_type": "code",
      "metadata": {
        "id": "Nj-LU7mSNzZp",
        "colab": {
          "base_uri": "https://localhost:8080/"
        },
        "outputId": "5cc33845-6bf2-4798-eccf-6ef02de33bc3"
      },
      "source": [
        "mae = tf.metrics.mean_absolute_error(y_true=y_test,\n",
        "                                     y_pred=y_preds.squeeze())\n",
        "mae"
      ],
      "execution_count": null,
      "outputs": [
        {
          "output_type": "execute_result",
          "data": {
            "text/plain": [
              "<tf.Tensor: shape=(), dtype=float32, numpy=3.1969407>"
            ]
          },
          "metadata": {
            "tags": []
          },
          "execution_count": 42
        }
      ]
    },
    {
      "cell_type": "code",
      "metadata": {
        "id": "5a5lS2T8ONXN",
        "colab": {
          "base_uri": "https://localhost:8080/"
        },
        "outputId": "2157cdce-7eee-4daa-ae95-909d8cc114fa"
      },
      "source": [
        "#Calcualte mean square error\n",
        "mse = tf.metrics.mean_squared_error(y_true=y_test,\n",
        "                                    y_pred=y_preds.squeeze())\n",
        "mse"
      ],
      "execution_count": null,
      "outputs": [
        {
          "output_type": "execute_result",
          "data": {
            "text/plain": [
              "<tf.Tensor: shape=(), dtype=float32, numpy=13.070143>"
            ]
          },
          "metadata": {
            "tags": []
          },
          "execution_count": 43
        }
      ]
    },
    {
      "cell_type": "markdown",
      "metadata": {
        "id": "7XwJbbWnOrUK"
      },
      "source": [
        "#Running experiments to improve a model \n",
        "\n",
        "After looking at evaulation metrics and predictions of the models , there is a chance that u will improve it "
      ]
    },
    {
      "cell_type": "markdown",
      "metadata": {
        "id": "5PDWBf5efOy_"
      },
      "source": [
        "# You can do this by 3 ways\n",
        "* Get more data\n",
        "* Make more complex model - by making it larger by adding more layers and more hidden units\n",
        "* Train for longer"
      ]
    },
    {
      "cell_type": "markdown",
      "metadata": {
        "id": "AYoSulaffiHp"
      },
      "source": [
        "#build model_1"
      ]
    },
    {
      "cell_type": "code",
      "metadata": {
        "id": "0zsG2nnmfmIp",
        "colab": {
          "base_uri": "https://localhost:8080/"
        },
        "outputId": "aa34f3a2-f61f-4dcd-c9b2-26d7bf1b25e4"
      },
      "source": [
        "# Set random seed\n",
        "tf.random.set_seed(42)\n",
        "\n",
        "# Replicate original model\n",
        "model_1 = tf.keras.Sequential([\n",
        "  tf.keras.layers.Dense(1)\n",
        "])\n",
        "\n",
        "# Compile the model\n",
        "model_1.compile(loss=tf.keras.losses.mae,\n",
        "                optimizer=tf.keras.optimizers.SGD(),\n",
        "                metrics=['mae'])\n",
        "\n",
        "# Fit the model\n",
        "model_1.fit(X_train, y_train, epochs=100)"
      ],
      "execution_count": null,
      "outputs": [
        {
          "output_type": "stream",
          "text": [
            "Epoch 1/100\n",
            "2/2 [==============================] - 0s 6ms/step - loss: 15.9024 - mae: 15.9024\n",
            "Epoch 2/100\n",
            "2/2 [==============================] - 0s 6ms/step - loss: 11.2837 - mae: 11.2837\n",
            "Epoch 3/100\n",
            "2/2 [==============================] - 0s 4ms/step - loss: 11.1074 - mae: 11.1074\n",
            "Epoch 4/100\n",
            "2/2 [==============================] - 0s 7ms/step - loss: 9.2991 - mae: 9.2991\n",
            "Epoch 5/100\n",
            "2/2 [==============================] - 0s 10ms/step - loss: 10.1677 - mae: 10.1677\n",
            "Epoch 6/100\n",
            "2/2 [==============================] - 0s 7ms/step - loss: 9.4303 - mae: 9.4303\n",
            "Epoch 7/100\n",
            "2/2 [==============================] - 0s 7ms/step - loss: 8.5704 - mae: 8.5704\n",
            "Epoch 8/100\n",
            "2/2 [==============================] - 0s 7ms/step - loss: 9.0442 - mae: 9.0442\n",
            "Epoch 9/100\n",
            "2/2 [==============================] - 0s 6ms/step - loss: 18.7517 - mae: 18.7517\n",
            "Epoch 10/100\n",
            "2/2 [==============================] - 0s 6ms/step - loss: 10.1142 - mae: 10.1142\n",
            "Epoch 11/100\n",
            "2/2 [==============================] - 0s 6ms/step - loss: 8.3980 - mae: 8.3980\n",
            "Epoch 12/100\n",
            "2/2 [==============================] - 0s 4ms/step - loss: 10.6639 - mae: 10.6639\n",
            "Epoch 13/100\n",
            "2/2 [==============================] - 0s 4ms/step - loss: 9.7977 - mae: 9.7977\n",
            "Epoch 14/100\n",
            "2/2 [==============================] - 0s 6ms/step - loss: 16.0103 - mae: 16.0103\n",
            "Epoch 15/100\n",
            "2/2 [==============================] - 0s 8ms/step - loss: 11.4068 - mae: 11.4068\n",
            "Epoch 16/100\n",
            "2/2 [==============================] - 0s 6ms/step - loss: 8.5393 - mae: 8.5393\n",
            "Epoch 17/100\n",
            "2/2 [==============================] - 0s 8ms/step - loss: 13.6348 - mae: 13.6348\n",
            "Epoch 18/100\n",
            "2/2 [==============================] - 0s 5ms/step - loss: 11.4629 - mae: 11.4629\n",
            "Epoch 19/100\n",
            "2/2 [==============================] - 0s 5ms/step - loss: 17.9148 - mae: 17.9148\n",
            "Epoch 20/100\n",
            "2/2 [==============================] - 0s 3ms/step - loss: 15.0494 - mae: 15.0494\n",
            "Epoch 21/100\n",
            "2/2 [==============================] - 0s 4ms/step - loss: 11.0216 - mae: 11.0216\n",
            "Epoch 22/100\n",
            "2/2 [==============================] - 0s 6ms/step - loss: 8.1558 - mae: 8.1558\n",
            "Epoch 23/100\n",
            "2/2 [==============================] - 0s 5ms/step - loss: 9.5138 - mae: 9.5138\n",
            "Epoch 24/100\n",
            "2/2 [==============================] - 0s 8ms/step - loss: 7.6617 - mae: 7.6617\n",
            "Epoch 25/100\n",
            "2/2 [==============================] - 0s 7ms/step - loss: 13.1859 - mae: 13.1859\n",
            "Epoch 26/100\n",
            "2/2 [==============================] - 0s 6ms/step - loss: 16.4211 - mae: 16.4211\n",
            "Epoch 27/100\n",
            "2/2 [==============================] - 0s 5ms/step - loss: 13.1660 - mae: 13.1660\n",
            "Epoch 28/100\n",
            "2/2 [==============================] - 0s 4ms/step - loss: 14.2559 - mae: 14.2559\n",
            "Epoch 29/100\n",
            "2/2 [==============================] - 0s 8ms/step - loss: 10.0670 - mae: 10.0670\n",
            "Epoch 30/100\n",
            "2/2 [==============================] - 0s 10ms/step - loss: 16.3409 - mae: 16.3409\n",
            "Epoch 31/100\n",
            "2/2 [==============================] - 0s 6ms/step - loss: 23.6444 - mae: 23.6444\n",
            "Epoch 32/100\n",
            "2/2 [==============================] - 0s 4ms/step - loss: 7.6215 - mae: 7.6215\n",
            "Epoch 33/100\n",
            "2/2 [==============================] - 0s 6ms/step - loss: 9.3221 - mae: 9.3221\n",
            "Epoch 34/100\n",
            "2/2 [==============================] - 0s 5ms/step - loss: 13.7313 - mae: 13.7313\n",
            "Epoch 35/100\n",
            "2/2 [==============================] - 0s 15ms/step - loss: 11.1276 - mae: 11.1276\n",
            "Epoch 36/100\n",
            "2/2 [==============================] - 0s 7ms/step - loss: 13.3222 - mae: 13.3222\n",
            "Epoch 37/100\n",
            "2/2 [==============================] - 0s 6ms/step - loss: 9.4763 - mae: 9.4763\n",
            "Epoch 38/100\n",
            "2/2 [==============================] - 0s 3ms/step - loss: 10.1381 - mae: 10.1381\n",
            "Epoch 39/100\n",
            "2/2 [==============================] - 0s 7ms/step - loss: 10.1793 - mae: 10.1793\n",
            "Epoch 40/100\n",
            "2/2 [==============================] - 0s 6ms/step - loss: 10.9137 - mae: 10.9137\n",
            "Epoch 41/100\n",
            "2/2 [==============================] - 0s 6ms/step - loss: 7.9063 - mae: 7.9063\n",
            "Epoch 42/100\n",
            "2/2 [==============================] - 0s 9ms/step - loss: 10.0914 - mae: 10.0914\n",
            "Epoch 43/100\n",
            "2/2 [==============================] - 0s 5ms/step - loss: 8.7006 - mae: 8.7006\n",
            "Epoch 44/100\n",
            "2/2 [==============================] - 0s 7ms/step - loss: 12.2047 - mae: 12.2047\n",
            "Epoch 45/100\n",
            "2/2 [==============================] - 0s 5ms/step - loss: 13.7970 - mae: 13.7970\n",
            "Epoch 46/100\n",
            "2/2 [==============================] - 0s 5ms/step - loss: 8.4687 - mae: 8.4687\n",
            "Epoch 47/100\n",
            "2/2 [==============================] - 0s 8ms/step - loss: 9.1330 - mae: 9.1330\n",
            "Epoch 48/100\n",
            "2/2 [==============================] - 0s 3ms/step - loss: 10.6190 - mae: 10.6190\n",
            "Epoch 49/100\n",
            "2/2 [==============================] - 0s 5ms/step - loss: 7.7503 - mae: 7.7503\n",
            "Epoch 50/100\n",
            "2/2 [==============================] - 0s 6ms/step - loss: 9.5407 - mae: 9.5407\n",
            "Epoch 51/100\n",
            "2/2 [==============================] - 0s 12ms/step - loss: 9.1584 - mae: 9.1584\n",
            "Epoch 52/100\n",
            "2/2 [==============================] - 0s 6ms/step - loss: 16.3630 - mae: 16.3630\n",
            "Epoch 53/100\n",
            "2/2 [==============================] - 0s 6ms/step - loss: 14.1299 - mae: 14.1299\n",
            "Epoch 54/100\n",
            "2/2 [==============================] - 0s 4ms/step - loss: 21.1247 - mae: 21.1247\n",
            "Epoch 55/100\n",
            "2/2 [==============================] - 0s 7ms/step - loss: 16.3961 - mae: 16.3961\n",
            "Epoch 56/100\n",
            "2/2 [==============================] - 0s 5ms/step - loss: 9.9806 - mae: 9.9806\n",
            "Epoch 57/100\n",
            "2/2 [==============================] - 0s 5ms/step - loss: 9.9606 - mae: 9.9606\n",
            "Epoch 58/100\n",
            "2/2 [==============================] - 0s 3ms/step - loss: 9.2209 - mae: 9.2209\n",
            "Epoch 59/100\n",
            "2/2 [==============================] - 0s 7ms/step - loss: 8.4239 - mae: 8.4239\n",
            "Epoch 60/100\n",
            "2/2 [==============================] - 0s 5ms/step - loss: 9.4869 - mae: 9.4869\n",
            "Epoch 61/100\n",
            "2/2 [==============================] - 0s 12ms/step - loss: 11.4355 - mae: 11.4355\n",
            "Epoch 62/100\n",
            "2/2 [==============================] - 0s 7ms/step - loss: 11.6887 - mae: 11.6887\n",
            "Epoch 63/100\n",
            "2/2 [==============================] - 0s 4ms/step - loss: 7.0838 - mae: 7.0838\n",
            "Epoch 64/100\n",
            "2/2 [==============================] - 0s 9ms/step - loss: 16.9675 - mae: 16.9675\n",
            "Epoch 65/100\n",
            "2/2 [==============================] - 0s 6ms/step - loss: 12.4599 - mae: 12.4599\n",
            "Epoch 66/100\n",
            "2/2 [==============================] - 0s 5ms/step - loss: 13.0184 - mae: 13.0184\n",
            "Epoch 67/100\n",
            "2/2 [==============================] - 0s 4ms/step - loss: 8.0600 - mae: 8.0600\n",
            "Epoch 68/100\n",
            "2/2 [==============================] - 0s 6ms/step - loss: 10.1888 - mae: 10.1888\n",
            "Epoch 69/100\n",
            "2/2 [==============================] - 0s 7ms/step - loss: 12.3633 - mae: 12.3633\n",
            "Epoch 70/100\n",
            "2/2 [==============================] - 0s 7ms/step - loss: 9.0516 - mae: 9.0516\n",
            "Epoch 71/100\n",
            "2/2 [==============================] - 0s 8ms/step - loss: 10.0378 - mae: 10.0378\n",
            "Epoch 72/100\n",
            "2/2 [==============================] - 0s 4ms/step - loss: 10.0516 - mae: 10.0516\n",
            "Epoch 73/100\n",
            "2/2 [==============================] - 0s 6ms/step - loss: 12.6151 - mae: 12.6151\n",
            "Epoch 74/100\n",
            "2/2 [==============================] - 0s 4ms/step - loss: 10.3819 - mae: 10.3819\n",
            "Epoch 75/100\n",
            "2/2 [==============================] - 0s 7ms/step - loss: 9.7229 - mae: 9.7229\n",
            "Epoch 76/100\n",
            "2/2 [==============================] - 0s 6ms/step - loss: 11.2252 - mae: 11.2252\n",
            "Epoch 77/100\n",
            "2/2 [==============================] - 0s 9ms/step - loss: 8.3642 - mae: 8.3642\n",
            "Epoch 78/100\n",
            "2/2 [==============================] - 0s 7ms/step - loss: 9.1274 - mae: 9.1274\n",
            "Epoch 79/100\n",
            "2/2 [==============================] - 0s 6ms/step - loss: 19.5039 - mae: 19.5039\n",
            "Epoch 80/100\n",
            "2/2 [==============================] - 0s 4ms/step - loss: 14.8945 - mae: 14.8945\n",
            "Epoch 81/100\n",
            "2/2 [==============================] - 0s 5ms/step - loss: 9.0034 - mae: 9.0034\n",
            "Epoch 82/100\n",
            "2/2 [==============================] - 0s 10ms/step - loss: 13.0206 - mae: 13.0206\n",
            "Epoch 83/100\n",
            "2/2 [==============================] - 0s 7ms/step - loss: 7.9299 - mae: 7.9299\n",
            "Epoch 84/100\n",
            "2/2 [==============================] - 0s 7ms/step - loss: 7.6872 - mae: 7.6872\n",
            "Epoch 85/100\n",
            "2/2 [==============================] - 0s 4ms/step - loss: 10.0328 - mae: 10.0328\n",
            "Epoch 86/100\n",
            "2/2 [==============================] - 0s 3ms/step - loss: 9.2433 - mae: 9.2433\n",
            "Epoch 87/100\n",
            "2/2 [==============================] - 0s 8ms/step - loss: 12.0209 - mae: 12.0209\n",
            "Epoch 88/100\n",
            "2/2 [==============================] - 0s 8ms/step - loss: 10.6389 - mae: 10.6389\n",
            "Epoch 89/100\n",
            "2/2 [==============================] - 0s 6ms/step - loss: 7.2667 - mae: 7.2667\n",
            "Epoch 90/100\n",
            "2/2 [==============================] - 0s 20ms/step - loss: 12.7786 - mae: 12.7786\n",
            "Epoch 91/100\n",
            "2/2 [==============================] - 0s 9ms/step - loss: 7.3481 - mae: 7.3481\n",
            "Epoch 92/100\n",
            "2/2 [==============================] - 0s 5ms/step - loss: 7.7175 - mae: 7.7175\n",
            "Epoch 93/100\n",
            "2/2 [==============================] - 0s 4ms/step - loss: 7.1263 - mae: 7.1263\n",
            "Epoch 94/100\n",
            "2/2 [==============================] - 0s 16ms/step - loss: 12.6190 - mae: 12.6190\n",
            "Epoch 95/100\n",
            "2/2 [==============================] - 0s 5ms/step - loss: 10.0912 - mae: 10.0912\n",
            "Epoch 96/100\n",
            "2/2 [==============================] - 0s 10ms/step - loss: 9.3558 - mae: 9.3558\n",
            "Epoch 97/100\n",
            "2/2 [==============================] - 0s 4ms/step - loss: 12.6834 - mae: 12.6834\n",
            "Epoch 98/100\n",
            "2/2 [==============================] - 0s 10ms/step - loss: 8.6762 - mae: 8.6762\n",
            "Epoch 99/100\n",
            "2/2 [==============================] - 0s 7ms/step - loss: 9.4693 - mae: 9.4693\n",
            "Epoch 100/100\n",
            "2/2 [==============================] - 0s 4ms/step - loss: 8.7067 - mae: 8.7067\n"
          ],
          "name": "stdout"
        },
        {
          "output_type": "execute_result",
          "data": {
            "text/plain": [
              "<tensorflow.python.keras.callbacks.History at 0x7fc5ea67ca10>"
            ]
          },
          "metadata": {
            "tags": []
          },
          "execution_count": 44
        }
      ]
    },
    {
      "cell_type": "code",
      "metadata": {
        "id": "WulxBG6xf4oa",
        "colab": {
          "base_uri": "https://localhost:8080/",
          "height": 465
        },
        "outputId": "77d4ea1d-9790-4fca-9c78-5649a8f9a752"
      },
      "source": [
        "# Make and plot predictions for model_1\n",
        "y_preds_1 = model_1.predict(X_test)\n",
        "plot_predictions(predictions=y_preds_1)\n"
      ],
      "execution_count": null,
      "outputs": [
        {
          "output_type": "stream",
          "text": [
            "WARNING:tensorflow:5 out of the last 5 calls to <function Model.make_predict_function.<locals>.predict_function at 0x7fc5ead0b830> triggered tf.function retracing. Tracing is expensive and the excessive number of tracings could be due to (1) creating @tf.function repeatedly in a loop, (2) passing tensors with different shapes, (3) passing Python objects instead of tensors. For (1), please define your @tf.function outside of the loop. For (2), @tf.function has experimental_relax_shapes=True option that relaxes argument shapes that can avoid unnecessary retracing. For (3), please refer to https://www.tensorflow.org/guide/function#controlling_retracing and https://www.tensorflow.org/api_docs/python/tf/function for  more details.\n"
          ],
          "name": "stdout"
        },
        {
          "output_type": "display_data",
          "data": {
            "image/png": "[encoded data removed]",
            "text/plain": [
              "<Figure size 720x504 with 1 Axes>"
            ]
          },
          "metadata": {
            "tags": [],
            "needs_background": "light"
          }
        }
      ]
    },
    {
      "cell_type": "code",
      "metadata": {
        "id": "uN9uS2xTgbMf"
      },
      "source": [
        "def mae(y_test, y_pred):\n",
        "  \"\"\"\n",
        "  Calculuates mean absolute error between y_test and y_preds.\n",
        "  \"\"\"\n",
        "  return tf.metrics.mean_absolute_error(y_test,\n",
        "                                        y_pred)\n",
        "  \n",
        "def mse(y_test, y_pred):\n",
        "  \"\"\"\n",
        "  Calculates mean squared error between y_test and y_preds.\n",
        "  \"\"\"\n",
        "  return tf.metrics.mean_squared_error(y_test,\n",
        "                                       y_pred)"
      ],
      "execution_count": null,
      "outputs": []
    },
    {
      "cell_type": "code",
      "metadata": {
        "id": "Cqlnnxw8foGK",
        "colab": {
          "base_uri": "https://localhost:8080/"
        },
        "outputId": "77b7c2e5-7543-43c1-976a-b89f958bf42a"
      },
      "source": [
        "# Calculate model_1 metrics\n",
        "mae_1 = mae(y_test, y_preds_1.squeeze()).numpy()\n",
        "mse_1 = mse(y_test, y_preds_1.squeeze()).numpy()\n",
        "mae_1, mse_1"
      ],
      "execution_count": null,
      "outputs": [
        {
          "output_type": "execute_result",
          "data": {
            "text/plain": [
              "(18.745327, 353.57336)"
            ]
          },
          "metadata": {
            "tags": []
          },
          "execution_count": 47
        }
      ]
    },
    {
      "cell_type": "markdown",
      "metadata": {
        "id": "y-Pv7T8vfz0Z"
      },
      "source": [
        "#Build model_2"
      ]
    },
    {
      "cell_type": "markdown",
      "metadata": {
        "id": "uC6S0gzPgjLk"
      },
      "source": [
        "#Just adding an extra dense layer and keeping everyting else the same"
      ]
    },
    {
      "cell_type": "code",
      "metadata": {
        "id": "q1l4i3x8kwtr",
        "colab": {
          "base_uri": "https://localhost:8080/"
        },
        "outputId": "b4603bdf-fbb5-4e37-8f90-0f90517d770b"
      },
      "source": [
        "# Set random seed\n",
        "tf.random.set_seed(42)\n",
        "\n",
        "# Replicate original model\n",
        "model_2 = tf.keras.Sequential([\n",
        "  tf.keras.layers.Dense(1),\n",
        "  tf.keras.layers.Dense(1)\n",
        "])\n",
        "\n",
        "# Compile the model\n",
        "model_2.compile(loss=tf.keras.losses.mae,\n",
        "                optimizer=tf.keras.optimizers.SGD(),\n",
        "                metrics=['mae'])\n",
        "\n",
        "# Fit the model\n",
        "model_2.fit(X_train, y_train, epochs=100)"
      ],
      "execution_count": null,
      "outputs": [
        {
          "output_type": "stream",
          "text": [
            "Epoch 1/100\n",
            "2/2 [==============================] - 0s 6ms/step - loss: 22.6625 - mae: 22.6625\n",
            "Epoch 2/100\n",
            "2/2 [==============================] - 0s 3ms/step - loss: 16.9439 - mae: 16.9439\n",
            "Epoch 3/100\n",
            "2/2 [==============================] - 0s 10ms/step - loss: 13.8059 - mae: 13.8059\n",
            "Epoch 4/100\n",
            "2/2 [==============================] - 0s 4ms/step - loss: 17.4504 - mae: 17.4504\n",
            "Epoch 5/100\n",
            "2/2 [==============================] - 0s 7ms/step - loss: 12.0637 - mae: 12.0637\n",
            "Epoch 6/100\n",
            "2/2 [==============================] - 0s 8ms/step - loss: 9.8335 - mae: 9.8335\n",
            "Epoch 7/100\n",
            "2/2 [==============================] - 0s 5ms/step - loss: 10.7023 - mae: 10.7023\n",
            "Epoch 8/100\n",
            "2/2 [==============================] - 0s 9ms/step - loss: 10.8713 - mae: 10.8713\n",
            "Epoch 9/100\n",
            "2/2 [==============================] - 0s 4ms/step - loss: 38.0435 - mae: 38.0435\n",
            "Epoch 10/100\n",
            "2/2 [==============================] - 0s 9ms/step - loss: 25.6226 - mae: 25.6226\n",
            "Epoch 11/100\n",
            "2/2 [==============================] - 0s 6ms/step - loss: 10.2375 - mae: 10.2375\n",
            "Epoch 12/100\n",
            "2/2 [==============================] - 0s 4ms/step - loss: 25.1960 - mae: 25.1960\n",
            "Epoch 13/100\n",
            "2/2 [==============================] - 0s 6ms/step - loss: 17.0177 - mae: 17.0177\n",
            "Epoch 14/100\n",
            "2/2 [==============================] - 0s 3ms/step - loss: 25.9747 - mae: 25.9747\n",
            "Epoch 15/100\n",
            "2/2 [==============================] - 0s 4ms/step - loss: 18.0366 - mae: 18.0366\n",
            "Epoch 16/100\n",
            "2/2 [==============================] - 0s 5ms/step - loss: 7.3513 - mae: 7.3513\n",
            "Epoch 17/100\n",
            "2/2 [==============================] - 0s 5ms/step - loss: 10.8516 - mae: 10.8516\n",
            "Epoch 18/100\n",
            "2/2 [==============================] - 0s 5ms/step - loss: 19.5119 - mae: 19.5119\n",
            "Epoch 19/100\n",
            "2/2 [==============================] - 0s 10ms/step - loss: 10.3378 - mae: 10.3378\n",
            "Epoch 20/100\n",
            "2/2 [==============================] - 0s 6ms/step - loss: 17.6840 - mae: 17.6840\n",
            "Epoch 21/100\n",
            "2/2 [==============================] - 0s 9ms/step - loss: 15.8826 - mae: 15.8826\n",
            "Epoch 22/100\n",
            "2/2 [==============================] - 0s 13ms/step - loss: 14.1778 - mae: 14.1778\n",
            "Epoch 23/100\n",
            "2/2 [==============================] - 0s 5ms/step - loss: 8.7814 - mae: 8.7814\n",
            "Epoch 24/100\n",
            "2/2 [==============================] - 0s 4ms/step - loss: 11.0673 - mae: 11.0673\n",
            "Epoch 25/100\n",
            "2/2 [==============================] - 0s 5ms/step - loss: 12.6998 - mae: 12.6998\n",
            "Epoch 26/100\n",
            "2/2 [==============================] - 0s 4ms/step - loss: 26.2395 - mae: 26.2395\n",
            "Epoch 27/100\n",
            "2/2 [==============================] - 0s 7ms/step - loss: 11.7524 - mae: 11.7524\n",
            "Epoch 28/100\n",
            "2/2 [==============================] - 0s 10ms/step - loss: 22.9252 - mae: 22.9252\n",
            "Epoch 29/100\n",
            "2/2 [==============================] - 0s 3ms/step - loss: 9.2439 - mae: 9.2439\n",
            "Epoch 30/100\n",
            "2/2 [==============================] - 0s 6ms/step - loss: 29.3121 - mae: 29.3121\n",
            "Epoch 31/100\n",
            "2/2 [==============================] - 0s 5ms/step - loss: 53.1141 - mae: 53.1141\n",
            "Epoch 32/100\n",
            "2/2 [==============================] - 0s 6ms/step - loss: 12.3708 - mae: 12.3708\n",
            "Epoch 33/100\n",
            "2/2 [==============================] - 0s 6ms/step - loss: 12.1831 - mae: 12.1831\n",
            "Epoch 34/100\n",
            "2/2 [==============================] - 0s 5ms/step - loss: 23.9483 - mae: 23.9483\n",
            "Epoch 35/100\n",
            "2/2 [==============================] - 0s 9ms/step - loss: 12.6223 - mae: 12.6223\n",
            "Epoch 36/100\n",
            "2/2 [==============================] - 0s 13ms/step - loss: 21.5243 - mae: 21.5243\n",
            "Epoch 37/100\n",
            "2/2 [==============================] - 0s 5ms/step - loss: 11.3913 - mae: 11.3913\n",
            "Epoch 38/100\n",
            "2/2 [==============================] - 0s 3ms/step - loss: 13.4744 - mae: 13.4744\n",
            "Epoch 39/100\n",
            "2/2 [==============================] - 0s 3ms/step - loss: 10.7992 - mae: 10.7992\n",
            "Epoch 40/100\n",
            "2/2 [==============================] - 0s 4ms/step - loss: 16.6026 - mae: 16.6026\n",
            "Epoch 41/100\n",
            "2/2 [==============================] - 0s 3ms/step - loss: 10.9797 - mae: 10.9797\n",
            "Epoch 42/100\n",
            "2/2 [==============================] - 0s 3ms/step - loss: 9.3049 - mae: 9.3049\n",
            "Epoch 43/100\n",
            "2/2 [==============================] - 0s 11ms/step - loss: 9.5985 - mae: 9.5985\n",
            "Epoch 44/100\n",
            "2/2 [==============================] - 0s 3ms/step - loss: 27.9750 - mae: 27.9750\n",
            "Epoch 45/100\n",
            "2/2 [==============================] - 0s 6ms/step - loss: 11.2865 - mae: 11.2865\n",
            "Epoch 46/100\n",
            "2/2 [==============================] - 0s 3ms/step - loss: 14.0574 - mae: 14.0574\n",
            "Epoch 47/100\n",
            "2/2 [==============================] - 0s 4ms/step - loss: 13.5113 - mae: 13.5113\n",
            "Epoch 48/100\n",
            "2/2 [==============================] - 0s 3ms/step - loss: 17.3531 - mae: 17.3531\n",
            "Epoch 49/100\n",
            "2/2 [==============================] - 0s 9ms/step - loss: 9.5141 - mae: 9.5141\n",
            "Epoch 50/100\n",
            "2/2 [==============================] - 0s 5ms/step - loss: 13.6965 - mae: 13.6965\n",
            "Epoch 51/100\n",
            "2/2 [==============================] - 0s 5ms/step - loss: 11.5602 - mae: 11.5602\n",
            "Epoch 52/100\n",
            "2/2 [==============================] - 0s 12ms/step - loss: 30.1688 - mae: 30.1688\n",
            "Epoch 53/100\n",
            "2/2 [==============================] - 0s 8ms/step - loss: 13.7142 - mae: 13.7142\n",
            "Epoch 54/100\n",
            "2/2 [==============================] - 0s 13ms/step - loss: 26.3987 - mae: 26.3987\n",
            "Epoch 55/100\n",
            "2/2 [==============================] - 0s 5ms/step - loss: 25.9838 - mae: 25.9838\n",
            "Epoch 56/100\n",
            "2/2 [==============================] - 0s 6ms/step - loss: 11.2307 - mae: 11.2307\n",
            "Epoch 57/100\n",
            "2/2 [==============================] - 0s 7ms/step - loss: 13.2025 - mae: 13.2025\n",
            "Epoch 58/100\n",
            "2/2 [==============================] - 0s 4ms/step - loss: 9.8624 - mae: 9.8624\n",
            "Epoch 59/100\n",
            "2/2 [==============================] - 0s 4ms/step - loss: 13.3870 - mae: 13.3870\n",
            "Epoch 60/100\n",
            "2/2 [==============================] - 0s 4ms/step - loss: 10.9240 - mae: 10.9240\n",
            "Epoch 61/100\n",
            "2/2 [==============================] - 0s 5ms/step - loss: 13.5375 - mae: 13.5375\n",
            "Epoch 62/100\n",
            "2/2 [==============================] - 0s 5ms/step - loss: 17.6004 - mae: 17.6004\n",
            "Epoch 63/100\n",
            "2/2 [==============================] - 0s 11ms/step - loss: 9.1937 - mae: 9.1937\n",
            "Epoch 64/100\n",
            "2/2 [==============================] - 0s 5ms/step - loss: 18.4644 - mae: 18.4644\n",
            "Epoch 65/100\n",
            "2/2 [==============================] - 0s 15ms/step - loss: 10.1481 - mae: 10.1481\n",
            "Epoch 66/100\n",
            "2/2 [==============================] - 0s 12ms/step - loss: 24.3358 - mae: 24.3358\n",
            "Epoch 67/100\n",
            "2/2 [==============================] - 0s 3ms/step - loss: 10.9262 - mae: 10.9262\n",
            "Epoch 68/100\n",
            "2/2 [==============================] - 0s 5ms/step - loss: 10.8005 - mae: 10.8005\n",
            "Epoch 69/100\n",
            "2/2 [==============================] - 0s 3ms/step - loss: 23.3093 - mae: 23.3093\n",
            "Epoch 70/100\n",
            "2/2 [==============================] - 0s 3ms/step - loss: 8.8134 - mae: 8.8134\n",
            "Epoch 71/100\n",
            "2/2 [==============================] - 0s 3ms/step - loss: 15.9715 - mae: 15.9715\n",
            "Epoch 72/100\n",
            "2/2 [==============================] - 0s 3ms/step - loss: 8.1469 - mae: 8.1469\n",
            "Epoch 73/100\n",
            "2/2 [==============================] - 0s 6ms/step - loss: 9.4683 - mae: 9.4683\n",
            "Epoch 74/100\n",
            "2/2 [==============================] - 0s 4ms/step - loss: 28.1492 - mae: 28.1492\n",
            "Epoch 75/100\n",
            "2/2 [==============================] - 0s 3ms/step - loss: 10.2183 - mae: 10.2183\n",
            "Epoch 76/100\n",
            "2/2 [==============================] - 0s 3ms/step - loss: 13.1686 - mae: 13.1686\n",
            "Epoch 77/100\n",
            "2/2 [==============================] - 0s 3ms/step - loss: 18.4013 - mae: 18.4013\n",
            "Epoch 78/100\n",
            "2/2 [==============================] - 0s 4ms/step - loss: 9.0304 - mae: 9.0304\n",
            "Epoch 79/100\n",
            "2/2 [==============================] - 0s 6ms/step - loss: 23.4407 - mae: 23.4407\n",
            "Epoch 80/100\n",
            "2/2 [==============================] - 0s 7ms/step - loss: 26.1121 - mae: 26.1121\n",
            "Epoch 81/100\n",
            "2/2 [==============================] - 0s 7ms/step - loss: 11.4009 - mae: 11.4009\n",
            "Epoch 82/100\n",
            "2/2 [==============================] - 0s 5ms/step - loss: 12.5022 - mae: 12.5022\n",
            "Epoch 83/100\n",
            "2/2 [==============================] - 0s 3ms/step - loss: 17.1948 - mae: 17.1948\n",
            "Epoch 84/100\n",
            "2/2 [==============================] - 0s 11ms/step - loss: 6.6097 - mae: 6.6097\n",
            "Epoch 85/100\n",
            "2/2 [==============================] - 0s 5ms/step - loss: 20.2735 - mae: 20.2735\n",
            "Epoch 86/100\n",
            "2/2 [==============================] - 0s 8ms/step - loss: 10.1761 - mae: 10.1761\n",
            "Epoch 87/100\n",
            "2/2 [==============================] - 0s 7ms/step - loss: 24.3047 - mae: 24.3047\n",
            "Epoch 88/100\n",
            "2/2 [==============================] - 0s 8ms/step - loss: 18.9693 - mae: 18.9693\n",
            "Epoch 89/100\n",
            "2/2 [==============================] - 0s 8ms/step - loss: 7.1749 - mae: 7.1749\n",
            "Epoch 90/100\n",
            "2/2 [==============================] - 0s 6ms/step - loss: 18.2784 - mae: 18.2784\n",
            "Epoch 91/100\n",
            "2/2 [==============================] - 0s 4ms/step - loss: 13.3343 - mae: 13.3343\n",
            "Epoch 92/100\n",
            "2/2 [==============================] - 0s 4ms/step - loss: 8.7404 - mae: 8.7404\n",
            "Epoch 93/100\n",
            "2/2 [==============================] - 0s 4ms/step - loss: 14.1947 - mae: 14.1947\n",
            "Epoch 94/100\n",
            "2/2 [==============================] - 0s 15ms/step - loss: 17.1954 - mae: 17.1954\n",
            "Epoch 95/100\n",
            "2/2 [==============================] - 0s 4ms/step - loss: 16.7777 - mae: 16.7777\n",
            "Epoch 96/100\n",
            "2/2 [==============================] - 0s 6ms/step - loss: 11.1365 - mae: 11.1365\n",
            "Epoch 97/100\n",
            "2/2 [==============================] - 0s 4ms/step - loss: 21.1982 - mae: 21.1982\n",
            "Epoch 98/100\n",
            "2/2 [==============================] - 0s 4ms/step - loss: 10.4874 - mae: 10.4874\n",
            "Epoch 99/100\n",
            "2/2 [==============================] - 0s 5ms/step - loss: 14.5632 - mae: 14.5632\n",
            "Epoch 100/100\n",
            "2/2 [==============================] - 0s 5ms/step - loss: 17.7188 - mae: 17.7188\n"
          ],
          "name": "stdout"
        },
        {
          "output_type": "execute_result",
          "data": {
            "text/plain": [
              "<tensorflow.python.keras.callbacks.History at 0x7fc5eabdd850>"
            ]
          },
          "metadata": {
            "tags": []
          },
          "execution_count": 48
        }
      ]
    },
    {
      "cell_type": "code",
      "metadata": {
        "id": "qaOHcTHOk4-6",
        "colab": {
          "base_uri": "https://localhost:8080/",
          "height": 465
        },
        "outputId": "b8ef226a-1a23-4a17-efb2-058e90d41764"
      },
      "source": [
        "# Make and plot predictions for model_1\n",
        "y_preds_2 = model_2.predict(X_test)\n",
        "plot_predictions(predictions=y_preds_2)"
      ],
      "execution_count": null,
      "outputs": [
        {
          "output_type": "stream",
          "text": [
            "WARNING:tensorflow:6 out of the last 6 calls to <function Model.make_predict_function.<locals>.predict_function at 0x7fc5eab6fb00> triggered tf.function retracing. Tracing is expensive and the excessive number of tracings could be due to (1) creating @tf.function repeatedly in a loop, (2) passing tensors with different shapes, (3) passing Python objects instead of tensors. For (1), please define your @tf.function outside of the loop. For (2), @tf.function has experimental_relax_shapes=True option that relaxes argument shapes that can avoid unnecessary retracing. For (3), please refer to https://www.tensorflow.org/guide/function#controlling_retracing and https://www.tensorflow.org/api_docs/python/tf/function for  more details.\n"
          ],
          "name": "stdout"
        },
        {
          "output_type": "display_data",
          "data": {
            "image/png": "[encoded data removed]",
            "text/plain": [
              "<Figure size 720x504 with 1 Axes>"
            ]
          },
          "metadata": {
            "tags": [],
            "needs_background": "light"
          }
        }
      ]
    },
    {
      "cell_type": "code",
      "metadata": {
        "id": "mO5qOmOImtRC",
        "colab": {
          "base_uri": "https://localhost:8080/"
        },
        "outputId": "e9039107-b26c-442e-dc21-1fb0175b0c14"
      },
      "source": [
        "# Calculate model_2 metrics\n",
        "mae_2 = mae(y_test, y_preds_2.squeeze()).numpy()\n",
        "mse_2 = mse(y_test, y_preds_2.squeeze()).numpy()\n",
        "mae_2, mse_2"
      ],
      "execution_count": null,
      "outputs": [
        {
          "output_type": "execute_result",
          "data": {
            "text/plain": [
              "(1.9098114, 5.459232)"
            ]
          },
          "metadata": {
            "tags": []
          },
          "execution_count": 50
        }
      ]
    },
    {
      "cell_type": "markdown",
      "metadata": {
        "id": "o9e0DvP6nPr7"
      },
      "source": [
        "#Model 3 - the only difference here is that we are increasing the epochs to 500 and keeping the model 2 same"
      ]
    },
    {
      "cell_type": "markdown",
      "metadata": {
        "id": "9-zzbTpmnbdW"
      },
      "source": [
        "#** This gives our model more chance to learn pattern from our data **"
      ]
    },
    {
      "cell_type": "code",
      "metadata": {
        "id": "hg593_honjC2",
        "colab": {
          "base_uri": "https://localhost:8080/"
        },
        "outputId": "7b1627b2-cd15-42a6-a211-0af89a7dbeef"
      },
      "source": [
        "# Set random seed\n",
        "tf.random.set_seed(42)\n",
        "\n",
        "# Replicate model_2\n",
        "model_3 = tf.keras.Sequential([\n",
        "  tf.keras.layers.Dense(1),\n",
        "  tf.keras.layers.Dense(1)\n",
        "])\n",
        "\n",
        "# Compile the model\n",
        "model_3.compile(loss=tf.keras.losses.mae,\n",
        "                optimizer=tf.keras.optimizers.SGD(),\n",
        "                metrics=['mae'])\n",
        "\n",
        "# Fit the model (this time for 500 epochs, not 100)\n",
        "model_3.fit(X_train, y_train, epochs=500, verbose=0) # set verbose to 0 for less output"
      ],
      "execution_count": null,
      "outputs": [
        {
          "output_type": "execute_result",
          "data": {
            "text/plain": [
              "<tensorflow.python.keras.callbacks.History at 0x7fc5eadeaad0>"
            ]
          },
          "metadata": {
            "tags": []
          },
          "execution_count": 51
        }
      ]
    },
    {
      "cell_type": "code",
      "metadata": {
        "id": "76Mb05yln02R",
        "colab": {
          "base_uri": "https://localhost:8080/",
          "height": 428
        },
        "outputId": "19370b34-890e-4441-c9d2-1c1e0d37edfc"
      },
      "source": [
        "\n",
        "\n",
        "\n",
        "# Make and plot predictions for model_3\n",
        "y_preds_3 = model_3.predict(X_test)\n",
        "plot_predictions(predictions=y_preds_3)"
      ],
      "execution_count": null,
      "outputs": [
        {
          "output_type": "display_data",
          "data": {
            "image/png": "[encoded data removed]",
            "text/plain": [
              "<Figure size 720x504 with 1 Axes>"
            ]
          },
          "metadata": {
            "tags": [],
            "needs_background": "light"
          }
        }
      ]
    },
    {
      "cell_type": "markdown",
      "metadata": {
        "id": "5SWhJJpRn3H0"
      },
      "source": [
        "#Training for too long has given us worse results"
      ]
    },
    {
      "cell_type": "code",
      "metadata": {
        "id": "eDkd1bYjn-GN",
        "colab": {
          "base_uri": "https://localhost:8080/"
        },
        "outputId": "4012a9ed-8d71-4e84-c0b4-5ca846f935e7"
      },
      "source": [
        "# Calculate model_3 metrics\n",
        "mae_3 = mae(y_test, y_preds_3.squeeze()).numpy()\n",
        "mse_3 = mse(y_test, y_preds_3.squeeze()).numpy()\n",
        "mae_3, mse_3"
      ],
      "execution_count": null,
      "outputs": [
        {
          "output_type": "execute_result",
          "data": {
            "text/plain": [
              "(68.68786, 4804.4717)"
            ]
          },
          "metadata": {
            "tags": []
          },
          "execution_count": 53
        }
      ]
    },
    {
      "cell_type": "markdown",
      "metadata": {
        "id": "KRKrQ5YQn_7S"
      },
      "source": [
        "#comparing results "
      ]
    },
    {
      "cell_type": "code",
      "metadata": {
        "id": "W_ECpde-oDn3"
      },
      "source": [
        "model_results = [[\"model_1\", mae_1, mse_1],\n",
        "                      [\"model_2\",mae_2,mse_2],\n",
        "                     [\"model_3\", mae_3, mse_3]\n",
        "]"
      ],
      "execution_count": null,
      "outputs": []
    },
    {
      "cell_type": "code",
      "metadata": {
        "id": "eF2FiAz0oXwd",
        "colab": {
          "base_uri": "https://localhost:8080/",
          "height": 142
        },
        "outputId": "7b7758e1-ce19-4094-f570-97d6fa3e9fec"
      },
      "source": [
        "import pandas as pd\n",
        "\n",
        "all_results = pd.DataFrame(model_results, columns=[\"model\", \"mae\",\"mse\"])\n",
        "all_results"
      ],
      "execution_count": null,
      "outputs": [
        {
          "output_type": "execute_result",
          "data": {
            "text/html": [
              "<div>\n",
              "<style scoped>\n",
              "    .dataframe tbody tr th:only-of-type {\n",
              "        vertical-align: middle;\n",
              "    }\n",
              "\n",
              "    .dataframe tbody tr th {\n",
              "        vertical-align: top;\n",
              "    }\n",
              "\n",
              "    .dataframe thead th {\n",
              "        text-align: right;\n",
              "    }\n",
              "</style>\n",
              "<table border=\"1\" class=\"dataframe\">\n",
              "  <thead>\n",
              "    <tr style=\"text-align: right;\">\n",
              "      <th></th>\n",
              "      <th>model</th>\n",
              "      <th>mae</th>\n",
              "      <th>mse</th>\n",
              "    </tr>\n",
              "  </thead>\n",
              "  <tbody>\n",
              "    <tr>\n",
              "      <th>0</th>\n",
              "      <td>model_1</td>\n",
              "      <td>18.745327</td>\n",
              "      <td>353.573364</td>\n",
              "    </tr>\n",
              "    <tr>\n",
              "      <th>1</th>\n",
              "      <td>model_2</td>\n",
              "      <td>1.909811</td>\n",
              "      <td>5.459232</td>\n",
              "    </tr>\n",
              "    <tr>\n",
              "      <th>2</th>\n",
              "      <td>model_3</td>\n",
              "      <td>68.687859</td>\n",
              "      <td>4804.471680</td>\n",
              "    </tr>\n",
              "  </tbody>\n",
              "</table>\n",
              "</div>"
            ],
            "text/plain": [
              "     model        mae          mse\n",
              "0  model_1  18.745327   353.573364\n",
              "1  model_2   1.909811     5.459232\n",
              "2  model_3  68.687859  4804.471680"
            ]
          },
          "metadata": {
            "tags": []
          },
          "execution_count": 55
        }
      ]
    },
    {
      "cell_type": "code",
      "metadata": {
        "id": "isodpKo3qr34",
        "colab": {
          "base_uri": "https://localhost:8080/"
        },
        "outputId": "f28549e0-cc1a-4691-e638-29d60980a6a5"
      },
      "source": [
        "model_2.summary()"
      ],
      "execution_count": null,
      "outputs": [
        {
          "output_type": "stream",
          "text": [
            "Model: \"sequential_5\"\n",
            "_________________________________________________________________\n",
            "Layer (type)                 Output Shape              Param #   \n",
            "=================================================================\n",
            "dense_6 (Dense)              (None, 1)                 2         \n",
            "_________________________________________________________________\n",
            "dense_7 (Dense)              (None, 1)                 2         \n",
            "=================================================================\n",
            "Total params: 4\n",
            "Trainable params: 4\n",
            "Non-trainable params: 0\n",
            "_________________________________________________________________\n"
          ],
          "name": "stdout"
        }
      ]
    },
    {
      "cell_type": "markdown",
      "metadata": {
        "id": "ZU7IjrHhq55R"
      },
      "source": [
        "Tracking your experiments\n",
        "One really good habit to get into is tracking your modelling experiments to see which perform better than others.\n",
        "\n",
        "We've done a simple version of this above (keeping the results in different variables).\n",
        "\n",
        "📖 Resource: But as you build more models, you'll want to look into using tools such as:\n",
        "\n",
        "TensorBoard - a component of the TensorFlow library to help track modelling experiments (we'll see this later).\n",
        "Weights & Biases - a tool for tracking all kinds of machine learning experiments (the good news for Weights & Biases is it plugs into TensorBoard).\n",
        "\n"
      ]
    },
    {
      "cell_type": "markdown",
      "metadata": {
        "id": "wvs8bBUk3WzI"
      },
      "source": [
        "#Save the model"
      ]
    },
    {
      "cell_type": "markdown",
      "metadata": {
        "id": "Jj5eBpZR3bRS"
      },
      "source": [
        "#Two major formats"
      ]
    },
    {
      "cell_type": "markdown",
      "metadata": {
        "id": "9RyW9aOc3gXd"
      },
      "source": [
        "* The savedModel format\n",
        "* HDF5 format"
      ]
    },
    {
      "cell_type": "code",
      "metadata": {
        "id": "Yh6jy79g3oHg",
        "colab": {
          "base_uri": "https://localhost:8080/"
        },
        "outputId": "0d5ff149-5d51-4a8c-e88b-315969c55740"
      },
      "source": [
        "#Option 1\n",
        "model_2.save('best_model_SavedModel_format')"
      ],
      "execution_count": null,
      "outputs": [
        {
          "output_type": "stream",
          "text": [
            "INFO:tensorflow:Assets written to: best_model_SavedModel_format/assets\n"
          ],
          "name": "stdout"
        }
      ]
    },
    {
      "cell_type": "code",
      "metadata": {
        "id": "zmRK9RRX3x20",
        "colab": {
          "base_uri": "https://localhost:8080/"
        },
        "outputId": "934f1bd1-9038-463b-a151-ed6c8e2088a7"
      },
      "source": [
        "#Check it out - outputs a protobuf binary file (.pb) as well as other files\n",
        "!ls best_model_SavedModel_format/"
      ],
      "execution_count": null,
      "outputs": [
        {
          "output_type": "stream",
          "text": [
            "assets\tkeras_metadata.pb  saved_model.pb  variables\n"
          ],
          "name": "stdout"
        }
      ]
    },
    {
      "cell_type": "code",
      "metadata": {
        "id": "Zwxd72rN3-bg"
      },
      "source": [
        "#Option 2\n",
        "model_2.save(\"best_model_HDF5_format.h5\")"
      ],
      "execution_count": null,
      "outputs": []
    },
    {
      "cell_type": "code",
      "metadata": {
        "id": "19ZLzZ3d4Jbq",
        "colab": {
          "base_uri": "https://localhost:8080/"
        },
        "outputId": "dc082c46-81fb-4faf-f944-895e6e6d9ac7"
      },
      "source": [
        "!ls best_model_HDF5_format.h5"
      ],
      "execution_count": null,
      "outputs": [
        {
          "output_type": "stream",
          "text": [
            "best_model_HDF5_format.h5\n"
          ],
          "name": "stdout"
        }
      ]
    },
    {
      "cell_type": "code",
      "metadata": {
        "id": "ITll7Pgp4L6k",
        "colab": {
          "base_uri": "https://localhost:8080/"
        },
        "outputId": "1359da2e-92ee-4aab-951b-0644970a9d05"
      },
      "source": [
        "#Load the model from saved one\n",
        "loaded_saved_model = tf.keras.models.load_model(\"best_model_SavedModel_format\")\n",
        "loaded_saved_model.summary()"
      ],
      "execution_count": null,
      "outputs": [
        {
          "output_type": "stream",
          "text": [
            "Model: \"sequential_5\"\n",
            "_________________________________________________________________\n",
            "Layer (type)                 Output Shape              Param #   \n",
            "=================================================================\n",
            "dense_6 (Dense)              (None, 1)                 2         \n",
            "_________________________________________________________________\n",
            "dense_7 (Dense)              (None, 1)                 2         \n",
            "=================================================================\n",
            "Total params: 4\n",
            "Trainable params: 4\n",
            "Non-trainable params: 0\n",
            "_________________________________________________________________\n"
          ],
          "name": "stdout"
        }
      ]
    },
    {
      "cell_type": "code",
      "metadata": {
        "id": "bxfYuINL4dU_",
        "colab": {
          "base_uri": "https://localhost:8080/"
        },
        "outputId": "7e29ebb5-9bf3-4732-f4da-f7b2ae84052c"
      },
      "source": [
        "#Compare model_2 with the SavedModel version (should return True)\n",
        "model_2_preds = model_2.predict(X_test)\n",
        "saved_model_preds = loaded_saved_model.predict(X_test)\n",
        "mae(y_test, saved_model_preds.squeeze()).numpy() == mae(y_test, model_2_preds.squeeze()).numpy()"
      ],
      "execution_count": null,
      "outputs": [
        {
          "output_type": "execute_result",
          "data": {
            "text/plain": [
              "True"
            ]
          },
          "metadata": {
            "tags": []
          },
          "execution_count": 62
        }
      ]
    },
    {
      "cell_type": "code",
      "metadata": {
        "id": "wLQoygAH4mGE",
        "colab": {
          "base_uri": "https://localhost:8080/"
        },
        "outputId": "967e14aa-9cdf-42f9-f592-2b1706c4d618"
      },
      "source": [
        "# Load a model from the HDF5 format\n",
        "loaded_h5_model = tf.keras.models.load_model(\"best_model_HDF5_format.h5\")\n",
        "loaded_h5_model.summary()"
      ],
      "execution_count": null,
      "outputs": [
        {
          "output_type": "stream",
          "text": [
            "Model: \"sequential_5\"\n",
            "_________________________________________________________________\n",
            "Layer (type)                 Output Shape              Param #   \n",
            "=================================================================\n",
            "dense_6 (Dense)              (None, 1)                 2         \n",
            "_________________________________________________________________\n",
            "dense_7 (Dense)              (None, 1)                 2         \n",
            "=================================================================\n",
            "Total params: 4\n",
            "Trainable params: 4\n",
            "Non-trainable params: 0\n",
            "_________________________________________________________________\n"
          ],
          "name": "stdout"
        }
      ]
    },
    {
      "cell_type": "code",
      "metadata": {
        "id": "NdH27H3c971G",
        "colab": {
          "base_uri": "https://localhost:8080/"
        },
        "outputId": "eb113fad-2b9b-46bf-91b6-72d083d9ccf9"
      },
      "source": [
        "# Compare model_2 with the loaded HDF5 version (should return True)\n",
        "h5_model_preds = loaded_h5_model.predict(X_test)\n",
        "mae(y_test, h5_model_preds.squeeze()).numpy() == mae(y_test, model_2_preds.squeeze()).numpy()"
      ],
      "execution_count": null,
      "outputs": [
        {
          "output_type": "execute_result",
          "data": {
            "text/plain": [
              "True"
            ]
          },
          "metadata": {
            "tags": []
          },
          "execution_count": 64
        }
      ]
    },
    {
      "cell_type": "markdown",
      "metadata": {
        "id": "KG-7hThT9-1w"
      },
      "source": [
        "# A larger example"
      ]
    },
    {
      "cell_type": "code",
      "metadata": {
        "id": "vFb09poa_t0N"
      },
      "source": [
        "#Medical cost dataset\n",
        "\n",
        "#Import required libraries\n",
        "import tensorflow as tf\n",
        "import matplotlib.pyplot as plt\n",
        "import numpy as np\n",
        "import pandas as pd"
      ],
      "execution_count": null,
      "outputs": []
    },
    {
      "cell_type": "code",
      "metadata": {
        "id": "uJ7_ctbaCkpE"
      },
      "source": [
        "#Read in the insurance dataset\n",
        "insurance = pd.read_csv(\"https://raw.githubusercontent.com/stedy/Machine-Learning-with-R-datasets/master/insurance.csv\")"
      ],
      "execution_count": null,
      "outputs": []
    },
    {
      "cell_type": "code",
      "metadata": {
        "id": "1LofZOwwCqdA",
        "colab": {
          "base_uri": "https://localhost:8080/",
          "height": 419
        },
        "outputId": "935402cd-af93-476e-a887-d2adda906963"
      },
      "source": [
        "insurance"
      ],
      "execution_count": null,
      "outputs": [
        {
          "output_type": "execute_result",
          "data": {
            "text/html": [
              "<div>\n",
              "<style scoped>\n",
              "    .dataframe tbody tr th:only-of-type {\n",
              "        vertical-align: middle;\n",
              "    }\n",
              "\n",
              "    .dataframe tbody tr th {\n",
              "        vertical-align: top;\n",
              "    }\n",
              "\n",
              "    .dataframe thead th {\n",
              "        text-align: right;\n",
              "    }\n",
              "</style>\n",
              "<table border=\"1\" class=\"dataframe\">\n",
              "  <thead>\n",
              "    <tr style=\"text-align: right;\">\n",
              "      <th></th>\n",
              "      <th>age</th>\n",
              "      <th>sex</th>\n",
              "      <th>bmi</th>\n",
              "      <th>children</th>\n",
              "      <th>smoker</th>\n",
              "      <th>region</th>\n",
              "      <th>charges</th>\n",
              "    </tr>\n",
              "  </thead>\n",
              "  <tbody>\n",
              "    <tr>\n",
              "      <th>0</th>\n",
              "      <td>19</td>\n",
              "      <td>female</td>\n",
              "      <td>27.900</td>\n",
              "      <td>0</td>\n",
              "      <td>yes</td>\n",
              "      <td>southwest</td>\n",
              "      <td>16884.92400</td>\n",
              "    </tr>\n",
              "    <tr>\n",
              "      <th>1</th>\n",
              "      <td>18</td>\n",
              "      <td>male</td>\n",
              "      <td>33.770</td>\n",
              "      <td>1</td>\n",
              "      <td>no</td>\n",
              "      <td>southeast</td>\n",
              "      <td>1725.55230</td>\n",
              "    </tr>\n",
              "    <tr>\n",
              "      <th>2</th>\n",
              "      <td>28</td>\n",
              "      <td>male</td>\n",
              "      <td>33.000</td>\n",
              "      <td>3</td>\n",
              "      <td>no</td>\n",
              "      <td>southeast</td>\n",
              "      <td>4449.46200</td>\n",
              "    </tr>\n",
              "    <tr>\n",
              "      <th>3</th>\n",
              "      <td>33</td>\n",
              "      <td>male</td>\n",
              "      <td>22.705</td>\n",
              "      <td>0</td>\n",
              "      <td>no</td>\n",
              "      <td>northwest</td>\n",
              "      <td>21984.47061</td>\n",
              "    </tr>\n",
              "    <tr>\n",
              "      <th>4</th>\n",
              "      <td>32</td>\n",
              "      <td>male</td>\n",
              "      <td>28.880</td>\n",
              "      <td>0</td>\n",
              "      <td>no</td>\n",
              "      <td>northwest</td>\n",
              "      <td>3866.85520</td>\n",
              "    </tr>\n",
              "    <tr>\n",
              "      <th>...</th>\n",
              "      <td>...</td>\n",
              "      <td>...</td>\n",
              "      <td>...</td>\n",
              "      <td>...</td>\n",
              "      <td>...</td>\n",
              "      <td>...</td>\n",
              "      <td>...</td>\n",
              "    </tr>\n",
              "    <tr>\n",
              "      <th>1333</th>\n",
              "      <td>50</td>\n",
              "      <td>male</td>\n",
              "      <td>30.970</td>\n",
              "      <td>3</td>\n",
              "      <td>no</td>\n",
              "      <td>northwest</td>\n",
              "      <td>10600.54830</td>\n",
              "    </tr>\n",
              "    <tr>\n",
              "      <th>1334</th>\n",
              "      <td>18</td>\n",
              "      <td>female</td>\n",
              "      <td>31.920</td>\n",
              "      <td>0</td>\n",
              "      <td>no</td>\n",
              "      <td>northeast</td>\n",
              "      <td>2205.98080</td>\n",
              "    </tr>\n",
              "    <tr>\n",
              "      <th>1335</th>\n",
              "      <td>18</td>\n",
              "      <td>female</td>\n",
              "      <td>36.850</td>\n",
              "      <td>0</td>\n",
              "      <td>no</td>\n",
              "      <td>southeast</td>\n",
              "      <td>1629.83350</td>\n",
              "    </tr>\n",
              "    <tr>\n",
              "      <th>1336</th>\n",
              "      <td>21</td>\n",
              "      <td>female</td>\n",
              "      <td>25.800</td>\n",
              "      <td>0</td>\n",
              "      <td>no</td>\n",
              "      <td>southwest</td>\n",
              "      <td>2007.94500</td>\n",
              "    </tr>\n",
              "    <tr>\n",
              "      <th>1337</th>\n",
              "      <td>61</td>\n",
              "      <td>female</td>\n",
              "      <td>29.070</td>\n",
              "      <td>0</td>\n",
              "      <td>yes</td>\n",
              "      <td>northwest</td>\n",
              "      <td>29141.36030</td>\n",
              "    </tr>\n",
              "  </tbody>\n",
              "</table>\n",
              "<p>1338 rows × 7 columns</p>\n",
              "</div>"
            ],
            "text/plain": [
              "      age     sex     bmi  children smoker     region      charges\n",
              "0      19  female  27.900         0    yes  southwest  16884.92400\n",
              "1      18    male  33.770         1     no  southeast   1725.55230\n",
              "2      28    male  33.000         3     no  southeast   4449.46200\n",
              "3      33    male  22.705         0     no  northwest  21984.47061\n",
              "4      32    male  28.880         0     no  northwest   3866.85520\n",
              "...   ...     ...     ...       ...    ...        ...          ...\n",
              "1333   50    male  30.970         3     no  northwest  10600.54830\n",
              "1334   18  female  31.920         0     no  northeast   2205.98080\n",
              "1335   18  female  36.850         0     no  southeast   1629.83350\n",
              "1336   21  female  25.800         0     no  southwest   2007.94500\n",
              "1337   61  female  29.070         0    yes  northwest  29141.36030\n",
              "\n",
              "[1338 rows x 7 columns]"
            ]
          },
          "metadata": {
            "tags": []
          },
          "execution_count": 67
        }
      ]
    },
    {
      "cell_type": "code",
      "metadata": {
        "id": "16brSOF6CrQV",
        "colab": {
          "base_uri": "https://localhost:8080/",
          "height": 204
        },
        "outputId": "16abadea-2081-4236-8d7c-27d411ffd547"
      },
      "source": [
        "#lets try one hot encoding our Datafram so its all numbers\n",
        "insurance_one_hot = pd.get_dummies(insurance)\n",
        "insurance_one_hot.head()"
      ],
      "execution_count": null,
      "outputs": [
        {
          "output_type": "execute_result",
          "data": {
            "text/html": [
              "<div>\n",
              "<style scoped>\n",
              "    .dataframe tbody tr th:only-of-type {\n",
              "        vertical-align: middle;\n",
              "    }\n",
              "\n",
              "    .dataframe tbody tr th {\n",
              "        vertical-align: top;\n",
              "    }\n",
              "\n",
              "    .dataframe thead th {\n",
              "        text-align: right;\n",
              "    }\n",
              "</style>\n",
              "<table border=\"1\" class=\"dataframe\">\n",
              "  <thead>\n",
              "    <tr style=\"text-align: right;\">\n",
              "      <th></th>\n",
              "      <th>age</th>\n",
              "      <th>bmi</th>\n",
              "      <th>children</th>\n",
              "      <th>charges</th>\n",
              "      <th>sex_female</th>\n",
              "      <th>sex_male</th>\n",
              "      <th>smoker_no</th>\n",
              "      <th>smoker_yes</th>\n",
              "      <th>region_northeast</th>\n",
              "      <th>region_northwest</th>\n",
              "      <th>region_southeast</th>\n",
              "      <th>region_southwest</th>\n",
              "    </tr>\n",
              "  </thead>\n",
              "  <tbody>\n",
              "    <tr>\n",
              "      <th>0</th>\n",
              "      <td>19</td>\n",
              "      <td>27.900</td>\n",
              "      <td>0</td>\n",
              "      <td>16884.92400</td>\n",
              "      <td>1</td>\n",
              "      <td>0</td>\n",
              "      <td>0</td>\n",
              "      <td>1</td>\n",
              "      <td>0</td>\n",
              "      <td>0</td>\n",
              "      <td>0</td>\n",
              "      <td>1</td>\n",
              "    </tr>\n",
              "    <tr>\n",
              "      <th>1</th>\n",
              "      <td>18</td>\n",
              "      <td>33.770</td>\n",
              "      <td>1</td>\n",
              "      <td>1725.55230</td>\n",
              "      <td>0</td>\n",
              "      <td>1</td>\n",
              "      <td>1</td>\n",
              "      <td>0</td>\n",
              "      <td>0</td>\n",
              "      <td>0</td>\n",
              "      <td>1</td>\n",
              "      <td>0</td>\n",
              "    </tr>\n",
              "    <tr>\n",
              "      <th>2</th>\n",
              "      <td>28</td>\n",
              "      <td>33.000</td>\n",
              "      <td>3</td>\n",
              "      <td>4449.46200</td>\n",
              "      <td>0</td>\n",
              "      <td>1</td>\n",
              "      <td>1</td>\n",
              "      <td>0</td>\n",
              "      <td>0</td>\n",
              "      <td>0</td>\n",
              "      <td>1</td>\n",
              "      <td>0</td>\n",
              "    </tr>\n",
              "    <tr>\n",
              "      <th>3</th>\n",
              "      <td>33</td>\n",
              "      <td>22.705</td>\n",
              "      <td>0</td>\n",
              "      <td>21984.47061</td>\n",
              "      <td>0</td>\n",
              "      <td>1</td>\n",
              "      <td>1</td>\n",
              "      <td>0</td>\n",
              "      <td>0</td>\n",
              "      <td>1</td>\n",
              "      <td>0</td>\n",
              "      <td>0</td>\n",
              "    </tr>\n",
              "    <tr>\n",
              "      <th>4</th>\n",
              "      <td>32</td>\n",
              "      <td>28.880</td>\n",
              "      <td>0</td>\n",
              "      <td>3866.85520</td>\n",
              "      <td>0</td>\n",
              "      <td>1</td>\n",
              "      <td>1</td>\n",
              "      <td>0</td>\n",
              "      <td>0</td>\n",
              "      <td>1</td>\n",
              "      <td>0</td>\n",
              "      <td>0</td>\n",
              "    </tr>\n",
              "  </tbody>\n",
              "</table>\n",
              "</div>"
            ],
            "text/plain": [
              "   age     bmi  children  ...  region_northwest  region_southeast  region_southwest\n",
              "0   19  27.900         0  ...                 0                 0                 1\n",
              "1   18  33.770         1  ...                 0                 1                 0\n",
              "2   28  33.000         3  ...                 0                 1                 0\n",
              "3   33  22.705         0  ...                 1                 0                 0\n",
              "4   32  28.880         0  ...                 1                 0                 0\n",
              "\n",
              "[5 rows x 12 columns]"
            ]
          },
          "metadata": {
            "tags": []
          },
          "execution_count": 68
        }
      ]
    },
    {
      "cell_type": "code",
      "metadata": {
        "id": "yKl01Vzk83Ka"
      },
      "source": [
        "#Creat X and y values (features and values)\n",
        "X = insurance_one_hot.drop(\"charges\",axis=1)\n",
        "y = insurance_one_hot[\"charges\"]\n"
      ],
      "execution_count": null,
      "outputs": []
    },
    {
      "cell_type": "code",
      "metadata": {
        "colab": {
          "base_uri": "https://localhost:8080/",
          "height": 204
        },
        "id": "uiUkOXXOd6LK",
        "outputId": "6aedca1b-81d4-47cb-ebdd-c4e451e3d6a4"
      },
      "source": [
        "X.head()"
      ],
      "execution_count": null,
      "outputs": [
        {
          "output_type": "execute_result",
          "data": {
            "text/html": [
              "<div>\n",
              "<style scoped>\n",
              "    .dataframe tbody tr th:only-of-type {\n",
              "        vertical-align: middle;\n",
              "    }\n",
              "\n",
              "    .dataframe tbody tr th {\n",
              "        vertical-align: top;\n",
              "    }\n",
              "\n",
              "    .dataframe thead th {\n",
              "        text-align: right;\n",
              "    }\n",
              "</style>\n",
              "<table border=\"1\" class=\"dataframe\">\n",
              "  <thead>\n",
              "    <tr style=\"text-align: right;\">\n",
              "      <th></th>\n",
              "      <th>age</th>\n",
              "      <th>bmi</th>\n",
              "      <th>children</th>\n",
              "      <th>sex_female</th>\n",
              "      <th>sex_male</th>\n",
              "      <th>smoker_no</th>\n",
              "      <th>smoker_yes</th>\n",
              "      <th>region_northeast</th>\n",
              "      <th>region_northwest</th>\n",
              "      <th>region_southeast</th>\n",
              "      <th>region_southwest</th>\n",
              "    </tr>\n",
              "  </thead>\n",
              "  <tbody>\n",
              "    <tr>\n",
              "      <th>0</th>\n",
              "      <td>19</td>\n",
              "      <td>27.900</td>\n",
              "      <td>0</td>\n",
              "      <td>1</td>\n",
              "      <td>0</td>\n",
              "      <td>0</td>\n",
              "      <td>1</td>\n",
              "      <td>0</td>\n",
              "      <td>0</td>\n",
              "      <td>0</td>\n",
              "      <td>1</td>\n",
              "    </tr>\n",
              "    <tr>\n",
              "      <th>1</th>\n",
              "      <td>18</td>\n",
              "      <td>33.770</td>\n",
              "      <td>1</td>\n",
              "      <td>0</td>\n",
              "      <td>1</td>\n",
              "      <td>1</td>\n",
              "      <td>0</td>\n",
              "      <td>0</td>\n",
              "      <td>0</td>\n",
              "      <td>1</td>\n",
              "      <td>0</td>\n",
              "    </tr>\n",
              "    <tr>\n",
              "      <th>2</th>\n",
              "      <td>28</td>\n",
              "      <td>33.000</td>\n",
              "      <td>3</td>\n",
              "      <td>0</td>\n",
              "      <td>1</td>\n",
              "      <td>1</td>\n",
              "      <td>0</td>\n",
              "      <td>0</td>\n",
              "      <td>0</td>\n",
              "      <td>1</td>\n",
              "      <td>0</td>\n",
              "    </tr>\n",
              "    <tr>\n",
              "      <th>3</th>\n",
              "      <td>33</td>\n",
              "      <td>22.705</td>\n",
              "      <td>0</td>\n",
              "      <td>0</td>\n",
              "      <td>1</td>\n",
              "      <td>1</td>\n",
              "      <td>0</td>\n",
              "      <td>0</td>\n",
              "      <td>1</td>\n",
              "      <td>0</td>\n",
              "      <td>0</td>\n",
              "    </tr>\n",
              "    <tr>\n",
              "      <th>4</th>\n",
              "      <td>32</td>\n",
              "      <td>28.880</td>\n",
              "      <td>0</td>\n",
              "      <td>0</td>\n",
              "      <td>1</td>\n",
              "      <td>1</td>\n",
              "      <td>0</td>\n",
              "      <td>0</td>\n",
              "      <td>1</td>\n",
              "      <td>0</td>\n",
              "      <td>0</td>\n",
              "    </tr>\n",
              "  </tbody>\n",
              "</table>\n",
              "</div>"
            ],
            "text/plain": [
              "   age     bmi  children  ...  region_northwest  region_southeast  region_southwest\n",
              "0   19  27.900         0  ...                 0                 0                 1\n",
              "1   18  33.770         1  ...                 0                 1                 0\n",
              "2   28  33.000         3  ...                 0                 1                 0\n",
              "3   33  22.705         0  ...                 1                 0                 0\n",
              "4   32  28.880         0  ...                 1                 0                 0\n",
              "\n",
              "[5 rows x 11 columns]"
            ]
          },
          "metadata": {
            "tags": []
          },
          "execution_count": 70
        }
      ]
    },
    {
      "cell_type": "code",
      "metadata": {
        "colab": {
          "base_uri": "https://localhost:8080/"
        },
        "id": "1GUJfjPPd89k",
        "outputId": "9aee9ac6-4bb3-476e-f789-b114997b2150"
      },
      "source": [
        "y.head()"
      ],
      "execution_count": null,
      "outputs": [
        {
          "output_type": "execute_result",
          "data": {
            "text/plain": [
              "0    16884.92400\n",
              "1     1725.55230\n",
              "2     4449.46200\n",
              "3    21984.47061\n",
              "4     3866.85520\n",
              "Name: charges, dtype: float64"
            ]
          },
          "metadata": {
            "tags": []
          },
          "execution_count": 71
        }
      ]
    },
    {
      "cell_type": "code",
      "metadata": {
        "colab": {
          "base_uri": "https://localhost:8080/"
        },
        "id": "XStuQ8ObQC9_",
        "outputId": "67e6a43c-3589-4cbc-b5f3-9a1e292194e1"
      },
      "source": [
        "from sklearn.model_selection import train_test_split\n",
        "X_train, X_test, y_train, y_test = train_test_split(X, y, test_size=0.2, random_state=42)\n",
        "len(X), len(X_train), len(X_test)\n"
      ],
      "execution_count": null,
      "outputs": [
        {
          "output_type": "execute_result",
          "data": {
            "text/plain": [
              "(1338, 1070, 268)"
            ]
          },
          "metadata": {
            "tags": []
          },
          "execution_count": 72
        }
      ]
    },
    {
      "cell_type": "code",
      "metadata": {
        "colab": {
          "base_uri": "https://localhost:8080/"
        },
        "id": "lfNoFVEebyya",
        "outputId": "40deb6e6-f183-486f-cd3e-e24436fc7174"
      },
      "source": [
        "# Set random seed\n",
        "tf.random.set_seed(42)\n",
        "\n",
        "# Create a new model (same as model_2)\n",
        "insurance_model = tf.keras.Sequential([\n",
        "  tf.keras.layers.Dense(1),\n",
        "  tf.keras.layers.Dense(1)\n",
        "])\n",
        "\n",
        "# Compile the model\n",
        "insurance_model.compile(loss=tf.keras.losses.mae,\n",
        "                        optimizer=tf.keras.optimizers.SGD(),\n",
        "                        metrics=['mae'])\n",
        "\n",
        "# Fit the model\n",
        "insurance_model.fit(X_train, y_train, epochs=100)\n"
      ],
      "execution_count": null,
      "outputs": [
        {
          "output_type": "stream",
          "text": [
            "Epoch 1/100\n",
            "34/34 [==============================] - 0s 1ms/step - loss: 8868.5918 - mae: 8868.5918\n",
            "Epoch 2/100\n",
            "34/34 [==============================] - 0s 1ms/step - loss: 7887.1606 - mae: 7887.1606\n",
            "Epoch 3/100\n",
            "34/34 [==============================] - 0s 1ms/step - loss: 7537.0947 - mae: 7537.0947\n",
            "Epoch 4/100\n",
            "34/34 [==============================] - 0s 943us/step - loss: 7859.4346 - mae: 7859.4346\n",
            "Epoch 5/100\n",
            "34/34 [==============================] - 0s 1ms/step - loss: 7639.6699 - mae: 7639.6699\n",
            "Epoch 6/100\n",
            "34/34 [==============================] - 0s 1ms/step - loss: 7578.0850 - mae: 7578.0850\n",
            "Epoch 7/100\n",
            "34/34 [==============================] - 0s 1ms/step - loss: 7514.6177 - mae: 7514.6177\n",
            "Epoch 8/100\n",
            "34/34 [==============================] - 0s 1ms/step - loss: 7694.1338 - mae: 7694.1338\n",
            "Epoch 9/100\n",
            "34/34 [==============================] - 0s 1ms/step - loss: 7595.9136 - mae: 7595.9136\n",
            "Epoch 10/100\n",
            "34/34 [==============================] - 0s 963us/step - loss: 7735.9116 - mae: 7735.9116\n",
            "Epoch 11/100\n",
            "34/34 [==============================] - 0s 1ms/step - loss: 7444.4189 - mae: 7444.4189\n",
            "Epoch 12/100\n",
            "34/34 [==============================] - 0s 1ms/step - loss: 7678.0337 - mae: 7678.0337\n",
            "Epoch 13/100\n",
            "34/34 [==============================] - 0s 1ms/step - loss: 7681.5840 - mae: 7681.5840\n",
            "Epoch 14/100\n",
            "34/34 [==============================] - 0s 1ms/step - loss: 7702.2842 - mae: 7702.2842\n",
            "Epoch 15/100\n",
            "34/34 [==============================] - 0s 1ms/step - loss: 7585.8921 - mae: 7585.8921\n",
            "Epoch 16/100\n",
            "34/34 [==============================] - 0s 1ms/step - loss: 7689.5356 - mae: 7689.5356\n",
            "Epoch 17/100\n",
            "34/34 [==============================] - 0s 2ms/step - loss: 7509.2036 - mae: 7509.2036\n",
            "Epoch 18/100\n",
            "34/34 [==============================] - 0s 1ms/step - loss: 7695.0083 - mae: 7695.0083\n",
            "Epoch 19/100\n",
            "34/34 [==============================] - 0s 993us/step - loss: 7669.3740 - mae: 7669.3740\n",
            "Epoch 20/100\n",
            "34/34 [==============================] - 0s 1ms/step - loss: 7901.1362 - mae: 7901.1362\n",
            "Epoch 21/100\n",
            "34/34 [==============================] - 0s 1ms/step - loss: 7552.4814 - mae: 7552.4814\n",
            "Epoch 22/100\n",
            "34/34 [==============================] - 0s 1ms/step - loss: 7844.9961 - mae: 7844.9961\n",
            "Epoch 23/100\n",
            "34/34 [==============================] - 0s 1ms/step - loss: 7642.2485 - mae: 7642.2485\n",
            "Epoch 24/100\n",
            "34/34 [==============================] - 0s 1ms/step - loss: 7515.3081 - mae: 7515.3081\n",
            "Epoch 25/100\n",
            "34/34 [==============================] - 0s 1ms/step - loss: 7678.3506 - mae: 7678.3506\n",
            "Epoch 26/100\n",
            "34/34 [==============================] - 0s 1ms/step - loss: 7653.0269 - mae: 7653.0269\n",
            "Epoch 27/100\n",
            "34/34 [==============================] - 0s 1ms/step - loss: 7559.5449 - mae: 7559.5449\n",
            "Epoch 28/100\n",
            "34/34 [==============================] - 0s 1ms/step - loss: 7459.9404 - mae: 7459.9404\n",
            "Epoch 29/100\n",
            "34/34 [==============================] - 0s 1ms/step - loss: 7618.6177 - mae: 7618.6177\n",
            "Epoch 30/100\n",
            "34/34 [==============================] - 0s 1ms/step - loss: 7628.6255 - mae: 7628.6255\n",
            "Epoch 31/100\n",
            "34/34 [==============================] - 0s 1ms/step - loss: 7540.4893 - mae: 7540.4893\n",
            "Epoch 32/100\n",
            "34/34 [==============================] - 0s 1ms/step - loss: 7486.0186 - mae: 7486.0186\n",
            "Epoch 33/100\n",
            "34/34 [==============================] - 0s 1ms/step - loss: 7418.6646 - mae: 7418.6646\n",
            "Epoch 34/100\n",
            "34/34 [==============================] - 0s 1ms/step - loss: 7480.7319 - mae: 7480.7319\n",
            "Epoch 35/100\n",
            "34/34 [==============================] - 0s 1ms/step - loss: 7615.3115 - mae: 7615.3115\n",
            "Epoch 36/100\n",
            "34/34 [==============================] - 0s 1ms/step - loss: 7566.7896 - mae: 7566.7896\n",
            "Epoch 37/100\n",
            "34/34 [==============================] - 0s 1ms/step - loss: 7661.0879 - mae: 7661.0879\n",
            "Epoch 38/100\n",
            "34/34 [==============================] - 0s 1ms/step - loss: 7522.6816 - mae: 7522.6816\n",
            "Epoch 39/100\n",
            "34/34 [==============================] - 0s 1ms/step - loss: 7556.0718 - mae: 7556.0718\n",
            "Epoch 40/100\n",
            "34/34 [==============================] - 0s 1ms/step - loss: 7433.5669 - mae: 7433.5669\n",
            "Epoch 41/100\n",
            "34/34 [==============================] - 0s 1ms/step - loss: 7722.4312 - mae: 7722.4312\n",
            "Epoch 42/100\n",
            "34/34 [==============================] - 0s 1ms/step - loss: 7344.2700 - mae: 7344.2700\n",
            "Epoch 43/100\n",
            "34/34 [==============================] - 0s 1ms/step - loss: 7597.4331 - mae: 7597.4331\n",
            "Epoch 44/100\n",
            "34/34 [==============================] - 0s 1ms/step - loss: 7338.0132 - mae: 7338.0132\n",
            "Epoch 45/100\n",
            "34/34 [==============================] - 0s 1ms/step - loss: 7510.3467 - mae: 7510.3467\n",
            "Epoch 46/100\n",
            "34/34 [==============================] - 0s 1ms/step - loss: 7413.5801 - mae: 7413.5801\n",
            "Epoch 47/100\n",
            "34/34 [==============================] - 0s 1ms/step - loss: 7451.0391 - mae: 7451.0391\n",
            "Epoch 48/100\n",
            "34/34 [==============================] - 0s 1ms/step - loss: 7340.5381 - mae: 7340.5381\n",
            "Epoch 49/100\n",
            "34/34 [==============================] - 0s 1ms/step - loss: 7481.9976 - mae: 7481.9976\n",
            "Epoch 50/100\n",
            "34/34 [==============================] - 0s 1ms/step - loss: 7468.2842 - mae: 7468.2842\n",
            "Epoch 51/100\n",
            "34/34 [==============================] - 0s 1ms/step - loss: 7411.3408 - mae: 7411.3408\n",
            "Epoch 52/100\n",
            "34/34 [==============================] - 0s 1ms/step - loss: 7460.0796 - mae: 7460.0796\n",
            "Epoch 53/100\n",
            "34/34 [==============================] - 0s 1ms/step - loss: 7601.6606 - mae: 7601.6606\n",
            "Epoch 54/100\n",
            "34/34 [==============================] - 0s 1ms/step - loss: 7241.2549 - mae: 7241.2549\n",
            "Epoch 55/100\n",
            "34/34 [==============================] - 0s 1ms/step - loss: 7539.6953 - mae: 7539.6953\n",
            "Epoch 56/100\n",
            "34/34 [==============================] - 0s 1ms/step - loss: 7293.2012 - mae: 7293.2012\n",
            "Epoch 57/100\n",
            "34/34 [==============================] - 0s 1ms/step - loss: 7417.9731 - mae: 7417.9731\n",
            "Epoch 58/100\n",
            "34/34 [==============================] - 0s 1ms/step - loss: 7353.0625 - mae: 7353.0625\n",
            "Epoch 59/100\n",
            "34/34 [==============================] - 0s 1ms/step - loss: 7643.8247 - mae: 7643.8247\n",
            "Epoch 60/100\n",
            "34/34 [==============================] - 0s 1ms/step - loss: 7410.4004 - mae: 7410.4004\n",
            "Epoch 61/100\n",
            "34/34 [==============================] - 0s 1ms/step - loss: 7612.8330 - mae: 7612.8330\n",
            "Epoch 62/100\n",
            "34/34 [==============================] - 0s 1ms/step - loss: 7387.9087 - mae: 7387.9087\n",
            "Epoch 63/100\n",
            "34/34 [==============================] - 0s 1ms/step - loss: 7359.5605 - mae: 7359.5605\n",
            "Epoch 64/100\n",
            "34/34 [==============================] - 0s 1ms/step - loss: 7109.0884 - mae: 7109.0884\n",
            "Epoch 65/100\n",
            "34/34 [==============================] - 0s 1ms/step - loss: 7396.3223 - mae: 7396.3223\n",
            "Epoch 66/100\n",
            "34/34 [==============================] - 0s 1ms/step - loss: 7179.8613 - mae: 7179.8613\n",
            "Epoch 67/100\n",
            "34/34 [==============================] - 0s 1ms/step - loss: 7289.7710 - mae: 7289.7710\n",
            "Epoch 68/100\n",
            "34/34 [==============================] - 0s 1ms/step - loss: 7523.6973 - mae: 7523.6973\n",
            "Epoch 69/100\n",
            "34/34 [==============================] - 0s 1ms/step - loss: 7442.6157 - mae: 7442.6157\n",
            "Epoch 70/100\n",
            "34/34 [==============================] - 0s 1ms/step - loss: 7673.4834 - mae: 7673.4834\n",
            "Epoch 71/100\n",
            "34/34 [==============================] - 0s 1ms/step - loss: 7276.0337 - mae: 7276.0337\n",
            "Epoch 72/100\n",
            "34/34 [==============================] - 0s 1ms/step - loss: 7246.3721 - mae: 7246.3721\n",
            "Epoch 73/100\n",
            "34/34 [==============================] - 0s 1ms/step - loss: 7372.0713 - mae: 7372.0713\n",
            "Epoch 74/100\n",
            "34/34 [==============================] - 0s 1ms/step - loss: 7512.0762 - mae: 7512.0762\n",
            "Epoch 75/100\n",
            "34/34 [==============================] - 0s 2ms/step - loss: 7269.7437 - mae: 7269.7437\n",
            "Epoch 76/100\n",
            "34/34 [==============================] - 0s 2ms/step - loss: 7199.5039 - mae: 7199.5039\n",
            "Epoch 77/100\n",
            "34/34 [==============================] - 0s 1ms/step - loss: 7261.2920 - mae: 7261.2920\n",
            "Epoch 78/100\n",
            "34/34 [==============================] - 0s 1ms/step - loss: 7185.7627 - mae: 7185.7627\n",
            "Epoch 79/100\n",
            "34/34 [==============================] - 0s 1ms/step - loss: 7301.7495 - mae: 7301.7495\n",
            "Epoch 80/100\n",
            "34/34 [==============================] - 0s 1ms/step - loss: 7002.6309 - mae: 7002.6309\n",
            "Epoch 81/100\n",
            "34/34 [==============================] - 0s 1ms/step - loss: 7289.1357 - mae: 7289.1357\n",
            "Epoch 82/100\n",
            "34/34 [==============================] - 0s 1ms/step - loss: 7155.3945 - mae: 7155.3945\n",
            "Epoch 83/100\n",
            "34/34 [==============================] - 0s 1ms/step - loss: 7475.1709 - mae: 7475.1709\n",
            "Epoch 84/100\n",
            "34/34 [==============================] - 0s 1ms/step - loss: 7387.3672 - mae: 7387.3672\n",
            "Epoch 85/100\n",
            "34/34 [==============================] - 0s 1ms/step - loss: 7289.9458 - mae: 7289.9458\n",
            "Epoch 86/100\n",
            "34/34 [==============================] - 0s 997us/step - loss: 7268.0942 - mae: 7268.0942\n",
            "Epoch 87/100\n",
            "34/34 [==============================] - 0s 1ms/step - loss: 7238.5869 - mae: 7238.5869\n",
            "Epoch 88/100\n",
            "34/34 [==============================] - 0s 1ms/step - loss: 7201.7354 - mae: 7201.7349\n",
            "Epoch 89/100\n",
            "34/34 [==============================] - 0s 1ms/step - loss: 7538.0757 - mae: 7538.0757\n",
            "Epoch 90/100\n",
            "34/34 [==============================] - 0s 1ms/step - loss: 6967.1187 - mae: 6967.1187\n",
            "Epoch 91/100\n",
            "34/34 [==============================] - 0s 1ms/step - loss: 7314.1299 - mae: 7314.1299\n",
            "Epoch 92/100\n",
            "34/34 [==============================] - 0s 1ms/step - loss: 7192.3115 - mae: 7192.3115\n",
            "Epoch 93/100\n",
            "34/34 [==============================] - 0s 1ms/step - loss: 7530.8770 - mae: 7530.8770\n",
            "Epoch 94/100\n",
            "34/34 [==============================] - 0s 986us/step - loss: 7187.3579 - mae: 7187.3579\n",
            "Epoch 95/100\n",
            "34/34 [==============================] - 0s 1ms/step - loss: 7561.5635 - mae: 7561.5635\n",
            "Epoch 96/100\n",
            "34/34 [==============================] - 0s 2ms/step - loss: 7263.4648 - mae: 7263.4648\n",
            "Epoch 97/100\n",
            "34/34 [==============================] - 0s 1ms/step - loss: 7146.2896 - mae: 7146.2896\n",
            "Epoch 98/100\n",
            "34/34 [==============================] - 0s 1ms/step - loss: 7247.9238 - mae: 7247.9238\n",
            "Epoch 99/100\n",
            "34/34 [==============================] - 0s 1ms/step - loss: 7200.6694 - mae: 7200.6694\n",
            "Epoch 100/100\n",
            "34/34 [==============================] - 0s 1ms/step - loss: 7301.6870 - mae: 7301.6870\n"
          ],
          "name": "stdout"
        },
        {
          "output_type": "execute_result",
          "data": {
            "text/plain": [
              "<tensorflow.python.keras.callbacks.History at 0x7fc635aa0490>"
            ]
          },
          "metadata": {
            "tags": []
          },
          "execution_count": 73
        }
      ]
    },
    {
      "cell_type": "code",
      "metadata": {
        "colab": {
          "base_uri": "https://localhost:8080/"
        },
        "id": "-QY-JUa5dDb4",
        "outputId": "188e0f2d-a7b7-436f-dc91-3e5eddf47ff5"
      },
      "source": [
        "#Evaluate the model which means check the results of the model on test data\n",
        "insurance_model.evaluate(X_test,y_test)"
      ],
      "execution_count": null,
      "outputs": [
        {
          "output_type": "stream",
          "text": [
            "9/9 [==============================] - 0s 1ms/step - loss: 8628.2393 - mae: 8628.2393\n"
          ],
          "name": "stdout"
        },
        {
          "output_type": "execute_result",
          "data": {
            "text/plain": [
              "[8628.2392578125, 8628.2392578125]"
            ]
          },
          "metadata": {
            "tags": []
          },
          "execution_count": 74
        }
      ]
    },
    {
      "cell_type": "code",
      "metadata": {
        "colab": {
          "base_uri": "https://localhost:8080/"
        },
        "id": "QsSepnxIfm4r",
        "outputId": "0a4cb09a-bf6e-4792-b148-5d41ce6d6115"
      },
      "source": [
        "y_train.median(), y_train.mean()"
      ],
      "execution_count": null,
      "outputs": [
        {
          "output_type": "execute_result",
          "data": {
            "text/plain": [
              "(9575.4421, 13346.089736364489)"
            ]
          },
          "metadata": {
            "tags": []
          },
          "execution_count": 75
        }
      ]
    },
    {
      "cell_type": "markdown",
      "metadata": {
        "id": "2F4lFxhxiQcX"
      },
      "source": [
        "#Improving our model as it is not performing well"
      ]
    },
    {
      "cell_type": "markdown",
      "metadata": {
        "id": "KMLhG1Unicu3"
      },
      "source": [
        "#Adding an extra layer"
      ]
    },
    {
      "cell_type": "code",
      "metadata": {
        "colab": {
          "base_uri": "https://localhost:8080/"
        },
        "id": "tmB_fuzAif-l",
        "outputId": "df101c74-f3f5-4db0-daf6-c888d4261ae2"
      },
      "source": [
        "# Set random seed\n",
        "tf.random.set_seed(42)\n",
        "\n",
        "# Create a new model (same as model_2)\n",
        "insurance_model_2 = tf.keras.Sequential([\n",
        "  tf.keras.layers.Dense(100),\n",
        "  tf.keras.layers.Dense(10),\n",
        "  tf.keras.layers.Dense(1)\n",
        "])\n",
        "\n",
        "# Compile the model\n",
        "insurance_model_2.compile(loss=tf.keras.losses.mae,\n",
        "                        optimizer=tf.keras.optimizers.Adam(),\n",
        "                        metrics=['mae'])\n",
        "\n",
        "# Fit the model\n",
        "insurance_model_2.fit(X_train, y_train, epochs=200, verbose=1)\n"
      ],
      "execution_count": null,
      "outputs": [
        {
          "output_type": "stream",
          "text": [
            "Epoch 1/200\n",
            "34/34 [==============================] - 0s 2ms/step - loss: 13273.1602 - mae: 13273.1602\n",
            "Epoch 2/200\n",
            "34/34 [==============================] - 0s 2ms/step - loss: 13104.4297 - mae: 13104.4297\n",
            "Epoch 3/200\n",
            "34/34 [==============================] - 0s 2ms/step - loss: 12749.5420 - mae: 12749.5420\n",
            "Epoch 4/200\n",
            "34/34 [==============================] - 0s 2ms/step - loss: 12055.7510 - mae: 12055.7510\n",
            "Epoch 5/200\n",
            "34/34 [==============================] - 0s 2ms/step - loss: 10905.8154 - mae: 10905.8154\n",
            "Epoch 6/200\n",
            "34/34 [==============================] - 0s 2ms/step - loss: 9457.7217 - mae: 9457.7217\n",
            "Epoch 7/200\n",
            "34/34 [==============================] - 0s 1ms/step - loss: 8147.6543 - mae: 8147.6543\n",
            "Epoch 8/200\n",
            "34/34 [==============================] - 0s 2ms/step - loss: 7528.8408 - mae: 7528.8408\n",
            "Epoch 9/200\n",
            "34/34 [==============================] - 0s 2ms/step - loss: 7429.1528 - mae: 7429.1528\n",
            "Epoch 10/200\n",
            "34/34 [==============================] - 0s 2ms/step - loss: 7409.0811 - mae: 7409.0811\n",
            "Epoch 11/200\n",
            "34/34 [==============================] - 0s 1ms/step - loss: 7390.8042 - mae: 7390.8042\n",
            "Epoch 12/200\n",
            "34/34 [==============================] - 0s 2ms/step - loss: 7368.9180 - mae: 7368.9180\n",
            "Epoch 13/200\n",
            "34/34 [==============================] - 0s 2ms/step - loss: 7348.5195 - mae: 7348.5195\n",
            "Epoch 14/200\n",
            "34/34 [==============================] - 0s 1ms/step - loss: 7326.4893 - mae: 7326.4893\n",
            "Epoch 15/200\n",
            "34/34 [==============================] - 0s 2ms/step - loss: 7307.5815 - mae: 7307.5815\n",
            "Epoch 16/200\n",
            "34/34 [==============================] - 0s 1ms/step - loss: 7285.7734 - mae: 7285.7734\n",
            "Epoch 17/200\n",
            "34/34 [==============================] - 0s 2ms/step - loss: 7265.7104 - mae: 7265.7104\n",
            "Epoch 18/200\n",
            "34/34 [==============================] - 0s 1ms/step - loss: 7242.5488 - mae: 7242.5488\n",
            "Epoch 19/200\n",
            "34/34 [==============================] - 0s 2ms/step - loss: 7220.5068 - mae: 7220.5068\n",
            "Epoch 20/200\n",
            "34/34 [==============================] - 0s 2ms/step - loss: 7197.1978 - mae: 7197.1978\n",
            "Epoch 21/200\n",
            "34/34 [==============================] - 0s 2ms/step - loss: 7179.0195 - mae: 7179.0195\n",
            "Epoch 22/200\n",
            "34/34 [==============================] - 0s 2ms/step - loss: 7151.2104 - mae: 7151.2104\n",
            "Epoch 23/200\n",
            "34/34 [==============================] - 0s 2ms/step - loss: 7126.4639 - mae: 7126.4639\n",
            "Epoch 24/200\n",
            "34/34 [==============================] - 0s 2ms/step - loss: 7101.9199 - mae: 7101.9199\n",
            "Epoch 25/200\n",
            "34/34 [==============================] - 0s 2ms/step - loss: 7084.3379 - mae: 7084.3379\n",
            "Epoch 26/200\n",
            "34/34 [==============================] - 0s 2ms/step - loss: 7052.3291 - mae: 7052.3291\n",
            "Epoch 27/200\n",
            "34/34 [==============================] - 0s 1ms/step - loss: 7024.3501 - mae: 7024.3501\n",
            "Epoch 28/200\n",
            "34/34 [==============================] - 0s 1ms/step - loss: 6996.6963 - mae: 6996.6963\n",
            "Epoch 29/200\n",
            "34/34 [==============================] - 0s 2ms/step - loss: 6969.0112 - mae: 6969.0112\n",
            "Epoch 30/200\n",
            "34/34 [==============================] - 0s 1ms/step - loss: 6942.1899 - mae: 6942.1899\n",
            "Epoch 31/200\n",
            "34/34 [==============================] - 0s 2ms/step - loss: 6911.7280 - mae: 6911.7280\n",
            "Epoch 32/200\n",
            "34/34 [==============================] - 0s 1ms/step - loss: 6884.0205 - mae: 6884.0205\n",
            "Epoch 33/200\n",
            "34/34 [==============================] - 0s 2ms/step - loss: 6853.4648 - mae: 6853.4648\n",
            "Epoch 34/200\n",
            "34/34 [==============================] - 0s 1ms/step - loss: 6823.0674 - mae: 6823.0674\n",
            "Epoch 35/200\n",
            "34/34 [==============================] - 0s 2ms/step - loss: 6789.6855 - mae: 6789.6855\n",
            "Epoch 36/200\n",
            "34/34 [==============================] - 0s 2ms/step - loss: 6755.7646 - mae: 6755.7646\n",
            "Epoch 37/200\n",
            "34/34 [==============================] - 0s 2ms/step - loss: 6720.2026 - mae: 6720.2026\n",
            "Epoch 38/200\n",
            "34/34 [==============================] - 0s 2ms/step - loss: 6689.7158 - mae: 6689.7158\n",
            "Epoch 39/200\n",
            "34/34 [==============================] - 0s 2ms/step - loss: 6652.4614 - mae: 6652.4614\n",
            "Epoch 40/200\n",
            "34/34 [==============================] - 0s 2ms/step - loss: 6618.1006 - mae: 6618.1006\n",
            "Epoch 41/200\n",
            "34/34 [==============================] - 0s 2ms/step - loss: 6585.8643 - mae: 6585.8643\n",
            "Epoch 42/200\n",
            "34/34 [==============================] - 0s 2ms/step - loss: 6559.4956 - mae: 6559.4956\n",
            "Epoch 43/200\n",
            "34/34 [==============================] - 0s 2ms/step - loss: 6530.0444 - mae: 6530.0444\n",
            "Epoch 44/200\n",
            "34/34 [==============================] - 0s 1ms/step - loss: 6506.8071 - mae: 6506.8071\n",
            "Epoch 45/200\n",
            "34/34 [==============================] - 0s 1ms/step - loss: 6493.5718 - mae: 6493.5718\n",
            "Epoch 46/200\n",
            "34/34 [==============================] - 0s 1ms/step - loss: 6475.9258 - mae: 6475.9258\n",
            "Epoch 47/200\n",
            "34/34 [==============================] - 0s 1ms/step - loss: 6458.8979 - mae: 6458.8979\n",
            "Epoch 48/200\n",
            "34/34 [==============================] - 0s 1ms/step - loss: 6445.1494 - mae: 6445.1494\n",
            "Epoch 49/200\n",
            "34/34 [==============================] - 0s 1ms/step - loss: 6430.9639 - mae: 6430.9639\n",
            "Epoch 50/200\n",
            "34/34 [==============================] - 0s 1ms/step - loss: 6417.7510 - mae: 6417.7510\n",
            "Epoch 51/200\n",
            "34/34 [==============================] - 0s 2ms/step - loss: 6403.2759 - mae: 6403.2759\n",
            "Epoch 52/200\n",
            "34/34 [==============================] - 0s 2ms/step - loss: 6392.4141 - mae: 6392.4141\n",
            "Epoch 53/200\n",
            "34/34 [==============================] - 0s 1ms/step - loss: 6378.7451 - mae: 6378.7451\n",
            "Epoch 54/200\n",
            "34/34 [==============================] - 0s 1ms/step - loss: 6364.9131 - mae: 6364.9131\n",
            "Epoch 55/200\n",
            "34/34 [==============================] - 0s 2ms/step - loss: 6351.5269 - mae: 6351.5269\n",
            "Epoch 56/200\n",
            "34/34 [==============================] - 0s 1ms/step - loss: 6337.6602 - mae: 6337.6602\n",
            "Epoch 57/200\n",
            "34/34 [==============================] - 0s 2ms/step - loss: 6324.8369 - mae: 6324.8369\n",
            "Epoch 58/200\n",
            "34/34 [==============================] - 0s 1ms/step - loss: 6310.1948 - mae: 6310.1948\n",
            "Epoch 59/200\n",
            "34/34 [==============================] - 0s 2ms/step - loss: 6295.6035 - mae: 6295.6035\n",
            "Epoch 60/200\n",
            "34/34 [==============================] - 0s 2ms/step - loss: 6284.8696 - mae: 6284.8696\n",
            "Epoch 61/200\n",
            "34/34 [==============================] - 0s 1ms/step - loss: 6265.6411 - mae: 6265.6411\n",
            "Epoch 62/200\n",
            "34/34 [==============================] - 0s 2ms/step - loss: 6253.0103 - mae: 6253.0103\n",
            "Epoch 63/200\n",
            "34/34 [==============================] - 0s 2ms/step - loss: 6234.9292 - mae: 6234.9292\n",
            "Epoch 64/200\n",
            "34/34 [==============================] - 0s 2ms/step - loss: 6218.0430 - mae: 6218.0430\n",
            "Epoch 65/200\n",
            "34/34 [==============================] - 0s 1ms/step - loss: 6201.1899 - mae: 6201.1899\n",
            "Epoch 66/200\n",
            "34/34 [==============================] - 0s 2ms/step - loss: 6183.9590 - mae: 6183.9590\n",
            "Epoch 67/200\n",
            "34/34 [==============================] - 0s 2ms/step - loss: 6171.2993 - mae: 6171.2993\n",
            "Epoch 68/200\n",
            "34/34 [==============================] - 0s 2ms/step - loss: 6148.8398 - mae: 6148.8398\n",
            "Epoch 69/200\n",
            "34/34 [==============================] - 0s 1ms/step - loss: 6132.5981 - mae: 6132.5981\n",
            "Epoch 70/200\n",
            "34/34 [==============================] - 0s 2ms/step - loss: 6112.3848 - mae: 6112.3848\n",
            "Epoch 71/200\n",
            "34/34 [==============================] - 0s 1ms/step - loss: 6092.7202 - mae: 6092.7202\n",
            "Epoch 72/200\n",
            "34/34 [==============================] - 0s 2ms/step - loss: 6073.7422 - mae: 6073.7422\n",
            "Epoch 73/200\n",
            "34/34 [==============================] - 0s 2ms/step - loss: 6059.4873 - mae: 6059.4873\n",
            "Epoch 74/200\n",
            "34/34 [==============================] - 0s 1ms/step - loss: 6031.3848 - mae: 6031.3848\n",
            "Epoch 75/200\n",
            "34/34 [==============================] - 0s 2ms/step - loss: 6010.3350 - mae: 6010.3350\n",
            "Epoch 76/200\n",
            "34/34 [==============================] - 0s 1ms/step - loss: 5995.2178 - mae: 5995.2178\n",
            "Epoch 77/200\n",
            "34/34 [==============================] - 0s 2ms/step - loss: 5963.0718 - mae: 5963.0718\n",
            "Epoch 78/200\n",
            "34/34 [==============================] - 0s 2ms/step - loss: 5940.0605 - mae: 5940.0605\n",
            "Epoch 79/200\n",
            "34/34 [==============================] - 0s 2ms/step - loss: 5915.1064 - mae: 5915.1064\n",
            "Epoch 80/200\n",
            "34/34 [==============================] - 0s 2ms/step - loss: 5887.9990 - mae: 5887.9990\n",
            "Epoch 81/200\n",
            "34/34 [==============================] - 0s 2ms/step - loss: 5861.6992 - mae: 5861.6992\n",
            "Epoch 82/200\n",
            "34/34 [==============================] - 0s 2ms/step - loss: 5834.3066 - mae: 5834.3066\n",
            "Epoch 83/200\n",
            "34/34 [==============================] - 0s 2ms/step - loss: 5805.8237 - mae: 5805.8237\n",
            "Epoch 84/200\n",
            "34/34 [==============================] - 0s 2ms/step - loss: 5772.3232 - mae: 5772.3232\n",
            "Epoch 85/200\n",
            "34/34 [==============================] - 0s 2ms/step - loss: 5745.1514 - mae: 5745.1514\n",
            "Epoch 86/200\n",
            "34/34 [==============================] - 0s 1ms/step - loss: 5711.3477 - mae: 5711.3477\n",
            "Epoch 87/200\n",
            "34/34 [==============================] - 0s 2ms/step - loss: 5674.5215 - mae: 5674.5215\n",
            "Epoch 88/200\n",
            "34/34 [==============================] - 0s 2ms/step - loss: 5639.4927 - mae: 5639.4927\n",
            "Epoch 89/200\n",
            "34/34 [==============================] - 0s 2ms/step - loss: 5600.6655 - mae: 5600.6655\n",
            "Epoch 90/200\n",
            "34/34 [==============================] - 0s 2ms/step - loss: 5559.4326 - mae: 5559.4326\n",
            "Epoch 91/200\n",
            "34/34 [==============================] - 0s 2ms/step - loss: 5523.6187 - mae: 5523.6187\n",
            "Epoch 92/200\n",
            "34/34 [==============================] - 0s 1ms/step - loss: 5474.1250 - mae: 5474.1250\n",
            "Epoch 93/200\n",
            "34/34 [==============================] - 0s 2ms/step - loss: 5432.2661 - mae: 5432.2661\n",
            "Epoch 94/200\n",
            "34/34 [==============================] - 0s 1ms/step - loss: 5386.0527 - mae: 5386.0527\n",
            "Epoch 95/200\n",
            "34/34 [==============================] - 0s 2ms/step - loss: 5333.1812 - mae: 5333.1812\n",
            "Epoch 96/200\n",
            "34/34 [==============================] - 0s 2ms/step - loss: 5288.8159 - mae: 5288.8159\n",
            "Epoch 97/200\n",
            "34/34 [==============================] - 0s 2ms/step - loss: 5234.6792 - mae: 5234.6792\n",
            "Epoch 98/200\n",
            "34/34 [==============================] - 0s 2ms/step - loss: 5170.9360 - mae: 5170.9360\n",
            "Epoch 99/200\n",
            "34/34 [==============================] - 0s 1ms/step - loss: 5112.9443 - mae: 5112.9443\n",
            "Epoch 100/200\n",
            "34/34 [==============================] - 0s 2ms/step - loss: 5059.8643 - mae: 5059.8643\n",
            "Epoch 101/200\n",
            "34/34 [==============================] - 0s 2ms/step - loss: 4987.6191 - mae: 4987.6191\n",
            "Epoch 102/200\n",
            "34/34 [==============================] - 0s 2ms/step - loss: 4915.2910 - mae: 4915.2910\n",
            "Epoch 103/200\n",
            "34/34 [==============================] - 0s 2ms/step - loss: 4847.3599 - mae: 4847.3599\n",
            "Epoch 104/200\n",
            "34/34 [==============================] - 0s 2ms/step - loss: 4768.0151 - mae: 4768.0151\n",
            "Epoch 105/200\n",
            "34/34 [==============================] - 0s 2ms/step - loss: 4683.4727 - mae: 4683.4727\n",
            "Epoch 106/200\n",
            "34/34 [==============================] - 0s 2ms/step - loss: 4600.5054 - mae: 4600.5054\n",
            "Epoch 107/200\n",
            "34/34 [==============================] - 0s 1ms/step - loss: 4513.1436 - mae: 4513.1436\n",
            "Epoch 108/200\n",
            "34/34 [==============================] - 0s 2ms/step - loss: 4422.2983 - mae: 4422.2983\n",
            "Epoch 109/200\n",
            "34/34 [==============================] - 0s 1ms/step - loss: 4339.9600 - mae: 4339.9600\n",
            "Epoch 110/200\n",
            "34/34 [==============================] - 0s 2ms/step - loss: 4254.3916 - mae: 4254.3916\n",
            "Epoch 111/200\n",
            "34/34 [==============================] - 0s 2ms/step - loss: 4173.1797 - mae: 4173.1797\n",
            "Epoch 112/200\n",
            "34/34 [==============================] - 0s 2ms/step - loss: 4102.2939 - mae: 4102.2939\n",
            "Epoch 113/200\n",
            "34/34 [==============================] - 0s 2ms/step - loss: 4031.9592 - mae: 4031.9592\n",
            "Epoch 114/200\n",
            "34/34 [==============================] - 0s 2ms/step - loss: 3986.0220 - mae: 3986.0220\n",
            "Epoch 115/200\n",
            "34/34 [==============================] - 0s 1ms/step - loss: 3943.2346 - mae: 3943.2346\n",
            "Epoch 116/200\n",
            "34/34 [==============================] - 0s 1ms/step - loss: 3918.8977 - mae: 3918.8977\n",
            "Epoch 117/200\n",
            "34/34 [==============================] - 0s 2ms/step - loss: 3895.5610 - mae: 3895.5610\n",
            "Epoch 118/200\n",
            "34/34 [==============================] - 0s 2ms/step - loss: 3869.5679 - mae: 3869.5679\n",
            "Epoch 119/200\n",
            "34/34 [==============================] - 0s 1ms/step - loss: 3850.2136 - mae: 3850.2136\n",
            "Epoch 120/200\n",
            "34/34 [==============================] - 0s 2ms/step - loss: 3834.7349 - mae: 3834.7349\n",
            "Epoch 121/200\n",
            "34/34 [==============================] - 0s 2ms/step - loss: 3827.0952 - mae: 3827.0952\n",
            "Epoch 122/200\n",
            "34/34 [==============================] - 0s 2ms/step - loss: 3821.6382 - mae: 3821.6382\n",
            "Epoch 123/200\n",
            "34/34 [==============================] - 0s 3ms/step - loss: 3813.8315 - mae: 3813.8315\n",
            "Epoch 124/200\n",
            "34/34 [==============================] - 0s 2ms/step - loss: 3805.7307 - mae: 3805.7307\n",
            "Epoch 125/200\n",
            "34/34 [==============================] - 0s 2ms/step - loss: 3794.7090 - mae: 3794.7090\n",
            "Epoch 126/200\n",
            "34/34 [==============================] - 0s 2ms/step - loss: 3804.4946 - mae: 3804.4946\n",
            "Epoch 127/200\n",
            "34/34 [==============================] - 0s 2ms/step - loss: 3796.0596 - mae: 3796.0596\n",
            "Epoch 128/200\n",
            "34/34 [==============================] - 0s 1ms/step - loss: 3791.0422 - mae: 3791.0422\n",
            "Epoch 129/200\n",
            "34/34 [==============================] - 0s 2ms/step - loss: 3800.0696 - mae: 3800.0696\n",
            "Epoch 130/200\n",
            "34/34 [==============================] - 0s 1ms/step - loss: 3788.5005 - mae: 3788.5005\n",
            "Epoch 131/200\n",
            "34/34 [==============================] - 0s 2ms/step - loss: 3780.8442 - mae: 3780.8442\n",
            "Epoch 132/200\n",
            "34/34 [==============================] - 0s 2ms/step - loss: 3774.5413 - mae: 3774.5413\n",
            "Epoch 133/200\n",
            "34/34 [==============================] - 0s 1ms/step - loss: 3771.0156 - mae: 3771.0156\n",
            "Epoch 134/200\n",
            "34/34 [==============================] - 0s 2ms/step - loss: 3769.3762 - mae: 3769.3762\n",
            "Epoch 135/200\n",
            "34/34 [==============================] - 0s 2ms/step - loss: 3766.7610 - mae: 3766.7610\n",
            "Epoch 136/200\n",
            "34/34 [==============================] - 0s 2ms/step - loss: 3765.5508 - mae: 3765.5508\n",
            "Epoch 137/200\n",
            "34/34 [==============================] - 0s 2ms/step - loss: 3774.5032 - mae: 3774.5032\n",
            "Epoch 138/200\n",
            "34/34 [==============================] - 0s 2ms/step - loss: 3785.3909 - mae: 3785.3909\n",
            "Epoch 139/200\n",
            "34/34 [==============================] - 0s 1ms/step - loss: 3761.1299 - mae: 3761.1299\n",
            "Epoch 140/200\n",
            "34/34 [==============================] - 0s 1ms/step - loss: 3764.1753 - mae: 3764.1753\n",
            "Epoch 141/200\n",
            "34/34 [==============================] - 0s 2ms/step - loss: 3763.9250 - mae: 3763.9250\n",
            "Epoch 142/200\n",
            "34/34 [==============================] - 0s 1ms/step - loss: 3762.7959 - mae: 3762.7959\n",
            "Epoch 143/200\n",
            "34/34 [==============================] - 0s 2ms/step - loss: 3754.4397 - mae: 3754.4397\n",
            "Epoch 144/200\n",
            "34/34 [==============================] - 0s 2ms/step - loss: 3750.3347 - mae: 3750.3347\n",
            "Epoch 145/200\n",
            "34/34 [==============================] - 0s 2ms/step - loss: 3750.4006 - mae: 3750.4006\n",
            "Epoch 146/200\n",
            "34/34 [==============================] - 0s 1ms/step - loss: 3755.4736 - mae: 3755.4736\n",
            "Epoch 147/200\n",
            "34/34 [==============================] - 0s 2ms/step - loss: 3750.3223 - mae: 3750.3223\n",
            "Epoch 148/200\n",
            "34/34 [==============================] - 0s 1ms/step - loss: 3758.1089 - mae: 3758.1089\n",
            "Epoch 149/200\n",
            "34/34 [==============================] - 0s 2ms/step - loss: 3743.4858 - mae: 3743.4858\n",
            "Epoch 150/200\n",
            "34/34 [==============================] - 0s 1ms/step - loss: 3738.5342 - mae: 3738.5342\n",
            "Epoch 151/200\n",
            "34/34 [==============================] - 0s 2ms/step - loss: 3740.1384 - mae: 3740.1384\n",
            "Epoch 152/200\n",
            "34/34 [==============================] - 0s 2ms/step - loss: 3742.4954 - mae: 3742.4954\n",
            "Epoch 153/200\n",
            "34/34 [==============================] - 0s 2ms/step - loss: 3744.4399 - mae: 3744.4399\n",
            "Epoch 154/200\n",
            "34/34 [==============================] - 0s 2ms/step - loss: 3737.1824 - mae: 3737.1824\n",
            "Epoch 155/200\n",
            "34/34 [==============================] - 0s 2ms/step - loss: 3737.6541 - mae: 3737.6541\n",
            "Epoch 156/200\n",
            "34/34 [==============================] - 0s 2ms/step - loss: 3737.1663 - mae: 3737.1663\n",
            "Epoch 157/200\n",
            "34/34 [==============================] - 0s 1ms/step - loss: 3733.1101 - mae: 3733.1101\n",
            "Epoch 158/200\n",
            "34/34 [==============================] - 0s 1ms/step - loss: 3729.5813 - mae: 3729.5813\n",
            "Epoch 159/200\n",
            "34/34 [==============================] - 0s 2ms/step - loss: 3725.9053 - mae: 3725.9053\n",
            "Epoch 160/200\n",
            "34/34 [==============================] - 0s 1ms/step - loss: 3733.2817 - mae: 3733.2817\n",
            "Epoch 161/200\n",
            "34/34 [==============================] - 0s 2ms/step - loss: 3728.2559 - mae: 3728.2559\n",
            "Epoch 162/200\n",
            "34/34 [==============================] - 0s 2ms/step - loss: 3724.5825 - mae: 3724.5825\n",
            "Epoch 163/200\n",
            "34/34 [==============================] - 0s 2ms/step - loss: 3723.0806 - mae: 3723.0806\n",
            "Epoch 164/200\n",
            "34/34 [==============================] - 0s 2ms/step - loss: 3726.9475 - mae: 3726.9475\n",
            "Epoch 165/200\n",
            "34/34 [==============================] - 0s 1ms/step - loss: 3716.5430 - mae: 3716.5430\n",
            "Epoch 166/200\n",
            "34/34 [==============================] - 0s 2ms/step - loss: 3721.9155 - mae: 3721.9155\n",
            "Epoch 167/200\n",
            "34/34 [==============================] - 0s 2ms/step - loss: 3721.1814 - mae: 3721.1814\n",
            "Epoch 168/200\n",
            "34/34 [==============================] - 0s 2ms/step - loss: 3715.2456 - mae: 3715.2456\n",
            "Epoch 169/200\n",
            "34/34 [==============================] - 0s 2ms/step - loss: 3713.9756 - mae: 3713.9756\n",
            "Epoch 170/200\n",
            "34/34 [==============================] - 0s 2ms/step - loss: 3707.9922 - mae: 3707.9922\n",
            "Epoch 171/200\n",
            "34/34 [==============================] - 0s 2ms/step - loss: 3707.4158 - mae: 3707.4158\n",
            "Epoch 172/200\n",
            "34/34 [==============================] - 0s 2ms/step - loss: 3710.6833 - mae: 3710.6833\n",
            "Epoch 173/200\n",
            "34/34 [==============================] - 0s 2ms/step - loss: 3703.3618 - mae: 3703.3618\n",
            "Epoch 174/200\n",
            "34/34 [==============================] - 0s 2ms/step - loss: 3710.9385 - mae: 3710.9385\n",
            "Epoch 175/200\n",
            "34/34 [==============================] - 0s 2ms/step - loss: 3713.0417 - mae: 3713.0417\n",
            "Epoch 176/200\n",
            "34/34 [==============================] - 0s 2ms/step - loss: 3705.0571 - mae: 3705.0571\n",
            "Epoch 177/200\n",
            "34/34 [==============================] - 0s 2ms/step - loss: 3698.9333 - mae: 3698.9333\n",
            "Epoch 178/200\n",
            "34/34 [==============================] - 0s 2ms/step - loss: 3697.9983 - mae: 3697.9983\n",
            "Epoch 179/200\n",
            "34/34 [==============================] - 0s 1ms/step - loss: 3704.9150 - mae: 3704.9150\n",
            "Epoch 180/200\n",
            "34/34 [==============================] - 0s 2ms/step - loss: 3710.3679 - mae: 3710.3679\n",
            "Epoch 181/200\n",
            "34/34 [==============================] - 0s 2ms/step - loss: 3696.6482 - mae: 3696.6482\n",
            "Epoch 182/200\n",
            "34/34 [==============================] - 0s 2ms/step - loss: 3692.7329 - mae: 3692.7329\n",
            "Epoch 183/200\n",
            "34/34 [==============================] - 0s 2ms/step - loss: 3691.1655 - mae: 3691.1655\n",
            "Epoch 184/200\n",
            "34/34 [==============================] - 0s 2ms/step - loss: 3699.2437 - mae: 3699.2437\n",
            "Epoch 185/200\n",
            "34/34 [==============================] - 0s 2ms/step - loss: 3693.2480 - mae: 3693.2480\n",
            "Epoch 186/200\n",
            "34/34 [==============================] - 0s 1ms/step - loss: 3696.1387 - mae: 3696.1387\n",
            "Epoch 187/200\n",
            "34/34 [==============================] - 0s 2ms/step - loss: 3687.8640 - mae: 3687.8640\n",
            "Epoch 188/200\n",
            "34/34 [==============================] - 0s 2ms/step - loss: 3693.3562 - mae: 3693.3562\n",
            "Epoch 189/200\n",
            "34/34 [==============================] - 0s 2ms/step - loss: 3682.7324 - mae: 3682.7324\n",
            "Epoch 190/200\n",
            "34/34 [==============================] - 0s 2ms/step - loss: 3683.2891 - mae: 3683.2891\n",
            "Epoch 191/200\n",
            "34/34 [==============================] - 0s 2ms/step - loss: 3697.6536 - mae: 3697.6536\n",
            "Epoch 192/200\n",
            "34/34 [==============================] - 0s 2ms/step - loss: 3684.6665 - mae: 3684.6665\n",
            "Epoch 193/200\n",
            "34/34 [==============================] - 0s 2ms/step - loss: 3675.5154 - mae: 3675.5154\n",
            "Epoch 194/200\n",
            "34/34 [==============================] - 0s 2ms/step - loss: 3676.3923 - mae: 3676.3923\n",
            "Epoch 195/200\n",
            "34/34 [==============================] - 0s 2ms/step - loss: 3672.8452 - mae: 3672.8452\n",
            "Epoch 196/200\n",
            "34/34 [==============================] - 0s 2ms/step - loss: 3682.0283 - mae: 3682.0283\n",
            "Epoch 197/200\n",
            "34/34 [==============================] - 0s 2ms/step - loss: 3665.7961 - mae: 3665.7961\n",
            "Epoch 198/200\n",
            "34/34 [==============================] - 0s 2ms/step - loss: 3671.7419 - mae: 3671.7419\n",
            "Epoch 199/200\n",
            "34/34 [==============================] - 0s 2ms/step - loss: 3680.5464 - mae: 3680.5464\n",
            "Epoch 200/200\n",
            "34/34 [==============================] - 0s 2ms/step - loss: 3665.6401 - mae: 3665.6401\n"
          ],
          "name": "stdout"
        },
        {
          "output_type": "execute_result",
          "data": {
            "text/plain": [
              "<tensorflow.python.keras.callbacks.History at 0x7fc635915d10>"
            ]
          },
          "metadata": {
            "tags": []
          },
          "execution_count": 76
        }
      ]
    },
    {
      "cell_type": "code",
      "metadata": {
        "colab": {
          "base_uri": "https://localhost:8080/"
        },
        "id": "2Je28I1xjAol",
        "outputId": "de36f063-141d-42f8-cda2-eb038317d264"
      },
      "source": [
        "insurance_model_2.evaluate(X_test,y_test)"
      ],
      "execution_count": null,
      "outputs": [
        {
          "output_type": "stream",
          "text": [
            "9/9 [==============================] - 0s 2ms/step - loss: 3491.2961 - mae: 3491.2961\n"
          ],
          "name": "stdout"
        },
        {
          "output_type": "execute_result",
          "data": {
            "text/plain": [
              "[3491.296142578125, 3491.296142578125]"
            ]
          },
          "metadata": {
            "tags": []
          },
          "execution_count": 77
        }
      ]
    },
    {
      "cell_type": "code",
      "metadata": {
        "colab": {
          "base_uri": "https://localhost:8080/"
        },
        "id": "m8kF3x2ojEcQ",
        "outputId": "60929a0c-2b0a-4fd7-bd6e-2ec114b43047"
      },
      "source": [
        "insurance_model.evaluate(X_test,y_test)"
      ],
      "execution_count": null,
      "outputs": [
        {
          "output_type": "stream",
          "text": [
            "9/9 [==============================] - 0s 2ms/step - loss: 8628.2393 - mae: 8628.2393\n"
          ],
          "name": "stdout"
        },
        {
          "output_type": "execute_result",
          "data": {
            "text/plain": [
              "[8628.2392578125, 8628.2392578125]"
            ]
          },
          "metadata": {
            "tags": []
          },
          "execution_count": 78
        }
      ]
    },
    {
      "cell_type": "code",
      "metadata": {
        "colab": {
          "base_uri": "https://localhost:8080/"
        },
        "id": "SlGiprjIj7a0",
        "outputId": "3b84fb71-6742-40e6-a8d1-0a7044a553b8"
      },
      "source": [
        "# Set random seed\n",
        "tf.random.set_seed(42)\n",
        "\n",
        "# Create a new model (same as model_2)\n",
        "insurance_model_3 = tf.keras.Sequential([\n",
        "  tf.keras.layers.Dense(100),\n",
        "  tf.keras.layers.Dense(10),\n",
        "  tf.keras.layers.Dense(1)\n",
        "])\n",
        "\n",
        "# Compile the model\n",
        "insurance_model_3.compile(loss=tf.keras.losses.mae,\n",
        "                        optimizer=tf.keras.optimizers.Adam(),\n",
        "                        metrics=['mae'])\n",
        "\n",
        "# Fit the model\n",
        "history = insurance_model_3.fit(X_train, y_train, epochs=200)"
      ],
      "execution_count": null,
      "outputs": [
        {
          "output_type": "stream",
          "text": [
            "Epoch 1/200\n",
            "34/34 [==============================] - 0s 2ms/step - loss: 13273.1602 - mae: 13273.1602\n",
            "Epoch 2/200\n",
            "34/34 [==============================] - 0s 2ms/step - loss: 13104.4297 - mae: 13104.4297\n",
            "Epoch 3/200\n",
            "34/34 [==============================] - 0s 1ms/step - loss: 12749.5420 - mae: 12749.5420\n",
            "Epoch 4/200\n",
            "34/34 [==============================] - 0s 1ms/step - loss: 12055.7510 - mae: 12055.7510\n",
            "Epoch 5/200\n",
            "34/34 [==============================] - 0s 2ms/step - loss: 10905.8154 - mae: 10905.8154\n",
            "Epoch 6/200\n",
            "34/34 [==============================] - 0s 2ms/step - loss: 9457.7217 - mae: 9457.7217\n",
            "Epoch 7/200\n",
            "34/34 [==============================] - 0s 1ms/step - loss: 8147.6543 - mae: 8147.6543\n",
            "Epoch 8/200\n",
            "34/34 [==============================] - 0s 1ms/step - loss: 7528.8408 - mae: 7528.8408\n",
            "Epoch 9/200\n",
            "34/34 [==============================] - 0s 2ms/step - loss: 7429.1528 - mae: 7429.1528\n",
            "Epoch 10/200\n",
            "34/34 [==============================] - 0s 2ms/step - loss: 7409.0811 - mae: 7409.0811\n",
            "Epoch 11/200\n",
            "34/34 [==============================] - 0s 2ms/step - loss: 7390.8042 - mae: 7390.8042\n",
            "Epoch 12/200\n",
            "34/34 [==============================] - 0s 2ms/step - loss: 7368.9180 - mae: 7368.9180\n",
            "Epoch 13/200\n",
            "34/34 [==============================] - 0s 2ms/step - loss: 7348.5195 - mae: 7348.5195\n",
            "Epoch 14/200\n",
            "34/34 [==============================] - 0s 1ms/step - loss: 7326.4893 - mae: 7326.4893\n",
            "Epoch 15/200\n",
            "34/34 [==============================] - 0s 2ms/step - loss: 7307.5815 - mae: 7307.5815\n",
            "Epoch 16/200\n",
            "34/34 [==============================] - 0s 1ms/step - loss: 7285.7734 - mae: 7285.7734\n",
            "Epoch 17/200\n",
            "34/34 [==============================] - 0s 2ms/step - loss: 7265.7104 - mae: 7265.7104\n",
            "Epoch 18/200\n",
            "34/34 [==============================] - 0s 2ms/step - loss: 7242.5488 - mae: 7242.5488\n",
            "Epoch 19/200\n",
            "34/34 [==============================] - 0s 2ms/step - loss: 7220.5068 - mae: 7220.5068\n",
            "Epoch 20/200\n",
            "34/34 [==============================] - 0s 2ms/step - loss: 7197.1978 - mae: 7197.1978\n",
            "Epoch 21/200\n",
            "34/34 [==============================] - 0s 2ms/step - loss: 7179.0195 - mae: 7179.0195\n",
            "Epoch 22/200\n",
            "34/34 [==============================] - 0s 2ms/step - loss: 7151.2104 - mae: 7151.2104\n",
            "Epoch 23/200\n",
            "34/34 [==============================] - 0s 2ms/step - loss: 7126.4639 - mae: 7126.4639\n",
            "Epoch 24/200\n",
            "34/34 [==============================] - 0s 2ms/step - loss: 7101.9199 - mae: 7101.9199\n",
            "Epoch 25/200\n",
            "34/34 [==============================] - 0s 2ms/step - loss: 7084.3379 - mae: 7084.3379\n",
            "Epoch 26/200\n",
            "34/34 [==============================] - 0s 2ms/step - loss: 7052.3291 - mae: 7052.3291\n",
            "Epoch 27/200\n",
            "34/34 [==============================] - 0s 1ms/step - loss: 7024.3501 - mae: 7024.3501\n",
            "Epoch 28/200\n",
            "34/34 [==============================] - 0s 2ms/step - loss: 6996.6963 - mae: 6996.6963\n",
            "Epoch 29/200\n",
            "34/34 [==============================] - 0s 1ms/step - loss: 6969.0112 - mae: 6969.0112\n",
            "Epoch 30/200\n",
            "34/34 [==============================] - 0s 2ms/step - loss: 6942.1899 - mae: 6942.1899\n",
            "Epoch 31/200\n",
            "34/34 [==============================] - 0s 2ms/step - loss: 6911.7280 - mae: 6911.7280\n",
            "Epoch 32/200\n",
            "34/34 [==============================] - 0s 2ms/step - loss: 6884.0205 - mae: 6884.0205\n",
            "Epoch 33/200\n",
            "34/34 [==============================] - 0s 2ms/step - loss: 6853.4648 - mae: 6853.4648\n",
            "Epoch 34/200\n",
            "34/34 [==============================] - 0s 2ms/step - loss: 6823.0674 - mae: 6823.0674\n",
            "Epoch 35/200\n",
            "34/34 [==============================] - 0s 2ms/step - loss: 6789.6855 - mae: 6789.6855\n",
            "Epoch 36/200\n",
            "34/34 [==============================] - 0s 2ms/step - loss: 6755.7646 - mae: 6755.7646\n",
            "Epoch 37/200\n",
            "34/34 [==============================] - 0s 2ms/step - loss: 6720.2026 - mae: 6720.2026\n",
            "Epoch 38/200\n",
            "34/34 [==============================] - 0s 2ms/step - loss: 6689.7158 - mae: 6689.7158\n",
            "Epoch 39/200\n",
            "34/34 [==============================] - 0s 1ms/step - loss: 6652.4614 - mae: 6652.4614\n",
            "Epoch 40/200\n",
            "34/34 [==============================] - 0s 2ms/step - loss: 6618.1006 - mae: 6618.1006\n",
            "Epoch 41/200\n",
            "34/34 [==============================] - 0s 2ms/step - loss: 6585.8643 - mae: 6585.8643\n",
            "Epoch 42/200\n",
            "34/34 [==============================] - 0s 2ms/step - loss: 6559.4956 - mae: 6559.4956\n",
            "Epoch 43/200\n",
            "34/34 [==============================] - 0s 1ms/step - loss: 6530.0444 - mae: 6530.0444\n",
            "Epoch 44/200\n",
            "34/34 [==============================] - 0s 2ms/step - loss: 6506.8071 - mae: 6506.8071\n",
            "Epoch 45/200\n",
            "34/34 [==============================] - 0s 1ms/step - loss: 6493.5718 - mae: 6493.5718\n",
            "Epoch 46/200\n",
            "34/34 [==============================] - 0s 2ms/step - loss: 6475.9258 - mae: 6475.9258\n",
            "Epoch 47/200\n",
            "34/34 [==============================] - 0s 2ms/step - loss: 6458.8979 - mae: 6458.8979\n",
            "Epoch 48/200\n",
            "34/34 [==============================] - 0s 2ms/step - loss: 6445.1494 - mae: 6445.1494\n",
            "Epoch 49/200\n",
            "34/34 [==============================] - 0s 2ms/step - loss: 6430.9639 - mae: 6430.9639\n",
            "Epoch 50/200\n",
            "34/34 [==============================] - 0s 1ms/step - loss: 6417.7510 - mae: 6417.7510\n",
            "Epoch 51/200\n",
            "34/34 [==============================] - 0s 2ms/step - loss: 6403.2759 - mae: 6403.2759\n",
            "Epoch 52/200\n",
            "34/34 [==============================] - 0s 1ms/step - loss: 6392.4141 - mae: 6392.4141\n",
            "Epoch 53/200\n",
            "34/34 [==============================] - 0s 1ms/step - loss: 6378.7451 - mae: 6378.7451\n",
            "Epoch 54/200\n",
            "34/34 [==============================] - 0s 2ms/step - loss: 6364.9131 - mae: 6364.9131\n",
            "Epoch 55/200\n",
            "34/34 [==============================] - 0s 2ms/step - loss: 6351.5269 - mae: 6351.5269\n",
            "Epoch 56/200\n",
            "34/34 [==============================] - 0s 2ms/step - loss: 6337.6602 - mae: 6337.6602\n",
            "Epoch 57/200\n",
            "34/34 [==============================] - 0s 2ms/step - loss: 6324.8369 - mae: 6324.8369\n",
            "Epoch 58/200\n",
            "34/34 [==============================] - 0s 2ms/step - loss: 6310.1948 - mae: 6310.1948\n",
            "Epoch 59/200\n",
            "34/34 [==============================] - 0s 1ms/step - loss: 6295.6035 - mae: 6295.6035\n",
            "Epoch 60/200\n",
            "34/34 [==============================] - 0s 2ms/step - loss: 6284.8696 - mae: 6284.8696\n",
            "Epoch 61/200\n",
            "34/34 [==============================] - 0s 2ms/step - loss: 6265.6411 - mae: 6265.6411\n",
            "Epoch 62/200\n",
            "34/34 [==============================] - 0s 2ms/step - loss: 6253.0103 - mae: 6253.0103\n",
            "Epoch 63/200\n",
            "34/34 [==============================] - 0s 2ms/step - loss: 6234.9292 - mae: 6234.9292\n",
            "Epoch 64/200\n",
            "34/34 [==============================] - 0s 1ms/step - loss: 6218.0430 - mae: 6218.0430\n",
            "Epoch 65/200\n",
            "34/34 [==============================] - 0s 2ms/step - loss: 6201.1899 - mae: 6201.1899\n",
            "Epoch 66/200\n",
            "34/34 [==============================] - 0s 2ms/step - loss: 6183.9590 - mae: 6183.9590\n",
            "Epoch 67/200\n",
            "34/34 [==============================] - 0s 1ms/step - loss: 6171.2993 - mae: 6171.2993\n",
            "Epoch 68/200\n",
            "34/34 [==============================] - 0s 2ms/step - loss: 6148.8398 - mae: 6148.8398\n",
            "Epoch 69/200\n",
            "34/34 [==============================] - 0s 2ms/step - loss: 6132.5981 - mae: 6132.5981\n",
            "Epoch 70/200\n",
            "34/34 [==============================] - 0s 2ms/step - loss: 6112.3848 - mae: 6112.3848\n",
            "Epoch 71/200\n",
            "34/34 [==============================] - 0s 1ms/step - loss: 6092.7202 - mae: 6092.7202\n",
            "Epoch 72/200\n",
            "34/34 [==============================] - 0s 2ms/step - loss: 6073.7422 - mae: 6073.7422\n",
            "Epoch 73/200\n",
            "34/34 [==============================] - 0s 2ms/step - loss: 6059.4873 - mae: 6059.4873\n",
            "Epoch 74/200\n",
            "34/34 [==============================] - 0s 2ms/step - loss: 6031.3848 - mae: 6031.3848\n",
            "Epoch 75/200\n",
            "34/34 [==============================] - 0s 2ms/step - loss: 6010.3350 - mae: 6010.3350\n",
            "Epoch 76/200\n",
            "34/34 [==============================] - 0s 2ms/step - loss: 5995.2178 - mae: 5995.2178\n",
            "Epoch 77/200\n",
            "34/34 [==============================] - 0s 2ms/step - loss: 5963.0718 - mae: 5963.0718\n",
            "Epoch 78/200\n",
            "34/34 [==============================] - 0s 2ms/step - loss: 5940.0605 - mae: 5940.0605\n",
            "Epoch 79/200\n",
            "34/34 [==============================] - 0s 2ms/step - loss: 5915.1064 - mae: 5915.1064\n",
            "Epoch 80/200\n",
            "34/34 [==============================] - 0s 2ms/step - loss: 5887.9990 - mae: 5887.9990\n",
            "Epoch 81/200\n",
            "34/34 [==============================] - 0s 2ms/step - loss: 5861.6992 - mae: 5861.6992\n",
            "Epoch 82/200\n",
            "34/34 [==============================] - 0s 1ms/step - loss: 5834.3066 - mae: 5834.3066\n",
            "Epoch 83/200\n",
            "34/34 [==============================] - 0s 2ms/step - loss: 5805.8237 - mae: 5805.8237\n",
            "Epoch 84/200\n",
            "34/34 [==============================] - 0s 2ms/step - loss: 5772.3232 - mae: 5772.3232\n",
            "Epoch 85/200\n",
            "34/34 [==============================] - 0s 2ms/step - loss: 5745.1514 - mae: 5745.1514\n",
            "Epoch 86/200\n",
            "34/34 [==============================] - 0s 2ms/step - loss: 5711.3477 - mae: 5711.3477\n",
            "Epoch 87/200\n",
            "34/34 [==============================] - 0s 2ms/step - loss: 5674.5215 - mae: 5674.5215\n",
            "Epoch 88/200\n",
            "34/34 [==============================] - 0s 1ms/step - loss: 5639.4927 - mae: 5639.4927\n",
            "Epoch 89/200\n",
            "34/34 [==============================] - 0s 2ms/step - loss: 5600.6655 - mae: 5600.6655\n",
            "Epoch 90/200\n",
            "34/34 [==============================] - 0s 2ms/step - loss: 5559.4326 - mae: 5559.4326\n",
            "Epoch 91/200\n",
            "34/34 [==============================] - 0s 1ms/step - loss: 5523.6187 - mae: 5523.6187\n",
            "Epoch 92/200\n",
            "34/34 [==============================] - 0s 2ms/step - loss: 5474.1250 - mae: 5474.1250\n",
            "Epoch 93/200\n",
            "34/34 [==============================] - 0s 2ms/step - loss: 5432.2661 - mae: 5432.2661\n",
            "Epoch 94/200\n",
            "34/34 [==============================] - 0s 2ms/step - loss: 5386.0527 - mae: 5386.0527\n",
            "Epoch 95/200\n",
            "34/34 [==============================] - 0s 1ms/step - loss: 5333.1812 - mae: 5333.1812\n",
            "Epoch 96/200\n",
            "34/34 [==============================] - 0s 2ms/step - loss: 5288.8159 - mae: 5288.8159\n",
            "Epoch 97/200\n",
            "34/34 [==============================] - 0s 2ms/step - loss: 5234.6792 - mae: 5234.6792\n",
            "Epoch 98/200\n",
            "34/34 [==============================] - 0s 2ms/step - loss: 5170.9360 - mae: 5170.9360\n",
            "Epoch 99/200\n",
            "34/34 [==============================] - 0s 2ms/step - loss: 5112.9443 - mae: 5112.9443\n",
            "Epoch 100/200\n",
            "34/34 [==============================] - 0s 2ms/step - loss: 5059.8643 - mae: 5059.8643\n",
            "Epoch 101/200\n",
            "34/34 [==============================] - 0s 2ms/step - loss: 4987.6191 - mae: 4987.6191\n",
            "Epoch 102/200\n",
            "34/34 [==============================] - 0s 2ms/step - loss: 4915.2910 - mae: 4915.2910\n",
            "Epoch 103/200\n",
            "34/34 [==============================] - 0s 2ms/step - loss: 4847.3599 - mae: 4847.3599\n",
            "Epoch 104/200\n",
            "34/34 [==============================] - 0s 3ms/step - loss: 4768.0151 - mae: 4768.0151\n",
            "Epoch 105/200\n",
            "34/34 [==============================] - 0s 2ms/step - loss: 4683.4727 - mae: 4683.4727\n",
            "Epoch 106/200\n",
            "34/34 [==============================] - 0s 2ms/step - loss: 4600.5054 - mae: 4600.5054\n",
            "Epoch 107/200\n",
            "34/34 [==============================] - 0s 2ms/step - loss: 4513.1436 - mae: 4513.1436\n",
            "Epoch 108/200\n",
            "34/34 [==============================] - 0s 2ms/step - loss: 4422.2983 - mae: 4422.2983\n",
            "Epoch 109/200\n",
            "34/34 [==============================] - 0s 2ms/step - loss: 4339.9600 - mae: 4339.9600\n",
            "Epoch 110/200\n",
            "34/34 [==============================] - 0s 2ms/step - loss: 4254.3916 - mae: 4254.3916\n",
            "Epoch 111/200\n",
            "34/34 [==============================] - 0s 2ms/step - loss: 4173.1797 - mae: 4173.1797\n",
            "Epoch 112/200\n",
            "34/34 [==============================] - 0s 2ms/step - loss: 4102.2939 - mae: 4102.2939\n",
            "Epoch 113/200\n",
            "34/34 [==============================] - 0s 2ms/step - loss: 4031.9592 - mae: 4031.9592\n",
            "Epoch 114/200\n",
            "34/34 [==============================] - 0s 2ms/step - loss: 3986.0220 - mae: 3986.0220\n",
            "Epoch 115/200\n",
            "34/34 [==============================] - 0s 2ms/step - loss: 3943.2346 - mae: 3943.2346\n",
            "Epoch 116/200\n",
            "34/34 [==============================] - 0s 1ms/step - loss: 3918.8977 - mae: 3918.8977\n",
            "Epoch 117/200\n",
            "34/34 [==============================] - 0s 2ms/step - loss: 3895.5610 - mae: 3895.5610\n",
            "Epoch 118/200\n",
            "34/34 [==============================] - 0s 1ms/step - loss: 3869.5679 - mae: 3869.5679\n",
            "Epoch 119/200\n",
            "34/34 [==============================] - 0s 2ms/step - loss: 3850.2136 - mae: 3850.2136\n",
            "Epoch 120/200\n",
            "34/34 [==============================] - 0s 1ms/step - loss: 3834.7349 - mae: 3834.7349\n",
            "Epoch 121/200\n",
            "34/34 [==============================] - 0s 2ms/step - loss: 3827.0952 - mae: 3827.0952\n",
            "Epoch 122/200\n",
            "34/34 [==============================] - 0s 2ms/step - loss: 3821.6382 - mae: 3821.6382\n",
            "Epoch 123/200\n",
            "34/34 [==============================] - 0s 2ms/step - loss: 3813.8315 - mae: 3813.8315\n",
            "Epoch 124/200\n",
            "34/34 [==============================] - 0s 1ms/step - loss: 3805.7307 - mae: 3805.7307\n",
            "Epoch 125/200\n",
            "34/34 [==============================] - 0s 2ms/step - loss: 3794.7090 - mae: 3794.7090\n",
            "Epoch 126/200\n",
            "34/34 [==============================] - 0s 1ms/step - loss: 3804.4946 - mae: 3804.4946\n",
            "Epoch 127/200\n",
            "34/34 [==============================] - 0s 2ms/step - loss: 3796.0596 - mae: 3796.0596\n",
            "Epoch 128/200\n",
            "34/34 [==============================] - 0s 2ms/step - loss: 3791.0422 - mae: 3791.0422\n",
            "Epoch 129/200\n",
            "34/34 [==============================] - 0s 2ms/step - loss: 3800.0696 - mae: 3800.0696\n",
            "Epoch 130/200\n",
            "34/34 [==============================] - 0s 2ms/step - loss: 3788.5005 - mae: 3788.5005\n",
            "Epoch 131/200\n",
            "34/34 [==============================] - 0s 2ms/step - loss: 3780.8442 - mae: 3780.8442\n",
            "Epoch 132/200\n",
            "34/34 [==============================] - 0s 2ms/step - loss: 3774.5413 - mae: 3774.5413\n",
            "Epoch 133/200\n",
            "34/34 [==============================] - 0s 2ms/step - loss: 3771.0156 - mae: 3771.0156\n",
            "Epoch 134/200\n",
            "34/34 [==============================] - 0s 2ms/step - loss: 3769.3762 - mae: 3769.3762\n",
            "Epoch 135/200\n",
            "34/34 [==============================] - 0s 2ms/step - loss: 3766.7610 - mae: 3766.7610\n",
            "Epoch 136/200\n",
            "34/34 [==============================] - 0s 1ms/step - loss: 3765.5508 - mae: 3765.5508\n",
            "Epoch 137/200\n",
            "34/34 [==============================] - 0s 2ms/step - loss: 3774.5032 - mae: 3774.5032\n",
            "Epoch 138/200\n",
            "34/34 [==============================] - 0s 2ms/step - loss: 3785.3909 - mae: 3785.3909\n",
            "Epoch 139/200\n",
            "34/34 [==============================] - 0s 2ms/step - loss: 3761.1299 - mae: 3761.1299\n",
            "Epoch 140/200\n",
            "34/34 [==============================] - 0s 2ms/step - loss: 3764.1753 - mae: 3764.1753\n",
            "Epoch 141/200\n",
            "34/34 [==============================] - 0s 2ms/step - loss: 3763.9250 - mae: 3763.9250\n",
            "Epoch 142/200\n",
            "34/34 [==============================] - 0s 1ms/step - loss: 3762.7959 - mae: 3762.7959\n",
            "Epoch 143/200\n",
            "34/34 [==============================] - 0s 2ms/step - loss: 3754.4397 - mae: 3754.4397\n",
            "Epoch 144/200\n",
            "34/34 [==============================] - 0s 2ms/step - loss: 3750.3347 - mae: 3750.3347\n",
            "Epoch 145/200\n",
            "34/34 [==============================] - 0s 2ms/step - loss: 3750.4006 - mae: 3750.4006\n",
            "Epoch 146/200\n",
            "34/34 [==============================] - 0s 2ms/step - loss: 3755.4736 - mae: 3755.4736\n",
            "Epoch 147/200\n",
            "34/34 [==============================] - 0s 2ms/step - loss: 3750.3223 - mae: 3750.3223\n",
            "Epoch 148/200\n",
            "34/34 [==============================] - 0s 2ms/step - loss: 3758.1089 - mae: 3758.1089\n",
            "Epoch 149/200\n",
            "34/34 [==============================] - 0s 2ms/step - loss: 3743.4858 - mae: 3743.4858\n",
            "Epoch 150/200\n",
            "34/34 [==============================] - 0s 3ms/step - loss: 3738.5342 - mae: 3738.5342\n",
            "Epoch 151/200\n",
            "34/34 [==============================] - 0s 1ms/step - loss: 3740.1384 - mae: 3740.1384\n",
            "Epoch 152/200\n",
            "34/34 [==============================] - 0s 2ms/step - loss: 3742.4954 - mae: 3742.4954\n",
            "Epoch 153/200\n",
            "34/34 [==============================] - 0s 2ms/step - loss: 3744.4399 - mae: 3744.4399\n",
            "Epoch 154/200\n",
            "34/34 [==============================] - 0s 2ms/step - loss: 3737.1824 - mae: 3737.1824\n",
            "Epoch 155/200\n",
            "34/34 [==============================] - 0s 2ms/step - loss: 3737.6541 - mae: 3737.6541\n",
            "Epoch 156/200\n",
            "34/34 [==============================] - 0s 2ms/step - loss: 3737.1663 - mae: 3737.1663\n",
            "Epoch 157/200\n",
            "34/34 [==============================] - 0s 2ms/step - loss: 3733.1101 - mae: 3733.1101\n",
            "Epoch 158/200\n",
            "34/34 [==============================] - 0s 2ms/step - loss: 3729.5813 - mae: 3729.5813\n",
            "Epoch 159/200\n",
            "34/34 [==============================] - 0s 2ms/step - loss: 3725.9053 - mae: 3725.9053\n",
            "Epoch 160/200\n",
            "34/34 [==============================] - 0s 2ms/step - loss: 3733.2817 - mae: 3733.2817\n",
            "Epoch 161/200\n",
            "34/34 [==============================] - 0s 2ms/step - loss: 3728.2559 - mae: 3728.2559\n",
            "Epoch 162/200\n",
            "34/34 [==============================] - 0s 2ms/step - loss: 3724.5825 - mae: 3724.5825\n",
            "Epoch 163/200\n",
            "34/34 [==============================] - 0s 2ms/step - loss: 3723.0806 - mae: 3723.0806\n",
            "Epoch 164/200\n",
            "34/34 [==============================] - 0s 2ms/step - loss: 3726.9475 - mae: 3726.9475\n",
            "Epoch 165/200\n",
            "34/34 [==============================] - 0s 2ms/step - loss: 3716.5430 - mae: 3716.5430\n",
            "Epoch 166/200\n",
            "34/34 [==============================] - 0s 1ms/step - loss: 3721.9155 - mae: 3721.9155\n",
            "Epoch 167/200\n",
            "34/34 [==============================] - 0s 2ms/step - loss: 3721.1814 - mae: 3721.1814\n",
            "Epoch 168/200\n",
            "34/34 [==============================] - 0s 2ms/step - loss: 3715.2456 - mae: 3715.2456\n",
            "Epoch 169/200\n",
            "34/34 [==============================] - 0s 2ms/step - loss: 3713.9756 - mae: 3713.9756\n",
            "Epoch 170/200\n",
            "34/34 [==============================] - 0s 2ms/step - loss: 3707.9922 - mae: 3707.9922\n",
            "Epoch 171/200\n",
            "34/34 [==============================] - 0s 1ms/step - loss: 3707.4158 - mae: 3707.4158\n",
            "Epoch 172/200\n",
            "34/34 [==============================] - 0s 2ms/step - loss: 3710.6833 - mae: 3710.6833\n",
            "Epoch 173/200\n",
            "34/34 [==============================] - 0s 2ms/step - loss: 3703.3618 - mae: 3703.3618\n",
            "Epoch 174/200\n",
            "34/34 [==============================] - 0s 1ms/step - loss: 3710.9385 - mae: 3710.9385\n",
            "Epoch 175/200\n",
            "34/34 [==============================] - 0s 2ms/step - loss: 3713.0417 - mae: 3713.0417\n",
            "Epoch 176/200\n",
            "34/34 [==============================] - 0s 2ms/step - loss: 3705.0571 - mae: 3705.0571\n",
            "Epoch 177/200\n",
            "34/34 [==============================] - 0s 2ms/step - loss: 3698.9333 - mae: 3698.9333\n",
            "Epoch 178/200\n",
            "34/34 [==============================] - 0s 2ms/step - loss: 3697.9983 - mae: 3697.9983\n",
            "Epoch 179/200\n",
            "34/34 [==============================] - 0s 2ms/step - loss: 3704.9150 - mae: 3704.9150\n",
            "Epoch 180/200\n",
            "34/34 [==============================] - 0s 2ms/step - loss: 3710.3679 - mae: 3710.3679\n",
            "Epoch 181/200\n",
            "34/34 [==============================] - 0s 2ms/step - loss: 3696.6482 - mae: 3696.6482\n",
            "Epoch 182/200\n",
            "34/34 [==============================] - 0s 2ms/step - loss: 3692.7329 - mae: 3692.7329\n",
            "Epoch 183/200\n",
            "34/34 [==============================] - 0s 2ms/step - loss: 3691.1655 - mae: 3691.1655\n",
            "Epoch 184/200\n",
            "34/34 [==============================] - 0s 2ms/step - loss: 3699.2437 - mae: 3699.2437\n",
            "Epoch 185/200\n",
            "34/34 [==============================] - 0s 2ms/step - loss: 3693.2480 - mae: 3693.2480\n",
            "Epoch 186/200\n",
            "34/34 [==============================] - 0s 2ms/step - loss: 3696.1387 - mae: 3696.1387\n",
            "Epoch 187/200\n",
            "34/34 [==============================] - 0s 2ms/step - loss: 3687.8640 - mae: 3687.8640\n",
            "Epoch 188/200\n",
            "34/34 [==============================] - 0s 2ms/step - loss: 3693.3562 - mae: 3693.3562\n",
            "Epoch 189/200\n",
            "34/34 [==============================] - 0s 2ms/step - loss: 3682.7324 - mae: 3682.7324\n",
            "Epoch 190/200\n",
            "34/34 [==============================] - 0s 2ms/step - loss: 3683.2891 - mae: 3683.2891\n",
            "Epoch 191/200\n",
            "34/34 [==============================] - 0s 2ms/step - loss: 3697.6536 - mae: 3697.6536\n",
            "Epoch 192/200\n",
            "34/34 [==============================] - 0s 1ms/step - loss: 3684.6665 - mae: 3684.6665\n",
            "Epoch 193/200\n",
            "34/34 [==============================] - 0s 2ms/step - loss: 3675.5154 - mae: 3675.5154\n",
            "Epoch 194/200\n",
            "34/34 [==============================] - 0s 2ms/step - loss: 3676.3923 - mae: 3676.3923\n",
            "Epoch 195/200\n",
            "34/34 [==============================] - 0s 2ms/step - loss: 3672.8452 - mae: 3672.8452\n",
            "Epoch 196/200\n",
            "34/34 [==============================] - 0s 2ms/step - loss: 3682.0283 - mae: 3682.0283\n",
            "Epoch 197/200\n",
            "34/34 [==============================] - 0s 1ms/step - loss: 3665.7961 - mae: 3665.7961\n",
            "Epoch 198/200\n",
            "34/34 [==============================] - 0s 2ms/step - loss: 3671.7419 - mae: 3671.7419\n",
            "Epoch 199/200\n",
            "34/34 [==============================] - 0s 2ms/step - loss: 3680.5464 - mae: 3680.5464\n",
            "Epoch 200/200\n",
            "34/34 [==============================] - 0s 2ms/step - loss: 3665.6401 - mae: 3665.6401\n"
          ],
          "name": "stdout"
        }
      ]
    },
    {
      "cell_type": "code",
      "metadata": {
        "colab": {
          "base_uri": "https://localhost:8080/"
        },
        "id": "_rYomlz-lZg2",
        "outputId": "6054e310-6ae4-4791-9d46-98f8b7df918a"
      },
      "source": [
        "#Evaluate with increasing the epochs to 200\n",
        "\n",
        "insurance_model_3.evaluate(X_test,y_test)"
      ],
      "execution_count": null,
      "outputs": [
        {
          "output_type": "stream",
          "text": [
            "9/9 [==============================] - 0s 2ms/step - loss: 3491.2961 - mae: 3491.2961\n"
          ],
          "name": "stdout"
        },
        {
          "output_type": "execute_result",
          "data": {
            "text/plain": [
              "[3491.296142578125, 3491.296142578125]"
            ]
          },
          "metadata": {
            "tags": []
          },
          "execution_count": 80
        }
      ]
    },
    {
      "cell_type": "code",
      "metadata": {
        "colab": {
          "base_uri": "https://localhost:8080/",
          "height": 296
        },
        "id": "TP7zwCW8lvG6",
        "outputId": "fedcf101-076c-4fcf-acb7-e3ddb6a742aa"
      },
      "source": [
        "#Plot history which also means loss curve or training curve\n",
        "pd.DataFrame(history.history).plot()\n",
        "plt.ylabel(\"loss\")\n",
        "plt.xlabel(\"epochs\")"
      ],
      "execution_count": null,
      "outputs": [
        {
          "output_type": "execute_result",
          "data": {
            "text/plain": [
              "Text(0.5, 0, 'epochs')"
            ]
          },
          "metadata": {
            "tags": []
          },
          "execution_count": 81
        },
        {
          "output_type": "display_data",
          "data": {
            "image/png": "[encoded data removed]",
            "text/plain": [
              "<Figure size 432x288 with 1 Axes>"
            ]
          },
          "metadata": {
            "tags": [],
            "needs_background": "light"
          }
        }
      ]
    },
    {
      "cell_type": "markdown",
      "metadata": {
        "id": "PD_ArsJnoQVp"
      },
      "source": [
        "#Preprocessing data (normalization and standardization)"
      ]
    },
    {
      "cell_type": "markdown",
      "metadata": {
        "id": "L1kTXkyArGbF"
      },
      "source": [
        "#Neural networks tend to prefer normalization over standardization "
      ]
    },
    {
      "cell_type": "code",
      "metadata": {
        "colab": {
          "base_uri": "https://localhost:8080/",
          "height": 419
        },
        "id": "ct3gCPngywsb",
        "outputId": "82a508aa-442d-406e-ae64-60855ee0a04f"
      },
      "source": [
        "import pandas as pd\n",
        "import matplotlib.pyplot as plt\n",
        "import tensorflow as tf\n",
        "\n",
        "#Read in the insurance dataframe\n",
        "insurance = pd.read_csv(\"https://raw.githubusercontent.com/stedy/Machine-Learning-with-R-datasets/master/insurance.csv\")\n",
        "insurance"
      ],
      "execution_count": null,
      "outputs": [
        {
          "output_type": "execute_result",
          "data": {
            "text/html": [
              "<div>\n",
              "<style scoped>\n",
              "    .dataframe tbody tr th:only-of-type {\n",
              "        vertical-align: middle;\n",
              "    }\n",
              "\n",
              "    .dataframe tbody tr th {\n",
              "        vertical-align: top;\n",
              "    }\n",
              "\n",
              "    .dataframe thead th {\n",
              "        text-align: right;\n",
              "    }\n",
              "</style>\n",
              "<table border=\"1\" class=\"dataframe\">\n",
              "  <thead>\n",
              "    <tr style=\"text-align: right;\">\n",
              "      <th></th>\n",
              "      <th>age</th>\n",
              "      <th>sex</th>\n",
              "      <th>bmi</th>\n",
              "      <th>children</th>\n",
              "      <th>smoker</th>\n",
              "      <th>region</th>\n",
              "      <th>charges</th>\n",
              "    </tr>\n",
              "  </thead>\n",
              "  <tbody>\n",
              "    <tr>\n",
              "      <th>0</th>\n",
              "      <td>19</td>\n",
              "      <td>female</td>\n",
              "      <td>27.900</td>\n",
              "      <td>0</td>\n",
              "      <td>yes</td>\n",
              "      <td>southwest</td>\n",
              "      <td>16884.92400</td>\n",
              "    </tr>\n",
              "    <tr>\n",
              "      <th>1</th>\n",
              "      <td>18</td>\n",
              "      <td>male</td>\n",
              "      <td>33.770</td>\n",
              "      <td>1</td>\n",
              "      <td>no</td>\n",
              "      <td>southeast</td>\n",
              "      <td>1725.55230</td>\n",
              "    </tr>\n",
              "    <tr>\n",
              "      <th>2</th>\n",
              "      <td>28</td>\n",
              "      <td>male</td>\n",
              "      <td>33.000</td>\n",
              "      <td>3</td>\n",
              "      <td>no</td>\n",
              "      <td>southeast</td>\n",
              "      <td>4449.46200</td>\n",
              "    </tr>\n",
              "    <tr>\n",
              "      <th>3</th>\n",
              "      <td>33</td>\n",
              "      <td>male</td>\n",
              "      <td>22.705</td>\n",
              "      <td>0</td>\n",
              "      <td>no</td>\n",
              "      <td>northwest</td>\n",
              "      <td>21984.47061</td>\n",
              "    </tr>\n",
              "    <tr>\n",
              "      <th>4</th>\n",
              "      <td>32</td>\n",
              "      <td>male</td>\n",
              "      <td>28.880</td>\n",
              "      <td>0</td>\n",
              "      <td>no</td>\n",
              "      <td>northwest</td>\n",
              "      <td>3866.85520</td>\n",
              "    </tr>\n",
              "    <tr>\n",
              "      <th>...</th>\n",
              "      <td>...</td>\n",
              "      <td>...</td>\n",
              "      <td>...</td>\n",
              "      <td>...</td>\n",
              "      <td>...</td>\n",
              "      <td>...</td>\n",
              "      <td>...</td>\n",
              "    </tr>\n",
              "    <tr>\n",
              "      <th>1333</th>\n",
              "      <td>50</td>\n",
              "      <td>male</td>\n",
              "      <td>30.970</td>\n",
              "      <td>3</td>\n",
              "      <td>no</td>\n",
              "      <td>northwest</td>\n",
              "      <td>10600.54830</td>\n",
              "    </tr>\n",
              "    <tr>\n",
              "      <th>1334</th>\n",
              "      <td>18</td>\n",
              "      <td>female</td>\n",
              "      <td>31.920</td>\n",
              "      <td>0</td>\n",
              "      <td>no</td>\n",
              "      <td>northeast</td>\n",
              "      <td>2205.98080</td>\n",
              "    </tr>\n",
              "    <tr>\n",
              "      <th>1335</th>\n",
              "      <td>18</td>\n",
              "      <td>female</td>\n",
              "      <td>36.850</td>\n",
              "      <td>0</td>\n",
              "      <td>no</td>\n",
              "      <td>southeast</td>\n",
              "      <td>1629.83350</td>\n",
              "    </tr>\n",
              "    <tr>\n",
              "      <th>1336</th>\n",
              "      <td>21</td>\n",
              "      <td>female</td>\n",
              "      <td>25.800</td>\n",
              "      <td>0</td>\n",
              "      <td>no</td>\n",
              "      <td>southwest</td>\n",
              "      <td>2007.94500</td>\n",
              "    </tr>\n",
              "    <tr>\n",
              "      <th>1337</th>\n",
              "      <td>61</td>\n",
              "      <td>female</td>\n",
              "      <td>29.070</td>\n",
              "      <td>0</td>\n",
              "      <td>yes</td>\n",
              "      <td>northwest</td>\n",
              "      <td>29141.36030</td>\n",
              "    </tr>\n",
              "  </tbody>\n",
              "</table>\n",
              "<p>1338 rows × 7 columns</p>\n",
              "</div>"
            ],
            "text/plain": [
              "      age     sex     bmi  children smoker     region      charges\n",
              "0      19  female  27.900         0    yes  southwest  16884.92400\n",
              "1      18    male  33.770         1     no  southeast   1725.55230\n",
              "2      28    male  33.000         3     no  southeast   4449.46200\n",
              "3      33    male  22.705         0     no  northwest  21984.47061\n",
              "4      32    male  28.880         0     no  northwest   3866.85520\n",
              "...   ...     ...     ...       ...    ...        ...          ...\n",
              "1333   50    male  30.970         3     no  northwest  10600.54830\n",
              "1334   18  female  31.920         0     no  northeast   2205.98080\n",
              "1335   18  female  36.850         0     no  southeast   1629.83350\n",
              "1336   21  female  25.800         0     no  southwest   2007.94500\n",
              "1337   61  female  29.070         0    yes  northwest  29141.36030\n",
              "\n",
              "[1338 rows x 7 columns]"
            ]
          },
          "metadata": {
            "tags": []
          },
          "execution_count": 82
        }
      ]
    },
    {
      "cell_type": "markdown",
      "metadata": {
        "id": "grb7RcA8zBEf"
      },
      "source": [
        "#To prepare our data we can borrow a few classes from scikit learn\n",
        "``The major difference between normalization and one hot encoding is that normalization turns all the numerical values of the columns into 0 and 1 and one hot encoding does the same for only string values``"
      ]
    },
    {
      "cell_type": "code",
      "metadata": {
        "id": "PTuQ4aMwzIzx"
      },
      "source": [
        "from sklearn.compose import make_column_transformer\n",
        "from sklearn.preprocessing import MinMaxScaler , OneHotEncoder\n",
        "from sklearn.model_selection import train_test_split\n",
        "\n",
        "#Create column transformer\n",
        "ct = make_column_transformer(\n",
        "    (MinMaxScaler(),[\"age\",\"bmi\", \"children\"]), #turn all values in this column into 0 and 1\n",
        "    (OneHotEncoder(handle_unknown=\"ignore\"),[\"sex\",\"smoker\", \"region\"]) # ignores the columns which it does not know about\n",
        ")\n",
        "\n",
        "# Create X & y\n",
        "X = insurance.drop(\"charges\", axis=1)\n",
        "y = insurance[\"charges\"]\n",
        "\n",
        "#Build our train and test datasets\n",
        "X_train, X_test, y_train, y_test = train_test_split(X,\n",
        "                                                    y,\n",
        "                                                    test_size=0.2,\n",
        "                                                    random_state=42)\n",
        "#Fit the column transformer on our training data\n",
        "ct.fit(X_train)\n",
        "\n",
        "#Transforming training and test data with normalization (MinMaxScalar) and OneHotEncoder\n",
        "X_train_normal = ct.transform(X_train)\n",
        "X_test_normal = ct.transform(X_test)"
      ],
      "execution_count": null,
      "outputs": []
    },
    {
      "cell_type": "code",
      "metadata": {
        "colab": {
          "base_uri": "https://localhost:8080/"
        },
        "id": "uQ3If0ja4e8u",
        "outputId": "682179e2-1859-4861-a02e-ecac4b35e198"
      },
      "source": [
        "# How does the old data look now\n",
        "X_train.loc[0]"
      ],
      "execution_count": null,
      "outputs": [
        {
          "output_type": "execute_result",
          "data": {
            "text/plain": [
              "age                19\n",
              "sex            female\n",
              "bmi              27.9\n",
              "children            0\n",
              "smoker            yes\n",
              "region      southwest\n",
              "Name: 0, dtype: object"
            ]
          },
          "metadata": {
            "tags": []
          },
          "execution_count": 84
        }
      ]
    },
    {
      "cell_type": "code",
      "metadata": {
        "colab": {
          "base_uri": "https://localhost:8080/"
        },
        "id": "_ge2TvIb43yc",
        "outputId": "0184b601-a3e1-4a69-e65d-eedb24cf521f"
      },
      "source": [
        "#normalized data\n",
        "X_train_normal[0]"
      ],
      "execution_count": null,
      "outputs": [
        {
          "output_type": "execute_result",
          "data": {
            "text/plain": [
              "array([0.60869565, 0.10734463, 0.4       , 1.        , 0.        ,\n",
              "       1.        , 0.        , 0.        , 1.        , 0.        ,\n",
              "       0.        ])"
            ]
          },
          "metadata": {
            "tags": []
          },
          "execution_count": 85
        }
      ]
    },
    {
      "cell_type": "code",
      "metadata": {
        "colab": {
          "base_uri": "https://localhost:8080/"
        },
        "id": "ciY9739I5Nla",
        "outputId": "3dd1853b-c135-4de0-cb54-d76a24f164c1"
      },
      "source": [
        "# The normalized data shape is larger than old because of the extra columns\n",
        "X_train_normal.shape, X_train.shape"
      ],
      "execution_count": null,
      "outputs": [
        {
          "output_type": "execute_result",
          "data": {
            "text/plain": [
              "((1070, 11), (1070, 6))"
            ]
          },
          "metadata": {
            "tags": []
          },
          "execution_count": 86
        }
      ]
    },
    {
      "cell_type": "code",
      "metadata": {
        "colab": {
          "base_uri": "https://localhost:8080/"
        },
        "id": "La2KLTSq6ZAV",
        "outputId": "4b633db6-4fa8-4f58-b170-c69cb010aa28"
      },
      "source": [
        "#Lets use our model number 2\n",
        "\n",
        "#set the random seed\n",
        "tf.random.set_seed(42)\n",
        "\n",
        "# Build the model (3 layers, 100, 10, 1 units)\n",
        "insurance_model_3 = tf.keras.Sequential([\n",
        "  tf.keras.layers.Dense(100),\n",
        "  tf.keras.layers.Dense(100),\n",
        "  tf.keras.layers.Dense(1)\n",
        "])\n",
        "\n",
        "# Compile the model\n",
        "insurance_model_3.compile(loss=tf.keras.losses.mae,\n",
        "                          optimizer=tf.keras.optimizers.Adam(),\n",
        "                          metrics=['mae'])\n",
        "\n",
        "\n",
        "#Fit the model\n",
        "insurance_model_3.fit(X_train_normal, y_train, epochs=500)\n",
        "\n",
        " "
      ],
      "execution_count": null,
      "outputs": [
        {
          "output_type": "stream",
          "text": [
            "Epoch 1/500\n",
            "34/34 [==============================] - 0s 2ms/step - loss: 13340.4238 - mae: 13340.4238\n",
            "Epoch 2/500\n",
            "34/34 [==============================] - 0s 2ms/step - loss: 13304.7178 - mae: 13304.7178\n",
            "Epoch 3/500\n",
            "34/34 [==============================] - 0s 2ms/step - loss: 13178.4893 - mae: 13178.4893\n",
            "Epoch 4/500\n",
            "34/34 [==============================] - 0s 2ms/step - loss: 12868.2793 - mae: 12868.2793\n",
            "Epoch 5/500\n",
            "34/34 [==============================] - 0s 2ms/step - loss: 12269.2344 - mae: 12269.2344\n",
            "Epoch 6/500\n",
            "34/34 [==============================] - 0s 2ms/step - loss: 11321.8975 - mae: 11321.8975\n",
            "Epoch 7/500\n",
            "34/34 [==============================] - 0s 2ms/step - loss: 10218.4619 - mae: 10218.4619\n",
            "Epoch 8/500\n",
            "34/34 [==============================] - 0s 2ms/step - loss: 9182.0342 - mae: 9182.0342\n",
            "Epoch 9/500\n",
            "34/34 [==============================] - 0s 2ms/step - loss: 8458.1797 - mae: 8458.1797\n",
            "Epoch 10/500\n",
            "34/34 [==============================] - 0s 2ms/step - loss: 8055.3774 - mae: 8055.3774\n",
            "Epoch 11/500\n",
            "34/34 [==============================] - 0s 2ms/step - loss: 7886.5391 - mae: 7886.5391\n",
            "Epoch 12/500\n",
            "34/34 [==============================] - 0s 2ms/step - loss: 7778.5771 - mae: 7778.5771\n",
            "Epoch 13/500\n",
            "34/34 [==============================] - 0s 2ms/step - loss: 7690.8481 - mae: 7690.8481\n",
            "Epoch 14/500\n",
            "34/34 [==============================] - 0s 2ms/step - loss: 7596.6533 - mae: 7596.6533\n",
            "Epoch 15/500\n",
            "34/34 [==============================] - 0s 2ms/step - loss: 7504.1958 - mae: 7504.1958\n",
            "Epoch 16/500\n",
            "34/34 [==============================] - 0s 1ms/step - loss: 7408.9077 - mae: 7408.9077\n",
            "Epoch 17/500\n",
            "34/34 [==============================] - 0s 2ms/step - loss: 7306.5928 - mae: 7306.5928\n",
            "Epoch 18/500\n",
            "34/34 [==============================] - 0s 2ms/step - loss: 7200.9854 - mae: 7200.9854\n",
            "Epoch 19/500\n",
            "34/34 [==============================] - 0s 2ms/step - loss: 7088.3433 - mae: 7088.3433\n",
            "Epoch 20/500\n",
            "34/34 [==============================] - 0s 2ms/step - loss: 6967.4761 - mae: 6967.4761\n",
            "Epoch 21/500\n",
            "34/34 [==============================] - 0s 2ms/step - loss: 6840.0283 - mae: 6840.0283\n",
            "Epoch 22/500\n",
            "34/34 [==============================] - 0s 2ms/step - loss: 6697.2129 - mae: 6697.2129\n",
            "Epoch 23/500\n",
            "34/34 [==============================] - 0s 2ms/step - loss: 6540.8154 - mae: 6540.8154\n",
            "Epoch 24/500\n",
            "34/34 [==============================] - 0s 2ms/step - loss: 6373.2793 - mae: 6373.2793\n",
            "Epoch 25/500\n",
            "34/34 [==============================] - 0s 2ms/step - loss: 6199.5293 - mae: 6199.5293\n",
            "Epoch 26/500\n",
            "34/34 [==============================] - 0s 2ms/step - loss: 5974.2285 - mae: 5974.2285\n",
            "Epoch 27/500\n",
            "34/34 [==============================] - 0s 2ms/step - loss: 5747.9106 - mae: 5747.9106\n",
            "Epoch 28/500\n",
            "34/34 [==============================] - 0s 2ms/step - loss: 5503.9219 - mae: 5503.9219\n",
            "Epoch 29/500\n",
            "34/34 [==============================] - 0s 2ms/step - loss: 5242.3237 - mae: 5242.3237\n",
            "Epoch 30/500\n",
            "34/34 [==============================] - 0s 2ms/step - loss: 4968.8145 - mae: 4968.8145\n",
            "Epoch 31/500\n",
            "34/34 [==============================] - 0s 2ms/step - loss: 4688.7427 - mae: 4688.7427\n",
            "Epoch 32/500\n",
            "34/34 [==============================] - 0s 2ms/step - loss: 4430.6016 - mae: 4430.6016\n",
            "Epoch 33/500\n",
            "34/34 [==============================] - 0s 2ms/step - loss: 4216.4829 - mae: 4216.4829\n",
            "Epoch 34/500\n",
            "34/34 [==============================] - 0s 2ms/step - loss: 4021.4539 - mae: 4021.4539\n",
            "Epoch 35/500\n",
            "34/34 [==============================] - 0s 2ms/step - loss: 3870.4365 - mae: 3870.4365\n",
            "Epoch 36/500\n",
            "34/34 [==============================] - 0s 2ms/step - loss: 3764.9243 - mae: 3764.9243\n",
            "Epoch 37/500\n",
            "34/34 [==============================] - 0s 2ms/step - loss: 3710.5715 - mae: 3710.5715\n",
            "Epoch 38/500\n",
            "34/34 [==============================] - 0s 2ms/step - loss: 3687.7473 - mae: 3687.7473\n",
            "Epoch 39/500\n",
            "34/34 [==============================] - 0s 2ms/step - loss: 3670.6694 - mae: 3670.6694\n",
            "Epoch 40/500\n",
            "34/34 [==============================] - 0s 2ms/step - loss: 3665.3552 - mae: 3665.3552\n",
            "Epoch 41/500\n",
            "34/34 [==============================] - 0s 2ms/step - loss: 3655.5032 - mae: 3655.5032\n",
            "Epoch 42/500\n",
            "34/34 [==============================] - 0s 2ms/step - loss: 3663.7034 - mae: 3663.7034\n",
            "Epoch 43/500\n",
            "34/34 [==============================] - 0s 2ms/step - loss: 3655.8245 - mae: 3655.8245\n",
            "Epoch 44/500\n",
            "34/34 [==============================] - 0s 2ms/step - loss: 3647.2397 - mae: 3647.2397\n",
            "Epoch 45/500\n",
            "34/34 [==============================] - 0s 2ms/step - loss: 3642.5217 - mae: 3642.5217\n",
            "Epoch 46/500\n",
            "34/34 [==============================] - 0s 2ms/step - loss: 3641.3706 - mae: 3641.3706\n",
            "Epoch 47/500\n",
            "34/34 [==============================] - 0s 2ms/step - loss: 3639.2358 - mae: 3639.2358\n",
            "Epoch 48/500\n",
            "34/34 [==============================] - 0s 2ms/step - loss: 3632.9512 - mae: 3632.9512\n",
            "Epoch 49/500\n",
            "34/34 [==============================] - 0s 2ms/step - loss: 3631.5464 - mae: 3631.5464\n",
            "Epoch 50/500\n",
            "34/34 [==============================] - 0s 2ms/step - loss: 3625.5815 - mae: 3625.5815\n",
            "Epoch 51/500\n",
            "34/34 [==============================] - 0s 2ms/step - loss: 3629.8359 - mae: 3629.8359\n",
            "Epoch 52/500\n",
            "34/34 [==============================] - 0s 2ms/step - loss: 3624.0671 - mae: 3624.0671\n",
            "Epoch 53/500\n",
            "34/34 [==============================] - 0s 2ms/step - loss: 3616.5146 - mae: 3616.5146\n",
            "Epoch 54/500\n",
            "34/34 [==============================] - 0s 2ms/step - loss: 3616.8682 - mae: 3616.8682\n",
            "Epoch 55/500\n",
            "34/34 [==============================] - 0s 2ms/step - loss: 3616.2100 - mae: 3616.2100\n",
            "Epoch 56/500\n",
            "34/34 [==============================] - 0s 3ms/step - loss: 3603.4614 - mae: 3603.4614\n",
            "Epoch 57/500\n",
            "34/34 [==============================] - 0s 2ms/step - loss: 3600.4526 - mae: 3600.4526\n",
            "Epoch 58/500\n",
            "34/34 [==============================] - 0s 2ms/step - loss: 3595.7332 - mae: 3595.7332\n",
            "Epoch 59/500\n",
            "34/34 [==============================] - 0s 2ms/step - loss: 3594.5254 - mae: 3594.5254\n",
            "Epoch 60/500\n",
            "34/34 [==============================] - 0s 2ms/step - loss: 3587.7358 - mae: 3587.7358\n",
            "Epoch 61/500\n",
            "34/34 [==============================] - 0s 2ms/step - loss: 3585.5505 - mae: 3585.5505\n",
            "Epoch 62/500\n",
            "34/34 [==============================] - 0s 2ms/step - loss: 3578.7683 - mae: 3578.7683\n",
            "Epoch 63/500\n",
            "34/34 [==============================] - 0s 2ms/step - loss: 3574.3367 - mae: 3574.3367\n",
            "Epoch 64/500\n",
            "34/34 [==============================] - 0s 2ms/step - loss: 3572.4990 - mae: 3572.4990\n",
            "Epoch 65/500\n",
            "34/34 [==============================] - 0s 2ms/step - loss: 3573.0952 - mae: 3573.0952\n",
            "Epoch 66/500\n",
            "34/34 [==============================] - 0s 2ms/step - loss: 3563.1401 - mae: 3563.1401\n",
            "Epoch 67/500\n",
            "34/34 [==============================] - 0s 2ms/step - loss: 3561.5928 - mae: 3561.5928\n",
            "Epoch 68/500\n",
            "34/34 [==============================] - 0s 2ms/step - loss: 3561.0784 - mae: 3561.0784\n",
            "Epoch 69/500\n",
            "34/34 [==============================] - 0s 2ms/step - loss: 3554.3484 - mae: 3554.3484\n",
            "Epoch 70/500\n",
            "34/34 [==============================] - 0s 2ms/step - loss: 3553.6023 - mae: 3553.6023\n",
            "Epoch 71/500\n",
            "34/34 [==============================] - 0s 2ms/step - loss: 3552.5007 - mae: 3552.5007\n",
            "Epoch 72/500\n",
            "34/34 [==============================] - 0s 2ms/step - loss: 3544.0906 - mae: 3544.0906\n",
            "Epoch 73/500\n",
            "34/34 [==============================] - 0s 2ms/step - loss: 3542.1575 - mae: 3542.1575\n",
            "Epoch 74/500\n",
            "34/34 [==============================] - 0s 2ms/step - loss: 3536.2681 - mae: 3536.2681\n",
            "Epoch 75/500\n",
            "34/34 [==============================] - 0s 2ms/step - loss: 3535.7825 - mae: 3535.7825\n",
            "Epoch 76/500\n",
            "34/34 [==============================] - 0s 2ms/step - loss: 3536.2686 - mae: 3536.2686\n",
            "Epoch 77/500\n",
            "34/34 [==============================] - 0s 2ms/step - loss: 3525.5537 - mae: 3525.5537\n",
            "Epoch 78/500\n",
            "34/34 [==============================] - 0s 2ms/step - loss: 3523.0613 - mae: 3523.0613\n",
            "Epoch 79/500\n",
            "34/34 [==============================] - 0s 2ms/step - loss: 3525.9214 - mae: 3525.9214\n",
            "Epoch 80/500\n",
            "34/34 [==============================] - 0s 2ms/step - loss: 3520.8506 - mae: 3520.8506\n",
            "Epoch 81/500\n",
            "34/34 [==============================] - 0s 2ms/step - loss: 3518.1433 - mae: 3518.1433\n",
            "Epoch 82/500\n",
            "34/34 [==============================] - 0s 2ms/step - loss: 3515.9719 - mae: 3515.9719\n",
            "Epoch 83/500\n",
            "34/34 [==============================] - 0s 2ms/step - loss: 3513.1436 - mae: 3513.1436\n",
            "Epoch 84/500\n",
            "34/34 [==============================] - 0s 2ms/step - loss: 3508.8445 - mae: 3508.8445\n",
            "Epoch 85/500\n",
            "34/34 [==============================] - 0s 2ms/step - loss: 3505.5527 - mae: 3505.5527\n",
            "Epoch 86/500\n",
            "34/34 [==============================] - 0s 2ms/step - loss: 3501.7927 - mae: 3501.7927\n",
            "Epoch 87/500\n",
            "34/34 [==============================] - 0s 2ms/step - loss: 3501.6873 - mae: 3501.6873\n",
            "Epoch 88/500\n",
            "34/34 [==============================] - 0s 2ms/step - loss: 3497.7844 - mae: 3497.7844\n",
            "Epoch 89/500\n",
            "34/34 [==============================] - 0s 2ms/step - loss: 3497.2859 - mae: 3497.2859\n",
            "Epoch 90/500\n",
            "34/34 [==============================] - 0s 2ms/step - loss: 3492.3335 - mae: 3492.3335\n",
            "Epoch 91/500\n",
            "34/34 [==============================] - 0s 2ms/step - loss: 3485.6113 - mae: 3485.6113\n",
            "Epoch 92/500\n",
            "34/34 [==============================] - 0s 2ms/step - loss: 3487.3831 - mae: 3487.3831\n",
            "Epoch 93/500\n",
            "34/34 [==============================] - 0s 2ms/step - loss: 3481.7871 - mae: 3481.7871\n",
            "Epoch 94/500\n",
            "34/34 [==============================] - 0s 2ms/step - loss: 3479.0571 - mae: 3479.0571\n",
            "Epoch 95/500\n",
            "34/34 [==============================] - 0s 2ms/step - loss: 3478.6052 - mae: 3478.6052\n",
            "Epoch 96/500\n",
            "34/34 [==============================] - 0s 2ms/step - loss: 3482.4221 - mae: 3482.4221\n",
            "Epoch 97/500\n",
            "34/34 [==============================] - 0s 2ms/step - loss: 3480.4578 - mae: 3480.4578\n",
            "Epoch 98/500\n",
            "34/34 [==============================] - 0s 2ms/step - loss: 3475.1211 - mae: 3475.1211\n",
            "Epoch 99/500\n",
            "34/34 [==============================] - 0s 2ms/step - loss: 3475.8147 - mae: 3475.8147\n",
            "Epoch 100/500\n",
            "34/34 [==============================] - 0s 2ms/step - loss: 3480.1475 - mae: 3480.1475\n",
            "Epoch 101/500\n",
            "34/34 [==============================] - 0s 2ms/step - loss: 3476.3896 - mae: 3476.3896\n",
            "Epoch 102/500\n",
            "34/34 [==============================] - 0s 2ms/step - loss: 3475.8818 - mae: 3475.8818\n",
            "Epoch 103/500\n",
            "34/34 [==============================] - 0s 2ms/step - loss: 3474.8379 - mae: 3474.8379\n",
            "Epoch 104/500\n",
            "34/34 [==============================] - 0s 2ms/step - loss: 3474.1633 - mae: 3474.1633\n",
            "Epoch 105/500\n",
            "34/34 [==============================] - 0s 2ms/step - loss: 3477.4209 - mae: 3477.4209\n",
            "Epoch 106/500\n",
            "34/34 [==============================] - 0s 2ms/step - loss: 3474.8533 - mae: 3474.8533\n",
            "Epoch 107/500\n",
            "34/34 [==============================] - 0s 2ms/step - loss: 3478.2874 - mae: 3478.2874\n",
            "Epoch 108/500\n",
            "34/34 [==============================] - 0s 2ms/step - loss: 3476.1938 - mae: 3476.1938\n",
            "Epoch 109/500\n",
            "34/34 [==============================] - 0s 2ms/step - loss: 3478.6506 - mae: 3478.6506\n",
            "Epoch 110/500\n",
            "34/34 [==============================] - 0s 2ms/step - loss: 3472.9653 - mae: 3472.9653\n",
            "Epoch 111/500\n",
            "34/34 [==============================] - 0s 2ms/step - loss: 3484.2512 - mae: 3484.2512\n",
            "Epoch 112/500\n",
            "34/34 [==============================] - 0s 2ms/step - loss: 3478.0217 - mae: 3478.0217\n",
            "Epoch 113/500\n",
            "34/34 [==============================] - 0s 2ms/step - loss: 3479.6731 - mae: 3479.6731\n",
            "Epoch 114/500\n",
            "34/34 [==============================] - 0s 2ms/step - loss: 3481.4006 - mae: 3481.4006\n",
            "Epoch 115/500\n",
            "34/34 [==============================] - 0s 2ms/step - loss: 3475.5281 - mae: 3475.5281\n",
            "Epoch 116/500\n",
            "34/34 [==============================] - 0s 2ms/step - loss: 3477.4897 - mae: 3477.4897\n",
            "Epoch 117/500\n",
            "34/34 [==============================] - 0s 2ms/step - loss: 3479.6091 - mae: 3479.6091\n",
            "Epoch 118/500\n",
            "34/34 [==============================] - 0s 2ms/step - loss: 3474.2991 - mae: 3474.2991\n",
            "Epoch 119/500\n",
            "34/34 [==============================] - 0s 2ms/step - loss: 3479.8711 - mae: 3479.8711\n",
            "Epoch 120/500\n",
            "34/34 [==============================] - 0s 2ms/step - loss: 3473.4919 - mae: 3473.4919\n",
            "Epoch 121/500\n",
            "34/34 [==============================] - 0s 2ms/step - loss: 3477.4553 - mae: 3477.4553\n",
            "Epoch 122/500\n",
            "34/34 [==============================] - 0s 2ms/step - loss: 3475.5918 - mae: 3475.5918\n",
            "Epoch 123/500\n",
            "34/34 [==============================] - 0s 2ms/step - loss: 3475.2075 - mae: 3475.2075\n",
            "Epoch 124/500\n",
            "34/34 [==============================] - 0s 2ms/step - loss: 3473.8289 - mae: 3473.8289\n",
            "Epoch 125/500\n",
            "34/34 [==============================] - 0s 2ms/step - loss: 3475.4866 - mae: 3475.4866\n",
            "Epoch 126/500\n",
            "34/34 [==============================] - 0s 2ms/step - loss: 3474.1313 - mae: 3474.1313\n",
            "Epoch 127/500\n",
            "34/34 [==============================] - 0s 2ms/step - loss: 3477.6255 - mae: 3477.6255\n",
            "Epoch 128/500\n",
            "34/34 [==============================] - 0s 2ms/step - loss: 3478.0808 - mae: 3478.0808\n",
            "Epoch 129/500\n",
            "34/34 [==============================] - 0s 2ms/step - loss: 3478.2170 - mae: 3478.2170\n",
            "Epoch 130/500\n",
            "34/34 [==============================] - 0s 2ms/step - loss: 3474.6941 - mae: 3474.6941\n",
            "Epoch 131/500\n",
            "34/34 [==============================] - 0s 2ms/step - loss: 3475.7712 - mae: 3475.7712\n",
            "Epoch 132/500\n",
            "34/34 [==============================] - 0s 2ms/step - loss: 3474.5105 - mae: 3474.5105\n",
            "Epoch 133/500\n",
            "34/34 [==============================] - 0s 2ms/step - loss: 3473.7793 - mae: 3473.7793\n",
            "Epoch 134/500\n",
            "34/34 [==============================] - 0s 2ms/step - loss: 3474.7153 - mae: 3474.7153\n",
            "Epoch 135/500\n",
            "34/34 [==============================] - 0s 2ms/step - loss: 3475.0864 - mae: 3475.0864\n",
            "Epoch 136/500\n",
            "34/34 [==============================] - 0s 2ms/step - loss: 3472.9075 - mae: 3472.9075\n",
            "Epoch 137/500\n",
            "34/34 [==============================] - 0s 2ms/step - loss: 3475.8379 - mae: 3475.8379\n",
            "Epoch 138/500\n",
            "34/34 [==============================] - 0s 2ms/step - loss: 3475.5488 - mae: 3475.5488\n",
            "Epoch 139/500\n",
            "34/34 [==============================] - 0s 2ms/step - loss: 3475.8591 - mae: 3475.8591\n",
            "Epoch 140/500\n",
            "34/34 [==============================] - 0s 2ms/step - loss: 3474.0188 - mae: 3474.0188\n",
            "Epoch 141/500\n",
            "34/34 [==============================] - 0s 2ms/step - loss: 3479.7568 - mae: 3479.7568\n",
            "Epoch 142/500\n",
            "34/34 [==============================] - 0s 2ms/step - loss: 3478.6379 - mae: 3478.6379\n",
            "Epoch 143/500\n",
            "34/34 [==============================] - 0s 2ms/step - loss: 3474.4304 - mae: 3474.4304\n",
            "Epoch 144/500\n",
            "34/34 [==============================] - 0s 2ms/step - loss: 3477.6729 - mae: 3477.6729\n",
            "Epoch 145/500\n",
            "34/34 [==============================] - 0s 2ms/step - loss: 3475.4709 - mae: 3475.4709\n",
            "Epoch 146/500\n",
            "34/34 [==============================] - 0s 2ms/step - loss: 3479.8616 - mae: 3479.8616\n",
            "Epoch 147/500\n",
            "34/34 [==============================] - 0s 2ms/step - loss: 3474.9229 - mae: 3474.9229\n",
            "Epoch 148/500\n",
            "34/34 [==============================] - 0s 2ms/step - loss: 3478.4265 - mae: 3478.4265\n",
            "Epoch 149/500\n",
            "34/34 [==============================] - 0s 2ms/step - loss: 3473.6191 - mae: 3473.6191\n",
            "Epoch 150/500\n",
            "34/34 [==============================] - 0s 2ms/step - loss: 3475.9265 - mae: 3475.9265\n",
            "Epoch 151/500\n",
            "34/34 [==============================] - 0s 2ms/step - loss: 3476.5068 - mae: 3476.5068\n",
            "Epoch 152/500\n",
            "34/34 [==============================] - 0s 2ms/step - loss: 3478.2434 - mae: 3478.2434\n",
            "Epoch 153/500\n",
            "34/34 [==============================] - 0s 2ms/step - loss: 3473.6807 - mae: 3473.6807\n",
            "Epoch 154/500\n",
            "34/34 [==============================] - 0s 2ms/step - loss: 3475.8167 - mae: 3475.8167\n",
            "Epoch 155/500\n",
            "34/34 [==============================] - 0s 2ms/step - loss: 3475.1484 - mae: 3475.1484\n",
            "Epoch 156/500\n",
            "34/34 [==============================] - 0s 2ms/step - loss: 3479.3975 - mae: 3479.3975\n",
            "Epoch 157/500\n",
            "34/34 [==============================] - 0s 2ms/step - loss: 3478.8059 - mae: 3478.8059\n",
            "Epoch 158/500\n",
            "34/34 [==============================] - 0s 2ms/step - loss: 3474.4668 - mae: 3474.4668\n",
            "Epoch 159/500\n",
            "34/34 [==============================] - 0s 2ms/step - loss: 3473.2473 - mae: 3473.2473\n",
            "Epoch 160/500\n",
            "34/34 [==============================] - 0s 2ms/step - loss: 3476.6775 - mae: 3476.6775\n",
            "Epoch 161/500\n",
            "34/34 [==============================] - 0s 2ms/step - loss: 3475.4907 - mae: 3475.4907\n",
            "Epoch 162/500\n",
            "34/34 [==============================] - 0s 2ms/step - loss: 3473.9998 - mae: 3473.9998\n",
            "Epoch 163/500\n",
            "34/34 [==============================] - 0s 2ms/step - loss: 3474.1721 - mae: 3474.1721\n",
            "Epoch 164/500\n",
            "34/34 [==============================] - 0s 2ms/step - loss: 3478.9563 - mae: 3478.9563\n",
            "Epoch 165/500\n",
            "34/34 [==============================] - 0s 2ms/step - loss: 3474.2029 - mae: 3474.2029\n",
            "Epoch 166/500\n",
            "34/34 [==============================] - 0s 2ms/step - loss: 3475.5818 - mae: 3475.5818\n",
            "Epoch 167/500\n",
            "34/34 [==============================] - 0s 2ms/step - loss: 3475.4460 - mae: 3475.4460\n",
            "Epoch 168/500\n",
            "34/34 [==============================] - 0s 2ms/step - loss: 3474.5320 - mae: 3474.5320\n",
            "Epoch 169/500\n",
            "34/34 [==============================] - 0s 2ms/step - loss: 3473.0696 - mae: 3473.0696\n",
            "Epoch 170/500\n",
            "34/34 [==============================] - 0s 2ms/step - loss: 3475.8059 - mae: 3475.8059\n",
            "Epoch 171/500\n",
            "34/34 [==============================] - 0s 2ms/step - loss: 3474.1411 - mae: 3474.1411\n",
            "Epoch 172/500\n",
            "34/34 [==============================] - 0s 2ms/step - loss: 3475.1426 - mae: 3475.1426\n",
            "Epoch 173/500\n",
            "34/34 [==============================] - 0s 2ms/step - loss: 3474.5415 - mae: 3474.5415\n",
            "Epoch 174/500\n",
            "34/34 [==============================] - 0s 2ms/step - loss: 3475.9314 - mae: 3475.9314\n",
            "Epoch 175/500\n",
            "34/34 [==============================] - 0s 2ms/step - loss: 3475.7271 - mae: 3475.7271\n",
            "Epoch 176/500\n",
            "34/34 [==============================] - 0s 2ms/step - loss: 3480.0667 - mae: 3480.0667\n",
            "Epoch 177/500\n",
            "34/34 [==============================] - 0s 2ms/step - loss: 3479.6301 - mae: 3479.6301\n",
            "Epoch 178/500\n",
            "34/34 [==============================] - 0s 2ms/step - loss: 3476.6936 - mae: 3476.6936\n",
            "Epoch 179/500\n",
            "34/34 [==============================] - 0s 2ms/step - loss: 3483.1138 - mae: 3483.1138\n",
            "Epoch 180/500\n",
            "34/34 [==============================] - 0s 2ms/step - loss: 3476.6877 - mae: 3476.6877\n",
            "Epoch 181/500\n",
            "34/34 [==============================] - 0s 2ms/step - loss: 3475.9241 - mae: 3475.9241\n",
            "Epoch 182/500\n",
            "34/34 [==============================] - 0s 2ms/step - loss: 3475.6116 - mae: 3475.6116\n",
            "Epoch 183/500\n",
            "34/34 [==============================] - 0s 2ms/step - loss: 3474.8093 - mae: 3474.8093\n",
            "Epoch 184/500\n",
            "34/34 [==============================] - 0s 2ms/step - loss: 3476.2576 - mae: 3476.2576\n",
            "Epoch 185/500\n",
            "34/34 [==============================] - 0s 2ms/step - loss: 3477.2144 - mae: 3477.2144\n",
            "Epoch 186/500\n",
            "34/34 [==============================] - 0s 2ms/step - loss: 3474.3926 - mae: 3474.3926\n",
            "Epoch 187/500\n",
            "34/34 [==============================] - 0s 2ms/step - loss: 3474.9705 - mae: 3474.9705\n",
            "Epoch 188/500\n",
            "34/34 [==============================] - 0s 2ms/step - loss: 3473.2910 - mae: 3473.2910\n",
            "Epoch 189/500\n",
            "34/34 [==============================] - 0s 2ms/step - loss: 3473.4333 - mae: 3473.4333\n",
            "Epoch 190/500\n",
            "34/34 [==============================] - 0s 3ms/step - loss: 3476.9258 - mae: 3476.9258\n",
            "Epoch 191/500\n",
            "34/34 [==============================] - 0s 2ms/step - loss: 3490.0850 - mae: 3490.0850\n",
            "Epoch 192/500\n",
            "34/34 [==============================] - 0s 2ms/step - loss: 3476.6770 - mae: 3476.6770\n",
            "Epoch 193/500\n",
            "34/34 [==============================] - 0s 2ms/step - loss: 3476.2507 - mae: 3476.2507\n",
            "Epoch 194/500\n",
            "34/34 [==============================] - 0s 2ms/step - loss: 3474.7363 - mae: 3474.7363\n",
            "Epoch 195/500\n",
            "34/34 [==============================] - 0s 2ms/step - loss: 3472.6807 - mae: 3472.6807\n",
            "Epoch 196/500\n",
            "34/34 [==============================] - 0s 2ms/step - loss: 3480.4329 - mae: 3480.4329\n",
            "Epoch 197/500\n",
            "34/34 [==============================] - 0s 2ms/step - loss: 3474.8413 - mae: 3474.8413\n",
            "Epoch 198/500\n",
            "34/34 [==============================] - 0s 2ms/step - loss: 3479.1328 - mae: 3479.1328\n",
            "Epoch 199/500\n",
            "34/34 [==============================] - 0s 2ms/step - loss: 3473.7659 - mae: 3473.7659\n",
            "Epoch 200/500\n",
            "34/34 [==============================] - 0s 2ms/step - loss: 3476.3311 - mae: 3476.3311\n",
            "Epoch 201/500\n",
            "34/34 [==============================] - 0s 2ms/step - loss: 3476.1316 - mae: 3476.1316\n",
            "Epoch 202/500\n",
            "34/34 [==============================] - 0s 2ms/step - loss: 3475.5894 - mae: 3475.5894\n",
            "Epoch 203/500\n",
            "34/34 [==============================] - 0s 3ms/step - loss: 3474.0229 - mae: 3474.0229\n",
            "Epoch 204/500\n",
            "34/34 [==============================] - 0s 2ms/step - loss: 3473.4360 - mae: 3473.4360\n",
            "Epoch 205/500\n",
            "34/34 [==============================] - 0s 2ms/step - loss: 3475.2390 - mae: 3475.2390\n",
            "Epoch 206/500\n",
            "34/34 [==============================] - 0s 2ms/step - loss: 3471.9429 - mae: 3471.9429\n",
            "Epoch 207/500\n",
            "34/34 [==============================] - 0s 2ms/step - loss: 3477.2644 - mae: 3477.2644\n",
            "Epoch 208/500\n",
            "34/34 [==============================] - 0s 2ms/step - loss: 3475.7312 - mae: 3475.7312\n",
            "Epoch 209/500\n",
            "34/34 [==============================] - 0s 2ms/step - loss: 3475.8962 - mae: 3475.8962\n",
            "Epoch 210/500\n",
            "34/34 [==============================] - 0s 2ms/step - loss: 3475.2576 - mae: 3475.2576\n",
            "Epoch 211/500\n",
            "34/34 [==============================] - 0s 2ms/step - loss: 3473.8516 - mae: 3473.8516\n",
            "Epoch 212/500\n",
            "34/34 [==============================] - 0s 2ms/step - loss: 3476.5200 - mae: 3476.5200\n",
            "Epoch 213/500\n",
            "34/34 [==============================] - 0s 2ms/step - loss: 3474.4380 - mae: 3474.4380\n",
            "Epoch 214/500\n",
            "34/34 [==============================] - 0s 2ms/step - loss: 3477.1387 - mae: 3477.1387\n",
            "Epoch 215/500\n",
            "34/34 [==============================] - 0s 2ms/step - loss: 3475.8259 - mae: 3475.8259\n",
            "Epoch 216/500\n",
            "34/34 [==============================] - 0s 2ms/step - loss: 3477.2158 - mae: 3477.2158\n",
            "Epoch 217/500\n",
            "34/34 [==============================] - 0s 2ms/step - loss: 3479.6611 - mae: 3479.6611\n",
            "Epoch 218/500\n",
            "34/34 [==============================] - 0s 2ms/step - loss: 3474.0120 - mae: 3474.0120\n",
            "Epoch 219/500\n",
            "34/34 [==============================] - 0s 2ms/step - loss: 3474.7341 - mae: 3474.7341\n",
            "Epoch 220/500\n",
            "34/34 [==============================] - 0s 2ms/step - loss: 3473.3655 - mae: 3473.3655\n",
            "Epoch 221/500\n",
            "34/34 [==============================] - 0s 2ms/step - loss: 3477.4119 - mae: 3477.4119\n",
            "Epoch 222/500\n",
            "34/34 [==============================] - 0s 2ms/step - loss: 3477.7830 - mae: 3477.7830\n",
            "Epoch 223/500\n",
            "34/34 [==============================] - 0s 2ms/step - loss: 3474.2971 - mae: 3474.2971\n",
            "Epoch 224/500\n",
            "34/34 [==============================] - 0s 2ms/step - loss: 3476.3979 - mae: 3476.3979\n",
            "Epoch 225/500\n",
            "34/34 [==============================] - 0s 2ms/step - loss: 3475.3679 - mae: 3475.3679\n",
            "Epoch 226/500\n",
            "34/34 [==============================] - 0s 2ms/step - loss: 3473.7532 - mae: 3473.7532\n",
            "Epoch 227/500\n",
            "34/34 [==============================] - 0s 2ms/step - loss: 3472.9927 - mae: 3472.9927\n",
            "Epoch 228/500\n",
            "34/34 [==============================] - 0s 2ms/step - loss: 3476.8342 - mae: 3476.8342\n",
            "Epoch 229/500\n",
            "34/34 [==============================] - 0s 2ms/step - loss: 3472.9521 - mae: 3472.9521\n",
            "Epoch 230/500\n",
            "34/34 [==============================] - 0s 2ms/step - loss: 3478.5071 - mae: 3478.5071\n",
            "Epoch 231/500\n",
            "34/34 [==============================] - 0s 2ms/step - loss: 3473.8730 - mae: 3473.8730\n",
            "Epoch 232/500\n",
            "34/34 [==============================] - 0s 2ms/step - loss: 3473.0125 - mae: 3473.0125\n",
            "Epoch 233/500\n",
            "34/34 [==============================] - 0s 2ms/step - loss: 3474.8169 - mae: 3474.8169\n",
            "Epoch 234/500\n",
            "34/34 [==============================] - 0s 2ms/step - loss: 3474.3894 - mae: 3474.3894\n",
            "Epoch 235/500\n",
            "34/34 [==============================] - 0s 2ms/step - loss: 3476.0618 - mae: 3476.0618\n",
            "Epoch 236/500\n",
            "34/34 [==============================] - 0s 2ms/step - loss: 3475.9685 - mae: 3475.9685\n",
            "Epoch 237/500\n",
            "34/34 [==============================] - 0s 2ms/step - loss: 3476.0833 - mae: 3476.0833\n",
            "Epoch 238/500\n",
            "34/34 [==============================] - 0s 2ms/step - loss: 3472.5710 - mae: 3472.5710\n",
            "Epoch 239/500\n",
            "34/34 [==============================] - 0s 2ms/step - loss: 3478.7161 - mae: 3478.7161\n",
            "Epoch 240/500\n",
            "34/34 [==============================] - 0s 2ms/step - loss: 3475.3787 - mae: 3475.3787\n",
            "Epoch 241/500\n",
            "34/34 [==============================] - 0s 2ms/step - loss: 3473.0847 - mae: 3473.0847\n",
            "Epoch 242/500\n",
            "34/34 [==============================] - 0s 2ms/step - loss: 3476.2432 - mae: 3476.2432\n",
            "Epoch 243/500\n",
            "34/34 [==============================] - 0s 2ms/step - loss: 3473.6379 - mae: 3473.6379\n",
            "Epoch 244/500\n",
            "34/34 [==============================] - 0s 2ms/step - loss: 3478.3093 - mae: 3478.3093\n",
            "Epoch 245/500\n",
            "34/34 [==============================] - 0s 2ms/step - loss: 3474.5598 - mae: 3474.5598\n",
            "Epoch 246/500\n",
            "34/34 [==============================] - 0s 2ms/step - loss: 3476.9043 - mae: 3476.9043\n",
            "Epoch 247/500\n",
            "34/34 [==============================] - 0s 2ms/step - loss: 3475.5806 - mae: 3475.5806\n",
            "Epoch 248/500\n",
            "34/34 [==============================] - 0s 2ms/step - loss: 3477.4006 - mae: 3477.4006\n",
            "Epoch 249/500\n",
            "34/34 [==============================] - 0s 2ms/step - loss: 3478.4661 - mae: 3478.4661\n",
            "Epoch 250/500\n",
            "34/34 [==============================] - 0s 2ms/step - loss: 3475.4407 - mae: 3475.4407\n",
            "Epoch 251/500\n",
            "34/34 [==============================] - 0s 2ms/step - loss: 3472.8882 - mae: 3472.8882\n",
            "Epoch 252/500\n",
            "34/34 [==============================] - 0s 2ms/step - loss: 3476.4524 - mae: 3476.4524\n",
            "Epoch 253/500\n",
            "34/34 [==============================] - 0s 2ms/step - loss: 3476.9207 - mae: 3476.9207\n",
            "Epoch 254/500\n",
            "34/34 [==============================] - 0s 2ms/step - loss: 3474.8010 - mae: 3474.8010\n",
            "Epoch 255/500\n",
            "34/34 [==============================] - 0s 2ms/step - loss: 3474.1609 - mae: 3474.1609\n",
            "Epoch 256/500\n",
            "34/34 [==============================] - 0s 2ms/step - loss: 3480.9446 - mae: 3480.9446\n",
            "Epoch 257/500\n",
            "34/34 [==============================] - 0s 2ms/step - loss: 3480.2012 - mae: 3480.2012\n",
            "Epoch 258/500\n",
            "34/34 [==============================] - 0s 2ms/step - loss: 3474.1357 - mae: 3474.1357\n",
            "Epoch 259/500\n",
            "34/34 [==============================] - 0s 2ms/step - loss: 3478.7100 - mae: 3478.7100\n",
            "Epoch 260/500\n",
            "34/34 [==============================] - 0s 2ms/step - loss: 3474.3870 - mae: 3474.3870\n",
            "Epoch 261/500\n",
            "34/34 [==============================] - 0s 2ms/step - loss: 3476.1494 - mae: 3476.1494\n",
            "Epoch 262/500\n",
            "34/34 [==============================] - 0s 2ms/step - loss: 3474.7981 - mae: 3474.7981\n",
            "Epoch 263/500\n",
            "34/34 [==============================] - 0s 2ms/step - loss: 3476.5251 - mae: 3476.5251\n",
            "Epoch 264/500\n",
            "34/34 [==============================] - 0s 2ms/step - loss: 3475.6931 - mae: 3475.6931\n",
            "Epoch 265/500\n",
            "34/34 [==============================] - 0s 2ms/step - loss: 3473.7673 - mae: 3473.7673\n",
            "Epoch 266/500\n",
            "34/34 [==============================] - 0s 2ms/step - loss: 3476.4490 - mae: 3476.4490\n",
            "Epoch 267/500\n",
            "34/34 [==============================] - 0s 2ms/step - loss: 3476.9763 - mae: 3476.9763\n",
            "Epoch 268/500\n",
            "34/34 [==============================] - 0s 2ms/step - loss: 3473.5454 - mae: 3473.5454\n",
            "Epoch 269/500\n",
            "34/34 [==============================] - 0s 2ms/step - loss: 3473.6094 - mae: 3473.6094\n",
            "Epoch 270/500\n",
            "34/34 [==============================] - 0s 2ms/step - loss: 3473.7747 - mae: 3473.7747\n",
            "Epoch 271/500\n",
            "34/34 [==============================] - 0s 3ms/step - loss: 3474.1450 - mae: 3474.1450\n",
            "Epoch 272/500\n",
            "34/34 [==============================] - 0s 2ms/step - loss: 3474.0378 - mae: 3474.0378\n",
            "Epoch 273/500\n",
            "34/34 [==============================] - 0s 2ms/step - loss: 3474.6643 - mae: 3474.6643\n",
            "Epoch 274/500\n",
            "34/34 [==============================] - 0s 2ms/step - loss: 3473.2727 - mae: 3473.2727\n",
            "Epoch 275/500\n",
            "34/34 [==============================] - 0s 2ms/step - loss: 3474.3364 - mae: 3474.3364\n",
            "Epoch 276/500\n",
            "34/34 [==============================] - 0s 2ms/step - loss: 3476.2615 - mae: 3476.2615\n",
            "Epoch 277/500\n",
            "34/34 [==============================] - 0s 2ms/step - loss: 3473.6292 - mae: 3473.6292\n",
            "Epoch 278/500\n",
            "34/34 [==============================] - 0s 2ms/step - loss: 3476.0037 - mae: 3476.0037\n",
            "Epoch 279/500\n",
            "34/34 [==============================] - 0s 2ms/step - loss: 3482.0642 - mae: 3482.0642\n",
            "Epoch 280/500\n",
            "34/34 [==============================] - 0s 2ms/step - loss: 3474.7043 - mae: 3474.7043\n",
            "Epoch 281/500\n",
            "34/34 [==============================] - 0s 2ms/step - loss: 3474.7598 - mae: 3474.7598\n",
            "Epoch 282/500\n",
            "34/34 [==============================] - 0s 2ms/step - loss: 3474.2219 - mae: 3474.2219\n",
            "Epoch 283/500\n",
            "34/34 [==============================] - 0s 2ms/step - loss: 3475.6099 - mae: 3475.6099\n",
            "Epoch 284/500\n",
            "34/34 [==============================] - 0s 2ms/step - loss: 3474.2463 - mae: 3474.2463\n",
            "Epoch 285/500\n",
            "34/34 [==============================] - 0s 2ms/step - loss: 3473.9683 - mae: 3473.9683\n",
            "Epoch 286/500\n",
            "34/34 [==============================] - 0s 2ms/step - loss: 3474.9529 - mae: 3474.9529\n",
            "Epoch 287/500\n",
            "34/34 [==============================] - 0s 2ms/step - loss: 3475.0701 - mae: 3475.0701\n",
            "Epoch 288/500\n",
            "34/34 [==============================] - 0s 2ms/step - loss: 3474.5137 - mae: 3474.5137\n",
            "Epoch 289/500\n",
            "34/34 [==============================] - 0s 2ms/step - loss: 3477.8894 - mae: 3477.8894\n",
            "Epoch 290/500\n",
            "34/34 [==============================] - 0s 2ms/step - loss: 3478.3289 - mae: 3478.3289\n",
            "Epoch 291/500\n",
            "34/34 [==============================] - 0s 2ms/step - loss: 3472.3669 - mae: 3472.3669\n",
            "Epoch 292/500\n",
            "34/34 [==============================] - 0s 2ms/step - loss: 3478.9163 - mae: 3478.9163\n",
            "Epoch 293/500\n",
            "34/34 [==============================] - 0s 2ms/step - loss: 3473.3455 - mae: 3473.3455\n",
            "Epoch 294/500\n",
            "34/34 [==============================] - 0s 2ms/step - loss: 3478.4788 - mae: 3478.4788\n",
            "Epoch 295/500\n",
            "34/34 [==============================] - 0s 2ms/step - loss: 3478.1311 - mae: 3478.1311\n",
            "Epoch 296/500\n",
            "34/34 [==============================] - 0s 2ms/step - loss: 3478.1599 - mae: 3478.1599\n",
            "Epoch 297/500\n",
            "34/34 [==============================] - 0s 2ms/step - loss: 3482.2959 - mae: 3482.2959\n",
            "Epoch 298/500\n",
            "34/34 [==============================] - 0s 2ms/step - loss: 3481.9583 - mae: 3481.9583\n",
            "Epoch 299/500\n",
            "34/34 [==============================] - 0s 2ms/step - loss: 3474.9089 - mae: 3474.9089\n",
            "Epoch 300/500\n",
            "34/34 [==============================] - 0s 2ms/step - loss: 3475.3403 - mae: 3475.3403\n",
            "Epoch 301/500\n",
            "34/34 [==============================] - 0s 3ms/step - loss: 3475.9880 - mae: 3475.9880\n",
            "Epoch 302/500\n",
            "34/34 [==============================] - 0s 2ms/step - loss: 3478.6335 - mae: 3478.6335\n",
            "Epoch 303/500\n",
            "34/34 [==============================] - 0s 2ms/step - loss: 3475.1169 - mae: 3475.1169\n",
            "Epoch 304/500\n",
            "34/34 [==============================] - 0s 2ms/step - loss: 3475.1963 - mae: 3475.1963\n",
            "Epoch 305/500\n",
            "34/34 [==============================] - 0s 2ms/step - loss: 3476.7112 - mae: 3476.7112\n",
            "Epoch 306/500\n",
            "34/34 [==============================] - 0s 2ms/step - loss: 3476.9370 - mae: 3476.9370\n",
            "Epoch 307/500\n",
            "34/34 [==============================] - 0s 2ms/step - loss: 3478.9160 - mae: 3478.9160\n",
            "Epoch 308/500\n",
            "34/34 [==============================] - 0s 2ms/step - loss: 3475.0266 - mae: 3475.0266\n",
            "Epoch 309/500\n",
            "34/34 [==============================] - 0s 2ms/step - loss: 3477.4199 - mae: 3477.4199\n",
            "Epoch 310/500\n",
            "34/34 [==============================] - 0s 2ms/step - loss: 3478.5945 - mae: 3478.5945\n",
            "Epoch 311/500\n",
            "34/34 [==============================] - 0s 2ms/step - loss: 3474.2732 - mae: 3474.2732\n",
            "Epoch 312/500\n",
            "34/34 [==============================] - 0s 2ms/step - loss: 3475.0278 - mae: 3475.0278\n",
            "Epoch 313/500\n",
            "34/34 [==============================] - 0s 2ms/step - loss: 3474.5459 - mae: 3474.5459\n",
            "Epoch 314/500\n",
            "34/34 [==============================] - 0s 2ms/step - loss: 3473.3120 - mae: 3473.3120\n",
            "Epoch 315/500\n",
            "34/34 [==============================] - 0s 2ms/step - loss: 3474.8237 - mae: 3474.8237\n",
            "Epoch 316/500\n",
            "34/34 [==============================] - 0s 3ms/step - loss: 3475.5034 - mae: 3475.5034\n",
            "Epoch 317/500\n",
            "34/34 [==============================] - 0s 2ms/step - loss: 3474.4412 - mae: 3474.4412\n",
            "Epoch 318/500\n",
            "34/34 [==============================] - 0s 2ms/step - loss: 3476.9023 - mae: 3476.9023\n",
            "Epoch 319/500\n",
            "34/34 [==============================] - 0s 2ms/step - loss: 3477.2083 - mae: 3477.2083\n",
            "Epoch 320/500\n",
            "34/34 [==============================] - 0s 2ms/step - loss: 3473.6785 - mae: 3473.6785\n",
            "Epoch 321/500\n",
            "34/34 [==============================] - 0s 2ms/step - loss: 3475.4514 - mae: 3475.4514\n",
            "Epoch 322/500\n",
            "34/34 [==============================] - 0s 2ms/step - loss: 3477.9617 - mae: 3477.9617\n",
            "Epoch 323/500\n",
            "34/34 [==============================] - 0s 2ms/step - loss: 3473.9265 - mae: 3473.9265\n",
            "Epoch 324/500\n",
            "34/34 [==============================] - 0s 2ms/step - loss: 3474.6030 - mae: 3474.6030\n",
            "Epoch 325/500\n",
            "34/34 [==============================] - 0s 2ms/step - loss: 3475.4829 - mae: 3475.4829\n",
            "Epoch 326/500\n",
            "34/34 [==============================] - 0s 2ms/step - loss: 3473.7312 - mae: 3473.7312\n",
            "Epoch 327/500\n",
            "34/34 [==============================] - 0s 2ms/step - loss: 3478.8398 - mae: 3478.8398\n",
            "Epoch 328/500\n",
            "34/34 [==============================] - 0s 2ms/step - loss: 3476.0620 - mae: 3476.0620\n",
            "Epoch 329/500\n",
            "34/34 [==============================] - 0s 2ms/step - loss: 3475.6658 - mae: 3475.6658\n",
            "Epoch 330/500\n",
            "34/34 [==============================] - 0s 2ms/step - loss: 3478.4990 - mae: 3478.4990\n",
            "Epoch 331/500\n",
            "34/34 [==============================] - 0s 2ms/step - loss: 3473.0774 - mae: 3473.0774\n",
            "Epoch 332/500\n",
            "34/34 [==============================] - 0s 2ms/step - loss: 3475.1230 - mae: 3475.1230\n",
            "Epoch 333/500\n",
            "34/34 [==============================] - 0s 2ms/step - loss: 3479.5129 - mae: 3479.5129\n",
            "Epoch 334/500\n",
            "34/34 [==============================] - 0s 2ms/step - loss: 3474.4480 - mae: 3474.4480\n",
            "Epoch 335/500\n",
            "34/34 [==============================] - 0s 2ms/step - loss: 3476.3313 - mae: 3476.3313\n",
            "Epoch 336/500\n",
            "34/34 [==============================] - 0s 2ms/step - loss: 3473.4758 - mae: 3473.4758\n",
            "Epoch 337/500\n",
            "34/34 [==============================] - 0s 3ms/step - loss: 3472.0920 - mae: 3472.0920\n",
            "Epoch 338/500\n",
            "34/34 [==============================] - 0s 2ms/step - loss: 3475.7883 - mae: 3475.7883\n",
            "Epoch 339/500\n",
            "34/34 [==============================] - 0s 2ms/step - loss: 3474.4463 - mae: 3474.4463\n",
            "Epoch 340/500\n",
            "34/34 [==============================] - 0s 2ms/step - loss: 3478.6348 - mae: 3478.6348\n",
            "Epoch 341/500\n",
            "34/34 [==============================] - 0s 2ms/step - loss: 3476.1506 - mae: 3476.1506\n",
            "Epoch 342/500\n",
            "34/34 [==============================] - 0s 2ms/step - loss: 3475.9250 - mae: 3475.9250\n",
            "Epoch 343/500\n",
            "34/34 [==============================] - 0s 2ms/step - loss: 3472.8396 - mae: 3472.8396\n",
            "Epoch 344/500\n",
            "34/34 [==============================] - 0s 2ms/step - loss: 3475.3289 - mae: 3475.3289\n",
            "Epoch 345/500\n",
            "34/34 [==============================] - 0s 2ms/step - loss: 3473.7065 - mae: 3473.7065\n",
            "Epoch 346/500\n",
            "34/34 [==============================] - 0s 2ms/step - loss: 3478.4827 - mae: 3478.4827\n",
            "Epoch 347/500\n",
            "34/34 [==============================] - 0s 2ms/step - loss: 3474.0376 - mae: 3474.0376\n",
            "Epoch 348/500\n",
            "34/34 [==============================] - 0s 2ms/step - loss: 3475.1121 - mae: 3475.1121\n",
            "Epoch 349/500\n",
            "34/34 [==============================] - 0s 2ms/step - loss: 3475.4817 - mae: 3475.4817\n",
            "Epoch 350/500\n",
            "34/34 [==============================] - 0s 2ms/step - loss: 3482.0298 - mae: 3482.0298\n",
            "Epoch 351/500\n",
            "34/34 [==============================] - 0s 2ms/step - loss: 3477.5208 - mae: 3477.5208\n",
            "Epoch 352/500\n",
            "34/34 [==============================] - 0s 2ms/step - loss: 3474.6335 - mae: 3474.6335\n",
            "Epoch 353/500\n",
            "34/34 [==============================] - 0s 2ms/step - loss: 3474.1401 - mae: 3474.1401\n",
            "Epoch 354/500\n",
            "34/34 [==============================] - 0s 2ms/step - loss: 3475.7991 - mae: 3475.7991\n",
            "Epoch 355/500\n",
            "34/34 [==============================] - 0s 2ms/step - loss: 3475.0129 - mae: 3475.0129\n",
            "Epoch 356/500\n",
            "34/34 [==============================] - 0s 2ms/step - loss: 3476.0259 - mae: 3476.0259\n",
            "Epoch 357/500\n",
            "34/34 [==============================] - 0s 2ms/step - loss: 3474.9573 - mae: 3474.9573\n",
            "Epoch 358/500\n",
            "34/34 [==============================] - 0s 2ms/step - loss: 3487.9749 - mae: 3487.9749\n",
            "Epoch 359/500\n",
            "34/34 [==============================] - 0s 2ms/step - loss: 3477.9592 - mae: 3477.9592\n",
            "Epoch 360/500\n",
            "34/34 [==============================] - 0s 3ms/step - loss: 3474.5815 - mae: 3474.5815\n",
            "Epoch 361/500\n",
            "34/34 [==============================] - 0s 2ms/step - loss: 3475.5354 - mae: 3475.5354\n",
            "Epoch 362/500\n",
            "34/34 [==============================] - 0s 2ms/step - loss: 3475.5786 - mae: 3475.5786\n",
            "Epoch 363/500\n",
            "34/34 [==============================] - 0s 2ms/step - loss: 3475.7664 - mae: 3475.7664\n",
            "Epoch 364/500\n",
            "34/34 [==============================] - 0s 2ms/step - loss: 3473.7739 - mae: 3473.7739\n",
            "Epoch 365/500\n",
            "34/34 [==============================] - 0s 2ms/step - loss: 3474.4746 - mae: 3474.4746\n",
            "Epoch 366/500\n",
            "34/34 [==============================] - 0s 2ms/step - loss: 3476.7063 - mae: 3476.7063\n",
            "Epoch 367/500\n",
            "34/34 [==============================] - 0s 2ms/step - loss: 3473.9463 - mae: 3473.9463\n",
            "Epoch 368/500\n",
            "34/34 [==============================] - 0s 2ms/step - loss: 3479.7886 - mae: 3479.7886\n",
            "Epoch 369/500\n",
            "34/34 [==============================] - 0s 2ms/step - loss: 3477.2651 - mae: 3477.2651\n",
            "Epoch 370/500\n",
            "34/34 [==============================] - 0s 3ms/step - loss: 3474.6040 - mae: 3474.6040\n",
            "Epoch 371/500\n",
            "34/34 [==============================] - 0s 2ms/step - loss: 3475.0662 - mae: 3475.0662\n",
            "Epoch 372/500\n",
            "34/34 [==============================] - 0s 2ms/step - loss: 3472.7905 - mae: 3472.7905\n",
            "Epoch 373/500\n",
            "34/34 [==============================] - 0s 2ms/step - loss: 3480.0740 - mae: 3480.0740\n",
            "Epoch 374/500\n",
            "34/34 [==============================] - 0s 2ms/step - loss: 3478.6299 - mae: 3478.6299\n",
            "Epoch 375/500\n",
            "34/34 [==============================] - 0s 2ms/step - loss: 3475.6782 - mae: 3475.6782\n",
            "Epoch 376/500\n",
            "34/34 [==============================] - 0s 2ms/step - loss: 3476.1062 - mae: 3476.1062\n",
            "Epoch 377/500\n",
            "34/34 [==============================] - 0s 2ms/step - loss: 3474.8901 - mae: 3474.8901\n",
            "Epoch 378/500\n",
            "34/34 [==============================] - 0s 2ms/step - loss: 3474.7075 - mae: 3474.7075\n",
            "Epoch 379/500\n",
            "34/34 [==============================] - 0s 2ms/step - loss: 3481.0200 - mae: 3481.0200\n",
            "Epoch 380/500\n",
            "34/34 [==============================] - 0s 2ms/step - loss: 3474.5754 - mae: 3474.5754\n",
            "Epoch 381/500\n",
            "34/34 [==============================] - 0s 2ms/step - loss: 3478.6316 - mae: 3478.6316\n",
            "Epoch 382/500\n",
            "34/34 [==============================] - 0s 2ms/step - loss: 3474.0857 - mae: 3474.0857\n",
            "Epoch 383/500\n",
            "34/34 [==============================] - 0s 2ms/step - loss: 3474.1548 - mae: 3474.1548\n",
            "Epoch 384/500\n",
            "34/34 [==============================] - 0s 3ms/step - loss: 3475.9883 - mae: 3475.9883\n",
            "Epoch 385/500\n",
            "34/34 [==============================] - 0s 3ms/step - loss: 3480.9946 - mae: 3480.9946\n",
            "Epoch 386/500\n",
            "34/34 [==============================] - 0s 2ms/step - loss: 3473.6157 - mae: 3473.6157\n",
            "Epoch 387/500\n",
            "34/34 [==============================] - 0s 2ms/step - loss: 3475.5239 - mae: 3475.5239\n",
            "Epoch 388/500\n",
            "34/34 [==============================] - 0s 2ms/step - loss: 3475.4519 - mae: 3475.4519\n",
            "Epoch 389/500\n",
            "34/34 [==============================] - 0s 2ms/step - loss: 3475.7261 - mae: 3475.7261\n",
            "Epoch 390/500\n",
            "34/34 [==============================] - 0s 2ms/step - loss: 3476.0867 - mae: 3476.0867\n",
            "Epoch 391/500\n",
            "34/34 [==============================] - 0s 2ms/step - loss: 3477.4983 - mae: 3477.4983\n",
            "Epoch 392/500\n",
            "34/34 [==============================] - 0s 2ms/step - loss: 3481.8218 - mae: 3481.8218\n",
            "Epoch 393/500\n",
            "34/34 [==============================] - 0s 2ms/step - loss: 3479.4595 - mae: 3479.4595\n",
            "Epoch 394/500\n",
            "34/34 [==============================] - 0s 2ms/step - loss: 3472.9873 - mae: 3472.9873\n",
            "Epoch 395/500\n",
            "34/34 [==============================] - 0s 2ms/step - loss: 3476.0950 - mae: 3476.0950\n",
            "Epoch 396/500\n",
            "34/34 [==============================] - 0s 2ms/step - loss: 3474.9651 - mae: 3474.9651\n",
            "Epoch 397/500\n",
            "34/34 [==============================] - 0s 3ms/step - loss: 3475.6494 - mae: 3475.6494\n",
            "Epoch 398/500\n",
            "34/34 [==============================] - 0s 2ms/step - loss: 3473.4312 - mae: 3473.4312\n",
            "Epoch 399/500\n",
            "34/34 [==============================] - 0s 2ms/step - loss: 3478.6816 - mae: 3478.6816\n",
            "Epoch 400/500\n",
            "34/34 [==============================] - 0s 2ms/step - loss: 3476.6692 - mae: 3476.6692\n",
            "Epoch 401/500\n",
            "34/34 [==============================] - 0s 2ms/step - loss: 3477.6064 - mae: 3477.6064\n",
            "Epoch 402/500\n",
            "34/34 [==============================] - 0s 2ms/step - loss: 3476.0344 - mae: 3476.0344\n",
            "Epoch 403/500\n",
            "34/34 [==============================] - 0s 2ms/step - loss: 3476.4111 - mae: 3476.4111\n",
            "Epoch 404/500\n",
            "34/34 [==============================] - 0s 2ms/step - loss: 3473.0188 - mae: 3473.0188\n",
            "Epoch 405/500\n",
            "34/34 [==============================] - 0s 2ms/step - loss: 3477.3979 - mae: 3477.3979\n",
            "Epoch 406/500\n",
            "34/34 [==============================] - 0s 2ms/step - loss: 3476.1714 - mae: 3476.1714\n",
            "Epoch 407/500\n",
            "34/34 [==============================] - 0s 2ms/step - loss: 3473.6304 - mae: 3473.6304\n",
            "Epoch 408/500\n",
            "34/34 [==============================] - 0s 2ms/step - loss: 3475.1250 - mae: 3475.1250\n",
            "Epoch 409/500\n",
            "34/34 [==============================] - 0s 3ms/step - loss: 3476.0891 - mae: 3476.0891\n",
            "Epoch 410/500\n",
            "34/34 [==============================] - 0s 2ms/step - loss: 3476.2969 - mae: 3476.2969\n",
            "Epoch 411/500\n",
            "34/34 [==============================] - 0s 3ms/step - loss: 3476.8940 - mae: 3476.8940\n",
            "Epoch 412/500\n",
            "34/34 [==============================] - 0s 2ms/step - loss: 3477.9087 - mae: 3477.9087\n",
            "Epoch 413/500\n",
            "34/34 [==============================] - 0s 2ms/step - loss: 3474.1572 - mae: 3474.1572\n",
            "Epoch 414/500\n",
            "34/34 [==============================] - 0s 2ms/step - loss: 3475.4414 - mae: 3475.4414\n",
            "Epoch 415/500\n",
            "34/34 [==============================] - 0s 2ms/step - loss: 3476.2869 - mae: 3476.2869\n",
            "Epoch 416/500\n",
            "34/34 [==============================] - 0s 2ms/step - loss: 3473.3718 - mae: 3473.3718\n",
            "Epoch 417/500\n",
            "34/34 [==============================] - 0s 2ms/step - loss: 3473.6055 - mae: 3473.6055\n",
            "Epoch 418/500\n",
            "34/34 [==============================] - 0s 2ms/step - loss: 3476.8220 - mae: 3476.8220\n",
            "Epoch 419/500\n",
            "34/34 [==============================] - 0s 2ms/step - loss: 3474.3389 - mae: 3474.3389\n",
            "Epoch 420/500\n",
            "34/34 [==============================] - 0s 2ms/step - loss: 3476.8013 - mae: 3476.8013\n",
            "Epoch 421/500\n",
            "34/34 [==============================] - 0s 2ms/step - loss: 3481.1184 - mae: 3481.1184\n",
            "Epoch 422/500\n",
            "34/34 [==============================] - 0s 2ms/step - loss: 3473.6895 - mae: 3473.6895\n",
            "Epoch 423/500\n",
            "34/34 [==============================] - 0s 2ms/step - loss: 3478.0713 - mae: 3478.0713\n",
            "Epoch 424/500\n",
            "34/34 [==============================] - 0s 2ms/step - loss: 3476.0261 - mae: 3476.0261\n",
            "Epoch 425/500\n",
            "34/34 [==============================] - 0s 2ms/step - loss: 3472.6055 - mae: 3472.6055\n",
            "Epoch 426/500\n",
            "34/34 [==============================] - 0s 2ms/step - loss: 3481.1941 - mae: 3481.1941\n",
            "Epoch 427/500\n",
            "34/34 [==============================] - 0s 2ms/step - loss: 3475.7363 - mae: 3475.7363\n",
            "Epoch 428/500\n",
            "34/34 [==============================] - 0s 2ms/step - loss: 3474.6213 - mae: 3474.6213\n",
            "Epoch 429/500\n",
            "34/34 [==============================] - 0s 2ms/step - loss: 3475.4185 - mae: 3475.4185\n",
            "Epoch 430/500\n",
            "34/34 [==============================] - 0s 3ms/step - loss: 3474.6821 - mae: 3474.6821\n",
            "Epoch 431/500\n",
            "34/34 [==============================] - 0s 2ms/step - loss: 3473.5867 - mae: 3473.5867\n",
            "Epoch 432/500\n",
            "34/34 [==============================] - 0s 2ms/step - loss: 3474.6743 - mae: 3474.6743\n",
            "Epoch 433/500\n",
            "34/34 [==============================] - 0s 2ms/step - loss: 3478.6045 - mae: 3478.6045\n",
            "Epoch 434/500\n",
            "34/34 [==============================] - 0s 2ms/step - loss: 3478.1248 - mae: 3478.1248\n",
            "Epoch 435/500\n",
            "34/34 [==============================] - 0s 3ms/step - loss: 3479.0574 - mae: 3479.0574\n",
            "Epoch 436/500\n",
            "34/34 [==============================] - 0s 3ms/step - loss: 3475.5134 - mae: 3475.5134\n",
            "Epoch 437/500\n",
            "34/34 [==============================] - 0s 2ms/step - loss: 3475.7527 - mae: 3475.7527\n",
            "Epoch 438/500\n",
            "34/34 [==============================] - 0s 2ms/step - loss: 3478.0757 - mae: 3478.0757\n",
            "Epoch 439/500\n",
            "34/34 [==============================] - 0s 2ms/step - loss: 3473.2590 - mae: 3473.2590\n",
            "Epoch 440/500\n",
            "34/34 [==============================] - 0s 2ms/step - loss: 3477.2544 - mae: 3477.2544\n",
            "Epoch 441/500\n",
            "34/34 [==============================] - 0s 2ms/step - loss: 3474.0024 - mae: 3474.0024\n",
            "Epoch 442/500\n",
            "34/34 [==============================] - 0s 2ms/step - loss: 3473.2239 - mae: 3473.2239\n",
            "Epoch 443/500\n",
            "34/34 [==============================] - 0s 2ms/step - loss: 3476.1865 - mae: 3476.1865\n",
            "Epoch 444/500\n",
            "34/34 [==============================] - 0s 2ms/step - loss: 3475.1235 - mae: 3475.1235\n",
            "Epoch 445/500\n",
            "34/34 [==============================] - 0s 2ms/step - loss: 3472.8525 - mae: 3472.8525\n",
            "Epoch 446/500\n",
            "34/34 [==============================] - 0s 2ms/step - loss: 3476.7651 - mae: 3476.7651\n",
            "Epoch 447/500\n",
            "34/34 [==============================] - 0s 2ms/step - loss: 3474.3994 - mae: 3474.3994\n",
            "Epoch 448/500\n",
            "34/34 [==============================] - 0s 2ms/step - loss: 3476.1316 - mae: 3476.1316\n",
            "Epoch 449/500\n",
            "34/34 [==============================] - 0s 2ms/step - loss: 3477.0918 - mae: 3477.0918\n",
            "Epoch 450/500\n",
            "34/34 [==============================] - 0s 3ms/step - loss: 3475.2686 - mae: 3475.2686\n",
            "Epoch 451/500\n",
            "34/34 [==============================] - 0s 2ms/step - loss: 3476.4592 - mae: 3476.4592\n",
            "Epoch 452/500\n",
            "34/34 [==============================] - 0s 3ms/step - loss: 3474.8411 - mae: 3474.8411\n",
            "Epoch 453/500\n",
            "34/34 [==============================] - 0s 2ms/step - loss: 3475.8508 - mae: 3475.8508\n",
            "Epoch 454/500\n",
            "34/34 [==============================] - 0s 2ms/step - loss: 3474.7292 - mae: 3474.7292\n",
            "Epoch 455/500\n",
            "34/34 [==============================] - 0s 3ms/step - loss: 3473.1284 - mae: 3473.1284\n",
            "Epoch 456/500\n",
            "34/34 [==============================] - 0s 2ms/step - loss: 3477.9363 - mae: 3477.9363\n",
            "Epoch 457/500\n",
            "34/34 [==============================] - 0s 2ms/step - loss: 3475.9673 - mae: 3475.9673\n",
            "Epoch 458/500\n",
            "34/34 [==============================] - 0s 2ms/step - loss: 3473.8860 - mae: 3473.8860\n",
            "Epoch 459/500\n",
            "34/34 [==============================] - 0s 3ms/step - loss: 3474.8660 - mae: 3474.8660\n",
            "Epoch 460/500\n",
            "34/34 [==============================] - 0s 2ms/step - loss: 3475.2561 - mae: 3475.2561\n",
            "Epoch 461/500\n",
            "34/34 [==============================] - 0s 2ms/step - loss: 3474.0234 - mae: 3474.0234\n",
            "Epoch 462/500\n",
            "34/34 [==============================] - 0s 2ms/step - loss: 3477.6558 - mae: 3477.6558\n",
            "Epoch 463/500\n",
            "34/34 [==============================] - 0s 2ms/step - loss: 3472.9500 - mae: 3472.9500\n",
            "Epoch 464/500\n",
            "34/34 [==============================] - 0s 2ms/step - loss: 3474.9312 - mae: 3474.9312\n",
            "Epoch 465/500\n",
            "34/34 [==============================] - 0s 2ms/step - loss: 3477.6741 - mae: 3477.6741\n",
            "Epoch 466/500\n",
            "34/34 [==============================] - 0s 2ms/step - loss: 3474.1609 - mae: 3474.1609\n",
            "Epoch 467/500\n",
            "34/34 [==============================] - 0s 2ms/step - loss: 3476.3430 - mae: 3476.3430\n",
            "Epoch 468/500\n",
            "34/34 [==============================] - 0s 2ms/step - loss: 3474.1877 - mae: 3474.1877\n",
            "Epoch 469/500\n",
            "34/34 [==============================] - 0s 2ms/step - loss: 3473.8484 - mae: 3473.8484\n",
            "Epoch 470/500\n",
            "34/34 [==============================] - 0s 2ms/step - loss: 3474.8044 - mae: 3474.8044\n",
            "Epoch 471/500\n",
            "34/34 [==============================] - 0s 3ms/step - loss: 3475.2698 - mae: 3475.2698\n",
            "Epoch 472/500\n",
            "34/34 [==============================] - 0s 2ms/step - loss: 3474.9041 - mae: 3474.9041\n",
            "Epoch 473/500\n",
            "34/34 [==============================] - 0s 2ms/step - loss: 3474.3726 - mae: 3474.3726\n",
            "Epoch 474/500\n",
            "34/34 [==============================] - 0s 2ms/step - loss: 3474.7698 - mae: 3474.7698\n",
            "Epoch 475/500\n",
            "34/34 [==============================] - 0s 2ms/step - loss: 3477.2524 - mae: 3477.2524\n",
            "Epoch 476/500\n",
            "34/34 [==============================] - 0s 2ms/step - loss: 3475.6011 - mae: 3475.6011\n",
            "Epoch 477/500\n",
            "34/34 [==============================] - 0s 3ms/step - loss: 3477.9785 - mae: 3477.9785\n",
            "Epoch 478/500\n",
            "34/34 [==============================] - 0s 2ms/step - loss: 3473.4370 - mae: 3473.4370\n",
            "Epoch 479/500\n",
            "34/34 [==============================] - 0s 2ms/step - loss: 3480.0969 - mae: 3480.0969\n",
            "Epoch 480/500\n",
            "34/34 [==============================] - 0s 2ms/step - loss: 3474.9133 - mae: 3474.9133\n",
            "Epoch 481/500\n",
            "34/34 [==============================] - 0s 2ms/step - loss: 3475.6604 - mae: 3475.6604\n",
            "Epoch 482/500\n",
            "34/34 [==============================] - 0s 2ms/step - loss: 3477.1824 - mae: 3477.1824\n",
            "Epoch 483/500\n",
            "34/34 [==============================] - 0s 2ms/step - loss: 3475.9819 - mae: 3475.9819\n",
            "Epoch 484/500\n",
            "34/34 [==============================] - 0s 2ms/step - loss: 3474.7837 - mae: 3474.7837\n",
            "Epoch 485/500\n",
            "34/34 [==============================] - 0s 2ms/step - loss: 3474.2092 - mae: 3474.2092\n",
            "Epoch 486/500\n",
            "34/34 [==============================] - 0s 3ms/step - loss: 3481.6091 - mae: 3481.6091\n",
            "Epoch 487/500\n",
            "34/34 [==============================] - 0s 2ms/step - loss: 3479.8547 - mae: 3479.8547\n",
            "Epoch 488/500\n",
            "34/34 [==============================] - 0s 3ms/step - loss: 3472.6450 - mae: 3472.6450\n",
            "Epoch 489/500\n",
            "34/34 [==============================] - 0s 2ms/step - loss: 3473.1299 - mae: 3473.1299\n",
            "Epoch 490/500\n",
            "34/34 [==============================] - 0s 2ms/step - loss: 3477.2803 - mae: 3477.2803\n",
            "Epoch 491/500\n",
            "34/34 [==============================] - 0s 2ms/step - loss: 3475.7798 - mae: 3475.7798\n",
            "Epoch 492/500\n",
            "34/34 [==============================] - 0s 2ms/step - loss: 3473.6143 - mae: 3473.6143\n",
            "Epoch 493/500\n",
            "34/34 [==============================] - 0s 2ms/step - loss: 3475.5479 - mae: 3475.5479\n",
            "Epoch 494/500\n",
            "34/34 [==============================] - 0s 2ms/step - loss: 3474.3994 - mae: 3474.3994\n",
            "Epoch 495/500\n",
            "34/34 [==============================] - 0s 2ms/step - loss: 3477.2148 - mae: 3477.2148\n",
            "Epoch 496/500\n",
            "34/34 [==============================] - 0s 2ms/step - loss: 3475.8936 - mae: 3475.8936\n",
            "Epoch 497/500\n",
            "34/34 [==============================] - 0s 3ms/step - loss: 3474.0742 - mae: 3474.0742\n",
            "Epoch 498/500\n",
            "34/34 [==============================] - 0s 2ms/step - loss: 3475.9873 - mae: 3475.9873\n",
            "Epoch 499/500\n",
            "34/34 [==============================] - 0s 2ms/step - loss: 3476.8589 - mae: 3476.8589\n",
            "Epoch 500/500\n",
            "34/34 [==============================] - 0s 3ms/step - loss: 3476.2285 - mae: 3476.2285\n"
          ],
          "name": "stdout"
        },
        {
          "output_type": "execute_result",
          "data": {
            "text/plain": [
              "<tensorflow.python.keras.callbacks.History at 0x7fc5e9bd7e50>"
            ]
          },
          "metadata": {
            "tags": []
          },
          "execution_count": 98
        }
      ]
    },
    {
      "cell_type": "code",
      "metadata": {
        "colab": {
          "base_uri": "https://localhost:8080/"
        },
        "id": "CMkE-Nzc-VBt",
        "outputId": "bdfbb869-54f1-4495-8454-67fc9f1434c5"
      },
      "source": [
        "insurance_model_3_mae = insurance_model_3.evaluate(X_test_normal, y_test)"
      ],
      "execution_count": null,
      "outputs": [
        {
          "output_type": "stream",
          "text": [
            "9/9 [==============================] - 0s 2ms/step - loss: 3160.7495 - mae: 3160.7495\n"
          ],
          "name": "stdout"
        }
      ]
    },
    {
      "cell_type": "code",
      "metadata": {
        "colab": {
          "base_uri": "https://localhost:8080/"
        },
        "id": "f4C59Osh-ftG",
        "outputId": "811c6e1b-21b1-487b-8a6b-61b781e3bd7f"
      },
      "source": [
        "\n",
        "# Compare modelling results from non-normalized data and normalized data\n",
        "insurance_model_3_mae"
      ],
      "execution_count": null,
      "outputs": [
        {
          "output_type": "execute_result",
          "data": {
            "text/plain": [
              "[3171.577392578125, 3171.577392578125]"
            ]
          },
          "metadata": {
            "tags": []
          },
          "execution_count": 89
        }
      ]
    },
    {
      "cell_type": "code",
      "metadata": {
        "id": "M_oxaGwI-t5i",
        "colab": {
          "base_uri": "https://localhost:8080/"
        },
        "outputId": "671fbce2-25d6-4f91-b22e-83e1eebc7329"
      },
      "source": [
        "#Lets use our model number 2\n",
        "\n",
        "#set the random seed\n",
        "tf.random.set_seed(42)\n",
        "\n",
        "# Build the model (3 layers, 100, 10, 1 units)\n",
        "insurance_model_3 = tf.keras.Sequential([\n",
        "  tf.keras.layers.Dense(100),\n",
        "  tf.keras.layers.Dense(50),\n",
        "  tf.keras.layers.Dense(10),\n",
        "  tf.keras.layers.Dense(1)\n",
        "])\n",
        "\n",
        "# Compile the model\n",
        "insurance_model_3.compile(loss=tf.keras.losses.mae,\n",
        "                          optimizer=tf.keras.optimizers.Adam(learning_rate=0.01),\n",
        "                          metrics=['mae'])\n",
        "\n",
        "\n",
        "#Fit the model\n",
        "insurance_model_3.fit(X_train_normal, y_train, epochs=300)"
      ],
      "execution_count": null,
      "outputs": [
        {
          "output_type": "stream",
          "text": [
            "Epoch 1/300\n",
            "34/34 [==============================] - 1s 2ms/step - loss: 12122.4551 - mae: 12122.4551\n",
            "Epoch 2/300\n",
            "34/34 [==============================] - 0s 2ms/step - loss: 7648.9434 - mae: 7648.9434\n",
            "Epoch 3/300\n",
            "34/34 [==============================] - 0s 1ms/step - loss: 5989.5879 - mae: 5989.5879\n",
            "Epoch 4/300\n",
            "34/34 [==============================] - 0s 2ms/step - loss: 3933.2312 - mae: 3933.2312\n",
            "Epoch 5/300\n",
            "34/34 [==============================] - 0s 1ms/step - loss: 3631.3118 - mae: 3631.3118\n",
            "Epoch 6/300\n",
            "34/34 [==============================] - 0s 2ms/step - loss: 3640.4832 - mae: 3640.4832\n",
            "Epoch 7/300\n",
            "34/34 [==============================] - 0s 2ms/step - loss: 3561.0747 - mae: 3561.0747\n",
            "Epoch 8/300\n",
            "34/34 [==============================] - 0s 2ms/step - loss: 3656.8723 - mae: 3656.8723\n",
            "Epoch 9/300\n",
            "34/34 [==============================] - 0s 2ms/step - loss: 3599.5771 - mae: 3599.5771\n",
            "Epoch 10/300\n",
            "34/34 [==============================] - 0s 2ms/step - loss: 3555.4492 - mae: 3555.4492\n",
            "Epoch 11/300\n",
            "34/34 [==============================] - 0s 2ms/step - loss: 3536.1841 - mae: 3536.1841\n",
            "Epoch 12/300\n",
            "34/34 [==============================] - 0s 2ms/step - loss: 3560.0681 - mae: 3560.0681\n",
            "Epoch 13/300\n",
            "34/34 [==============================] - 0s 2ms/step - loss: 3508.9863 - mae: 3508.9863\n",
            "Epoch 14/300\n",
            "34/34 [==============================] - 0s 2ms/step - loss: 3522.8704 - mae: 3522.8704\n",
            "Epoch 15/300\n",
            "34/34 [==============================] - 0s 2ms/step - loss: 3560.1787 - mae: 3560.1787\n",
            "Epoch 16/300\n",
            "34/34 [==============================] - 0s 2ms/step - loss: 3535.6128 - mae: 3535.6128\n",
            "Epoch 17/300\n",
            "34/34 [==============================] - 0s 1ms/step - loss: 3557.2908 - mae: 3557.2908\n",
            "Epoch 18/300\n",
            "34/34 [==============================] - 0s 2ms/step - loss: 3537.7595 - mae: 3537.7595\n",
            "Epoch 19/300\n",
            "34/34 [==============================] - 0s 1ms/step - loss: 3567.5859 - mae: 3567.5859\n",
            "Epoch 20/300\n",
            "34/34 [==============================] - 0s 2ms/step - loss: 3523.3635 - mae: 3523.3635\n",
            "Epoch 21/300\n",
            "34/34 [==============================] - 0s 2ms/step - loss: 3539.4080 - mae: 3539.4080\n",
            "Epoch 22/300\n",
            "34/34 [==============================] - 0s 2ms/step - loss: 3518.9668 - mae: 3518.9668\n",
            "Epoch 23/300\n",
            "34/34 [==============================] - 0s 2ms/step - loss: 3511.1702 - mae: 3511.1702\n",
            "Epoch 24/300\n",
            "34/34 [==============================] - 0s 2ms/step - loss: 3568.8545 - mae: 3568.8545\n",
            "Epoch 25/300\n",
            "34/34 [==============================] - 0s 2ms/step - loss: 3601.1094 - mae: 3601.1094\n",
            "Epoch 26/300\n",
            "34/34 [==============================] - 0s 2ms/step - loss: 3561.2317 - mae: 3561.2317\n",
            "Epoch 27/300\n",
            "34/34 [==============================] - 0s 2ms/step - loss: 3606.1050 - mae: 3606.1050\n",
            "Epoch 28/300\n",
            "34/34 [==============================] - 0s 2ms/step - loss: 3603.5979 - mae: 3603.5979\n",
            "Epoch 29/300\n",
            "34/34 [==============================] - 0s 2ms/step - loss: 3543.4460 - mae: 3543.4460\n",
            "Epoch 30/300\n",
            "34/34 [==============================] - 0s 2ms/step - loss: 3522.0012 - mae: 3522.0012\n",
            "Epoch 31/300\n",
            "34/34 [==============================] - 0s 2ms/step - loss: 3520.8315 - mae: 3520.8315\n",
            "Epoch 32/300\n",
            "34/34 [==============================] - 0s 2ms/step - loss: 3546.3616 - mae: 3546.3616\n",
            "Epoch 33/300\n",
            "34/34 [==============================] - 0s 2ms/step - loss: 3571.2463 - mae: 3571.2463\n",
            "Epoch 34/300\n",
            "34/34 [==============================] - 0s 2ms/step - loss: 3617.1057 - mae: 3617.1057\n",
            "Epoch 35/300\n",
            "34/34 [==============================] - 0s 2ms/step - loss: 3540.3201 - mae: 3540.3201\n",
            "Epoch 36/300\n",
            "34/34 [==============================] - 0s 2ms/step - loss: 3517.9309 - mae: 3517.9309\n",
            "Epoch 37/300\n",
            "34/34 [==============================] - 0s 2ms/step - loss: 3510.8079 - mae: 3510.8079\n",
            "Epoch 38/300\n",
            "34/34 [==============================] - 0s 2ms/step - loss: 3548.4507 - mae: 3548.4507\n",
            "Epoch 39/300\n",
            "34/34 [==============================] - 0s 2ms/step - loss: 3582.4097 - mae: 3582.4097\n",
            "Epoch 40/300\n",
            "34/34 [==============================] - 0s 2ms/step - loss: 3575.6716 - mae: 3575.6716\n",
            "Epoch 41/300\n",
            "34/34 [==============================] - 0s 2ms/step - loss: 3570.3555 - mae: 3570.3555\n",
            "Epoch 42/300\n",
            "34/34 [==============================] - 0s 2ms/step - loss: 3558.1143 - mae: 3558.1143\n",
            "Epoch 43/300\n",
            "34/34 [==============================] - 0s 2ms/step - loss: 3541.6182 - mae: 3541.6182\n",
            "Epoch 44/300\n",
            "34/34 [==============================] - 0s 2ms/step - loss: 3562.6548 - mae: 3562.6548\n",
            "Epoch 45/300\n",
            "34/34 [==============================] - 0s 2ms/step - loss: 3503.5007 - mae: 3503.5007\n",
            "Epoch 46/300\n",
            "34/34 [==============================] - 0s 2ms/step - loss: 3565.1416 - mae: 3565.1416\n",
            "Epoch 47/300\n",
            "34/34 [==============================] - 0s 2ms/step - loss: 3555.5479 - mae: 3555.5479\n",
            "Epoch 48/300\n",
            "34/34 [==============================] - 0s 2ms/step - loss: 3525.5830 - mae: 3525.5830\n",
            "Epoch 49/300\n",
            "34/34 [==============================] - 0s 2ms/step - loss: 3541.4895 - mae: 3541.4895\n",
            "Epoch 50/300\n",
            "34/34 [==============================] - 0s 2ms/step - loss: 3515.6311 - mae: 3515.6311\n",
            "Epoch 51/300\n",
            "34/34 [==============================] - 0s 2ms/step - loss: 3510.4182 - mae: 3510.4182\n",
            "Epoch 52/300\n",
            "34/34 [==============================] - 0s 2ms/step - loss: 3512.4702 - mae: 3512.4702\n",
            "Epoch 53/300\n",
            "34/34 [==============================] - 0s 2ms/step - loss: 3549.0894 - mae: 3549.0894\n",
            "Epoch 54/300\n",
            "34/34 [==============================] - 0s 2ms/step - loss: 3550.0996 - mae: 3550.0996\n",
            "Epoch 55/300\n",
            "34/34 [==============================] - 0s 2ms/step - loss: 3578.6218 - mae: 3578.6218\n",
            "Epoch 56/300\n",
            "34/34 [==============================] - 0s 2ms/step - loss: 3553.8433 - mae: 3553.8433\n",
            "Epoch 57/300\n",
            "34/34 [==============================] - 0s 2ms/step - loss: 3538.2749 - mae: 3538.2749\n",
            "Epoch 58/300\n",
            "34/34 [==============================] - 0s 2ms/step - loss: 3520.0642 - mae: 3520.0642\n",
            "Epoch 59/300\n",
            "34/34 [==============================] - 0s 2ms/step - loss: 3496.0237 - mae: 3496.0237\n",
            "Epoch 60/300\n",
            "34/34 [==============================] - 0s 2ms/step - loss: 3559.2166 - mae: 3559.2166\n",
            "Epoch 61/300\n",
            "34/34 [==============================] - 0s 2ms/step - loss: 3534.3701 - mae: 3534.3701\n",
            "Epoch 62/300\n",
            "34/34 [==============================] - 0s 2ms/step - loss: 3545.0842 - mae: 3545.0842\n",
            "Epoch 63/300\n",
            "34/34 [==============================] - 0s 2ms/step - loss: 3558.4082 - mae: 3558.4082\n",
            "Epoch 64/300\n",
            "34/34 [==============================] - 0s 2ms/step - loss: 3511.9680 - mae: 3511.9680\n",
            "Epoch 65/300\n",
            "34/34 [==============================] - 0s 2ms/step - loss: 3519.8625 - mae: 3519.8625\n",
            "Epoch 66/300\n",
            "34/34 [==============================] - 0s 2ms/step - loss: 3534.0876 - mae: 3534.0876\n",
            "Epoch 67/300\n",
            "34/34 [==============================] - 0s 2ms/step - loss: 3537.1912 - mae: 3537.1912\n",
            "Epoch 68/300\n",
            "34/34 [==============================] - 0s 2ms/step - loss: 3531.5815 - mae: 3531.5815\n",
            "Epoch 69/300\n",
            "34/34 [==============================] - 0s 2ms/step - loss: 3521.0420 - mae: 3521.0420\n",
            "Epoch 70/300\n",
            "34/34 [==============================] - 0s 2ms/step - loss: 3528.0823 - mae: 3528.0823\n",
            "Epoch 71/300\n",
            "34/34 [==============================] - 0s 2ms/step - loss: 3511.7073 - mae: 3511.7073\n",
            "Epoch 72/300\n",
            "34/34 [==============================] - 0s 2ms/step - loss: 3531.6826 - mae: 3531.6826\n",
            "Epoch 73/300\n",
            "34/34 [==============================] - 0s 2ms/step - loss: 3590.5039 - mae: 3590.5039\n",
            "Epoch 74/300\n",
            "34/34 [==============================] - 0s 2ms/step - loss: 3576.0317 - mae: 3576.0317\n",
            "Epoch 75/300\n",
            "34/34 [==============================] - 0s 1ms/step - loss: 3525.9663 - mae: 3525.9663\n",
            "Epoch 76/300\n",
            "34/34 [==============================] - 0s 2ms/step - loss: 3536.6084 - mae: 3536.6084\n",
            "Epoch 77/300\n",
            "34/34 [==============================] - 0s 2ms/step - loss: 3519.3997 - mae: 3519.3997\n",
            "Epoch 78/300\n",
            "34/34 [==============================] - 0s 2ms/step - loss: 3512.1726 - mae: 3512.1726\n",
            "Epoch 79/300\n",
            "34/34 [==============================] - 0s 3ms/step - loss: 3566.9668 - mae: 3566.9668\n",
            "Epoch 80/300\n",
            "34/34 [==============================] - 0s 2ms/step - loss: 3611.8789 - mae: 3611.8789\n",
            "Epoch 81/300\n",
            "34/34 [==============================] - 0s 2ms/step - loss: 3624.7810 - mae: 3624.7810\n",
            "Epoch 82/300\n",
            "34/34 [==============================] - 0s 2ms/step - loss: 3574.8713 - mae: 3574.8713\n",
            "Epoch 83/300\n",
            "34/34 [==============================] - 0s 2ms/step - loss: 3536.5925 - mae: 3536.5925\n",
            "Epoch 84/300\n",
            "34/34 [==============================] - 0s 2ms/step - loss: 3590.0557 - mae: 3590.0557\n",
            "Epoch 85/300\n",
            "34/34 [==============================] - 0s 2ms/step - loss: 3525.0789 - mae: 3525.0789\n",
            "Epoch 86/300\n",
            "34/34 [==============================] - 0s 2ms/step - loss: 3538.3726 - mae: 3538.3726\n",
            "Epoch 87/300\n",
            "34/34 [==============================] - 0s 2ms/step - loss: 3549.1309 - mae: 3549.1309\n",
            "Epoch 88/300\n",
            "34/34 [==============================] - 0s 2ms/step - loss: 3532.6836 - mae: 3532.6836\n",
            "Epoch 89/300\n",
            "34/34 [==============================] - 0s 2ms/step - loss: 3508.4041 - mae: 3508.4041\n",
            "Epoch 90/300\n",
            "34/34 [==============================] - 0s 2ms/step - loss: 3527.9458 - mae: 3527.9458\n",
            "Epoch 91/300\n",
            "34/34 [==============================] - 0s 2ms/step - loss: 3535.5444 - mae: 3535.5444\n",
            "Epoch 92/300\n",
            "34/34 [==============================] - 0s 2ms/step - loss: 3614.1458 - mae: 3614.1458\n",
            "Epoch 93/300\n",
            "34/34 [==============================] - 0s 2ms/step - loss: 3604.3779 - mae: 3604.3779\n",
            "Epoch 94/300\n",
            "34/34 [==============================] - 0s 2ms/step - loss: 3531.4375 - mae: 3531.4375\n",
            "Epoch 95/300\n",
            "34/34 [==============================] - 0s 2ms/step - loss: 3525.7170 - mae: 3525.7170\n",
            "Epoch 96/300\n",
            "34/34 [==============================] - 0s 2ms/step - loss: 3521.7444 - mae: 3521.7444\n",
            "Epoch 97/300\n",
            "34/34 [==============================] - 0s 2ms/step - loss: 3584.1057 - mae: 3584.1057\n",
            "Epoch 98/300\n",
            "34/34 [==============================] - 0s 2ms/step - loss: 3527.9507 - mae: 3527.9507\n",
            "Epoch 99/300\n",
            "34/34 [==============================] - 0s 2ms/step - loss: 3548.6633 - mae: 3548.6633\n",
            "Epoch 100/300\n",
            "34/34 [==============================] - 0s 2ms/step - loss: 3508.9241 - mae: 3508.9241\n",
            "Epoch 101/300\n",
            "34/34 [==============================] - 0s 2ms/step - loss: 3513.6787 - mae: 3513.6787\n",
            "Epoch 102/300\n",
            "34/34 [==============================] - 0s 2ms/step - loss: 3604.8267 - mae: 3604.8267\n",
            "Epoch 103/300\n",
            "34/34 [==============================] - 0s 2ms/step - loss: 3538.2485 - mae: 3538.2485\n",
            "Epoch 104/300\n",
            "34/34 [==============================] - 0s 2ms/step - loss: 3518.0930 - mae: 3518.0930\n",
            "Epoch 105/300\n",
            "34/34 [==============================] - 0s 2ms/step - loss: 3554.6084 - mae: 3554.6084\n",
            "Epoch 106/300\n",
            "34/34 [==============================] - 0s 2ms/step - loss: 3524.9041 - mae: 3524.9041\n",
            "Epoch 107/300\n",
            "34/34 [==============================] - 0s 2ms/step - loss: 3531.1042 - mae: 3531.1042\n",
            "Epoch 108/300\n",
            "34/34 [==============================] - 0s 2ms/step - loss: 3514.1023 - mae: 3514.1023\n",
            "Epoch 109/300\n",
            "34/34 [==============================] - 0s 2ms/step - loss: 3548.1133 - mae: 3548.1133\n",
            "Epoch 110/300\n",
            "34/34 [==============================] - 0s 2ms/step - loss: 3516.8315 - mae: 3516.8315\n",
            "Epoch 111/300\n",
            "34/34 [==============================] - 0s 2ms/step - loss: 3545.1851 - mae: 3545.1851\n",
            "Epoch 112/300\n",
            "34/34 [==============================] - 0s 2ms/step - loss: 3549.9192 - mae: 3549.9192\n",
            "Epoch 113/300\n",
            "34/34 [==============================] - 0s 2ms/step - loss: 3632.3586 - mae: 3632.3586\n",
            "Epoch 114/300\n",
            "34/34 [==============================] - 0s 2ms/step - loss: 3541.0098 - mae: 3541.0098\n",
            "Epoch 115/300\n",
            "34/34 [==============================] - 0s 2ms/step - loss: 3528.0144 - mae: 3528.0144\n",
            "Epoch 116/300\n",
            "34/34 [==============================] - 0s 2ms/step - loss: 3577.4253 - mae: 3577.4253\n",
            "Epoch 117/300\n",
            "34/34 [==============================] - 0s 2ms/step - loss: 3509.5908 - mae: 3509.5908\n",
            "Epoch 118/300\n",
            "34/34 [==============================] - 0s 2ms/step - loss: 3503.5942 - mae: 3503.5942\n",
            "Epoch 119/300\n",
            "34/34 [==============================] - 0s 2ms/step - loss: 3491.9075 - mae: 3491.9075\n",
            "Epoch 120/300\n",
            "34/34 [==============================] - 0s 2ms/step - loss: 3491.0835 - mae: 3491.0835\n",
            "Epoch 121/300\n",
            "34/34 [==============================] - 0s 2ms/step - loss: 3525.4731 - mae: 3525.4731\n",
            "Epoch 122/300\n",
            "34/34 [==============================] - 0s 2ms/step - loss: 3540.7302 - mae: 3540.7302\n",
            "Epoch 123/300\n",
            "34/34 [==============================] - 0s 2ms/step - loss: 3547.9287 - mae: 3547.9287\n",
            "Epoch 124/300\n",
            "34/34 [==============================] - 0s 2ms/step - loss: 3522.9272 - mae: 3522.9272\n",
            "Epoch 125/300\n",
            "34/34 [==============================] - 0s 2ms/step - loss: 3524.9792 - mae: 3524.9792\n",
            "Epoch 126/300\n",
            "34/34 [==============================] - 0s 2ms/step - loss: 3560.6960 - mae: 3560.6960\n",
            "Epoch 127/300\n",
            "34/34 [==============================] - 0s 2ms/step - loss: 3514.8257 - mae: 3514.8257\n",
            "Epoch 128/300\n",
            "34/34 [==============================] - 0s 2ms/step - loss: 3565.2637 - mae: 3565.2637\n",
            "Epoch 129/300\n",
            "34/34 [==============================] - 0s 2ms/step - loss: 3559.9126 - mae: 3559.9126\n",
            "Epoch 130/300\n",
            "34/34 [==============================] - 0s 2ms/step - loss: 3576.8667 - mae: 3576.8667\n",
            "Epoch 131/300\n",
            "34/34 [==============================] - 0s 2ms/step - loss: 3488.7732 - mae: 3488.7732\n",
            "Epoch 132/300\n",
            "34/34 [==============================] - 0s 2ms/step - loss: 3559.7947 - mae: 3559.7947\n",
            "Epoch 133/300\n",
            "34/34 [==============================] - 0s 2ms/step - loss: 3528.8545 - mae: 3528.8545\n",
            "Epoch 134/300\n",
            "34/34 [==============================] - 0s 2ms/step - loss: 3523.5872 - mae: 3523.5872\n",
            "Epoch 135/300\n",
            "34/34 [==============================] - 0s 2ms/step - loss: 3527.6099 - mae: 3527.6099\n",
            "Epoch 136/300\n",
            "34/34 [==============================] - 0s 2ms/step - loss: 3508.1470 - mae: 3508.1470\n",
            "Epoch 137/300\n",
            "34/34 [==============================] - 0s 2ms/step - loss: 3508.0112 - mae: 3508.0112\n",
            "Epoch 138/300\n",
            "34/34 [==============================] - 0s 1ms/step - loss: 3539.8276 - mae: 3539.8276\n",
            "Epoch 139/300\n",
            "34/34 [==============================] - 0s 2ms/step - loss: 3538.1914 - mae: 3538.1914\n",
            "Epoch 140/300\n",
            "34/34 [==============================] - 0s 2ms/step - loss: 3536.2678 - mae: 3536.2678\n",
            "Epoch 141/300\n",
            "34/34 [==============================] - 0s 2ms/step - loss: 3565.0916 - mae: 3565.0916\n",
            "Epoch 142/300\n",
            "34/34 [==============================] - 0s 3ms/step - loss: 3570.1445 - mae: 3570.1445\n",
            "Epoch 143/300\n",
            "34/34 [==============================] - 0s 2ms/step - loss: 3524.4763 - mae: 3524.4763\n",
            "Epoch 144/300\n",
            "34/34 [==============================] - 0s 2ms/step - loss: 3516.8853 - mae: 3516.8853\n",
            "Epoch 145/300\n",
            "34/34 [==============================] - 0s 2ms/step - loss: 3517.1396 - mae: 3517.1396\n",
            "Epoch 146/300\n",
            "34/34 [==============================] - 0s 2ms/step - loss: 3545.9407 - mae: 3545.9404\n",
            "Epoch 147/300\n",
            "34/34 [==============================] - 0s 2ms/step - loss: 3549.5066 - mae: 3549.5066\n",
            "Epoch 148/300\n",
            "34/34 [==============================] - 0s 2ms/step - loss: 3544.1746 - mae: 3544.1746\n",
            "Epoch 149/300\n",
            "34/34 [==============================] - 0s 2ms/step - loss: 3500.9834 - mae: 3500.9834\n",
            "Epoch 150/300\n",
            "34/34 [==============================] - 0s 2ms/step - loss: 3505.9246 - mae: 3505.9246\n",
            "Epoch 151/300\n",
            "34/34 [==============================] - 0s 2ms/step - loss: 3538.8398 - mae: 3538.8398\n",
            "Epoch 152/300\n",
            "34/34 [==============================] - 0s 2ms/step - loss: 3637.8301 - mae: 3637.8301\n",
            "Epoch 153/300\n",
            "34/34 [==============================] - 0s 1ms/step - loss: 3517.3308 - mae: 3517.3308\n",
            "Epoch 154/300\n",
            "34/34 [==============================] - 0s 2ms/step - loss: 3538.5051 - mae: 3538.5051\n",
            "Epoch 155/300\n",
            "34/34 [==============================] - 0s 2ms/step - loss: 3539.2571 - mae: 3539.2571\n",
            "Epoch 156/300\n",
            "34/34 [==============================] - 0s 2ms/step - loss: 3540.1934 - mae: 3540.1934\n",
            "Epoch 157/300\n",
            "34/34 [==============================] - 0s 2ms/step - loss: 3518.4592 - mae: 3518.4592\n",
            "Epoch 158/300\n",
            "34/34 [==============================] - 0s 2ms/step - loss: 3520.6707 - mae: 3520.6707\n",
            "Epoch 159/300\n",
            "34/34 [==============================] - 0s 2ms/step - loss: 3498.5364 - mae: 3498.5364\n",
            "Epoch 160/300\n",
            "34/34 [==============================] - 0s 2ms/step - loss: 3603.5793 - mae: 3603.5793\n",
            "Epoch 161/300\n",
            "34/34 [==============================] - 0s 2ms/step - loss: 3523.4932 - mae: 3523.4932\n",
            "Epoch 162/300\n",
            "34/34 [==============================] - 0s 2ms/step - loss: 3507.9243 - mae: 3507.9243\n",
            "Epoch 163/300\n",
            "34/34 [==============================] - 0s 2ms/step - loss: 3526.8669 - mae: 3526.8669\n",
            "Epoch 164/300\n",
            "34/34 [==============================] - 0s 2ms/step - loss: 3599.5464 - mae: 3599.5464\n",
            "Epoch 165/300\n",
            "34/34 [==============================] - 0s 2ms/step - loss: 3525.0129 - mae: 3525.0129\n",
            "Epoch 166/300\n",
            "34/34 [==============================] - 0s 2ms/step - loss: 3507.4509 - mae: 3507.4509\n",
            "Epoch 167/300\n",
            "34/34 [==============================] - 0s 2ms/step - loss: 3515.7161 - mae: 3515.7161\n",
            "Epoch 168/300\n",
            "34/34 [==============================] - 0s 2ms/step - loss: 3523.0728 - mae: 3523.0728\n",
            "Epoch 169/300\n",
            "34/34 [==============================] - 0s 3ms/step - loss: 3526.8965 - mae: 3526.8965\n",
            "Epoch 170/300\n",
            "34/34 [==============================] - 0s 2ms/step - loss: 3517.0476 - mae: 3517.0476\n",
            "Epoch 171/300\n",
            "34/34 [==============================] - 0s 2ms/step - loss: 3520.8062 - mae: 3520.8062\n",
            "Epoch 172/300\n",
            "34/34 [==============================] - 0s 2ms/step - loss: 3563.3008 - mae: 3563.3008\n",
            "Epoch 173/300\n",
            "34/34 [==============================] - 0s 2ms/step - loss: 3521.1665 - mae: 3521.1665\n",
            "Epoch 174/300\n",
            "34/34 [==============================] - 0s 2ms/step - loss: 3499.3540 - mae: 3499.3540\n",
            "Epoch 175/300\n",
            "34/34 [==============================] - 0s 2ms/step - loss: 3554.3296 - mae: 3554.3296\n",
            "Epoch 176/300\n",
            "34/34 [==============================] - 0s 2ms/step - loss: 3534.8479 - mae: 3534.8479\n",
            "Epoch 177/300\n",
            "34/34 [==============================] - 0s 2ms/step - loss: 3526.6748 - mae: 3526.6748\n",
            "Epoch 178/300\n",
            "34/34 [==============================] - 0s 2ms/step - loss: 3525.1045 - mae: 3525.1045\n",
            "Epoch 179/300\n",
            "34/34 [==============================] - 0s 2ms/step - loss: 3613.1123 - mae: 3613.1123\n",
            "Epoch 180/300\n",
            "34/34 [==============================] - 0s 2ms/step - loss: 3540.2002 - mae: 3540.2002\n",
            "Epoch 181/300\n",
            "34/34 [==============================] - 0s 2ms/step - loss: 3546.7004 - mae: 3546.7004\n",
            "Epoch 182/300\n",
            "34/34 [==============================] - 0s 2ms/step - loss: 3524.9160 - mae: 3524.9160\n",
            "Epoch 183/300\n",
            "34/34 [==============================] - 0s 2ms/step - loss: 3515.3467 - mae: 3515.3467\n",
            "Epoch 184/300\n",
            "34/34 [==============================] - 0s 2ms/step - loss: 3549.0664 - mae: 3549.0664\n",
            "Epoch 185/300\n",
            "34/34 [==============================] - 0s 2ms/step - loss: 3535.4170 - mae: 3535.4170\n",
            "Epoch 186/300\n",
            "34/34 [==============================] - 0s 2ms/step - loss: 3609.5723 - mae: 3609.5723\n",
            "Epoch 187/300\n",
            "34/34 [==============================] - 0s 2ms/step - loss: 3536.5720 - mae: 3536.5720\n",
            "Epoch 188/300\n",
            "34/34 [==============================] - 0s 2ms/step - loss: 3520.4702 - mae: 3520.4702\n",
            "Epoch 189/300\n",
            "34/34 [==============================] - 0s 2ms/step - loss: 3545.7400 - mae: 3545.7400\n",
            "Epoch 190/300\n",
            "34/34 [==============================] - 0s 2ms/step - loss: 3537.0251 - mae: 3537.0251\n",
            "Epoch 191/300\n",
            "34/34 [==============================] - 0s 2ms/step - loss: 3552.7617 - mae: 3552.7617\n",
            "Epoch 192/300\n",
            "34/34 [==============================] - 0s 2ms/step - loss: 3559.0896 - mae: 3559.0896\n",
            "Epoch 193/300\n",
            "34/34 [==============================] - 0s 2ms/step - loss: 3558.2307 - mae: 3558.2307\n",
            "Epoch 194/300\n",
            "34/34 [==============================] - 0s 2ms/step - loss: 3509.5505 - mae: 3509.5505\n",
            "Epoch 195/300\n",
            "34/34 [==============================] - 0s 2ms/step - loss: 3529.9670 - mae: 3529.9670\n",
            "Epoch 196/300\n",
            "34/34 [==============================] - 0s 2ms/step - loss: 3528.2437 - mae: 3528.2437\n",
            "Epoch 197/300\n",
            "34/34 [==============================] - 0s 2ms/step - loss: 3608.3560 - mae: 3608.3560\n",
            "Epoch 198/300\n",
            "34/34 [==============================] - 0s 2ms/step - loss: 3522.3396 - mae: 3522.3396\n",
            "Epoch 199/300\n",
            "34/34 [==============================] - 0s 2ms/step - loss: 3536.7922 - mae: 3536.7922\n",
            "Epoch 200/300\n",
            "34/34 [==============================] - 0s 2ms/step - loss: 3502.2996 - mae: 3502.2996\n",
            "Epoch 201/300\n",
            "34/34 [==============================] - 0s 2ms/step - loss: 3547.7129 - mae: 3547.7129\n",
            "Epoch 202/300\n",
            "34/34 [==============================] - 0s 2ms/step - loss: 3545.4304 - mae: 3545.4304\n",
            "Epoch 203/300\n",
            "34/34 [==============================] - 0s 2ms/step - loss: 3521.5032 - mae: 3521.5032\n",
            "Epoch 204/300\n",
            "34/34 [==============================] - 0s 2ms/step - loss: 3538.2039 - mae: 3538.2039\n",
            "Epoch 205/300\n",
            "34/34 [==============================] - 0s 2ms/step - loss: 3502.5483 - mae: 3502.5483\n",
            "Epoch 206/300\n",
            "34/34 [==============================] - 0s 2ms/step - loss: 3509.5857 - mae: 3509.5857\n",
            "Epoch 207/300\n",
            "34/34 [==============================] - 0s 2ms/step - loss: 3517.4194 - mae: 3517.4194\n",
            "Epoch 208/300\n",
            "34/34 [==============================] - 0s 2ms/step - loss: 3520.5989 - mae: 3520.5989\n",
            "Epoch 209/300\n",
            "34/34 [==============================] - 0s 2ms/step - loss: 3536.8250 - mae: 3536.8250\n",
            "Epoch 210/300\n",
            "34/34 [==============================] - 0s 2ms/step - loss: 3564.5879 - mae: 3564.5879\n",
            "Epoch 211/300\n",
            "34/34 [==============================] - 0s 2ms/step - loss: 3527.8376 - mae: 3527.8376\n",
            "Epoch 212/300\n",
            "34/34 [==============================] - 0s 2ms/step - loss: 3541.4189 - mae: 3541.4189\n",
            "Epoch 213/300\n",
            "34/34 [==============================] - 0s 2ms/step - loss: 3501.9556 - mae: 3501.9556\n",
            "Epoch 214/300\n",
            "34/34 [==============================] - 0s 3ms/step - loss: 3493.1968 - mae: 3493.1968\n",
            "Epoch 215/300\n",
            "34/34 [==============================] - 0s 2ms/step - loss: 3651.1462 - mae: 3651.1462\n",
            "Epoch 216/300\n",
            "34/34 [==============================] - 0s 2ms/step - loss: 3508.4485 - mae: 3508.4485\n",
            "Epoch 217/300\n",
            "34/34 [==============================] - 0s 2ms/step - loss: 3512.5215 - mae: 3512.5215\n",
            "Epoch 218/300\n",
            "34/34 [==============================] - 0s 2ms/step - loss: 3550.8391 - mae: 3550.8391\n",
            "Epoch 219/300\n",
            "34/34 [==============================] - 0s 2ms/step - loss: 3509.4910 - mae: 3509.4910\n",
            "Epoch 220/300\n",
            "34/34 [==============================] - 0s 2ms/step - loss: 3528.8267 - mae: 3528.8267\n",
            "Epoch 221/300\n",
            "34/34 [==============================] - 0s 2ms/step - loss: 3586.4775 - mae: 3586.4775\n",
            "Epoch 222/300\n",
            "34/34 [==============================] - 0s 2ms/step - loss: 3666.2107 - mae: 3666.2107\n",
            "Epoch 223/300\n",
            "34/34 [==============================] - 0s 2ms/step - loss: 3563.0930 - mae: 3563.0930\n",
            "Epoch 224/300\n",
            "34/34 [==============================] - 0s 2ms/step - loss: 3542.7883 - mae: 3542.7883\n",
            "Epoch 225/300\n",
            "34/34 [==============================] - 0s 2ms/step - loss: 3539.1445 - mae: 3539.1445\n",
            "Epoch 226/300\n",
            "34/34 [==============================] - 0s 2ms/step - loss: 3521.6052 - mae: 3521.6052\n",
            "Epoch 227/300\n",
            "34/34 [==============================] - 0s 2ms/step - loss: 3560.8379 - mae: 3560.8379\n",
            "Epoch 228/300\n",
            "34/34 [==============================] - 0s 2ms/step - loss: 3507.1589 - mae: 3507.1589\n",
            "Epoch 229/300\n",
            "34/34 [==============================] - 0s 2ms/step - loss: 3524.5613 - mae: 3524.5613\n",
            "Epoch 230/300\n",
            "34/34 [==============================] - 0s 2ms/step - loss: 3544.5476 - mae: 3544.5476\n",
            "Epoch 231/300\n",
            "34/34 [==============================] - 0s 2ms/step - loss: 3520.8530 - mae: 3520.8530\n",
            "Epoch 232/300\n",
            "34/34 [==============================] - 0s 2ms/step - loss: 3502.4407 - mae: 3502.4407\n",
            "Epoch 233/300\n",
            "34/34 [==============================] - 0s 2ms/step - loss: 3533.1924 - mae: 3533.1924\n",
            "Epoch 234/300\n",
            "34/34 [==============================] - 0s 2ms/step - loss: 3519.6411 - mae: 3519.6411\n",
            "Epoch 235/300\n",
            "34/34 [==============================] - 0s 2ms/step - loss: 3546.1060 - mae: 3546.1060\n",
            "Epoch 236/300\n",
            "34/34 [==============================] - 0s 2ms/step - loss: 3532.4739 - mae: 3532.4739\n",
            "Epoch 237/300\n",
            "34/34 [==============================] - 0s 2ms/step - loss: 3525.1069 - mae: 3525.1069\n",
            "Epoch 238/300\n",
            "34/34 [==============================] - 0s 2ms/step - loss: 3526.0522 - mae: 3526.0522\n",
            "Epoch 239/300\n",
            "34/34 [==============================] - 0s 2ms/step - loss: 3563.9822 - mae: 3563.9822\n",
            "Epoch 240/300\n",
            "34/34 [==============================] - 0s 2ms/step - loss: 3559.5625 - mae: 3559.5625\n",
            "Epoch 241/300\n",
            "34/34 [==============================] - 0s 2ms/step - loss: 3520.9590 - mae: 3520.9590\n",
            "Epoch 242/300\n",
            "34/34 [==============================] - 0s 2ms/step - loss: 3531.1445 - mae: 3531.1445\n",
            "Epoch 243/300\n",
            "34/34 [==============================] - 0s 2ms/step - loss: 3532.2043 - mae: 3532.2043\n",
            "Epoch 244/300\n",
            "34/34 [==============================] - 0s 2ms/step - loss: 3518.1162 - mae: 3518.1162\n",
            "Epoch 245/300\n",
            "34/34 [==============================] - 0s 2ms/step - loss: 3739.4146 - mae: 3739.4146\n",
            "Epoch 246/300\n",
            "34/34 [==============================] - 0s 2ms/step - loss: 3567.7146 - mae: 3567.7146\n",
            "Epoch 247/300\n",
            "34/34 [==============================] - 0s 2ms/step - loss: 3525.1792 - mae: 3525.1792\n",
            "Epoch 248/300\n",
            "34/34 [==============================] - 0s 2ms/step - loss: 3561.1147 - mae: 3561.1147\n",
            "Epoch 249/300\n",
            "34/34 [==============================] - 0s 2ms/step - loss: 3522.4817 - mae: 3522.4817\n",
            "Epoch 250/300\n",
            "34/34 [==============================] - 0s 2ms/step - loss: 3565.9487 - mae: 3565.9487\n",
            "Epoch 251/300\n",
            "34/34 [==============================] - 0s 2ms/step - loss: 3517.4856 - mae: 3517.4856\n",
            "Epoch 252/300\n",
            "34/34 [==============================] - 0s 2ms/step - loss: 3548.0698 - mae: 3548.0698\n",
            "Epoch 253/300\n",
            "34/34 [==============================] - 0s 2ms/step - loss: 3565.1208 - mae: 3565.1208\n",
            "Epoch 254/300\n",
            "34/34 [==============================] - 0s 2ms/step - loss: 3516.7300 - mae: 3516.7300\n",
            "Epoch 255/300\n",
            "34/34 [==============================] - 0s 2ms/step - loss: 3506.2073 - mae: 3506.2073\n",
            "Epoch 256/300\n",
            "34/34 [==============================] - 0s 2ms/step - loss: 3488.9712 - mae: 3488.9712\n",
            "Epoch 257/300\n",
            "34/34 [==============================] - 0s 2ms/step - loss: 3498.8328 - mae: 3498.8328\n",
            "Epoch 258/300\n",
            "34/34 [==============================] - 0s 2ms/step - loss: 3513.6829 - mae: 3513.6829\n",
            "Epoch 259/300\n",
            "34/34 [==============================] - 0s 2ms/step - loss: 3538.2395 - mae: 3538.2395\n",
            "Epoch 260/300\n",
            "34/34 [==============================] - 0s 2ms/step - loss: 3520.4080 - mae: 3520.4080\n",
            "Epoch 261/300\n",
            "34/34 [==============================] - 0s 2ms/step - loss: 3566.6580 - mae: 3566.6580\n",
            "Epoch 262/300\n",
            "34/34 [==============================] - 0s 2ms/step - loss: 3523.1494 - mae: 3523.1494\n",
            "Epoch 263/300\n",
            "34/34 [==============================] - 0s 2ms/step - loss: 3553.1116 - mae: 3553.1116\n",
            "Epoch 264/300\n",
            "34/34 [==============================] - 0s 2ms/step - loss: 3597.3447 - mae: 3597.3447\n",
            "Epoch 265/300\n",
            "34/34 [==============================] - 0s 2ms/step - loss: 3549.1523 - mae: 3549.1523\n",
            "Epoch 266/300\n",
            "34/34 [==============================] - 0s 2ms/step - loss: 3505.1526 - mae: 3505.1526\n",
            "Epoch 267/300\n",
            "34/34 [==============================] - 0s 2ms/step - loss: 3529.5493 - mae: 3529.5493\n",
            "Epoch 268/300\n",
            "34/34 [==============================] - 0s 2ms/step - loss: 3507.6929 - mae: 3507.6929\n",
            "Epoch 269/300\n",
            "34/34 [==============================] - 0s 2ms/step - loss: 3517.5298 - mae: 3517.5298\n",
            "Epoch 270/300\n",
            "34/34 [==============================] - 0s 2ms/step - loss: 3547.9209 - mae: 3547.9209\n",
            "Epoch 271/300\n",
            "34/34 [==============================] - 0s 2ms/step - loss: 3502.0278 - mae: 3502.0278\n",
            "Epoch 272/300\n",
            "34/34 [==============================] - 0s 2ms/step - loss: 3497.6738 - mae: 3497.6738\n",
            "Epoch 273/300\n",
            "34/34 [==============================] - 0s 2ms/step - loss: 3559.1008 - mae: 3559.1008\n",
            "Epoch 274/300\n",
            "34/34 [==============================] - 0s 2ms/step - loss: 3588.9856 - mae: 3588.9856\n",
            "Epoch 275/300\n",
            "34/34 [==============================] - 0s 2ms/step - loss: 3557.3921 - mae: 3557.3921\n",
            "Epoch 276/300\n",
            "34/34 [==============================] - 0s 2ms/step - loss: 3524.3093 - mae: 3524.3093\n",
            "Epoch 277/300\n",
            "34/34 [==============================] - 0s 2ms/step - loss: 3517.9304 - mae: 3517.9304\n",
            "Epoch 278/300\n",
            "34/34 [==============================] - 0s 2ms/step - loss: 3511.3254 - mae: 3511.3254\n",
            "Epoch 279/300\n",
            "34/34 [==============================] - 0s 2ms/step - loss: 3551.6873 - mae: 3551.6873\n",
            "Epoch 280/300\n",
            "34/34 [==============================] - 0s 2ms/step - loss: 3542.0020 - mae: 3542.0020\n",
            "Epoch 281/300\n",
            "34/34 [==============================] - 0s 2ms/step - loss: 3533.2864 - mae: 3533.2864\n",
            "Epoch 282/300\n",
            "34/34 [==============================] - 0s 2ms/step - loss: 3530.2446 - mae: 3530.2446\n",
            "Epoch 283/300\n",
            "34/34 [==============================] - 0s 2ms/step - loss: 3494.3071 - mae: 3494.3071\n",
            "Epoch 284/300\n",
            "34/34 [==============================] - 0s 2ms/step - loss: 3506.1082 - mae: 3506.1082\n",
            "Epoch 285/300\n",
            "34/34 [==============================] - 0s 2ms/step - loss: 3558.1418 - mae: 3558.1418\n",
            "Epoch 286/300\n",
            "34/34 [==============================] - 0s 2ms/step - loss: 3579.8787 - mae: 3579.8787\n",
            "Epoch 287/300\n",
            "34/34 [==============================] - 0s 2ms/step - loss: 3559.2422 - mae: 3559.2422\n",
            "Epoch 288/300\n",
            "34/34 [==============================] - 0s 2ms/step - loss: 3505.3193 - mae: 3505.3193\n",
            "Epoch 289/300\n",
            "34/34 [==============================] - 0s 2ms/step - loss: 3511.3838 - mae: 3511.3838\n",
            "Epoch 290/300\n",
            "34/34 [==============================] - 0s 2ms/step - loss: 3549.7700 - mae: 3549.7700\n",
            "Epoch 291/300\n",
            "34/34 [==============================] - 0s 2ms/step - loss: 3513.6924 - mae: 3513.6924\n",
            "Epoch 292/300\n",
            "34/34 [==============================] - 0s 2ms/step - loss: 3585.2861 - mae: 3585.2861\n",
            "Epoch 293/300\n",
            "34/34 [==============================] - 0s 2ms/step - loss: 3519.2312 - mae: 3519.2312\n",
            "Epoch 294/300\n",
            "34/34 [==============================] - 0s 2ms/step - loss: 3542.2354 - mae: 3542.2354\n",
            "Epoch 295/300\n",
            "34/34 [==============================] - 0s 2ms/step - loss: 3534.6436 - mae: 3534.6436\n",
            "Epoch 296/300\n",
            "34/34 [==============================] - 0s 2ms/step - loss: 3516.6309 - mae: 3516.6309\n",
            "Epoch 297/300\n",
            "34/34 [==============================] - 0s 2ms/step - loss: 3539.0735 - mae: 3539.0735\n",
            "Epoch 298/300\n",
            "34/34 [==============================] - 0s 2ms/step - loss: 3493.4846 - mae: 3493.4846\n",
            "Epoch 299/300\n",
            "34/34 [==============================] - 0s 2ms/step - loss: 3531.8833 - mae: 3531.8833\n",
            "Epoch 300/300\n",
            "34/34 [==============================] - 0s 2ms/step - loss: 3563.8884 - mae: 3563.8884\n"
          ],
          "name": "stdout"
        },
        {
          "output_type": "execute_result",
          "data": {
            "text/plain": [
              "<tensorflow.python.keras.callbacks.History at 0x7fc5e9955850>"
            ]
          },
          "metadata": {
            "tags": []
          },
          "execution_count": 104
        }
      ]
    },
    {
      "cell_type": "code",
      "metadata": {
        "colab": {
          "base_uri": "https://localhost:8080/"
        },
        "id": "BMiVcoqgSQ-d",
        "outputId": "f702377a-d25b-403c-e65e-48ad54185d4f"
      },
      "source": [
        "insurance_model_3_mae = insurance_model_3.evaluate(X_test_normal, y_test)"
      ],
      "execution_count": null,
      "outputs": [
        {
          "output_type": "stream",
          "text": [
            "9/9 [==============================] - 0s 2ms/step - loss: 3172.6069 - mae: 3172.6069\n"
          ],
          "name": "stdout"
        }
      ]
    },
    {
      "cell_type": "code",
      "metadata": {
        "id": "Og-gmgaPSaPi"
      },
      "source": [
        ""
      ],
      "execution_count": null,
      "outputs": []
    }
  ]
}